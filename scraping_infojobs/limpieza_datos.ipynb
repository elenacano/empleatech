{
 "cells": [
  {
   "cell_type": "markdown",
   "metadata": {},
   "source": [
    "# **Limpieza de las ofertas de Infojobs**"
   ]
  },
  {
   "cell_type": "markdown",
   "metadata": {},
   "source": [
    "Una vez llevado a cabo el poceso de extracción continuamos con la transformación de los datos. Necesitamos obtener campos de gran importancia como la empresa que publica la oferta o el rango salarial que se ofrece en caso de haberlo. Para ello trataremos los datos usando pandas y una vez limpios lo almacenaremos en la carpeta `datos_limpios`."
   ]
  },
  {
   "cell_type": "code",
   "execution_count": 2,
   "metadata": {},
   "outputs": [],
   "source": [
    "%load_ext autoreload\n",
    "%autoreload 2\n",
    "\n",
    "import sys\n",
    "sys.path.append(\"../\")\n",
    "\n",
    "from src import funciones_infojobs as f_infojobs"
   ]
  },
  {
   "cell_type": "markdown",
   "metadata": {},
   "source": [
    "Proceso de limpieza:"
   ]
  },
  {
   "cell_type": "code",
   "execution_count": 35,
   "metadata": {},
   "outputs": [
    {
     "name": "stdout",
     "output_type": "stream",
     "text": [
      "Datos guardados correctamente\n"
     ]
    }
   ],
   "source": [
    "f_infojobs.extraer_datos_cabecera_infojobs()"
   ]
  },
  {
   "cell_type": "markdown",
   "metadata": {},
   "source": [
    "Una vez extraidos los datos relevantes de la cabecera, limpiaos la descripción y mostramos los df resultantes:"
   ]
  },
  {
   "cell_type": "code",
   "execution_count": 37,
   "metadata": {},
   "outputs": [
    {
     "data": {
      "application/vnd.microsoft.datawrangler.viewer.v0+json": {
       "columns": [
        {
         "name": "index",
         "rawType": "int64",
         "type": "integer"
        },
        {
         "name": "empleo",
         "rawType": "object",
         "type": "string"
        },
        {
         "name": "plataforma",
         "rawType": "object",
         "type": "string"
        },
        {
         "name": "titulo_oferta",
         "rawType": "object",
         "type": "string"
        },
        {
         "name": "empresa",
         "rawType": "object",
         "type": "string"
        },
        {
         "name": "fecha_publicacion",
         "rawType": "object",
         "type": "string"
        },
        {
         "name": "min_salario",
         "rawType": "object",
         "type": "unknown"
        },
        {
         "name": "max_salario",
         "rawType": "object",
         "type": "unknown"
        },
        {
         "name": "url_oferta",
         "rawType": "object",
         "type": "string"
        },
        {
         "name": "descripcion",
         "rawType": "object",
         "type": "string"
        },
        {
         "name": "descripcion_original",
         "rawType": "object",
         "type": "string"
        }
       ],
       "conversionMethod": "pd.DataFrame",
       "ref": "9809569c-0ee3-4515-b817-ea2a912e9707",
       "rows": [
        [
         "0",
         "data_science",
         "infojobs",
         "Data Scientist - Computer Vision",
         "Tinamica, S.L.",
         "Publicada el 14 de ene",
         null,
         null,
         "https://www.infojobs.net/madrid/data-scientist-computer-vision/of-i365f1de1774eadbe4b4de24180a019?applicationOrigin=search-new%7Celement%7E54064150242&searchId=54064150242&page=1&sortBy=RELEVANCE",
         "Requisitos\nEstudios mínimos\nCiclo Formativo Grado Superior - Informática y Comunicaciones\nExperiencia mínima\nAl menos 3 años\nImprescindible residente en\nProvincia Puesto Vacante\nIdiomas requeridos\nEspañol - Nivel Nativo o Bilingüe\nConocimientos necesarios\nOpenCV (Open source Computer Vision)\nPython\nSQL\ntensorflow\nPytorch\nBig data\nedge\nGestión de datos\nDescripción\nEn Tinámica, somos pioneros en el desarrollo de soluciones avanzadas de Big Data, Analítica e Inteligencia Artificial. Nuestro equipo está en crecimiento, y buscamos un Data Scientists Senior especializados en Computer Vision que quieran liderar proyectos estratégicos de gran impacto en la transformación digital de diversas industrias.\nSi tienes amplia experiencia técnica, pasión por resolver desafíos complejos y el deseo de desarrollar soluciones innovadoras, queremos conocerte.\nLo Que Harás:\n- Diseñar y desplegar modelos de Computer Vision: Serás responsable de todo el ciclo de vida, desde la exploración inicial de datos hasta la puesta en producción de modelos avanzados (detección de objetos, segmentación, reconocimiento facial, IA generativa, etc.).\n- Optimizar modelos: Trabajarás con grandes volúmenes de imágenes y datos relacionados, ajustando modelos para garantizar precisión, eficiencia y escalabilidad.\n- Aplicar IA en proyectos innovadores: Explorarás y aplicarás tecnologías de vanguardia en IA, incluyendo redes neuronales convolucionales (CNN), Vision Transformers y herramientas de IA generativa.\n- Integrar soluciones en entornos reales: Desarrollarás APIs personalizadas para integrar modelos en aplicaciones empresariales y optimizarás infraestructuras para garantizar la eficiencia en cloud y on-premises.\n- Colaborar en proyectos multidisciplinares: Formarás parte de equipos con diferentes especializaciones, asegurando que las soluciones de Computer Vision impacten positivamente en nuestros clientes.\n- Asegurar la calidad del código: Implementarás estándares de desarrollo y participarás en revisiones de código para garantizar la robustez y escalabilidad de nuestras soluciones.\nRequisitos Clave:\n- Más de 3 años de experiencia como Data Scientist, con un enfoque destacado en Computer Vision.\n- Dominio de frameworks como TensorFlow, PyTorch o Keras: - Experiencia demostrable en el desarrollo y despliegue de modelos de Computer Vision.\n- Amplia experiencia en Git y SQL: Imprescindibles para la gestión de datos y control de versiones en proyectos complejos.\n- Conocimientos avanzados de Python: Uso de patrones de diseño y buenas prácticas para garantizar la calidad y eficiencia del código.\n- Experiencia en el despliegue de modelos en entornos cloud: Preferiblemente en Azure, aunque se valorará experiencia en AWS, GCP y tecnologías como Docker/Kubernetes.\n- Familiaridad con servicios de IA y APIs: Experiencia en la creación e integración de APIs para servir predicciones en tiempo real.\n- Conocimientos en procesamiento de imágenes: Familiaridad con OpenCV, PIL y otras librerías especializadas.\nQué Ofrecemos:\n- Proyectos de alto impacto: Participarás en iniciativas disruptivas donde la visión por computadora transforma sectores estratégicos.\n- Entorno de trabajo flexible: Combinamos trabajo remoto y presencial según tus necesidades.\n- Desarrollo profesional continuo: Acceso a formación, eventos y certificaciones para mantenerte siempre a la vanguardia.\n- Salario competitivo y beneficios: Alineados con tu experiencia y las exigencias del rol.\n¿Estás listo/a para liderar proyectos de Computer Vision que transforman industrias?\nTipo de industria de la oferta\nServicios y tecnología de la información\nCategoría\nInformática y telecomunicaciones - Análisis\nNivel\nEspecialista\nPersonal a cargo\n1 - 5\nNúmero de vacantes\n1\nSalario\nSalario no disponible\nBeneficios sociales\nPorcentaje sobre objetivos\nFlexibilidad horaria\nTeletrabajo\nSeguro médico\nCheque restaurante\n24 inscritos a esta oferta\nNuestro consejo: inscríbete si tienes el perfil, puede que se ajuste más que el de otros inscritos.\nDenunciar oferta\nLos datos bancarios, de pago y datos personales (DNI, foto) nunca deben proporcionarse al solicitar un empleo. Consulta nuestros consejos para una búsqueda de empleo segura.",
         "<br><h3>Requisitos</h3><br><h4>Estudios mínimos</h4><br>Ciclo Formativo Grado Superior - Informática y Comunicaciones<br><h4>Experiencia mínima</h4><br>Al menos 3 años<br>Imprescindible residente en<br>Provincia Puesto Vacante<br>Idiomas requeridos<br>Español - Nivel Nativo o Bilingüe<br>Conocimientos necesarios<br>OpenCV (Open source Computer Vision)<br>Python<br>SQL<br>tensorflow<br>Pytorch<br>Big data<br>edge<br>Gestión de datos<br><br><h3>Descripción</h3><br>En Tinámica, somos pioneros en el desarrollo de soluciones avanzadas de Big Data, Analítica e Inteligencia Artificial. Nuestro equipo está en crecimiento, y buscamos un Data Scientists Senior especializados en Computer Vision que quieran liderar proyectos estratégicos de gran impacto en la transformación digital de diversas industrias.<br>Si tienes amplia experiencia técnica, pasión por resolver desafíos complejos y el deseo de desarrollar soluciones innovadoras, queremos conocerte.<br>Lo Que Harás:<br>- Diseñar y desplegar modelos de Computer Vision: Serás responsable de todo el ciclo de vida, desde la exploración inicial de datos hasta la puesta en producción de modelos avanzados (detección de objetos, segmentación, reconocimiento facial, IA generativa, etc.).<br>- Optimizar modelos: Trabajarás con grandes volúmenes de imágenes y datos relacionados, ajustando modelos para garantizar precisión, eficiencia y escalabilidad.<br>- Aplicar IA en proyectos innovadores: Explorarás y aplicarás tecnologías de vanguardia en IA, incluyendo redes neuronales convolucionales (CNN), Vision Transformers y herramientas de IA generativa.<br>- Integrar soluciones en entornos reales: Desarrollarás APIs personalizadas para integrar modelos en aplicaciones empresariales y optimizarás infraestructuras para garantizar la eficiencia en cloud y on-premises.<br>- Colaborar en proyectos multidisciplinares: Formarás parte de equipos con diferentes especializaciones, asegurando que las soluciones de Computer Vision impacten positivamente en nuestros clientes.<br>- Asegurar la calidad del código: Implementarás estándares de desarrollo y participarás en revisiones de código para garantizar la robustez y escalabilidad de nuestras soluciones.<br><br><h3>Requisitos</h3> Clave:<br>- Más de 3 años de experiencia como Data Scientist, con un enfoque destacado en Computer Vision.<br>- Dominio de frameworks como TensorFlow, PyTorch o Keras: - Experiencia demostrable en el desarrollo y despliegue de modelos de Computer Vision.<br>- Amplia experiencia en Git y SQL: Imprescindibles para la gestión de datos y control de versiones en proyectos complejos.<br>- Conocimientos avanzados de Python: Uso de patrones de diseño y buenas prácticas para garantizar la calidad y eficiencia del código.<br>- Experiencia en el despliegue de modelos en entornos cloud: Preferiblemente en Azure, aunque se valorará experiencia en AWS, GCP y tecnologías como Docker/Kubernetes.<br>- Familiaridad con servicios de IA y APIs: Experiencia en la creación e integración de APIs para servir predicciones en tiempo real.<br>- Conocimientos en procesamiento de imágenes: Familiaridad con OpenCV, PIL y otras librerías especializadas.<br>Qué Ofrecemos:<br>- Proyectos de alto impacto: Participarás en iniciativas disruptivas donde la visión por computadora transforma sectores estratégicos.<br>- Entorno de trabajo flexible: Combinamos trabajo remoto y presencial según tus necesidades.<br>- Desarrollo profesional continuo: Acceso a formación, eventos y certificaciones para mantenerte siempre a la vanguardia.<br>- Salario competitivo y beneficios: Alineados con tu experiencia y las exigencias del rol.<br>¿Estás listo/a para liderar proyectos de Computer Vision que transforman industrias?<br>Tipo de industria de la oferta<br>Servicios y tecnología de la información<br>Categoría<br>Informática y telecomunicaciones - Análisis<br>Nivel<br>Especialista<br>Personal a cargo<br>1 - 5<br>Número de vacantes<br>1<br>Salario<br>Salario no disponible<br>Beneficios sociales<br>Porcentaje sobre objetivos<br>Flexibilidad horaria<br>Teletrabajo<br>Seguro médico<br>Cheque restaurante<br>24 inscritos a esta oferta<br>Nuestro consejo: inscríbete si tienes el perfil, puede que se ajuste más que el de otros inscritos.<br>Denunciar oferta<br>Los datos bancarios, de pago y datos personales (DNI, foto) nunca deben proporcionarse al solicitar un empleo. Consulta nuestros consejos para una búsqueda de empleo segura."
        ],
        [
         "1",
         "data_science",
         "infojobs",
         "Data Scientist Junior",
         "Tinamica, S.L.",
         "Publicada el 14 de ene",
         null,
         null,
         "https://www.infojobs.net/madrid/data-scientist-junior/of-i8451ab2cf84557857dd1cabfe08294?applicationOrigin=search-new%7Celement%7E54064150242&searchId=54064150242&page=1&sortBy=RELEVANCE",
         "Requisitos\nEstudios mínimos\nCiclo Formativo Grado Medio\nExperiencia mínima\nNo Requerida\nImprescindible residente en\nProvincia Puesto Vacante\nConocimientos necesarios\nSQL\nMatlab\nPython\nGit\nDescripción\n¿Estás list@ para iniciar tu carrera en el mundo del Data Science y la ingeniería de datos? ¿Te interesa trabajar en un entorno dinámico donde tu desarrollo profesional sea una prioridad? En Tinámica, buscamos un Data Scientist Junior que quiera crecer con nosotr@s y ser parte de un proyecto en el que podrás aplicar tus conocimientos y adquirir nuevas habilidades.\n¿Cómo será tu día a día?\n- Analizar y preparar datos para el desarrollo de modelos predictivos y algoritmos avanzados.\n- Diseñar y optimizar flujos de datos, asegurando la integración de fuentes de datos diversas.\n- Desarrollar y mantener scripts y pipelines de datos utilizando Python y Matlab.\n- Implementar consultas SQL para extraer y manipular grandes volúmenes de datos.\n- Colaborar con el equipo de desarrollo en la implementación de soluciones utilizando Git para el control de versiones.\n¿Qué valoramos?\n- Python: Experiencia inicial en programación con Python para manipulación de datos y automatización de procesos.\n- Conocimientos básicos de COmputer Vision (Tensorflow o Pytorch)\n- SQL: Habilidad para trabajar con bases de datos y escribir consultas para la extracción y manipulación de datos.\n- Git: Familiaridad con el control de versiones.\nLo que ofrecemos:\n- Un proyecto apasionante donde podrás desarrollar tus conocimientos y aprender de un equipo experto.\n- Contrato indefinido para que puedas enfocarte en crecer sin preocupaciones.\n- Formación continua y acceso a instituciones de prestigio en Madrid.\n- Programa de mentoring para guiarte en tu desarrollo profesional.\n- Colaboración con equipos de alto nivel en proyectos para clientes líderes del sector.\n- Salario competitivo y revisiones salariales periódicas.\n- Seguro médico gratuito, 26 días de vacaciones y otros beneficios adaptables (cheques guardería, tickets restaurante, etc.).\n- Modalidad híbrida de trabajo, con flexibilidad para que concilies tu vida personal y profesional.\nTipo de industria de la oferta\nServicios y tecnología de la información\nCategoría\nInformática y telecomunicaciones - Programación\nNivel\nBecario/a - Prácticas\nPersonal a cargo\n0\nNúmero de vacantes\n1\nSalario\nSalario no disponible\nBeneficios sociales\nPorcentaje sobre objetivos\nFlexibilidad horaria\nTeletrabajo\nSeguro médico\nCheque restaurante\n418 inscritos a esta oferta\nNuestro consejo: inscríbete si tienes el perfil, puede que se ajuste más que el de otros inscritos.\nDenunciar oferta\nLos datos bancarios, de pago y datos personales (DNI, foto) nunca deben proporcionarse al solicitar un empleo. Consulta nuestros consejos para una búsqueda de empleo segura.",
         "<br><h3>Requisitos</h3><br><h4>Estudios mínimos</h4><br>Ciclo Formativo Grado Medio<br><h4>Experiencia mínima</h4><br>No Requerida<br>Imprescindible residente en<br>Provincia Puesto Vacante<br>Conocimientos necesarios<br>SQL<br>Matlab<br>Python<br>Git<br><br><h3>Descripción</h3><br>¿Estás list@ para iniciar tu carrera en el mundo del Data Science y la ingeniería de datos? ¿Te interesa trabajar en un entorno dinámico donde tu desarrollo profesional sea una prioridad? En Tinámica, buscamos un Data Scientist Junior que quiera crecer con nosotr@s y ser parte de un proyecto en el que podrás aplicar tus conocimientos y adquirir nuevas habilidades.<br>¿Cómo será tu día a día?<br>- Analizar y preparar datos para el desarrollo de modelos predictivos y algoritmos avanzados.<br>- Diseñar y optimizar flujos de datos, asegurando la integración de fuentes de datos diversas.<br>- Desarrollar y mantener scripts y pipelines de datos utilizando Python y Matlab.<br>- Implementar consultas SQL para extraer y manipular grandes volúmenes de datos.<br>- Colaborar con el equipo de desarrollo en la implementación de soluciones utilizando Git para el control de versiones.<br>¿Qué valoramos?<br>- Python: Experiencia inicial en programación con Python para manipulación de datos y automatización de procesos.<br>- Conocimientos básicos de COmputer Vision (Tensorflow o Pytorch)<br>- SQL: Habilidad para trabajar con bases de datos y escribir consultas para la extracción y manipulación de datos.<br>- Git: Familiaridad con el control de versiones.<br>Lo que ofrecemos:<br>- Un proyecto apasionante donde podrás desarrollar tus conocimientos y aprender de un equipo experto.<br>- Contrato indefinido para que puedas enfocarte en crecer sin preocupaciones.<br>- Formación continua y acceso a instituciones de prestigio en Madrid.<br>- Programa de mentoring para guiarte en tu desarrollo profesional.<br>- Colaboración con equipos de alto nivel en proyectos para clientes líderes del sector.<br>- Salario competitivo y revisiones salariales periódicas.<br>- Seguro médico gratuito, 26 días de vacaciones y otros beneficios adaptables (cheques guardería, tickets restaurante, etc.).<br>- Modalidad híbrida de trabajo, con flexibilidad para que concilies tu vida personal y profesional.<br>Tipo de industria de la oferta<br>Servicios y tecnología de la información<br>Categoría<br>Informática y telecomunicaciones - Programación<br>Nivel<br>Becario/a - Prácticas<br>Personal a cargo<br>0<br>Número de vacantes<br>1<br>Salario<br>Salario no disponible<br>Beneficios sociales<br>Porcentaje sobre objetivos<br>Flexibilidad horaria<br>Teletrabajo<br>Seguro médico<br>Cheque restaurante<br>418 inscritos a esta oferta<br>Nuestro consejo: inscríbete si tienes el perfil, puede que se ajuste más que el de otros inscritos.<br>Denunciar oferta<br>Los datos bancarios, de pago y datos personales (DNI, foto) nunca deben proporcionarse al solicitar un empleo. Consulta nuestros consejos para una búsqueda de empleo segura."
        ],
        [
         "2",
         "data_science",
         "infojobs",
         "DataOps Engineer (hybrid work)",
         "SERIT CONSULTING",
         "Publicada hace 1d (Publicada de nuevo)",
         "36.000€",
         "42.000€",
         "https://www.infojobs.net/madrid/dataops-engineer-hybrid-work/of-ib91596ec474103b93ba81de92b971a?applicationOrigin=search-new%7Celement%7E54064150242&searchId=54064150242&page=1&sortBy=RELEVANCE",
         "Requisitos\nEstudios mínimos\nCiclo Formativo Grado Superior - Informática y Comunicaciones\nExperiencia mínima\nAl menos 3 años\nImprescindible residente en\nNo Requerido\nIdiomas requeridos\nInglés - Nivel Avanzado\nConocimientos necesarios\nSCALA\nSPARK\nSQL\nKAFKA\nApache\nS3 Storage\nJenkins\nGitlab\nKubernetes\nElasticsearch\nDescripción\nSERIT is looking for a skilled Data Engineer in a hybrid work model based in Madrid.\nROLE\nAs a Data Engineer, you will be responsible for:\n* Building and maintaining data pipelines with Spark on Scala to process data from diverse sources likeKafka topics, APIs, and HDFS.\n* Ensuring data quality and consistency for robust decision-making.\nImplementing and managing CI/CD pipelines using tools like GitLab and Jenkins.\n* Setting up orchestration processes with Apache Airflow to automate data pipelines.\n* Collaborating on production support, incident resolutions, and continuous code improvements.\n* Writing technical documentation to support knowledge sharing and team growth\nQUALIFICATIONS\nSpark on Scala, Apache Airflow, Kafka, SQL, HDFS, and S3 Storage.\nCI/CD tools (GitLab, Jenkins, etc.).\nExposure to Kubernetes, Elasticsearch, Dremio, Shell scripting, and Dataiku is a plus.\nExperience in data engineering, preferably within the banking industry.\nFluency in English (C1 or higher) - this is a must as English is the daily working language.\nFrench (B1) is a bonus.\nReferencia\n1701-Mad- HibMad (Ing)\nTipo de industria de la oferta\nServicios y tecnología de la información\nCategoría\nInformática y telecomunicaciones - Análisis\nNivel\nEmpleado/a\nPersonal a cargo\n0\nNúmero de vacantes\n1\nSalario\nSalario: 36.000€ - 42.000€ Bruto/año\nBeneficios sociales\nTeletrabajo\n7 inscritos a esta oferta\nNuestro consejo: inscríbete si tienes el perfil, puede que se ajuste más que el de otros inscritos.\nDenunciar oferta\nLos datos bancarios, de pago y datos personales (DNI, foto) nunca deben proporcionarse al solicitar un empleo. Consulta nuestros consejos para una búsqueda de empleo segura.",
         "<br><h3>Requisitos</h3><br><h4>Estudios mínimos</h4><br>Ciclo Formativo Grado Superior - Informática y Comunicaciones<br><h4>Experiencia mínima</h4><br>Al menos 3 años<br>Imprescindible residente en<br>No Requerido<br>Idiomas requeridos<br>Inglés - Nivel Avanzado<br>Conocimientos necesarios<br>SCALA<br>SPARK<br>SQL<br>KAFKA<br>Apache<br>S3 Storage<br>Jenkins<br>Gitlab<br>Kubernetes<br>Elasticsearch<br><br><h3>Descripción</h3><br>SERIT is looking for a skilled Data Engineer in a hybrid work model based in Madrid.<br>ROLE<br>As a Data Engineer, you will be responsible for:<br>* Building and maintaining data pipelines with Spark on Scala to process data from diverse sources likeKafka topics, APIs, and HDFS.<br>* Ensuring data quality and consistency for robust decision-making.<br>Implementing and managing CI/CD pipelines using tools like GitLab and Jenkins.<br>* Setting up orchestration processes with Apache Airflow to automate data pipelines.<br>* Collaborating on production support, incident resolutions, and continuous code improvements.<br>* Writing technical documentation to support knowledge sharing and team growth<br>QUALIFICATIONS<br>Spark on Scala, Apache Airflow, Kafka, SQL, HDFS, and S3 Storage.<br>CI/CD tools (GitLab, Jenkins, etc.).<br>Exposure to Kubernetes, Elasticsearch, Dremio, Shell scripting, and Dataiku is a plus.<br>Experience in data engineering, preferably within the banking industry.<br>Fluency in English (C1 or higher) - this is a must as English is the daily working language.<br>French (B1) is a bonus.<br>Referencia<br>1701-Mad- HibMad (Ing)<br>Tipo de industria de la oferta<br>Servicios y tecnología de la información<br>Categoría<br>Informática y telecomunicaciones - Análisis<br>Nivel<br>Empleado/a<br>Personal a cargo<br>0<br>Número de vacantes<br>1<br>Salario<br>Salario: 36.000€ - 42.000€ Bruto/año<br>Beneficios sociales<br>Teletrabajo<br>7 inscritos a esta oferta<br>Nuestro consejo: inscríbete si tienes el perfil, puede que se ajuste más que el de otros inscritos.<br>Denunciar oferta<br>Los datos bancarios, de pago y datos personales (DNI, foto) nunca deben proporcionarse al solicitar un empleo. Consulta nuestros consejos para una búsqueda de empleo segura."
        ],
        [
         "3",
         "data_science",
         "infojobs",
         "TECNICO DE DATA",
         "GESEIN",
         "Publicada hace 1d",
         null,
         null,
         "https://www.infojobs.net/madrid/tecnico-data/of-i429d3dcb02427e8574613a8d0b998e?applicationOrigin=search-new%7Celement%7E54064150242&searchId=54064150242&page=1&sortBy=RELEVANCE",
         "Requisitos\nEstudios mínimos\nCiclo Formativo Grado Medio\nExperiencia mínima\nAl menos 3 años\nConocimientos necesarios\nETL\nModelado\nConsultoría\nPentaho\nOracle\nModelado de datos\nRequisitos mínimos\nBase de datos Oracle\nModelado de datos\nConocimientos técnicos en la herramienta de ETL Pentaho\nDescripción\nGesein, consultoría tecnológica con 30 años de experiencia, precisa incorporar en su organización:\nTécnico de Data con experiencia en Base de datos Oracle, Modelado de datos, Conocimientos técnicos en la herramienta de ETL Pentaho.\nProyecto en Madrid.\nTipo de industria de la oferta\nServicios y tecnología de la información\nCategoría\nInformática y telecomunicaciones - Programación\nNivel\nEmpleado/a\nNúmero de vacantes\n1\nSalario\nSalario no disponible\n9 inscritos a esta oferta\nNuestro consejo: inscríbete si tienes el perfil, puede que se ajuste más que el de otros inscritos.\nDenunciar oferta\nLos datos bancarios, de pago y datos personales (DNI, foto) nunca deben proporcionarse al solicitar un empleo. Consulta nuestros consejos para una búsqueda de empleo segura.",
         "<br><h3>Requisitos</h3><br><h4>Estudios mínimos</h4><br>Ciclo Formativo Grado Medio<br><h4>Experiencia mínima</h4><br>Al menos 3 años<br>Conocimientos necesarios<br>ETL<br>Modelado<br>Consultoría<br>Pentaho<br>Oracle<br>Modelado de datos<br><br><h3><br><h3>Requisitos</h3> mínimos</h3><br>Base de datos Oracle<br>Modelado de datos<br>Conocimientos técnicos en la herramienta de ETL Pentaho<br><br><h3>Descripción</h3><br>Gesein, consultoría tecnológica con 30 años de experiencia, precisa incorporar en su organización:<br>Técnico de Data con experiencia en Base de datos Oracle, Modelado de datos, Conocimientos técnicos en la herramienta de ETL Pentaho.<br>Proyecto en Madrid.<br>Tipo de industria de la oferta<br>Servicios y tecnología de la información<br>Categoría<br>Informática y telecomunicaciones - Programación<br>Nivel<br>Empleado/a<br>Número de vacantes<br>1<br>Salario<br>Salario no disponible<br>9 inscritos a esta oferta<br>Nuestro consejo: inscríbete si tienes el perfil, puede que se ajuste más que el de otros inscritos.<br>Denunciar oferta<br>Los datos bancarios, de pago y datos personales (DNI, foto) nunca deben proporcionarse al solicitar un empleo. Consulta nuestros consejos para una búsqueda de empleo segura."
        ],
        [
         "4",
         "data_science",
         "infojobs",
         "Data engineer(Spark+Python)-Madrid",
         "Luca TIC",
         "Publicada hace 1d",
         null,
         null,
         "https://www.infojobs.net/madrid/data-engineer-spark-python-madrid/of-i653c5676894d828849c2e3f66ea371?applicationOrigin=search-new%7Celement%7E54064150242&searchId=54064150242&page=1&sortBy=RELEVANCE",
         "Requisitos\nEstudios mínimos\nCiclo Formativo Grado Superior\nExperiencia mínima\nAl menos 1 año\nConocimientos necesarios\nPython\nBanca\nInversiones\nBanca privada\nETL\nSector banca\nspark\nPostgreSQL\nSQL\nhibrido\nDescripción\nDesde Luca TIC buscamos un Data engineer para un proyecto del sector bancario.\nRequisitos :\n-Experiencia en el desarrollo de pipelines ETL con Apache Spark y Python.\n-Conocimiento práctico de servicios AWS como S3, RDS (PostgreSQL) e IAM, AWS Glue, Amazon EMR y Lambda.\n-Sólidas habilidades en SQL.\n-Familiaridad con sistemas de control de versiones y flujos de CI/CD.\n-Experiencia con procesamiento de datos en tiempo real (deseable).\nCertificación AWS en relación con datos o arquitecturas cloud (deseable).\nConocimiento de conceptos de inversiones y modelos de datos de banca privada (deseable).\nBuen nivel de inglés B2 (deseable).\n¿Qué ofrecemos?:\n-Contrato indefinido.\n-Modalidad hibrida (4 oficina + 1 casa)+ teletrabajo meses verano y navidad.\n-Seguro médico.\n-Formar parte de un ambiente innovador en constante crecimiento donde desarrollar tu carrera profesional.\nTipo de industria de la oferta\nServicios y tecnología de la información\nCategoría\nInformática y telecomunicaciones - Telecomunicaciones\nNivel\nEmpleado/a\nNúmero de vacantes\n1\nSalario\nSalario no disponible\nBeneficios sociales\nTeletrabajo\nSeguro médico\n10 inscritos a esta oferta\nNuestro consejo: inscríbete si tienes el perfil, puede que se ajuste más que el de otros inscritos.\nDenunciar oferta\nLos datos bancarios, de pago y datos personales (DNI, foto) nunca deben proporcionarse al solicitar un empleo. Consulta nuestros consejos para una búsqueda de empleo segura.",
         "<br><h3>Requisitos</h3><br><h4>Estudios mínimos</h4><br>Ciclo Formativo Grado Superior<br><h4>Experiencia mínima</h4><br>Al menos 1 año<br>Conocimientos necesarios<br>Python<br>Banca<br>Inversiones<br>Banca privada<br>ETL<br>Sector banca<br>spark<br>PostgreSQL<br>SQL<br>hibrido<br><br><h3>Descripción</h3><br>Desde Luca TIC buscamos un Data engineer para un proyecto del sector bancario.<br><br><h3>Requisitos</h3> :<br>-Experiencia en el desarrollo de pipelines ETL con Apache Spark y Python.<br>-Conocimiento práctico de servicios AWS como S3, RDS (PostgreSQL) e IAM, AWS Glue, Amazon EMR y Lambda.<br>-Sólidas habilidades en SQL.<br>-Familiaridad con sistemas de control de versiones y flujos de CI/CD.<br>-Experiencia con procesamiento de datos en tiempo real (deseable).<br>Certificación AWS en relación con datos o arquitecturas cloud (deseable).<br>Conocimiento de conceptos de inversiones y modelos de datos de banca privada (deseable).<br>Buen nivel de inglés B2 (deseable).<br>¿Qué ofrecemos?:<br>-Contrato indefinido.<br>-Modalidad hibrida (4 oficina + 1 casa)+ teletrabajo meses verano y navidad.<br>-Seguro médico.<br>-Formar parte de un ambiente innovador en constante crecimiento donde desarrollar tu carrera profesional.<br>Tipo de industria de la oferta<br>Servicios y tecnología de la información<br>Categoría<br>Informática y telecomunicaciones - Telecomunicaciones<br>Nivel<br>Empleado/a<br>Número de vacantes<br>1<br>Salario<br>Salario no disponible<br>Beneficios sociales<br>Teletrabajo<br>Seguro médico<br>10 inscritos a esta oferta<br>Nuestro consejo: inscríbete si tienes el perfil, puede que se ajuste más que el de otros inscritos.<br>Denunciar oferta<br>Los datos bancarios, de pago y datos personales (DNI, foto) nunca deben proporcionarse al solicitar un empleo. Consulta nuestros consejos para una búsqueda de empleo segura."
        ]
       ],
       "shape": {
        "columns": 10,
        "rows": 5
       }
      },
      "text/html": [
       "<div>\n",
       "<style scoped>\n",
       "    .dataframe tbody tr th:only-of-type {\n",
       "        vertical-align: middle;\n",
       "    }\n",
       "\n",
       "    .dataframe tbody tr th {\n",
       "        vertical-align: top;\n",
       "    }\n",
       "\n",
       "    .dataframe thead th {\n",
       "        text-align: right;\n",
       "    }\n",
       "</style>\n",
       "<table border=\"1\" class=\"dataframe\">\n",
       "  <thead>\n",
       "    <tr style=\"text-align: right;\">\n",
       "      <th></th>\n",
       "      <th>empleo</th>\n",
       "      <th>plataforma</th>\n",
       "      <th>titulo_oferta</th>\n",
       "      <th>empresa</th>\n",
       "      <th>fecha_publicacion</th>\n",
       "      <th>min_salario</th>\n",
       "      <th>max_salario</th>\n",
       "      <th>url_oferta</th>\n",
       "      <th>descripcion</th>\n",
       "      <th>descripcion_original</th>\n",
       "    </tr>\n",
       "  </thead>\n",
       "  <tbody>\n",
       "    <tr>\n",
       "      <th>0</th>\n",
       "      <td>data_science</td>\n",
       "      <td>infojobs</td>\n",
       "      <td>Data Scientist - Computer Vision</td>\n",
       "      <td>Tinamica, S.L.</td>\n",
       "      <td>Publicada el 14 de ene</td>\n",
       "      <td>NaN</td>\n",
       "      <td>NaN</td>\n",
       "      <td>https://www.infojobs.net/madrid/data-scientist...</td>\n",
       "      <td>Requisitos\\nEstudios mínimos\\nCiclo Formativo ...</td>\n",
       "      <td>&lt;br&gt;&lt;h3&gt;Requisitos&lt;/h3&gt;&lt;br&gt;&lt;h4&gt;Estudios mínimo...</td>\n",
       "    </tr>\n",
       "    <tr>\n",
       "      <th>1</th>\n",
       "      <td>data_science</td>\n",
       "      <td>infojobs</td>\n",
       "      <td>Data Scientist Junior</td>\n",
       "      <td>Tinamica, S.L.</td>\n",
       "      <td>Publicada el 14 de ene</td>\n",
       "      <td>NaN</td>\n",
       "      <td>NaN</td>\n",
       "      <td>https://www.infojobs.net/madrid/data-scientist...</td>\n",
       "      <td>Requisitos\\nEstudios mínimos\\nCiclo Formativo ...</td>\n",
       "      <td>&lt;br&gt;&lt;h3&gt;Requisitos&lt;/h3&gt;&lt;br&gt;&lt;h4&gt;Estudios mínimo...</td>\n",
       "    </tr>\n",
       "    <tr>\n",
       "      <th>2</th>\n",
       "      <td>data_science</td>\n",
       "      <td>infojobs</td>\n",
       "      <td>DataOps Engineer (hybrid work)</td>\n",
       "      <td>SERIT CONSULTING</td>\n",
       "      <td>Publicada hace 1d (Publicada de nuevo)</td>\n",
       "      <td>36.000€</td>\n",
       "      <td>42.000€</td>\n",
       "      <td>https://www.infojobs.net/madrid/dataops-engine...</td>\n",
       "      <td>Requisitos\\nEstudios mínimos\\nCiclo Formativo ...</td>\n",
       "      <td>&lt;br&gt;&lt;h3&gt;Requisitos&lt;/h3&gt;&lt;br&gt;&lt;h4&gt;Estudios mínimo...</td>\n",
       "    </tr>\n",
       "    <tr>\n",
       "      <th>3</th>\n",
       "      <td>data_science</td>\n",
       "      <td>infojobs</td>\n",
       "      <td>TECNICO DE DATA</td>\n",
       "      <td>GESEIN</td>\n",
       "      <td>Publicada hace 1d</td>\n",
       "      <td>NaN</td>\n",
       "      <td>NaN</td>\n",
       "      <td>https://www.infojobs.net/madrid/tecnico-data/o...</td>\n",
       "      <td>Requisitos\\nEstudios mínimos\\nCiclo Formativo ...</td>\n",
       "      <td>&lt;br&gt;&lt;h3&gt;Requisitos&lt;/h3&gt;&lt;br&gt;&lt;h4&gt;Estudios mínimo...</td>\n",
       "    </tr>\n",
       "    <tr>\n",
       "      <th>4</th>\n",
       "      <td>data_science</td>\n",
       "      <td>infojobs</td>\n",
       "      <td>Data engineer(Spark+Python)-Madrid</td>\n",
       "      <td>Luca TIC</td>\n",
       "      <td>Publicada hace 1d</td>\n",
       "      <td>NaN</td>\n",
       "      <td>NaN</td>\n",
       "      <td>https://www.infojobs.net/madrid/data-engineer-...</td>\n",
       "      <td>Requisitos\\nEstudios mínimos\\nCiclo Formativo ...</td>\n",
       "      <td>&lt;br&gt;&lt;h3&gt;Requisitos&lt;/h3&gt;&lt;br&gt;&lt;h4&gt;Estudios mínimo...</td>\n",
       "    </tr>\n",
       "  </tbody>\n",
       "</table>\n",
       "</div>"
      ],
      "text/plain": [
       "         empleo plataforma                       titulo_oferta  \\\n",
       "0  data_science   infojobs    Data Scientist - Computer Vision   \n",
       "1  data_science   infojobs               Data Scientist Junior   \n",
       "2  data_science   infojobs      DataOps Engineer (hybrid work)   \n",
       "3  data_science   infojobs                     TECNICO DE DATA   \n",
       "4  data_science   infojobs  Data engineer(Spark+Python)-Madrid   \n",
       "\n",
       "            empresa                       fecha_publicacion min_salario  \\\n",
       "0    Tinamica, S.L.                  Publicada el 14 de ene         NaN   \n",
       "1    Tinamica, S.L.                  Publicada el 14 de ene         NaN   \n",
       "2  SERIT CONSULTING  Publicada hace 1d (Publicada de nuevo)     36.000€   \n",
       "3            GESEIN                       Publicada hace 1d         NaN   \n",
       "4          Luca TIC                       Publicada hace 1d         NaN   \n",
       "\n",
       "  max_salario                                         url_oferta  \\\n",
       "0         NaN  https://www.infojobs.net/madrid/data-scientist...   \n",
       "1         NaN  https://www.infojobs.net/madrid/data-scientist...   \n",
       "2     42.000€  https://www.infojobs.net/madrid/dataops-engine...   \n",
       "3         NaN  https://www.infojobs.net/madrid/tecnico-data/o...   \n",
       "4         NaN  https://www.infojobs.net/madrid/data-engineer-...   \n",
       "\n",
       "                                         descripcion  \\\n",
       "0  Requisitos\\nEstudios mínimos\\nCiclo Formativo ...   \n",
       "1  Requisitos\\nEstudios mínimos\\nCiclo Formativo ...   \n",
       "2  Requisitos\\nEstudios mínimos\\nCiclo Formativo ...   \n",
       "3  Requisitos\\nEstudios mínimos\\nCiclo Formativo ...   \n",
       "4  Requisitos\\nEstudios mínimos\\nCiclo Formativo ...   \n",
       "\n",
       "                                descripcion_original  \n",
       "0  <br><h3>Requisitos</h3><br><h4>Estudios mínimo...  \n",
       "1  <br><h3>Requisitos</h3><br><h4>Estudios mínimo...  \n",
       "2  <br><h3>Requisitos</h3><br><h4>Estudios mínimo...  \n",
       "3  <br><h3>Requisitos</h3><br><h4>Estudios mínimo...  \n",
       "4  <br><h3>Requisitos</h3><br><h4>Estudios mínimo...  "
      ]
     },
     "metadata": {},
     "output_type": "display_data"
    },
    {
     "name": "stdout",
     "output_type": "stream",
     "text": [
      "El porcentaje de ofertas con salario para data_science es: 30.65%\n",
      "\n"
     ]
    },
    {
     "data": {
      "application/vnd.microsoft.datawrangler.viewer.v0+json": {
       "columns": [
        {
         "name": "index",
         "rawType": "int64",
         "type": "integer"
        },
        {
         "name": "empleo",
         "rawType": "object",
         "type": "string"
        },
        {
         "name": "plataforma",
         "rawType": "object",
         "type": "string"
        },
        {
         "name": "titulo_oferta",
         "rawType": "object",
         "type": "string"
        },
        {
         "name": "empresa",
         "rawType": "object",
         "type": "string"
        },
        {
         "name": "fecha_publicacion",
         "rawType": "object",
         "type": "string"
        },
        {
         "name": "min_salario",
         "rawType": "object",
         "type": "unknown"
        },
        {
         "name": "max_salario",
         "rawType": "object",
         "type": "unknown"
        },
        {
         "name": "url_oferta",
         "rawType": "object",
         "type": "string"
        },
        {
         "name": "descripcion",
         "rawType": "object",
         "type": "string"
        },
        {
         "name": "descripcion_original",
         "rawType": "object",
         "type": "string"
        }
       ],
       "conversionMethod": "pd.DataFrame",
       "ref": "c1656409-b219-4243-ad5d-8fa5ca2e132e",
       "rows": [
        [
         "0",
         "data_analyst",
         "infojobs",
         "Analista de crédito (inglés alto)",
         "CGI",
         "Publicada hace 4d (Publicada de nuevo)",
         null,
         null,
         "https://www.infojobs.net/madrid/analista-credito-ingles-alto/of-if0e4a388fa4cc4b89c0d62626b9faf?applicationOrigin=search-new%7Celement%7E54050903436&searchId=54050903436&page=1&sortBy=RELEVANCE",
         "Requisitos\nEstudios mínimos\nCiclo Formativo Grado Superior - Administración y Gestión\nExperiencia mínima\nAl menos 2 años\nImprescindible residente en\nProvincia Puesto Vacante\nIdiomas requeridos\nInglés - Nivel Avanzado\nConocimientos necesarios\nAnálisis\nInformación financiera\nAnálisis de riesgos\nProcesos de negocio\nRequisitos mínimos\nHabilidades contables.\n· Capacidad para trabajar eficazmente bajo presión.\n· Capacidad de comunicación.\n· Imprescindible capacidad de resolución de problemas y de trabajo en equipo.\n· Atención al detalle.\n· Capacidad de documentación y organización.\n· Conocimientos en análisis de riesgos.\n· Inglés alto (B2+)\nDescripción\nÚnete a CGI!\n¿Quieres formar parte de una de las cinco empresas más grandes de TI y procesos de negocios IT?\nNecesitamos incoporar en un proyecto bastante importante a nivel internacional un perfil de Analista de Crédito con nivel de medio- alto en INGLÉS .\nFunciones:\n· Emisión de recomendación de expedientes de crédito y calificaciones de acuerdo al proceso de aprobación de crédito en el formato requerido.\n· Contribuir a desarrollar un negocio saludable manteniendo el riesgo bajo control. Revisión anual de proveedores junto con las ventas.\n· Analizar la información financiera y evaluar la solvencia y el riesgo de las solicitudes recibidas a través del programa de proveedores del cliente, dentro de los plazos, considerando los procedimientos internos del cliente en conformidad con las normas de AMLO y KYC.\n· Procesar y aprobar solicitudes de crédito dentro del límite de crédito personal vigente y preparar un análisis crediticio completo para presentación de propuestas de crédito en el comité de crédito y/o en RISQ/RBA.\n· Controlar las prioridades en función de los proveedores y los plazos máximos de respuesta.\n· Identificar claramente los riesgos financieros y/u otros riesgos asociados a la operación (equipos, estructuras, etc.).\n· Comprobar la exactitud de la información financiera necesaria para el estudio de las solicitudes.\n· Realizar verificaciones en diferentes bases de datos externas e internas y completar el sistema de información con los datos adecuados para garantizar la correcta identificación de todas las partes implicadas en la solicitud de acuerdo con las normas de KYC y AMLO.\n· Participar en la carga de trabajo administrativa diaria como el escaneado de todos los documentos de crédito.\nOfrecemos:\n- Contrato Indefinido\n- Salario en función de la experiencia\n- Atractivo paquete de beneficios sociales\n- Participación en la compra de acciones de la compañía\n- Seguro de vida y accidentes\nSi nuestra política retributiva te gusta, no te pierdas los beneficios adicionales que tendrás.\n.. porque todo no es trabajar...\nTe ayudamos a llevar una vida sana con programas realizados a medida para nuestros empleados.\nDescuentos en viajes, hoteles, cines, restaurantes, comercios, etc... (porque nos preocupamos por tu económia)\nFormación a medida desde el primer momento\nExcelente ambiente laboral\nIncreible equipo de trabajo\nConciliación laboral, porque tu bienestar es impotante para nosotros\n¡En CGI te estamos esperando!\nTipo de industria de la oferta\nServicios y tecnología de la información\nCategoría\nFinanzas y banca - Banca privada\nNivel\nEmpleado/a\nPersonal a cargo\n0\nNúmero de vacantes\n1\nSalario\nSalario no disponible\nBeneficios sociales\nOtros beneficios:\nFormación, Retribución Flexible\n50 inscritos a esta oferta\nNuestro consejo: inscríbete si tienes el perfil, puede que se ajuste más que el de otros inscritos.\nDenunciar oferta\nLos datos bancarios, de pago y datos personales (DNI, foto) nunca deben proporcionarse al solicitar un empleo. Consulta nuestros consejos para una búsqueda de empleo segura.",
         "<br><h3>Requisitos</h3><br><h4>Estudios mínimos</h4><br>Ciclo Formativo Grado Superior - Administración y Gestión<br><h4>Experiencia mínima</h4><br>Al menos 2 años<br>Imprescindible residente en<br>Provincia Puesto Vacante<br>Idiomas requeridos<br>Inglés - Nivel Avanzado<br>Conocimientos necesarios<br>Análisis<br>Información financiera<br>Análisis de riesgos<br>Procesos de negocio<br><br><h3><br><h3>Requisitos</h3> mínimos</h3><br>Habilidades contables.<br>· Capacidad para trabajar eficazmente bajo presión.<br>· Capacidad de comunicación.<br>· Imprescindible capacidad de resolución de problemas y de trabajo en equipo.<br>· Atención al detalle.<br>· Capacidad de documentación y organización.<br>· Conocimientos en análisis de riesgos.<br>· Inglés alto (B2+)<br><br><h3>Descripción</h3><br>Únete a CGI!<br>¿Quieres formar parte de una de las cinco empresas más grandes de TI y procesos de negocios IT?<br>Necesitamos incoporar en un proyecto bastante importante a nivel internacional un perfil de Analista de Crédito con nivel de medio- alto en INGLÉS .<br>Funciones:<br>· Emisión de recomendación de expedientes de crédito y calificaciones de acuerdo al proceso de aprobación de crédito en el formato requerido.<br>· Contribuir a desarrollar un negocio saludable manteniendo el riesgo bajo control. Revisión anual de proveedores junto con las ventas.<br>· Analizar la información financiera y evaluar la solvencia y el riesgo de las solicitudes recibidas a través del programa de proveedores del cliente, dentro de los plazos, considerando los procedimientos internos del cliente en conformidad con las normas de AMLO y KYC.<br>· Procesar y aprobar solicitudes de crédito dentro del límite de crédito personal vigente y preparar un análisis crediticio completo para presentación de propuestas de crédito en el comité de crédito y/o en RISQ/RBA.<br>· Controlar las prioridades en función de los proveedores y los plazos máximos de respuesta.<br>· Identificar claramente los riesgos financieros y/u otros riesgos asociados a la operación (equipos, estructuras, etc.).<br>· Comprobar la exactitud de la información financiera necesaria para el estudio de las solicitudes.<br>· Realizar verificaciones en diferentes bases de datos externas e internas y completar el sistema de información con los datos adecuados para garantizar la correcta identificación de todas las partes implicadas en la solicitud de acuerdo con las normas de KYC y AMLO.<br>· Participar en la carga de trabajo administrativa diaria como el escaneado de todos los documentos de crédito.<br>Ofrecemos:<br>- Contrato Indefinido<br>- Salario en función de la experiencia<br>- Atractivo paquete de beneficios sociales<br>- Participación en la compra de acciones de la compañía<br>- Seguro de vida y accidentes<br>Si nuestra política retributiva te gusta, no te pierdas los beneficios adicionales que tendrás.<br>.. porque todo no es trabajar...<br>Te ayudamos a llevar una vida sana con programas realizados a medida para nuestros empleados.<br>Descuentos en viajes, hoteles, cines, restaurantes, comercios, etc... (porque nos preocupamos por tu económia)<br>Formación a medida desde el primer momento<br>Excelente ambiente laboral<br>Increible equipo de trabajo<br>Conciliación laboral, porque tu bienestar es impotante para nosotros<br>¡En CGI te estamos esperando!<br>Tipo de industria de la oferta<br>Servicios y tecnología de la información<br>Categoría<br>Finanzas y banca - Banca privada<br>Nivel<br>Empleado/a<br>Personal a cargo<br>0<br>Número de vacantes<br>1<br>Salario<br>Salario no disponible<br>Beneficios sociales<br>Otros beneficios:<br>Formación, Retribución Flexible<br>50 inscritos a esta oferta<br>Nuestro consejo: inscríbete si tienes el perfil, puede que se ajuste más que el de otros inscritos.<br>Denunciar oferta<br>Los datos bancarios, de pago y datos personales (DNI, foto) nunca deben proporcionarse al solicitar un empleo. Consulta nuestros consejos para una búsqueda de empleo segura."
        ],
        [
         "1",
         "data_analyst",
         "infojobs",
         "Analista Programador/a ETL (Teletrabajo)",
         "World Software Services",
         "Publicada hace 5d (Publicada de nuevo)",
         null,
         null,
         "https://www.infojobs.net/madrid/analista-programador-etl-teletrabajo/of-i0ff457262b45a6967e3d765fd08775?applicationOrigin=search-new%7Celement%7E54050903436&searchId=54050903436&page=1&sortBy=RELEVANCE",
         "Requisitos\nEstudios mínimos\nCiclo Formativo Grado Medio\nExperiencia mínima\nAl menos 3 años\nImprescindible residente en\nEspaña\nIdiomas requeridos\nInglés - Nivel Intermedio\nConocimientos necesarios\nETL\nInformática Cloud\nMicrosoft Azure\nPython\nRequisitos mínimos\nRequisitos:\n- 3 años de con experiencia en Informática Cloud o alguna alguna tool similar\n- Conocimientos de Microsoft Azure\n- Experiencia con PurView Experiencia trabajando en definición de catálogos de datos.\nExperiencia con Python y Shell scripts.\nRequisitos deseados\n- Experiencia con Confluence, Jira,Sonarqube,Openshift\nDescripción\nActualmente estamos en búsqueda de un Analista Programador/a ETL, para una posición estable.\nRequisitos:\n- 3 años de con experiencia en Informática Cloud o alguna alguna tool similar.\n- Conocimientos de Microsoft Azure\n- Experiencia con PurView Experiencia trabajando en definición de catálogos de datos.\nExperiencia con Python y Shell scripts.\nDeseable:\n- Experiencia con Confluence, Jira,Sonarqube,Openshift\nModalidad de trabajo remoto.\nWorld Software Services es una empresa multinacional con más de 35 años de experiencia, destacando en los campos de consultoría, desarrollo informático y servicios BPO. Atendemos a empresas de todo el mundo, contando con oficinas en México, Estados Unidos, España, Portugal, Colombia, Perú y Chile.\nReferencia\nYNC\nTipo de industria de la oferta\nServicios y tecnología de la información\nCategoría\nInformática y telecomunicaciones - Programación\nNivel\nEmpleado/a\nPersonal a cargo\n0\nNúmero de vacantes\n1\nSalario\nSalario no disponible\nBeneficios sociales\nTeletrabajo\n34 inscritos a esta oferta\nNuestro consejo: inscríbete si tienes el perfil, puede que se ajuste más que el de otros inscritos.\nDenunciar oferta\nLos datos bancarios, de pago y datos personales (DNI, foto) nunca deben proporcionarse al solicitar un empleo. Consulta nuestros consejos para una búsqueda de empleo segura.",
         "<br><h3>Requisitos</h3><br><h4>Estudios mínimos</h4><br>Ciclo Formativo Grado Medio<br><h4>Experiencia mínima</h4><br>Al menos 3 años<br>Imprescindible residente en<br>España<br>Idiomas requeridos<br>Inglés - Nivel Intermedio<br>Conocimientos necesarios<br>ETL<br>Informática Cloud<br>Microsoft Azure<br>Python<br><br><h3><br><h3>Requisitos</h3> mínimos</h3><br><br><h3>Requisitos</h3>:<br>- 3 años de con experiencia en Informática Cloud o alguna alguna tool similar<br>- Conocimientos de Microsoft Azure<br>- Experiencia con PurView Experiencia trabajando en definición de catálogos de datos.<br>Experiencia con Python y Shell scripts.<br><br><h3>Requisitos</h3> deseados<br>- Experiencia con Confluence, Jira,Sonarqube,Openshift<br><br><h3>Descripción</h3><br>Actualmente estamos en búsqueda de un Analista Programador/a ETL, para una posición estable.<br><br><h3>Requisitos</h3>:<br>- 3 años de con experiencia en Informática Cloud o alguna alguna tool similar.<br>- Conocimientos de Microsoft Azure<br>- Experiencia con PurView Experiencia trabajando en definición de catálogos de datos.<br>Experiencia con Python y Shell scripts.<br>Deseable:<br>- Experiencia con Confluence, Jira,Sonarqube,Openshift<br>Modalidad de trabajo remoto.<br>World Software Services es una empresa multinacional con más de 35 años de experiencia, destacando en los campos de consultoría, desarrollo informático y servicios BPO. Atendemos a empresas de todo el mundo, contando con oficinas en México, Estados Unidos, España, Portugal, Colombia, Perú y Chile.<br>Referencia<br>YNC<br>Tipo de industria de la oferta<br>Servicios y tecnología de la información<br>Categoría<br>Informática y telecomunicaciones - Programación<br>Nivel<br>Empleado/a<br>Personal a cargo<br>0<br>Número de vacantes<br>1<br>Salario<br>Salario no disponible<br>Beneficios sociales<br>Teletrabajo<br>34 inscritos a esta oferta<br>Nuestro consejo: inscríbete si tienes el perfil, puede que se ajuste más que el de otros inscritos.<br>Denunciar oferta<br>Los datos bancarios, de pago y datos personales (DNI, foto) nunca deben proporcionarse al solicitar un empleo. Consulta nuestros consejos para una búsqueda de empleo segura."
        ],
        [
         "2",
         "data_analyst",
         "infojobs",
         "Analista Financier/a",
         "Empresa sector servicios",
         "Publicada hace 2d (Publicada de nuevo)",
         null,
         null,
         "https://www.infojobs.net/pozuelo-de-alarcon/analista-financier/of-i6ae824c021434a937ec14981ed739c?applicationOrigin=search-new%7Celement%7E54050903436&searchId=54050903436&page=4&sortBy=RELEVANCE",
         "Requisitos\nEstudios mínimos\nGrado - Grado en Administración y Dirección de Empresas\nExperiencia mínima\nAl menos 1 año\nImprescindible residente en\nProvincia Puesto Vacante\nIdiomas requeridos\nInglés - Nivel Avanzado\nConocimientos necesarios\nFinanzas\nAnálisis\nAdministración\nToma de decisiones\nGestión financiera\nOptimización\nRequisitos mínimos\n-Grado en ADE, Economía o carreras afines.\n- Muy valorable disponer de Máster en Finanzas o MBA.\n- Experiencia mínima de al menos 1 año en el desempeño de funciones similares a las descritas en la oferta.\n- Imprescindible disponer de experiencia en funciones analíticas y de descripción de mejora de procesos.\n- Alto domino de herramientas informáticas tales como el Excel (gráficos, tablas dinámicas, formulación lógica, etc.), Power BI u otras, siendo muy valorable conocimientos de VBA, así como de otras aplicaciones de integración compleja de datos.\n- Conocimientos de sistemas de planificación.\n- Nivel alto de inglés.\n- Se valorará positivamente perfil proactivo/a con altas capacidades para analizar datos, crear procesos que aporten valor y alto compromiso y responsabilidad.\nDescripción\nEmpresa de sector servicios, comprometida con la igualdad de oportunidades, busca incorporar un/a Analista Financiero/a para que se incorporé en nuestras oficinas centrales de Madrid, formando parte de nuestro capital humano compuesto por más de 4.000 empelados/as.\nLa persona seleccionada se incorporará en el departamento de administración y prestará apoyo en el control de la gestión financiera y se responsabilizará de ofrecer respuestas de mejora continua que permitan la optimización de los recursos y mayor rentabilidad, a través de herramientas informáticas avanzadas y/o digitales especializadas en análisis, elaboración y consolidación de datos.\nEntre las funciones que desempeñará, destacan las siguientes:\n- Confeccionar presupuestos, así como cuadros de mando, KPIs, etc., para la identificación de las desviaciones y la planificación de las medidas correctoras.\n- Recopilar, analizar e interpretar los datos necesarios para maximizar la eficiencia del coste-beneficio (ACB).\n- Participar activamente en las negociaciones financieras, detectando nuevas tendencias y oportunidades de negocio, así como elaborar las proyecciones financieras necesarias.\n- Elaborar y presentar informes de control con los datos significativos mediante herramientas que faciliten la compresión de estos y la toma de decisiones.\nQUÉ TE OFRECEMOS:\nSi te unes con nosotros te ofreceremos las siguientes condiciones:\n- Contrato Indefinido desde el primer día.\n- Horario flexible de trabajo de lunes a viernes.\n- Excelente oportunidad de aprendizaje para tu desarrollo profesional, al lado del equipo corporativo de Finanzas.\n- Descuentos en seguros médicos.\nTipo de industria de la oferta\nTransporte (mercancías y pasajeros) y mensajeria\nCategoría\nOtros - Sin especificar\nNivel\nEmpleado/a\nPersonal a cargo\n0\nNúmero de vacantes\n1\nSalario\nSalario no disponible\nBeneficios sociales\nFlexibilidad horaria\nTeletrabajo\nTeléfono móvil\n199 inscritos a esta oferta\nNuestro consejo: inscríbete si tienes el perfil, puede que se ajuste más que el de otros inscritos.\nDenunciar oferta\nLos datos bancarios, de pago y datos personales (DNI, foto) nunca deben proporcionarse al solicitar un empleo. Consulta nuestros consejos para una búsqueda de empleo segura.",
         "<br><h3>Requisitos</h3><br><h4>Estudios mínimos</h4><br>Grado - Grado en Administración y Dirección de Empresas<br><h4>Experiencia mínima</h4><br>Al menos 1 año<br>Imprescindible residente en<br>Provincia Puesto Vacante<br>Idiomas requeridos<br>Inglés - Nivel Avanzado<br>Conocimientos necesarios<br>Finanzas<br>Análisis<br>Administración<br>Toma de decisiones<br>Gestión financiera<br>Optimización<br><br><h3><br><h3>Requisitos</h3> mínimos</h3><br>-Grado en ADE, Economía o carreras afines.<br>- Muy valorable disponer de Máster en Finanzas o MBA.<br>- <h4>Experiencia mínima</h4> de al menos 1 año en el desempeño de funciones similares a las descritas en la oferta.<br>- Imprescindible disponer de experiencia en funciones analíticas y de descripción de mejora de procesos.<br>- Alto domino de herramientas informáticas tales como el Excel (gráficos, tablas dinámicas, formulación lógica, etc.), Power BI u otras, siendo muy valorable conocimientos de VBA, así como de otras aplicaciones de integración compleja de datos.<br>- Conocimientos de sistemas de planificación.<br>- Nivel alto de inglés.<br>- Se valorará positivamente perfil proactivo/a con altas capacidades para analizar datos, crear procesos que aporten valor y alto compromiso y responsabilidad.<br><br><h3>Descripción</h3><br>Empresa de sector servicios, comprometida con la igualdad de oportunidades, busca incorporar un/a Analista Financiero/a para que se incorporé en nuestras oficinas centrales de Madrid, formando parte de nuestro capital humano compuesto por más de 4.000 empelados/as.<br>La persona seleccionada se incorporará en el departamento de administración y prestará apoyo en el control de la gestión financiera y se responsabilizará de ofrecer respuestas de mejora continua que permitan la optimización de los recursos y mayor rentabilidad, a través de herramientas informáticas avanzadas y/o digitales especializadas en análisis, elaboración y consolidación de datos.<br>Entre las funciones que desempeñará, destacan las siguientes:<br>- Confeccionar presupuestos, así como cuadros de mando, KPIs, etc., para la identificación de las desviaciones y la planificación de las medidas correctoras.<br>- Recopilar, analizar e interpretar los datos necesarios para maximizar la eficiencia del coste-beneficio (ACB).<br>- Participar activamente en las negociaciones financieras, detectando nuevas tendencias y oportunidades de negocio, así como elaborar las proyecciones financieras necesarias.<br>- Elaborar y presentar informes de control con los datos significativos mediante herramientas que faciliten la compresión de estos y la toma de decisiones.<br>QUÉ TE OFRECEMOS:<br>Si te unes con nosotros te ofreceremos las siguientes condiciones:<br>- Contrato Indefinido desde el primer día.<br>- Horario flexible de trabajo de lunes a viernes.<br>- Excelente oportunidad de aprendizaje para tu desarrollo profesional, al lado del equipo corporativo de Finanzas.<br>- Descuentos en seguros médicos.<br>Tipo de industria de la oferta<br>Transporte (mercancías y pasajeros) y mensajeria<br>Categoría<br>Otros - Sin especificar<br>Nivel<br>Empleado/a<br>Personal a cargo<br>0<br>Número de vacantes<br>1<br>Salario<br>Salario no disponible<br>Beneficios sociales<br>Flexibilidad horaria<br>Teletrabajo<br>Teléfono móvil<br>199 inscritos a esta oferta<br>Nuestro consejo: inscríbete si tienes el perfil, puede que se ajuste más que el de otros inscritos.<br>Denunciar oferta<br>Los datos bancarios, de pago y datos personales (DNI, foto) nunca deben proporcionarse al solicitar un empleo. Consulta nuestros consejos para una búsqueda de empleo segura."
        ],
        [
         "3",
         "data_analyst",
         "infojobs",
         "Analista programador/a Cobol (100% teletrabajo, remoto) (VE01)",
         "Mensoft Consultores, S.L",
         "Publicada hace 1d (Publicada de nuevo)",
         null,
         null,
         "https://www.infojobs.net/madrid/analista-programador-cobol-100-teletrabajo-remoto-ve01/of-ie6314e9e8c42c0822dc64d93494b10?applicationOrigin=search-new%7Celement%7E54050903436&searchId=54050903436&page=4&sortBy=RELEVANCE",
         "Requisitos\nEstudios mínimos\nCiclo Formativo Grado Superior\nExperiencia mínima\nAl menos 2 años\nConocimientos necesarios\nCOBOL\nControl de Calidad\nDocumentación Técnica\nAnálisis\nDescripción\n¿Interesado en nuevos retos? En Mensoft Consultores estamos buscando un/a Analista programador/a Cobol (100% teletrabajo, remoto) quiera entrar a formar parte de un proyecto estable, en uno de nuestros clientes más importantes.\nREQUISITOS:\nAnalista Programador Cobol, con experiencia mínima 5 años. Tareas de análisis de evolutivos e incidencias y programación Sus funciones: - Codificación a partir de requisitos para proyecto evolutivo o recepción de incidencias - Desarrollo de los requisitos - Pruebas unitarias y funcionales - Realización de la documentación técnica y control de calidad. Tareas de programación, construcción de querys de base de datos, construcción de JCLs. - Desarrollo de los requisitos - Pruebas unitarias y funcionales - Realización de la documentación técnica y control de calidad. Candidatos preferiblemente que no sean de Madrid o Barcelona. Sector: Seguros.\nCONDICIONES\n- Proyecto estable\n- Salario: hasta 25K\nTipo de industria de la oferta\nServicios y tecnología de la información\nCategoría\nInformática y telecomunicaciones - Sistemas\nNivel\nEmpleado/a\nNúmero de vacantes\n1\nSalario\nSalario no disponible\nBeneficios sociales\nTeletrabajo\n9 inscritos a esta oferta\nNuestro consejo: inscríbete si tienes el perfil, puede que se ajuste más que el de otros inscritos.\nDenunciar oferta\nLos datos bancarios, de pago y datos personales (DNI, foto) nunca deben proporcionarse al solicitar un empleo. Consulta nuestros consejos para una búsqueda de empleo segura.",
         "<br><h3>Requisitos</h3><br><h4>Estudios mínimos</h4><br>Ciclo Formativo Grado Superior<br><h4>Experiencia mínima</h4><br>Al menos 2 años<br>Conocimientos necesarios<br>COBOL<br>Control de Calidad<br>Documentación Técnica<br>Análisis<br><br><h3>Descripción</h3><br>¿Interesado en nuevos retos? En Mensoft Consultores estamos buscando un/a Analista programador/a Cobol (100% teletrabajo, remoto) quiera entrar a formar parte de un proyecto estable, en uno de nuestros clientes más importantes.<br>REQUISITOS:<br>Analista Programador Cobol, con experiencia mínima 5 años. Tareas de análisis de evolutivos e incidencias y programación Sus funciones: - Codificación a partir de requisitos para proyecto evolutivo o recepción de incidencias - Desarrollo de los requisitos - Pruebas unitarias y funcionales - Realización de la documentación técnica y control de calidad. Tareas de programación, construcción de querys de base de datos, construcción de JCLs. - Desarrollo de los requisitos - Pruebas unitarias y funcionales - Realización de la documentación técnica y control de calidad. Candidatos preferiblemente que no sean de Madrid o Barcelona. Sector: Seguros.<br>CONDICIONES<br>- Proyecto estable<br>- Salario: hasta 25K<br>Tipo de industria de la oferta<br>Servicios y tecnología de la información<br>Categoría<br>Informática y telecomunicaciones - Sistemas<br>Nivel<br>Empleado/a<br>Número de vacantes<br>1<br>Salario<br>Salario no disponible<br>Beneficios sociales<br>Teletrabajo<br>9 inscritos a esta oferta<br>Nuestro consejo: inscríbete si tienes el perfil, puede que se ajuste más que el de otros inscritos.<br>Denunciar oferta<br>Los datos bancarios, de pago y datos personales (DNI, foto) nunca deben proporcionarse al solicitar un empleo. Consulta nuestros consejos para una búsqueda de empleo segura."
        ],
        [
         "4",
         "data_analyst",
         "infojobs",
         "Programa recién graduados Heineken, Analista Trade Marketing",
         "ManpowerGroup Solutions",
         "Publicada hace 1d",
         null,
         null,
         "https://www.infojobs.net/madrid/programa-recien-graduados-heineken-analista-trade-marketing/of-ibc01f772b0477fa52bb79017b9377e?applicationOrigin=search-new%7Celement%7E54050903436&searchId=54050903436&page=4&sortBy=RELEVANCE",
         "Requisitos\nEstudios mínimos\nGrado - Grado en Marketing e Investigación de Mercados\nExperiencia mínima\nAl menos 1 año\nRequisitos mínimos\n¿QUÉ TE HARÁ PETARLO?\n- Ser una persona proactiva y dinámica.\n- Desbordar ganas de aprender y comerte el mundo.\n- Tener nivel alto de inglés y formación universitaria finalizada en ADE, Marketing, o similar.\n- Tener conocimientos en herramientas de análisis: Excel, PowerPoint y plataformas como Nielsen, Kantar, Focus.\n- Capacidad analítica: habilidad para analizar datos, seguir KPIs y detectar oportunidades de negocio.\n- Organización y gestión de proyectos: capacidad para gestionar múltiples tareas y coordinar proyectos de manera eficiente.\nDescripción\nDesde Manpower Talent Solutions estamos colaborando en la selección de los participantes en el GRADUATE PROGRAM HEINEKEN SPAIN. En este programa tendrás la oportunidad de desarrollarte en una compañía líder de Gran Consumo, ¿QUIERES SABER MÁS? ¡SIGUE LEYENDO!\nLa misión principal será la de dar apoyo en el desarrollo y ejecución de la estrategia del canal de alimentación, para impulsar planes ganadores de las marcas en los clientes, identificando oportunidades de negocio a través de las palancas de trade marketing. Las principales funciones serían:\n- Análisis y seguimiento de los KPIs de trade marketing mediante la elaboración de reportes periódicos: seguimiento promocional, de marcas y clientes.\n- Ayuda en la gestión administrativa de proyectos transversales clave para el canal de alimentación: innovaroom, plan de frío, sampling y eventos.\n- Apoyo a los ejecutivos de trade marketing en la gestión de planes multimarca y multicliente.\n- Soporte administrativo para la gestión de los materiales de publicidad en el punto de venta.\n- Colaboración con agencias y partners externos para la gestión de proyectos.\n- Gestión de diversas herramientas de información y análisis como: Nielsen, Kantar, Focus, SAP, Salesforce, Excel y Powerpoint.\nSi estás buscando una compañía líder en la que desarrollarte, aprender, aportar y divertirte, ESTÁS BUSCANDO EL GRADUATE PROGRAM DE HEINEKEN.\n¿EN QUÉ CONSISTE?\n- Experiencia de aprendizaje remunerada de un año de duración : entorno profesional real en una compañía líder, internacional y cuyo propósito es crear momentos de disfrute que nos unan para brindar por un mundo mejor.\n- Graduates Community y experiencias de desarrollo: compartirás tu experiencia con otros graduates para aprender juntos, pasarlo bien y participar en experiencias comunes desde el inicio del programa.\n- Formación: podrás elegir entre uno de los másteres que ofrecemos en colaboración con The Power MBA para completar tu formación online con nosotros. El ritmo lo llevas tú: ¡Sin horarios ni exámenes!\n- Flexibilidad: Nos preocupamos por el bienestar de nuestra gente. Por eso, sabemos compaginar nuestro trabajo con la vida personal, y somos flexibles. En nuestras oficinas (siempre que el puesto lo permite) contamos con 64 horas de flexibilidad al mes, además de la posibilidad de quedarte en casa a tiempo completo en Navidad, Semana Santa y los meses de julio y agosto.\n- Acompañamiento: tendrás un manager/tutor que vivirá contigo cada día de tu paso por Heineken y te acompaña en tu crecimiento profesional y personal.\n¿QUIÉN ES HEINEKEN?\n¡Es una de las 10 empresas más atractivas para el talento en España! Así lo reconoce Merco en la última edición de MercoTalentoEspaña22. Además, es la primera compañía más atractiva para el talento en el ranking de empresas entre 1.001 y 3.000 empleados.\nUN POCO MÁS SOBRE HEINEKEN...\n- Cultura: Vivimos nuestros valores y nos esforzamos por ser coherentes siempre. Este año en la encuesta de clima, el 93% de nuestras personas dicen sentirse orgullosas de trabajar en Heineken.\n- Diversidad e inclusión: Trabajamos para que todas las personas de nuestra compañía se sientan libres para ser como son y aportar todo su valor.\n- Decididamente verdes: Impulsamos la innovación para elaborar cervezas con energías renovables, cero residuos y que retornan a sus cuencas el agua que nos presta\n- Entorno Global: Formarás parte de una gran compañía global, podrás participar en proyectos internacionales y trabajar con compañeros y compañeras de todo el mundo\n- Eventos: Tendrás la posibilidad asistir a eventos espectaculares que patrocinamos: grandes festivales, eventos de motor y espectáculos que tendrás la oportunidad de disfrutar\n- Safety always: Nos sentimos muy orgullosos de nuestra cultura de seguridad\nTipo de industria de la oferta\nGran consumo y alimentación\nCategoría\nOtros - Sin especificar\nNúmero de vacantes\n1\nSalario\nSalario no disponible\n36 inscritos a esta oferta\nNuestro consejo: inscríbete si tienes el perfil, puede que se ajuste más que el de otros inscritos.\nDenunciar oferta\nLos datos bancarios, de pago y datos personales (DNI, foto) nunca deben proporcionarse al solicitar un empleo. Consulta nuestros consejos para una búsqueda de empleo segura.",
         "<br><h3>Requisitos</h3><br><h4>Estudios mínimos</h4><br>Grado - Grado en Marketing e Investigación de Mercados<br><h4>Experiencia mínima</h4><br>Al menos 1 año<br><br><h3><br><h3>Requisitos</h3> mínimos</h3><br>¿QUÉ TE HARÁ PETARLO?<br>- Ser una persona proactiva y dinámica.<br>- Desbordar ganas de aprender y comerte el mundo.<br>- Tener nivel alto de inglés y formación universitaria finalizada en ADE, Marketing, o similar.<br>- Tener conocimientos en herramientas de análisis: Excel, PowerPoint y plataformas como Nielsen, Kantar, Focus.<br>- Capacidad analítica: habilidad para analizar datos, seguir KPIs y detectar oportunidades de negocio.<br>- Organización y gestión de proyectos: capacidad para gestionar múltiples tareas y coordinar proyectos de manera eficiente.<br><br><h3>Descripción</h3><br>Desde Manpower Talent Solutions estamos colaborando en la selección de los participantes en el GRADUATE PROGRAM HEINEKEN SPAIN. En este programa tendrás la oportunidad de desarrollarte en una compañía líder de Gran Consumo, ¿QUIERES SABER MÁS? ¡SIGUE LEYENDO!<br>La misión principal será la de dar apoyo en el desarrollo y ejecución de la estrategia del canal de alimentación, para impulsar planes ganadores de las marcas en los clientes, identificando oportunidades de negocio a través de las palancas de trade marketing. Las principales funciones serían:<br>- Análisis y seguimiento de los KPIs de trade marketing mediante la elaboración de reportes periódicos: seguimiento promocional, de marcas y clientes.<br>- Ayuda en la gestión administrativa de proyectos transversales clave para el canal de alimentación: innovaroom, plan de frío, sampling y eventos.<br>- Apoyo a los ejecutivos de trade marketing en la gestión de planes multimarca y multicliente.<br>- Soporte administrativo para la gestión de los materiales de publicidad en el punto de venta.<br>- Colaboración con agencias y partners externos para la gestión de proyectos.<br>- Gestión de diversas herramientas de información y análisis como: Nielsen, Kantar, Focus, SAP, Salesforce, Excel y Powerpoint.<br>Si estás buscando una compañía líder en la que desarrollarte, aprender, aportar y divertirte, ESTÁS BUSCANDO EL GRADUATE PROGRAM DE HEINEKEN.<br>¿EN QUÉ CONSISTE?<br>- Experiencia de aprendizaje remunerada de un año de duración : entorno profesional real en una compañía líder, internacional y cuyo propósito es crear momentos de disfrute que nos unan para brindar por un mundo mejor.<br>- Graduates Community y experiencias de desarrollo: compartirás tu experiencia con otros graduates para aprender juntos, pasarlo bien y participar en experiencias comunes desde el inicio del programa.<br>- Formación: podrás elegir entre uno de los másteres que ofrecemos en colaboración con The Power MBA para completar tu formación online con nosotros. El ritmo lo llevas tú: ¡Sin horarios ni exámenes!<br>- Flexibilidad: Nos preocupamos por el bienestar de nuestra gente. Por eso, sabemos compaginar nuestro trabajo con la vida personal, y somos flexibles. En nuestras oficinas (siempre que el puesto lo permite) contamos con 64 horas de flexibilidad al mes, además de la posibilidad de quedarte en casa a tiempo completo en Navidad, Semana Santa y los meses de julio y agosto.<br>- Acompañamiento: tendrás un manager/tutor que vivirá contigo cada día de tu paso por Heineken y te acompaña en tu crecimiento profesional y personal.<br>¿QUIÉN ES HEINEKEN?<br>¡Es una de las 10 empresas más atractivas para el talento en España! Así lo reconoce Merco en la última edición de MercoTalentoEspaña22. Además, es la primera compañía más atractiva para el talento en el ranking de empresas entre 1.001 y 3.000 empleados.<br>UN POCO MÁS SOBRE HEINEKEN...<br>- Cultura: Vivimos nuestros valores y nos esforzamos por ser coherentes siempre. Este año en la encuesta de clima, el 93% de nuestras personas dicen sentirse orgullosas de trabajar en Heineken.<br>- Diversidad e inclusión: Trabajamos para que todas las personas de nuestra compañía se sientan libres para ser como son y aportar todo su valor.<br>- Decididamente verdes: Impulsamos la innovación para elaborar cervezas con energías renovables, cero residuos y que retornan a sus cuencas el agua que nos presta<br>- Entorno Global: Formarás parte de una gran compañía global, podrás participar en proyectos internacionales y trabajar con compañeros y compañeras de todo el mundo<br>- Eventos: Tendrás la posibilidad asistir a eventos espectaculares que patrocinamos: grandes festivales, eventos de motor y espectáculos que tendrás la oportunidad de disfrutar<br>- Safety always: Nos sentimos muy orgullosos de nuestra cultura de seguridad<br>Tipo de industria de la oferta<br>Gran consumo y alimentación<br>Categoría<br>Otros - Sin especificar<br>Número de vacantes<br>1<br>Salario<br>Salario no disponible<br>36 inscritos a esta oferta<br>Nuestro consejo: inscríbete si tienes el perfil, puede que se ajuste más que el de otros inscritos.<br>Denunciar oferta<br>Los datos bancarios, de pago y datos personales (DNI, foto) nunca deben proporcionarse al solicitar un empleo. Consulta nuestros consejos para una búsqueda de empleo segura."
        ]
       ],
       "shape": {
        "columns": 10,
        "rows": 5
       }
      },
      "text/html": [
       "<div>\n",
       "<style scoped>\n",
       "    .dataframe tbody tr th:only-of-type {\n",
       "        vertical-align: middle;\n",
       "    }\n",
       "\n",
       "    .dataframe tbody tr th {\n",
       "        vertical-align: top;\n",
       "    }\n",
       "\n",
       "    .dataframe thead th {\n",
       "        text-align: right;\n",
       "    }\n",
       "</style>\n",
       "<table border=\"1\" class=\"dataframe\">\n",
       "  <thead>\n",
       "    <tr style=\"text-align: right;\">\n",
       "      <th></th>\n",
       "      <th>empleo</th>\n",
       "      <th>plataforma</th>\n",
       "      <th>titulo_oferta</th>\n",
       "      <th>empresa</th>\n",
       "      <th>fecha_publicacion</th>\n",
       "      <th>min_salario</th>\n",
       "      <th>max_salario</th>\n",
       "      <th>url_oferta</th>\n",
       "      <th>descripcion</th>\n",
       "      <th>descripcion_original</th>\n",
       "    </tr>\n",
       "  </thead>\n",
       "  <tbody>\n",
       "    <tr>\n",
       "      <th>0</th>\n",
       "      <td>data_analyst</td>\n",
       "      <td>infojobs</td>\n",
       "      <td>Analista de crédito (inglés alto)</td>\n",
       "      <td>CGI</td>\n",
       "      <td>Publicada hace 4d (Publicada de nuevo)</td>\n",
       "      <td>NaN</td>\n",
       "      <td>NaN</td>\n",
       "      <td>https://www.infojobs.net/madrid/analista-credi...</td>\n",
       "      <td>Requisitos\\nEstudios mínimos\\nCiclo Formativo ...</td>\n",
       "      <td>&lt;br&gt;&lt;h3&gt;Requisitos&lt;/h3&gt;&lt;br&gt;&lt;h4&gt;Estudios mínimo...</td>\n",
       "    </tr>\n",
       "    <tr>\n",
       "      <th>1</th>\n",
       "      <td>data_analyst</td>\n",
       "      <td>infojobs</td>\n",
       "      <td>Analista Programador/a ETL (Teletrabajo)</td>\n",
       "      <td>World Software Services</td>\n",
       "      <td>Publicada hace 5d (Publicada de nuevo)</td>\n",
       "      <td>NaN</td>\n",
       "      <td>NaN</td>\n",
       "      <td>https://www.infojobs.net/madrid/analista-progr...</td>\n",
       "      <td>Requisitos\\nEstudios mínimos\\nCiclo Formativo ...</td>\n",
       "      <td>&lt;br&gt;&lt;h3&gt;Requisitos&lt;/h3&gt;&lt;br&gt;&lt;h4&gt;Estudios mínimo...</td>\n",
       "    </tr>\n",
       "    <tr>\n",
       "      <th>2</th>\n",
       "      <td>data_analyst</td>\n",
       "      <td>infojobs</td>\n",
       "      <td>Analista Financier/a</td>\n",
       "      <td>Empresa sector servicios</td>\n",
       "      <td>Publicada hace 2d (Publicada de nuevo)</td>\n",
       "      <td>NaN</td>\n",
       "      <td>NaN</td>\n",
       "      <td>https://www.infojobs.net/pozuelo-de-alarcon/an...</td>\n",
       "      <td>Requisitos\\nEstudios mínimos\\nGrado - Grado en...</td>\n",
       "      <td>&lt;br&gt;&lt;h3&gt;Requisitos&lt;/h3&gt;&lt;br&gt;&lt;h4&gt;Estudios mínimo...</td>\n",
       "    </tr>\n",
       "    <tr>\n",
       "      <th>3</th>\n",
       "      <td>data_analyst</td>\n",
       "      <td>infojobs</td>\n",
       "      <td>Analista programador/a Cobol (100% teletrabajo...</td>\n",
       "      <td>Mensoft Consultores, S.L</td>\n",
       "      <td>Publicada hace 1d (Publicada de nuevo)</td>\n",
       "      <td>NaN</td>\n",
       "      <td>NaN</td>\n",
       "      <td>https://www.infojobs.net/madrid/analista-progr...</td>\n",
       "      <td>Requisitos\\nEstudios mínimos\\nCiclo Formativo ...</td>\n",
       "      <td>&lt;br&gt;&lt;h3&gt;Requisitos&lt;/h3&gt;&lt;br&gt;&lt;h4&gt;Estudios mínimo...</td>\n",
       "    </tr>\n",
       "    <tr>\n",
       "      <th>4</th>\n",
       "      <td>data_analyst</td>\n",
       "      <td>infojobs</td>\n",
       "      <td>Programa recién graduados Heineken, Analista T...</td>\n",
       "      <td>ManpowerGroup Solutions</td>\n",
       "      <td>Publicada hace 1d</td>\n",
       "      <td>NaN</td>\n",
       "      <td>NaN</td>\n",
       "      <td>https://www.infojobs.net/madrid/programa-recie...</td>\n",
       "      <td>Requisitos\\nEstudios mínimos\\nGrado - Grado en...</td>\n",
       "      <td>&lt;br&gt;&lt;h3&gt;Requisitos&lt;/h3&gt;&lt;br&gt;&lt;h4&gt;Estudios mínimo...</td>\n",
       "    </tr>\n",
       "  </tbody>\n",
       "</table>\n",
       "</div>"
      ],
      "text/plain": [
       "         empleo plataforma                                      titulo_oferta  \\\n",
       "0  data_analyst   infojobs                  Analista de crédito (inglés alto)   \n",
       "1  data_analyst   infojobs           Analista Programador/a ETL (Teletrabajo)   \n",
       "2  data_analyst   infojobs                               Analista Financier/a   \n",
       "3  data_analyst   infojobs  Analista programador/a Cobol (100% teletrabajo...   \n",
       "4  data_analyst   infojobs  Programa recién graduados Heineken, Analista T...   \n",
       "\n",
       "                    empresa                       fecha_publicacion  \\\n",
       "0                       CGI  Publicada hace 4d (Publicada de nuevo)   \n",
       "1   World Software Services  Publicada hace 5d (Publicada de nuevo)   \n",
       "2  Empresa sector servicios  Publicada hace 2d (Publicada de nuevo)   \n",
       "3  Mensoft Consultores, S.L  Publicada hace 1d (Publicada de nuevo)   \n",
       "4   ManpowerGroup Solutions                       Publicada hace 1d   \n",
       "\n",
       "  min_salario max_salario                                         url_oferta  \\\n",
       "0         NaN         NaN  https://www.infojobs.net/madrid/analista-credi...   \n",
       "1         NaN         NaN  https://www.infojobs.net/madrid/analista-progr...   \n",
       "2         NaN         NaN  https://www.infojobs.net/pozuelo-de-alarcon/an...   \n",
       "3         NaN         NaN  https://www.infojobs.net/madrid/analista-progr...   \n",
       "4         NaN         NaN  https://www.infojobs.net/madrid/programa-recie...   \n",
       "\n",
       "                                         descripcion  \\\n",
       "0  Requisitos\\nEstudios mínimos\\nCiclo Formativo ...   \n",
       "1  Requisitos\\nEstudios mínimos\\nCiclo Formativo ...   \n",
       "2  Requisitos\\nEstudios mínimos\\nGrado - Grado en...   \n",
       "3  Requisitos\\nEstudios mínimos\\nCiclo Formativo ...   \n",
       "4  Requisitos\\nEstudios mínimos\\nGrado - Grado en...   \n",
       "\n",
       "                                descripcion_original  \n",
       "0  <br><h3>Requisitos</h3><br><h4>Estudios mínimo...  \n",
       "1  <br><h3>Requisitos</h3><br><h4>Estudios mínimo...  \n",
       "2  <br><h3>Requisitos</h3><br><h4>Estudios mínimo...  \n",
       "3  <br><h3>Requisitos</h3><br><h4>Estudios mínimo...  \n",
       "4  <br><h3>Requisitos</h3><br><h4>Estudios mínimo...  "
      ]
     },
     "metadata": {},
     "output_type": "display_data"
    },
    {
     "name": "stdout",
     "output_type": "stream",
     "text": [
      "El porcentaje de ofertas con salario para data_analyst es: 38.79%\n",
      "\n"
     ]
    },
    {
     "data": {
      "application/vnd.microsoft.datawrangler.viewer.v0+json": {
       "columns": [
        {
         "name": "index",
         "rawType": "int64",
         "type": "integer"
        },
        {
         "name": "empleo",
         "rawType": "object",
         "type": "string"
        },
        {
         "name": "plataforma",
         "rawType": "object",
         "type": "string"
        },
        {
         "name": "titulo_oferta",
         "rawType": "object",
         "type": "string"
        },
        {
         "name": "empresa",
         "rawType": "object",
         "type": "string"
        },
        {
         "name": "fecha_publicacion",
         "rawType": "object",
         "type": "string"
        },
        {
         "name": "min_salario",
         "rawType": "object",
         "type": "unknown"
        },
        {
         "name": "max_salario",
         "rawType": "object",
         "type": "unknown"
        },
        {
         "name": "url_oferta",
         "rawType": "object",
         "type": "string"
        },
        {
         "name": "descripcion",
         "rawType": "object",
         "type": "string"
        },
        {
         "name": "descripcion_original",
         "rawType": "object",
         "type": "string"
        }
       ],
       "conversionMethod": "pd.DataFrame",
       "ref": "911bb8cb-02b9-44e5-80ea-6becd595f379",
       "rows": [
        [
         "0",
         "data_engineer",
         "infojobs",
         "System Development Engineer, Reliability and Automation Engineering",
         "Amazon Europe Core",
         "Publicada hace 2d (Publicada de nuevo)",
         null,
         null,
         "https://www.infojobs.net/madrid/system-development-engineer-reliability-and-automation-engineering/of-i63f04d87dd4e968df30a289e72400d?applicationOrigin=search-new%7Celement%7E54064376822&searchId=54064376822&page=1&sortBy=RELEVANCE",
         "Requisitos\nEstudios mínimos\nGrado\nExperiencia mínima\nAl menos 1 año\nRequisitos mínimos\nBASIC QUALIFICATIONS - Computer Science, Automation Engineering or equivalent degree\n- Professional software development experience\n- Deesign or architecture (design patterns, reliability and scaling) of new and existing systems experience\n- Experience programming with at least one software programming language\n- Strong problem solving and coding skills\nPREFERRED QUALIFICATIONS - Experience with a Scripting language (Bash, PowerShell, Python, JavaScript, TypeScript)\n- Experience with a Object Oriented programming language (Java, C#, C++)\n- Experience with a SQL database (MySQL, MSSQL, PostgreSQL)\n- Experience with AWS (S3, Lambda, RDS, System Manager, API Gateway, AppSync, DynamoDB, CloudWatch, EC2, IAM)\n- .NET and Windows development knowledge\n- Experience with infrastructure as code (AWS CDK, TerraForm)\n- Experience with programming PLCs (Siemens, Rockwell, Mitsubishi, OMRON)\n- Knowledge of PLC communication protocols (ProfiNet, Step7)\n- Ability to take a project from scoping requirements through actual launch of the project.\nAmazon is an equal opportunities employer. We believe passionately that employing a diverse workforce is central to our success. We make recruiting decisions based on your experience and skills. We value your passion to discover, invent, simplify and build. Protecting your privacy and the security of your data is a longstanding top priority for Amazon.\nDescripción\nAmazon is seeking a Systems Development Engineer to join our Global RME (Reliability and Maintenance Engineering) Central Team's, Reliability and Automation Engineering department. In this role, you will be at the forefront of developing and maintaining critical software solutions.\n\nYou will work on developing and maintaining internal software tools that directly interact with industrial equipment. These tools are crucial for equipment monitoring, control, data collection, and implementing predictive maintenance strategies. Our internal tools and platforms are used daily by field maintenance teams, reliability engineers, and leadership across Amazon's global fulfillment network. These solutions enable data-driven decision making, provide real-time visibility into equipment performance, and help optimize maintenance operations at scale.\n\nOur ideal candidate is highly autonomous, possesses strong written and verbal communication skills, strong task and time management skills and has a successful track record of designing and delivering simple, scalable software solutions in an agile development environment. The desire and ability to work in a fast paced, collaborative environment is essential.\n\nThe ideal candidate -\n- Has experience developing software that interfaces with industrial automation systems and PLCs\n- Is passionate about building secure, scalable, and user-friendly internal tools\n- Can architect cloud-native solutions that meet enterprise security requirements\n- Has strong experience with AWS services and cloud architecture\n- Demonstrates ability to understand and improve operational processes\n- Can collaborate effectively with field teams, leadership, and other stakeholders in a highly agile and fast paced environment\n- Is excited by solving problems at scale\n- Talks to customers and design solutions to their problems. You automate and innovate.\n- Understands the needs of Operations organizations and you aim to reduce operational burden.\nReferencia\n242964\nCategoría\nInformática y telecomunicaciones - Programación\nNivel\nEmpleado/a\nNúmero de vacantes\n1\nSalario\nSalario no disponible\nNo disponemos de información del número de inscritos. Este proceso se gestiona desde la web de la empresa (fuera de InfoJobs).\nDenunciar oferta\nLos datos bancarios, de pago y datos personales (DNI, foto) nunca deben proporcionarse al solicitar un empleo. Consulta nuestros consejos para una búsqueda de empleo segura.",
         "<br><h3>Requisitos</h3><br><h4>Estudios mínimos</h4><br>Grado<br><h4>Experiencia mínima</h4><br>Al menos 1 año<br><br><h3><br><h3>Requisitos</h3> mínimos</h3><br><strong>BASIC QUALIFICATIONS</strong><br> - Computer Science, Automation Engineering or equivalent degree<br>- Professional software development experience<br>- Deesign or architecture (design patterns, reliability and scaling) of new and existing systems experience<br>- Experience programming with at least one software programming language<br>- Strong problem solving and coding skills<br><strong>PREFERRED QUALIFICATIONS</strong><br> - Experience with a Scripting language (Bash, PowerShell, Python, JavaScript, TypeScript)<br>- Experience with a Object Oriented programming language (Java, C#, C++)<br>- Experience with a SQL database (MySQL, MSSQL, PostgreSQL)<br>- Experience with AWS (S3, Lambda, RDS, System Manager, API Gateway, AppSync, DynamoDB, CloudWatch, EC2, IAM)<br>- .NET and Windows development knowledge<br>- Experience with infrastructure as code (AWS CDK, TerraForm)<br>- Experience with programming PLCs (Siemens, Rockwell, Mitsubishi, OMRON)<br>- Knowledge of PLC communication protocols (ProfiNet, Step7)<br>- Ability to take a project from scoping requirements through actual launch of the project.<br>Amazon is an equal opportunities employer. We believe passionately that employing a diverse workforce is central to our success. We make recruiting decisions based on your experience and skills. We value your passion to discover, invent, simplify and build. Protecting your privacy and the security of your data is a longstanding top priority for Amazon.<br><br><h3>Descripción</h3><br>Amazon is seeking a Systems Development Engineer to join our Global RME (Reliability and Maintenance Engineering) Central Team's, Reliability and Automation Engineering department. In this role, you will be at the forefront of developing and maintaining critical software solutions.<br><br>You will work on developing and maintaining internal software tools that directly interact with industrial equipment. These tools are crucial for equipment monitoring, control, data collection, and implementing predictive maintenance strategies. Our internal tools and platforms are used daily by field maintenance teams, reliability engineers, and leadership across Amazon's global fulfillment network. These solutions enable data-driven decision making, provide real-time visibility into equipment performance, and help optimize maintenance operations at scale.<br><br>Our ideal candidate is highly autonomous, possesses strong written and verbal communication skills, strong task and time management skills and has a successful track record of designing and delivering simple, scalable software solutions in an agile development environment. The desire and ability to work in a fast paced, collaborative environment is essential.<br><br>The ideal candidate -<br>- Has experience developing software that interfaces with industrial automation systems and PLCs<br>- Is passionate about building secure, scalable, and user-friendly internal tools<br>- Can architect cloud-native solutions that meet enterprise security requirements<br>- Has strong experience with AWS services and cloud architecture<br>- Demonstrates ability to understand and improve operational processes<br>- Can collaborate effectively with field teams, leadership, and other stakeholders in a highly agile and fast paced environment<br>- Is excited by solving problems at scale<br>- Talks to customers and design solutions to their problems. You automate and innovate.<br>- Understands the needs of Operations organizations and you aim to reduce operational burden.<br>Referencia<br>242964<br>Categoría<br>Informática y telecomunicaciones - Programación<br>Nivel<br>Empleado/a<br>Número de vacantes<br>1<br>Salario<br>Salario no disponible<br>No disponemos de información del número de inscritos. Este proceso se gestiona desde la web de la empresa (fuera de InfoJobs).<br>Denunciar oferta<br>Los datos bancarios, de pago y datos personales (DNI, foto) nunca deben proporcionarse al solicitar un empleo. Consulta nuestros consejos para una búsqueda de empleo segura."
        ],
        [
         "1",
         "data_engineer",
         "infojobs",
         "Database Engineer",
         "Deutsche Pfandbriefbank AG",
         "Publicada hace 1d (Publicada de nuevo)",
         "45.000€",
         "60.000€",
         "https://www.infojobs.net/madrid/database-engineer/of-i940a39a5684d4d991088847422fdfb?applicationOrigin=search-new%7Celement%7E54064376822&searchId=54064376822&page=1&sortBy=RELEVANCE",
         "Requisitos\nEstudios mínimos\nMáster\nExperiencia mínima\nAl menos 2 años\nRequisitos mínimos\nYour skills consist of\n-Degree in IT or equivalent training; open to lateral entrants with relevant expertise\n-Proven experience with Microsoft SQL servers, databases, and current Microsoft infrastructures\n-Skilled in SQL Server tools, Transact-SQL, and PowerShell\n-Proficient in high availability solutions and Oracle (11g, 12c, 18c, 19c), Linux, RMAN, Dataguard, and ASM\n-Strong team player with a customer-oriented approach, organizational skills, and documentation awareness\n-Independent, solution-oriented worker willing to participate in stand-by rotation\n-Very good command of English Language\nWhat else are we looking for? We look forward to team players with strong communication skills who tackle life with an open attitude and look forward to further developing with us.\nWe offer an environment in which performance is seen and rewarded, family and free time are not neglected and real teamwork is valued.\nWe are now looking forward to your application. As soon as we have received your documents, we will contact you to discuss the next steps.\nDescripción\nTeam players wanted: The pbb Deutsche Pfandbriefbank is a leading specialist bank for financing investments in commercial real estate and public infrastructure in Europe and the USA. We have more than 800 colleagues from 31 different nations who as a whole make an important contribution to society: They structure loans - even across national borders and help the real estate industry in becoming greener and more sustainable.\n\nWould you like to be part of it? To develop your individual potential? Then you are right with us. Our corporate culture is based on trust, solidarity and expertise. We offer personal responsibility, freedom, flexible working hours, an open and modern working environment as well as an appreciative corporate culture.\n\nFor our Business Area Information Technology in Madrid , we are searching for an employee with immediate effect as\nDatabase Engineer (m/f/d) Your tasks consist of\n\n-Perform regular health checks, maintenance tasks, and data analysis for high-performance databases\n-Implement and manage backup, recovery, and disaster recovery strategies\n-Optimize SQL queries and database structures for enhanced performance\n-Set up and maintain Oracle and MSSQL database installations, including migrations\n-Ensure comprehensive database security, monitoring, and capacity management\n-Automate tasks and execute performance tuning for optimal database operations\nReferencia\n240631\nCategoría\nInformática y telecomunicaciones - Administración de bases de datos\nNivel\nMando intermedio\nNúmero de vacantes\n1\nSalario\nSalario: 45.000€ - 60.000€ Bruto/mes\nNo disponemos de información del número de inscritos. Este proceso se gestiona desde la web de la empresa (fuera de InfoJobs).\nDenunciar oferta\nLos datos bancarios, de pago y datos personales (DNI, foto) nunca deben proporcionarse al solicitar un empleo. Consulta nuestros consejos para una búsqueda de empleo segura.",
         "<br><h3>Requisitos</h3><br><h4>Estudios mínimos</h4><br>Máster<br><h4>Experiencia mínima</h4><br>Al menos 2 años<br><br><h3><br><h3>Requisitos</h3> mínimos</h3><br>Your skills consist of<br>-Degree in IT or equivalent training; open to lateral entrants with relevant expertise<br>-Proven experience with Microsoft SQL servers, databases, and current Microsoft infrastructures<br>-Skilled in SQL Server tools, Transact-SQL, and PowerShell<br>-Proficient in high availability solutions and Oracle (11g, 12c, 18c, 19c), Linux, RMAN, Dataguard, and ASM<br>-Strong team player with a customer-oriented approach, organizational skills, and documentation awareness<br>-Independent, solution-oriented worker willing to participate in stand-by rotation<br>-Very good command of English Language<br>What else are we looking for? We look forward to team players with strong communication skills who tackle life with an open attitude and look forward to further developing with us.<br>We offer an environment in which performance is seen and rewarded, family and free time are not neglected and real teamwork is valued.<br>We are now looking forward to your application. As soon as we have received your documents, we will contact you to discuss the next steps.<br><br><h3>Descripción</h3><br>Team players wanted: The pbb Deutsche Pfandbriefbank is a leading specialist bank for financing investments in commercial real estate and public infrastructure in Europe and the USA. We have more than 800 colleagues from 31 different nations who as a whole make an important contribution to society: They structure loans - even across national borders and help the real estate industry in becoming greener and more sustainable.<br><br>Would you like to be part of it? To develop your individual potential? Then you are right with us. Our corporate culture is based on trust, solidarity and expertise. We offer personal responsibility, freedom, flexible working hours, an open and modern working environment as well as an appreciative corporate culture.<br><br>For our Business Area Information Technology in Madrid , we are searching for an employee with immediate effect as<br>Database Engineer (m/f/d) Your tasks consist of<br><br>-Perform regular health checks, maintenance tasks, and data analysis for high-performance databases<br>-Implement and manage backup, recovery, and disaster recovery strategies<br>-Optimize SQL queries and database structures for enhanced performance<br>-Set up and maintain Oracle and MSSQL database installations, including migrations<br>-Ensure comprehensive database security, monitoring, and capacity management<br>-Automate tasks and execute performance tuning for optimal database operations<br>Referencia<br>240631<br>Categoría<br>Informática y telecomunicaciones - Administración de bases de datos<br>Nivel<br>Mando intermedio<br>Número de vacantes<br>1<br>Salario<br>Salario: 45.000€ - 60.000€ Bruto/mes<br>No disponemos de información del número de inscritos. Este proceso se gestiona desde la web de la empresa (fuera de InfoJobs).<br>Denunciar oferta<br>Los datos bancarios, de pago y datos personales (DNI, foto) nunca deben proporcionarse al solicitar un empleo. Consulta nuestros consejos para una búsqueda de empleo segura."
        ],
        [
         "2",
         "data_engineer",
         "infojobs",
         "Data engineer(Spark+Python)-Madrid",
         "Luca TIC",
         "Publicada hace 1d",
         null,
         null,
         "https://www.infojobs.net/madrid/data-engineer-spark-python-madrid/of-i653c5676894d828849c2e3f66ea371?applicationOrigin=search-new%7Celement%7E54064376822&searchId=54064376822&page=1&sortBy=RELEVANCE",
         "Requisitos\nEstudios mínimos\nCiclo Formativo Grado Superior\nExperiencia mínima\nAl menos 1 año\nConocimientos necesarios\nPython\nBanca\nInversiones\nBanca privada\nETL\nSector banca\nspark\nPostgreSQL\nSQL\nhibrido\nDescripción\nDesde Luca TIC buscamos un Data engineer para un proyecto del sector bancario.\nRequisitos :\n-Experiencia en el desarrollo de pipelines ETL con Apache Spark y Python.\n-Conocimiento práctico de servicios AWS como S3, RDS (PostgreSQL) e IAM, AWS Glue, Amazon EMR y Lambda.\n-Sólidas habilidades en SQL.\n-Familiaridad con sistemas de control de versiones y flujos de CI/CD.\n-Experiencia con procesamiento de datos en tiempo real (deseable).\nCertificación AWS en relación con datos o arquitecturas cloud (deseable).\nConocimiento de conceptos de inversiones y modelos de datos de banca privada (deseable).\nBuen nivel de inglés B2 (deseable).\n¿Qué ofrecemos?:\n-Contrato indefinido.\n-Modalidad hibrida (4 oficina + 1 casa)+ teletrabajo meses verano y navidad.\n-Seguro médico.\n-Formar parte de un ambiente innovador en constante crecimiento donde desarrollar tu carrera profesional.\nTipo de industria de la oferta\nServicios y tecnología de la información\nCategoría\nInformática y telecomunicaciones - Telecomunicaciones\nNivel\nEmpleado/a\nNúmero de vacantes\n1\nSalario\nSalario no disponible\nBeneficios sociales\nTeletrabajo\nSeguro médico\n10 inscritos a esta oferta\nNuestro consejo: inscríbete si tienes el perfil, puede que se ajuste más que el de otros inscritos.\nDenunciar oferta\nLos datos bancarios, de pago y datos personales (DNI, foto) nunca deben proporcionarse al solicitar un empleo. Consulta nuestros consejos para una búsqueda de empleo segura.",
         "<br><h3>Requisitos</h3><br><h4>Estudios mínimos</h4><br>Ciclo Formativo Grado Superior<br><h4>Experiencia mínima</h4><br>Al menos 1 año<br>Conocimientos necesarios<br>Python<br>Banca<br>Inversiones<br>Banca privada<br>ETL<br>Sector banca<br>spark<br>PostgreSQL<br>SQL<br>hibrido<br><br><h3>Descripción</h3><br>Desde Luca TIC buscamos un Data engineer para un proyecto del sector bancario.<br><br><h3>Requisitos</h3> :<br>-Experiencia en el desarrollo de pipelines ETL con Apache Spark y Python.<br>-Conocimiento práctico de servicios AWS como S3, RDS (PostgreSQL) e IAM, AWS Glue, Amazon EMR y Lambda.<br>-Sólidas habilidades en SQL.<br>-Familiaridad con sistemas de control de versiones y flujos de CI/CD.<br>-Experiencia con procesamiento de datos en tiempo real (deseable).<br>Certificación AWS en relación con datos o arquitecturas cloud (deseable).<br>Conocimiento de conceptos de inversiones y modelos de datos de banca privada (deseable).<br>Buen nivel de inglés B2 (deseable).<br>¿Qué ofrecemos?:<br>-Contrato indefinido.<br>-Modalidad hibrida (4 oficina + 1 casa)+ teletrabajo meses verano y navidad.<br>-Seguro médico.<br>-Formar parte de un ambiente innovador en constante crecimiento donde desarrollar tu carrera profesional.<br>Tipo de industria de la oferta<br>Servicios y tecnología de la información<br>Categoría<br>Informática y telecomunicaciones - Telecomunicaciones<br>Nivel<br>Empleado/a<br>Número de vacantes<br>1<br>Salario<br>Salario no disponible<br>Beneficios sociales<br>Teletrabajo<br>Seguro médico<br>10 inscritos a esta oferta<br>Nuestro consejo: inscríbete si tienes el perfil, puede que se ajuste más que el de otros inscritos.<br>Denunciar oferta<br>Los datos bancarios, de pago y datos personales (DNI, foto) nunca deben proporcionarse al solicitar un empleo. Consulta nuestros consejos para una búsqueda de empleo segura."
        ],
        [
         "3",
         "data_engineer",
         "infojobs",
         "Data Engineer | 100% remote | Freelance",
         "EKKIDEN",
         "Publicada hace 5d (Publicada de nuevo)",
         "3€",
         "4.200€",
         "https://www.infojobs.net/madrid/data-engineer-100-remote-freelance/of-i328c2399064942825bd9e8b1c21dcc?applicationOrigin=search-new%7Celement%7E54064376822&searchId=54064376822&page=1&sortBy=RELEVANCE",
         "Requisitos\nEstudios mínimos\nSin estudios\nExperiencia mínima\nAl menos 2 años\nRequisitos mínimos\nWhat we are looking for:\n-+3 years of experience in data engineering roles with expertise in Databricks, AWS Glue, or Apache Spark.\n-Strong programming skills in Python or similar languages.\n-Proficiency with SQL/NoSQL databases (MySQL, PostgreSQL, MongoDB) and data integration.\n-Experience working with ETL frameworks and building data pipelines.\n-Familiarity with Azure cloud environments and their data services (Databricks, Data Factory, etc.).\n-Knowledge of Agile/Scrum methodologies and experience with continuous delivery and deployment.\n-Demonstrated experience in greenfield development projects, driving innovative solutions from inception to completion\n-Strong problem-solving and communication skills, with the ability to collaborate across teams, including business and data analysts, to translate requirements into actionable solutions\n-High english level\nDescripción\nAbout the job :\nTo strengthen the clients experienced and motivated Data Platform team, the client is looking for a Data Engineer. In this role, you will be jointly responsible for exciting and challenging projects, participating in all phases from design to implementation. You will have the opportunity to work on cutting-edge technologies and processes while contributing to the organization's goals of data digitization and optimization.\nThey are focused on creating and maintaining scalable systems, supporting the collection, processing, and transformation of large datasets. A strong understanding of core engineering concepts, best practices such as testing, source control, and agile planning are essential, as well as an ability to take well-scoped components of larger projects and see them through to completion. This position is ideal for someone looking to grow as an engineer, mastering specific products or areas within our systems.\nData Engineer | 100% remote | Freelance\nReferencia\n240453\nCategoría\nInformática y telecomunicaciones - Sistemas\nNivel\nMando intermedio\nNúmero de vacantes\n1\nSalario\nSalario: 3€ - 4.200€ Bruto/mes\nNo disponemos de información del número de inscritos. Este proceso se gestiona desde la web de la empresa (fuera de InfoJobs).\nDenunciar oferta\nLos datos bancarios, de pago y datos personales (DNI, foto) nunca deben proporcionarse al solicitar un empleo. Consulta nuestros consejos para una búsqueda de empleo segura.",
         "<br><h3>Requisitos</h3><br><h4>Estudios mínimos</h4><br>Sin estudios<br><h4>Experiencia mínima</h4><br>Al menos 2 años<br><br><h3><br><h3>Requisitos</h3> mínimos</h3><br>What we are looking for:<br>-+3 years of experience in data engineering roles with expertise in Databricks, AWS Glue, or Apache Spark.<br>-Strong programming skills in Python or similar languages.<br>-Proficiency with SQL/NoSQL databases (MySQL, PostgreSQL, MongoDB) and data integration.<br>-Experience working with ETL frameworks and building data pipelines.<br>-Familiarity with Azure cloud environments and their data services (Databricks, Data Factory, etc.).<br>-Knowledge of Agile/Scrum methodologies and experience with continuous delivery and deployment.<br>-Demonstrated experience in greenfield development projects, driving innovative solutions from inception to completion<br>-Strong problem-solving and communication skills, with the ability to collaborate across teams, including business and data analysts, to translate requirements into actionable solutions<br>-High english level<br><br><h3>Descripción</h3><br>About the job :<br>To strengthen the clients experienced and motivated Data Platform team, the client is looking for a Data Engineer. In this role, you will be jointly responsible for exciting and challenging projects, participating in all phases from design to implementation. You will have the opportunity to work on cutting-edge technologies and processes while contributing to the organization's goals of data digitization and optimization.<br>They are focused on creating and maintaining scalable systems, supporting the collection, processing, and transformation of large datasets. A strong understanding of core engineering concepts, best practices such as testing, source control, and agile planning are essential, as well as an ability to take well-scoped components of larger projects and see them through to completion. This position is ideal for someone looking to grow as an engineer, mastering specific products or areas within our systems.<br>Data Engineer | 100% remote | Freelance<br>Referencia<br>240453<br>Categoría<br>Informática y telecomunicaciones - Sistemas<br>Nivel<br>Mando intermedio<br>Número de vacantes<br>1<br>Salario<br>Salario: 3€ - 4.200€ Bruto/mes<br>No disponemos de información del número de inscritos. Este proceso se gestiona desde la web de la empresa (fuera de InfoJobs).<br>Denunciar oferta<br>Los datos bancarios, de pago y datos personales (DNI, foto) nunca deben proporcionarse al solicitar un empleo. Consulta nuestros consejos para una búsqueda de empleo segura."
        ],
        [
         "4",
         "data_engineer",
         "infojobs",
         "Data Engineer Scala/Spark",
         "ALVEA SOLUCIONES TECNOLOGICAS, S.L.",
         "Publicada hace 3d (Publicada de nuevo)",
         null,
         null,
         "https://www.infojobs.net/madrid/data-engineer-scala-spark/of-i3dd3df5cc14dd9b3ae76a593f17316?applicationOrigin=search-new%7Celement%7E54064376822&searchId=54064376822&page=1&sortBy=RELEVANCE",
         "Requisitos\nEstudios mínimos\nEducación Secundaria Obligatoria\nExperiencia mínima\nAl menos 1 año\nImprescindible residente en\nEspaña\nConocimientos necesarios\nSCALA\nSpark\nMantenimiento\nDescripción\nData Engineer (Spark/Scala) - Alvea Soluciones Tecnológicas\nUbicación: 100% remoto\nContrato: Indefinido\nDescripción del puesto: En Alvea Soluciones Tecnológicas, estamos buscando un Data Engineer con experiencia en Scala para unirse a nuestro equipo. Esta posición está orientada a la mantenimiento y monitoreo de aplicaciones, por lo que será necesario revisar logs de procesos que corren en ADA (AWS) para garantizar el correcto funcionamiento de la infraestructura.\nResponsabilidades:\nMonitoreo y mantenimiento de la aplicación en producción.\nAnálisis y resolución de incidencias observadas en los logs de los procesos.\nSoporte durante guardias programadas para asegurar el funcionamiento continuo.\nColaboración con el equipo de desarrollo para identificar y resolver problemas.\nImplementación de mejoras en la eficiencia y estabilidad del sistema.\nRequisitos:\nExperiencia sólida en Scala.\nConocimiento de ADA (AWS) y experiencia trabajando con servicios en la nube.\nExperiencia en manejo y análisis de logs.\nCapacidad para gestionar y solucionar problemas de producción.\nDisponibilidad para realizar guardias programadas.\nOfrecemos:\nTrabajo 100% remoto, desde cualquier lugar.\nContrato indefinido.\nOportunidades de crecimiento y desarrollo profesional en un equipo dinámico.\nSi estás buscando un desafío en el mundo de los datos y tienes las habilidades necesarias, ¡queremos conocerte!\nTipo de industria de la oferta\nServicios y tecnología de la información\nCategoría\nFinanzas y banca - Productos y servicios bancarios\nNivel\nEmpleado/a\nNúmero de vacantes\n1\nSalario\nSalario no disponible\nBeneficios sociales\nTeletrabajo\n59 inscritos a esta oferta\nNuestro consejo: inscríbete si tienes el perfil, puede que se ajuste más que el de otros inscritos.\nDenunciar oferta\nLos datos bancarios, de pago y datos personales (DNI, foto) nunca deben proporcionarse al solicitar un empleo. Consulta nuestros consejos para una búsqueda de empleo segura.",
         "<br><h3>Requisitos</h3><br><h4>Estudios mínimos</h4><br>Educación Secundaria Obligatoria<br><h4>Experiencia mínima</h4><br>Al menos 1 año<br>Imprescindible residente en<br>España<br>Conocimientos necesarios<br>SCALA<br>Spark<br>Mantenimiento<br><br><h3>Descripción</h3><br>Data Engineer (Spark/Scala) - Alvea Soluciones Tecnológicas<br>Ubicación: 100% remoto<br>Contrato: Indefinido<br><br><h3>Descripción</h3> del puesto: En Alvea Soluciones Tecnológicas, estamos buscando un Data Engineer con experiencia en Scala para unirse a nuestro equipo. Esta posición está orientada a la mantenimiento y monitoreo de aplicaciones, por lo que será necesario revisar logs de procesos que corren en ADA (AWS) para garantizar el correcto funcionamiento de la infraestructura.<br>Responsabilidades:<br>Monitoreo y mantenimiento de la aplicación en producción.<br>Análisis y resolución de incidencias observadas en los logs de los procesos.<br>Soporte durante guardias programadas para asegurar el funcionamiento continuo.<br>Colaboración con el equipo de desarrollo para identificar y resolver problemas.<br>Implementación de mejoras en la eficiencia y estabilidad del sistema.<br><br><h3>Requisitos</h3>:<br>Experiencia sólida en Scala.<br>Conocimiento de ADA (AWS) y experiencia trabajando con servicios en la nube.<br>Experiencia en manejo y análisis de logs.<br>Capacidad para gestionar y solucionar problemas de producción.<br>Disponibilidad para realizar guardias programadas.<br>Ofrecemos:<br>Trabajo 100% remoto, desde cualquier lugar.<br>Contrato indefinido.<br>Oportunidades de crecimiento y desarrollo profesional en un equipo dinámico.<br>Si estás buscando un desafío en el mundo de los datos y tienes las habilidades necesarias, ¡queremos conocerte!<br>Tipo de industria de la oferta<br>Servicios y tecnología de la información<br>Categoría<br>Finanzas y banca - Productos y servicios bancarios<br>Nivel<br>Empleado/a<br>Número de vacantes<br>1<br>Salario<br>Salario no disponible<br>Beneficios sociales<br>Teletrabajo<br>59 inscritos a esta oferta<br>Nuestro consejo: inscríbete si tienes el perfil, puede que se ajuste más que el de otros inscritos.<br>Denunciar oferta<br>Los datos bancarios, de pago y datos personales (DNI, foto) nunca deben proporcionarse al solicitar un empleo. Consulta nuestros consejos para una búsqueda de empleo segura."
        ]
       ],
       "shape": {
        "columns": 10,
        "rows": 5
       }
      },
      "text/html": [
       "<div>\n",
       "<style scoped>\n",
       "    .dataframe tbody tr th:only-of-type {\n",
       "        vertical-align: middle;\n",
       "    }\n",
       "\n",
       "    .dataframe tbody tr th {\n",
       "        vertical-align: top;\n",
       "    }\n",
       "\n",
       "    .dataframe thead th {\n",
       "        text-align: right;\n",
       "    }\n",
       "</style>\n",
       "<table border=\"1\" class=\"dataframe\">\n",
       "  <thead>\n",
       "    <tr style=\"text-align: right;\">\n",
       "      <th></th>\n",
       "      <th>empleo</th>\n",
       "      <th>plataforma</th>\n",
       "      <th>titulo_oferta</th>\n",
       "      <th>empresa</th>\n",
       "      <th>fecha_publicacion</th>\n",
       "      <th>min_salario</th>\n",
       "      <th>max_salario</th>\n",
       "      <th>url_oferta</th>\n",
       "      <th>descripcion</th>\n",
       "      <th>descripcion_original</th>\n",
       "    </tr>\n",
       "  </thead>\n",
       "  <tbody>\n",
       "    <tr>\n",
       "      <th>0</th>\n",
       "      <td>data_engineer</td>\n",
       "      <td>infojobs</td>\n",
       "      <td>System Development Engineer, Reliability and A...</td>\n",
       "      <td>Amazon Europe Core</td>\n",
       "      <td>Publicada hace 2d (Publicada de nuevo)</td>\n",
       "      <td>NaN</td>\n",
       "      <td>NaN</td>\n",
       "      <td>https://www.infojobs.net/madrid/system-develop...</td>\n",
       "      <td>Requisitos\\nEstudios mínimos\\nGrado\\nExperienc...</td>\n",
       "      <td>&lt;br&gt;&lt;h3&gt;Requisitos&lt;/h3&gt;&lt;br&gt;&lt;h4&gt;Estudios mínimo...</td>\n",
       "    </tr>\n",
       "    <tr>\n",
       "      <th>1</th>\n",
       "      <td>data_engineer</td>\n",
       "      <td>infojobs</td>\n",
       "      <td>Database Engineer</td>\n",
       "      <td>Deutsche Pfandbriefbank AG</td>\n",
       "      <td>Publicada hace 1d (Publicada de nuevo)</td>\n",
       "      <td>45.000€</td>\n",
       "      <td>60.000€</td>\n",
       "      <td>https://www.infojobs.net/madrid/database-engin...</td>\n",
       "      <td>Requisitos\\nEstudios mínimos\\nMáster\\nExperien...</td>\n",
       "      <td>&lt;br&gt;&lt;h3&gt;Requisitos&lt;/h3&gt;&lt;br&gt;&lt;h4&gt;Estudios mínimo...</td>\n",
       "    </tr>\n",
       "    <tr>\n",
       "      <th>2</th>\n",
       "      <td>data_engineer</td>\n",
       "      <td>infojobs</td>\n",
       "      <td>Data engineer(Spark+Python)-Madrid</td>\n",
       "      <td>Luca TIC</td>\n",
       "      <td>Publicada hace 1d</td>\n",
       "      <td>NaN</td>\n",
       "      <td>NaN</td>\n",
       "      <td>https://www.infojobs.net/madrid/data-engineer-...</td>\n",
       "      <td>Requisitos\\nEstudios mínimos\\nCiclo Formativo ...</td>\n",
       "      <td>&lt;br&gt;&lt;h3&gt;Requisitos&lt;/h3&gt;&lt;br&gt;&lt;h4&gt;Estudios mínimo...</td>\n",
       "    </tr>\n",
       "    <tr>\n",
       "      <th>3</th>\n",
       "      <td>data_engineer</td>\n",
       "      <td>infojobs</td>\n",
       "      <td>Data Engineer | 100% remote | Freelance</td>\n",
       "      <td>EKKIDEN</td>\n",
       "      <td>Publicada hace 5d (Publicada de nuevo)</td>\n",
       "      <td>3€</td>\n",
       "      <td>4.200€</td>\n",
       "      <td>https://www.infojobs.net/madrid/data-engineer-...</td>\n",
       "      <td>Requisitos\\nEstudios mínimos\\nSin estudios\\nEx...</td>\n",
       "      <td>&lt;br&gt;&lt;h3&gt;Requisitos&lt;/h3&gt;&lt;br&gt;&lt;h4&gt;Estudios mínimo...</td>\n",
       "    </tr>\n",
       "    <tr>\n",
       "      <th>4</th>\n",
       "      <td>data_engineer</td>\n",
       "      <td>infojobs</td>\n",
       "      <td>Data Engineer Scala/Spark</td>\n",
       "      <td>ALVEA SOLUCIONES TECNOLOGICAS, S.L.</td>\n",
       "      <td>Publicada hace 3d (Publicada de nuevo)</td>\n",
       "      <td>NaN</td>\n",
       "      <td>NaN</td>\n",
       "      <td>https://www.infojobs.net/madrid/data-engineer-...</td>\n",
       "      <td>Requisitos\\nEstudios mínimos\\nEducación Secund...</td>\n",
       "      <td>&lt;br&gt;&lt;h3&gt;Requisitos&lt;/h3&gt;&lt;br&gt;&lt;h4&gt;Estudios mínimo...</td>\n",
       "    </tr>\n",
       "  </tbody>\n",
       "</table>\n",
       "</div>"
      ],
      "text/plain": [
       "          empleo plataforma  \\\n",
       "0  data_engineer   infojobs   \n",
       "1  data_engineer   infojobs   \n",
       "2  data_engineer   infojobs   \n",
       "3  data_engineer   infojobs   \n",
       "4  data_engineer   infojobs   \n",
       "\n",
       "                                       titulo_oferta  \\\n",
       "0  System Development Engineer, Reliability and A...   \n",
       "1                                  Database Engineer   \n",
       "2                 Data engineer(Spark+Python)-Madrid   \n",
       "3            Data Engineer | 100% remote | Freelance   \n",
       "4                          Data Engineer Scala/Spark   \n",
       "\n",
       "                               empresa  \\\n",
       "0                   Amazon Europe Core   \n",
       "1           Deutsche Pfandbriefbank AG   \n",
       "2                             Luca TIC   \n",
       "3                              EKKIDEN   \n",
       "4  ALVEA SOLUCIONES TECNOLOGICAS, S.L.   \n",
       "\n",
       "                        fecha_publicacion min_salario max_salario  \\\n",
       "0  Publicada hace 2d (Publicada de nuevo)         NaN         NaN   \n",
       "1  Publicada hace 1d (Publicada de nuevo)     45.000€     60.000€   \n",
       "2                       Publicada hace 1d         NaN         NaN   \n",
       "3  Publicada hace 5d (Publicada de nuevo)          3€      4.200€   \n",
       "4  Publicada hace 3d (Publicada de nuevo)         NaN         NaN   \n",
       "\n",
       "                                          url_oferta  \\\n",
       "0  https://www.infojobs.net/madrid/system-develop...   \n",
       "1  https://www.infojobs.net/madrid/database-engin...   \n",
       "2  https://www.infojobs.net/madrid/data-engineer-...   \n",
       "3  https://www.infojobs.net/madrid/data-engineer-...   \n",
       "4  https://www.infojobs.net/madrid/data-engineer-...   \n",
       "\n",
       "                                         descripcion  \\\n",
       "0  Requisitos\\nEstudios mínimos\\nGrado\\nExperienc...   \n",
       "1  Requisitos\\nEstudios mínimos\\nMáster\\nExperien...   \n",
       "2  Requisitos\\nEstudios mínimos\\nCiclo Formativo ...   \n",
       "3  Requisitos\\nEstudios mínimos\\nSin estudios\\nEx...   \n",
       "4  Requisitos\\nEstudios mínimos\\nEducación Secund...   \n",
       "\n",
       "                                descripcion_original  \n",
       "0  <br><h3>Requisitos</h3><br><h4>Estudios mínimo...  \n",
       "1  <br><h3>Requisitos</h3><br><h4>Estudios mínimo...  \n",
       "2  <br><h3>Requisitos</h3><br><h4>Estudios mínimo...  \n",
       "3  <br><h3>Requisitos</h3><br><h4>Estudios mínimo...  \n",
       "4  <br><h3>Requisitos</h3><br><h4>Estudios mínimo...  "
      ]
     },
     "metadata": {},
     "output_type": "display_data"
    },
    {
     "name": "stdout",
     "output_type": "stream",
     "text": [
      "El porcentaje de ofertas con salario para data_engineer es: 32.95%\n",
      "\n"
     ]
    }
   ],
   "source": [
    "f_infojobs.limpieza_descripcion()"
   ]
  }
 ],
 "metadata": {
  "kernelspec": {
   "display_name": "Python 3",
   "language": "python",
   "name": "python3"
  },
  "language_info": {
   "codemirror_mode": {
    "name": "ipython",
    "version": 3
   },
   "file_extension": ".py",
   "mimetype": "text/x-python",
   "name": "python",
   "nbconvert_exporter": "python",
   "pygments_lexer": "ipython3",
   "version": "3.11.9"
  }
 },
 "nbformat": 4,
 "nbformat_minor": 2
}
