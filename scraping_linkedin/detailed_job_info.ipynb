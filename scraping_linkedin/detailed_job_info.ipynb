{
 "cells": [
  {
   "cell_type": "markdown",
   "metadata": {},
   "source": [
    "# **Limpieza y extracción de las ofertas de empleo de LinkedIn**"
   ]
  },
  {
   "cell_type": "markdown",
   "metadata": {},
   "source": [
    "En este notebook se llevará dos tareas a cabo:\n",
    "\n",
    "1- Limpieza del `csv` de los links de las ofertas obtenidas mediante las spiders.\n",
    "\n",
    "2- Obteción de toda la información de la oferta para cada link."
   ]
  },
  {
   "cell_type": "code",
   "execution_count": 1,
   "metadata": {},
   "outputs": [],
   "source": [
    "%load_ext autoreload\n",
    "%autoreload 2\n",
    "\n",
    "# Librerías de extracción de datos\n",
    "# -----------------------------------------------------------------------\n",
    "from bs4 import BeautifulSoup\n",
    "import requests\n",
    "import numpy as np\n",
    "import json\n",
    "import html\n",
    "from tqdm import tqdm\n",
    "from random import uniform\n",
    "\n",
    "\n",
    "# Tratamiento de datos\n",
    "# -----------------------------------------------------------------------\n",
    "import pandas as pd\n",
    "from time import sleep\n",
    "\n",
    "import sys\n",
    "sys.path.append(\"../\")\n",
    "\n",
    "from src import funciones_linkedin as f_linkedin"
   ]
  },
  {
   "cell_type": "markdown",
   "metadata": {},
   "source": [
    "### **1- Limpeza de los csv de los links**"
   ]
  },
  {
   "cell_type": "markdown",
   "metadata": {},
   "source": [
    "Para cumplir esta primera parte se utliza una función que itera por los tres archivos distintos de cada empleo llevando a cabo las siguientes tareas:\n",
    "\n",
    "- Carga de datos.\n",
    "\n",
    "- Eliminar las cabeceras de `job_title,job_detail_url,job_listed,company_name,company_link,company_location` que introduce cada spider y gestionar aquellos trabajos que tengan campos de `not-found`.\n",
    "\n",
    "- Ordenar las ofertas de trabajo de la más a la menos reciente en cuanto a fecha de publiación y eliminar las ofertas de hace un año o más.\n",
    "\n",
    "- Guardar el dataframe obtenido a csv."
   ]
  },
  {
   "cell_type": "code",
   "execution_count": 7,
   "metadata": {},
   "outputs": [
    {
     "name": "stdout",
     "output_type": "stream",
     "text": [
      "Links de DATA_SCIENCE:\n",
      "\n",
      "   >> Cargado correctamente el df con dimensiones: (903, 6)\n",
      "\n",
      "   >> Tras la elminación de cabeceras y datos errónes el shape es de: (877, 6)\n",
      "\n",
      "   >> Ordenamos las ofertas por fecha de publicación de más a menos reciente y eliminamos las ofertas de más de un año:\n",
      "\n",
      "   >> Datos almacenados en data/datos_links_limpios/linkedin_links_data_science.csv\n",
      "\n",
      "=========================================================================================================================\n",
      "\n",
      "Links de DATA_ANALYST:\n",
      "\n",
      "   >> Cargado correctamente el df con dimensiones: (1003, 6)\n",
      "\n",
      "   >> Tras la elminación de cabeceras y datos errónes el shape es de: (984, 6)\n",
      "\n",
      "   >> Ordenamos las ofertas por fecha de publicación de más a menos reciente y eliminamos las ofertas de más de un año:\n",
      "\n",
      "   >> Datos almacenados en data/datos_links_limpios/linkedin_links_data_analyst.csv\n",
      "\n",
      "=========================================================================================================================\n",
      "\n",
      "Links de DATA_ENGINEER:\n",
      "\n",
      "   >> Cargado correctamente el df con dimensiones: (1003, 6)\n",
      "\n",
      "   >> Tras la elminación de cabeceras y datos errónes el shape es de: (982, 6)\n",
      "\n",
      "   >> Ordenamos las ofertas por fecha de publicación de más a menos reciente y eliminamos las ofertas de más de un año:\n",
      "\n",
      "   >> Datos almacenados en data/datos_links_limpios/linkedin_links_data_engineer.csv\n",
      "\n",
      "=========================================================================================================================\n",
      "\n"
     ]
    }
   ],
   "source": [
    "f_linkedin.limpieza_completa()"
   ]
  },
  {
   "cell_type": "markdown",
   "metadata": {},
   "source": [
    "___________"
   ]
  },
  {
   "cell_type": "markdown",
   "metadata": {},
   "source": [
    "### **2-Extracción de los detalles de cada oferta y almacenamiento en csv.**"
   ]
  },
  {
   "cell_type": "code",
   "execution_count": 12,
   "metadata": {},
   "outputs": [
    {
     "name": "stdout",
     "output_type": "stream",
     "text": [
      "Links de DATA_ENGINEER:\n"
     ]
    },
    {
     "name": "stderr",
     "output_type": "stream",
     "text": [
      "  0%|          | 0/973 [00:00<?, ?it/s]"
     ]
    },
    {
     "name": "stdout",
     "output_type": "stream",
     "text": [
      "------------------------------------------------\n"
     ]
    },
    {
     "name": "stderr",
     "output_type": "stream",
     "text": [
      "  0%|          | 1/973 [00:01<26:38,  1.64s/it]"
     ]
    },
    {
     "name": "stdout",
     "output_type": "stream",
     "text": [
      "Num intentos: 1, URL: https://es.linkedin.com/jobs/view/software-engineer-sustaining-engineering-at-canonical-4147515073?refId=iogc%2B4XiXLpYrKPr7Us7Lw%3D%3D&trackingId=WHatCbte%2FeV1q9H4TiwMRw%3D%3D&position=8&pageNum=32\n",
      "------------------------------------------------\n"
     ]
    },
    {
     "name": "stderr",
     "output_type": "stream",
     "text": [
      "  0%|          | 2/973 [00:03<27:57,  1.73s/it]"
     ]
    },
    {
     "name": "stdout",
     "output_type": "stream",
     "text": [
      "Num intentos: 1, URL: https://es.linkedin.com/jobs/view/software-engineer-sustaining-engineering-at-canonical-4147514352?refId=iogc%2B4XiXLpYrKPr7Us7Lw%3D%3D&trackingId=HuJlyEdMjMS6l9GX6OnwhA%3D%3D&position=9&pageNum=32\n",
      "------------------------------------------------\n",
      "Num intentos: 1, URL: https://es.linkedin.com/jobs/view/qlik-sense-specialist-at-empresa-confidencial-4145387750?refId=k9%2FkRnfSBzcobArEZmRAig%3D%3D&trackingId=dhk94I1%2FRIkPVCflE8ihPA%3D%3D&position=2&pageNum=35\n"
     ]
    },
    {
     "name": "stderr",
     "output_type": "stream",
     "text": [
      "  0%|          | 3/973 [00:05<27:19,  1.69s/it]"
     ]
    },
    {
     "name": "stdout",
     "output_type": "stream",
     "text": [
      "------------------------------------------------\n"
     ]
    },
    {
     "name": "stderr",
     "output_type": "stream",
     "text": [
      "  0%|          | 4/973 [00:06<27:54,  1.73s/it]"
     ]
    },
    {
     "name": "stdout",
     "output_type": "stream",
     "text": [
      "Num intentos: 1, URL: https://es.linkedin.com/jobs/view/senior-data-analyst-at-turner-townsend-3945447879?refId=lLfUMnXEaEcpWjyocCqvfg%3D%3D&trackingId=Rj3DvIZcSsdM8RphCndS0A%3D%3D&position=9&pageNum=10\n",
      "------------------------------------------------\n"
     ]
    },
    {
     "name": "stderr",
     "output_type": "stream",
     "text": [
      "  1%|          | 5/973 [00:08<26:52,  1.67s/it]"
     ]
    },
    {
     "name": "stdout",
     "output_type": "stream",
     "text": [
      "Num intentos: 1, URL: https://es.linkedin.com/jobs/view/data-strategyst-at-craft-worldwide-4127724532?refId=1gxsBjCoxyvxl5YEGDjwHQ%3D%3D&trackingId=gfVKlA6nRLWYxV2WiHqcIw%3D%3D&position=14&pageNum=12\n",
      "------------------------------------------------\n"
     ]
    },
    {
     "name": "stderr",
     "output_type": "stream",
     "text": [
      "  1%|          | 6/973 [00:10<26:39,  1.65s/it]"
     ]
    },
    {
     "name": "stdout",
     "output_type": "stream",
     "text": [
      "Num intentos: 1, URL: https://es.linkedin.com/jobs/view/software-engineer-pricing-underwriting-at-prima-4077411227?refId=LtGvNDRbIiqTwa1XzDQk5w%3D%3D&trackingId=EAmL4Pv4HeWHoKRZD7dbfg%3D%3D&position=22&pageNum=21\n",
      "------------------------------------------------\n"
     ]
    },
    {
     "name": "stderr",
     "output_type": "stream",
     "text": [
      "  1%|          | 7/973 [00:11<26:32,  1.65s/it]"
     ]
    },
    {
     "name": "stdout",
     "output_type": "stream",
     "text": [
      "Num intentos: 1, URL: https://es.linkedin.com/jobs/view/auditor-a-interno-a-ia-big-data-at-sacyr-4119575123?refId=%2Fq8IkmAC8FsOi3L4LWt3mA%3D%3D&trackingId=dR%2FTPWT1l4KI7WFoNZRSqw%3D%3D&position=3&pageNum=26\n",
      "------------------------------------------------\n"
     ]
    },
    {
     "name": "stderr",
     "output_type": "stream",
     "text": [
      "  1%|          | 8/973 [00:13<27:27,  1.71s/it]"
     ]
    },
    {
     "name": "stdout",
     "output_type": "stream",
     "text": [
      "Num intentos: 1, URL: https://es.linkedin.com/jobs/view/lead-data-engineer-m-f-d-at-thoughtworks-4057245303?refId=0lQEwrH3pQrcnHMZEPdE6Q%3D%3D&trackingId=0XK0Yg3k5aeoQjG%2Bc6FVgg%3D%3D&position=2&pageNum=3\n",
      "------------------------------------------------\n"
     ]
    },
    {
     "name": "stderr",
     "output_type": "stream",
     "text": [
      "  1%|          | 9/973 [00:14<26:07,  1.63s/it]"
     ]
    },
    {
     "name": "stdout",
     "output_type": "stream",
     "text": [
      "Num intentos: 1, URL: https://es.linkedin.com/jobs/view/data-visualization-engineer-at-inetum-4124347388?refId=qiJ6q4%2BjkVAGpjN7lVYm9g%3D%3D&trackingId=ILzyqkAjIDdQV8EbuBhtlA%3D%3D&position=17&pageNum=6\n",
      "------------------------------------------------\n",
      "Num intentos: 1, URL: https://es.linkedin.com/jobs/view/data-project-analyst-at-repsol-4092569724?refId=XzILX%2FJyntX%2BslwEYSdfAA%3D%3D&trackingId=qbO75HBaWxZD9rEM59Vj4w%3D%3D&position=2&pageNum=8\n"
     ]
    },
    {
     "name": "stderr",
     "output_type": "stream",
     "text": [
      "  1%|          | 10/973 [00:16<25:49,  1.61s/it]"
     ]
    },
    {
     "name": "stdout",
     "output_type": "stream",
     "text": [
      "------------------------------------------------\n"
     ]
    },
    {
     "name": "stderr",
     "output_type": "stream",
     "text": [
      "  1%|          | 11/973 [00:18<25:45,  1.61s/it]"
     ]
    },
    {
     "name": "stdout",
     "output_type": "stream",
     "text": [
      "Num intentos: 1, URL: https://es.linkedin.com/jobs/view/senior-data-engineer-at-edelman-4102601689?refId=WE0nbdRCjRzYQ%2BMa7Jlfcw%3D%3D&trackingId=TSAr0QTD4%2FY%2BMsitBRlUFw%3D%3D&position=23&pageNum=13\n",
      "------------------------------------------------\n"
     ]
    },
    {
     "name": "stderr",
     "output_type": "stream",
     "text": [
      "  1%|          | 12/973 [00:19<26:26,  1.65s/it]"
     ]
    },
    {
     "name": "stdout",
     "output_type": "stream",
     "text": [
      "Num intentos: 1, URL: https://es.linkedin.com/jobs/view/full-stack-software-engineer-at-deloitte-4117178288?refId=5iMqGO1%2FHzfh4hS6zDhIBw%3D%3D&trackingId=7B6Exr9bNE6dCtVstvuDyQ%3D%3D&position=13&pageNum=17\n",
      "------------------------------------------------\n"
     ]
    },
    {
     "name": "stderr",
     "output_type": "stream",
     "text": [
      "  1%|▏         | 13/973 [00:21<26:50,  1.68s/it]"
     ]
    },
    {
     "name": "stdout",
     "output_type": "stream",
     "text": [
      "Num intentos: 1, URL: https://es.linkedin.com/jobs/view/senior-software-engineer-at-tomtom-4062695247?refId=FdMdL4No5nsuHtAaKxXehg%3D%3D&trackingId=7ZHyi7F1lcPrx%2F%2FPYpv%2BPw%3D%3D&position=12&pageNum=18\n",
      "------------------------------------------------\n"
     ]
    },
    {
     "name": "stderr",
     "output_type": "stream",
     "text": [
      "  1%|▏         | 14/973 [00:23<25:32,  1.60s/it]"
     ]
    },
    {
     "name": "stdout",
     "output_type": "stream",
     "text": [
      "Num intentos: 1, URL: https://es.linkedin.com/jobs/view/net-software-engineer-at-gmv-4016059248?refId=RVoI%2BWwn15hCaFEnz4TWeA%3D%3D&trackingId=hSiqkcgqy3d1Fu2FMrRnNg%3D%3D&position=24&pageNum=20\n",
      "------------------------------------------------\n"
     ]
    },
    {
     "name": "stderr",
     "output_type": "stream",
     "text": [
      "  2%|▏         | 15/973 [00:24<25:17,  1.58s/it]"
     ]
    },
    {
     "name": "stdout",
     "output_type": "stream",
     "text": [
      "Num intentos: 1, URL: https://es.linkedin.com/jobs/view/senior-web-software-engineer-at-picsart-4106845011?refId=xndk4q%2FZdLhddgb2PRN9DQ%3D%3D&trackingId=EohlNRV5ZzfMQr%2BmInjQ3A%3D%3D&position=14&pageNum=25\n",
      "------------------------------------------------\n",
      "Num intentos: 1, URL: https://es.linkedin.com/jobs/view/frontend-react-software-engineer-at-gmv-3838395848?refId=4T3q6%2BDUDS%2Fwfb0hIc%2BkJw%3D%3D&trackingId=8sGSb6ru1QCSCPfxuulisw%3D%3D&position=11&pageNum=30\n"
     ]
    },
    {
     "name": "stderr",
     "output_type": "stream",
     "text": [
      "  2%|▏         | 16/973 [00:26<26:08,  1.64s/it]"
     ]
    },
    {
     "name": "stdout",
     "output_type": "stream",
     "text": [
      "------------------------------------------------\n"
     ]
    },
    {
     "name": "stderr",
     "output_type": "stream",
     "text": [
      "  2%|▏         | 17/973 [00:27<25:55,  1.63s/it]"
     ]
    },
    {
     "name": "stdout",
     "output_type": "stream",
     "text": [
      "Num intentos: 1, URL: https://es.linkedin.com/jobs/view/senior-software-engineer-at-datadog-3681926666?refId=pvzzDZKJw%2BBNu7o7uLGHhw%3D%3D&trackingId=ADEKp04qcjQm9%2B5y3WJbQQ%3D%3D&position=8&pageNum=31\n",
      "------------------------------------------------\n"
     ]
    },
    {
     "name": "stderr",
     "output_type": "stream",
     "text": [
      "  2%|▏         | 18/973 [00:30<28:01,  1.76s/it]"
     ]
    },
    {
     "name": "stdout",
     "output_type": "stream",
     "text": [
      "Num intentos: 1, URL: https://es.linkedin.com/jobs/view/senior-software-engineer-alerting-at-datadog-3681926669?refId=GB%2Fwwj7Zi4x1VtaSwZK9nQ%3D%3D&trackingId=y9ZMtDmVDCkGHEMaxumFIg%3D%3D&position=22&pageNum=33\n",
      "------------------------------------------------\n"
     ]
    },
    {
     "name": "stderr",
     "output_type": "stream",
     "text": [
      "  2%|▏         | 19/973 [00:32<29:49,  1.88s/it]"
     ]
    },
    {
     "name": "stdout",
     "output_type": "stream",
     "text": [
      "Num intentos: 1, URL: https://es.linkedin.com/jobs/view/senior-software-engineer-api-at-ebury-4124723446?refId=jYUCayDj5AktnYUNOxZvEQ%3D%3D&trackingId=C3cjLfWPAPNmwGivFrEFPw%3D%3D&position=23&pageNum=34\n",
      "------------------------------------------------\n"
     ]
    },
    {
     "name": "stderr",
     "output_type": "stream",
     "text": [
      "  2%|▏         | 20/973 [00:33<29:02,  1.83s/it]"
     ]
    },
    {
     "name": "stdout",
     "output_type": "stream",
     "text": [
      "Num intentos: 1, URL: https://es.linkedin.com/jobs/view/network-implementation-engineer-at-google-4125533594?refId=FnhfE%2BUO6DlfX1s9TYmIuw%3D%3D&trackingId=cs%2BKzzoFXQdtYfA4ha5CVg%3D%3D&position=9&pageNum=36\n",
      "------------------------------------------------\n"
     ]
    },
    {
     "name": "stderr",
     "output_type": "stream",
     "text": [
      "  2%|▏         | 21/973 [00:35<28:10,  1.78s/it]"
     ]
    },
    {
     "name": "stdout",
     "output_type": "stream",
     "text": [
      "Num intentos: 1, URL: https://es.linkedin.com/jobs/view/senior-software-engineer-foundationdb-at-datadog-3964924348?refId=xPrcwAXkZO4mu5jDn0JJDg%3D%3D&trackingId=haB9lp3fOCCgxSSQnLc4pA%3D%3D&position=6&pageNum=39\n",
      "------------------------------------------------\n"
     ]
    },
    {
     "name": "stderr",
     "output_type": "stream",
     "text": [
      "  2%|▏         | 22/973 [00:37<28:53,  1.82s/it]"
     ]
    },
    {
     "name": "stdout",
     "output_type": "stream",
     "text": [
      "Num intentos: 1, URL: https://es.linkedin.com/jobs/view/analista-de-datos-espacio-de-datos-at-aie-sociedad-de-artistas-4144139404?refId=kEewYSP0sda%2BAS9qJ05byw%3D%3D&trackingId=%2F80N1KwCo1LHbleHODbH%2Bw%3D%3D&position=23&pageNum=15\n",
      "------------------------------------------------\n",
      "Num intentos: 1, URL: https://es.linkedin.com/jobs/view/analista-de-datos-at-hays-4145333316?refId=qiJ6q4%2BjkVAGpjN7lVYm9g%3D%3D&trackingId=%2BRejSY%2BRgI7w%2FfB71rv8ZA%3D%3D&position=16&pageNum=6\n"
     ]
    },
    {
     "name": "stderr",
     "output_type": "stream",
     "text": [
      "  2%|▏         | 23/973 [00:39<28:05,  1.77s/it]"
     ]
    },
    {
     "name": "stdout",
     "output_type": "stream",
     "text": [
      "------------------------------------------------\n"
     ]
    },
    {
     "name": "stderr",
     "output_type": "stream",
     "text": [
      "  2%|▏         | 24/973 [00:40<27:20,  1.73s/it]"
     ]
    },
    {
     "name": "stdout",
     "output_type": "stream",
     "text": [
      "Num intentos: 1, URL: https://es.linkedin.com/jobs/view/analista-de-datos-at-hays-4145333316?refId=jj4UbOc%2FecseE2pKr2PGiw%3D%3D&trackingId=nymO3naxTm8rY0qjqQ%2F%2BWg%3D%3D&position=8&pageNum=11\n",
      "------------------------------------------------\n"
     ]
    },
    {
     "name": "stderr",
     "output_type": "stream",
     "text": [
      "  3%|▎         | 25/973 [00:42<25:22,  1.61s/it]"
     ]
    },
    {
     "name": "stdout",
     "output_type": "stream",
     "text": [
      "Num intentos: 1, URL: https://es.linkedin.com/jobs/view/software-aftermarket-failure-analysis-engineer-at-thundersoft-4145315993?refId=xPrcwAXkZO4mu5jDn0JJDg%3D%3D&trackingId=0LiRN735bUEAVsbDZ9m%2B6w%3D%3D&position=23&pageNum=39\n",
      "------------------------------------------------\n"
     ]
    },
    {
     "name": "stderr",
     "output_type": "stream",
     "text": [
      "  3%|▎         | 26/973 [00:43<25:35,  1.62s/it]"
     ]
    },
    {
     "name": "stdout",
     "output_type": "stream",
     "text": [
      "Num intentos: 1, URL: https://es.linkedin.com/jobs/view/data-analyst-finance-at-straumann-group-4145309521?refId=XzILX%2FJyntX%2BslwEYSdfAA%3D%3D&trackingId=y%2FuSaRhA4Pwncth4UtxLLw%3D%3D&position=21&pageNum=8\n",
      "------------------------------------------------\n"
     ]
    },
    {
     "name": "stderr",
     "output_type": "stream",
     "text": [
      "  3%|▎         | 27/973 [00:45<27:35,  1.75s/it]"
     ]
    },
    {
     "name": "stdout",
     "output_type": "stream",
     "text": [
      "Num intentos: 1, URL: https://es.linkedin.com/jobs/view/hpc-software-engineer-at-canonical-4146411943?refId=6iugOUKVCcIlzIMTSgbc4A%3D%3D&trackingId=CjBo87t8K18i%2FJyMtDQoCA%3D%3D&position=12&pageNum=23\n",
      "------------------------------------------------\n"
     ]
    },
    {
     "name": "stderr",
     "output_type": "stream",
     "text": [
      "  3%|▎         | 28/973 [00:47<26:01,  1.65s/it]"
     ]
    },
    {
     "name": "stdout",
     "output_type": "stream",
     "text": [
      "Num intentos: 1, URL: https://es.linkedin.com/jobs/view/hpc-software-engineer-at-canonical-4146415446?refId=6iugOUKVCcIlzIMTSgbc4A%3D%3D&trackingId=VLQpmmCMJbdbHqPHqSsXPA%3D%3D&position=13&pageNum=23\n",
      "------------------------------------------------\n",
      "Num intentos: 1, URL: https://es.linkedin.com/jobs/view/data-analyst-brands-ads-they-she-he-at-glovo-4145953291?refId=5iMqGO1%2FHzfh4hS6zDhIBw%3D%3D&trackingId=LPgVLD08vfhVZpQt4V3rYg%3D%3D&position=1&pageNum=17\n"
     ]
    },
    {
     "name": "stderr",
     "output_type": "stream",
     "text": [
      "  3%|▎         | 29/973 [00:49<27:04,  1.72s/it]"
     ]
    },
    {
     "name": "stdout",
     "output_type": "stream",
     "text": [
      "------------------------------------------------\n"
     ]
    },
    {
     "name": "stderr",
     "output_type": "stream",
     "text": [
      "  3%|▎         | 30/973 [00:50<27:29,  1.75s/it]"
     ]
    },
    {
     "name": "stdout",
     "output_type": "stream",
     "text": [
      "Num intentos: 1, URL: https://es.linkedin.com/jobs/view/software-engineer-for-ground-support-equipment-at-airbus-4145947386?refId=iogc%2B4XiXLpYrKPr7Us7Lw%3D%3D&trackingId=VFXk27nIwQWKe2j0JSz%2BwA%3D%3D&position=3&pageNum=32\n",
      "------------------------------------------------\n"
     ]
    },
    {
     "name": "stderr",
     "output_type": "stream",
     "text": [
      "  3%|▎         | 31/973 [00:52<27:25,  1.75s/it]"
     ]
    },
    {
     "name": "stdout",
     "output_type": "stream",
     "text": [
      "Num intentos: 1, URL: https://es.linkedin.com/jobs/view/quality-data-analytics-models-analyst-at-santander-4146182695?refId=6iugOUKVCcIlzIMTSgbc4A%3D%3D&trackingId=jgSIXSUwx%2F7gAuweO4zfDg%3D%3D&position=5&pageNum=23\n",
      "------------------------------------------------\n"
     ]
    },
    {
     "name": "stderr",
     "output_type": "stream",
     "text": [
      "  3%|▎         | 32/973 [00:54<28:21,  1.81s/it]"
     ]
    },
    {
     "name": "stdout",
     "output_type": "stream",
     "text": [
      "Num intentos: 1, URL: https://es.linkedin.com/jobs/view/data-engineer-at-bipi-car-subscription-4147209356?refId=gl%2Bd7kBz9WLFJeX%2Bk722Sg%3D%3D&trackingId=tfCRIsKbEDXSEQlvR2SP4A%3D%3D&position=20&pageNum=1\n",
      "------------------------------------------------\n"
     ]
    },
    {
     "name": "stderr",
     "output_type": "stream",
     "text": [
      "  3%|▎         | 33/973 [00:56<29:19,  1.87s/it]"
     ]
    },
    {
     "name": "stdout",
     "output_type": "stream",
     "text": [
      "Num intentos: 1, URL: https://es.linkedin.com/jobs/view/senior-data-engineer-at-swiss-re-4146994120?refId=jj4UbOc%2FecseE2pKr2PGiw%3D%3D&trackingId=FNP2WCYoomve%2BJFW6B2egQ%3D%3D&position=24&pageNum=11\n",
      "------------------------------------------------\n"
     ]
    },
    {
     "name": "stderr",
     "output_type": "stream",
     "text": [
      "  3%|▎         | 34/973 [00:58<27:49,  1.78s/it]"
     ]
    },
    {
     "name": "stdout",
     "output_type": "stream",
     "text": [
      "Num intentos: 1, URL: https://es.linkedin.com/jobs/view/product-analyst-data-team-at-planner-5d-4146119105?refId=jlTvqtUYEFUTXMPpb2kHVA%3D%3D&trackingId=wH64OwRq6buD9WOGPgAiOg%3D%3D&position=24&pageNum=19\n",
      "------------------------------------------------\n"
     ]
    },
    {
     "name": "stderr",
     "output_type": "stream",
     "text": [
      "  4%|▎         | 35/973 [01:00<28:12,  1.80s/it]"
     ]
    },
    {
     "name": "stdout",
     "output_type": "stream",
     "text": [
      "Num intentos: 1, URL: https://es.linkedin.com/jobs/view/sr-data-scientist-at-sas-4146112699?refId=GB%2Fwwj7Zi4x1VtaSwZK9nQ%3D%3D&trackingId=7qdMypugVBXcw0NM6p0I4w%3D%3D&position=21&pageNum=33\n",
      "------------------------------------------------\n"
     ]
    },
    {
     "name": "stderr",
     "output_type": "stream",
     "text": [
      "  4%|▎         | 36/973 [01:01<27:37,  1.77s/it]"
     ]
    },
    {
     "name": "stdout",
     "output_type": "stream",
     "text": [
      "Num intentos: 1, URL: https://es.linkedin.com/jobs/view/junior-data-engineer-at-grupo-gamboa-autom%C3%B3viles-4144114296?refId=5lUV4%2FNAtY0kytHF7H9LFw%3D%3D&trackingId=aKqaFbCOI77nEBHfjfBQxQ%3D%3D&position=13&pageNum=0\n",
      "------------------------------------------------\n"
     ]
    },
    {
     "name": "stderr",
     "output_type": "stream",
     "text": [
      "  4%|▍         | 37/973 [01:03<27:07,  1.74s/it]"
     ]
    },
    {
     "name": "stdout",
     "output_type": "stream",
     "text": [
      "Num intentos: 1, URL: https://es.linkedin.com/jobs/view/data-engineer-at-m%C3%A1tica-partners-4146946685?refId=JOY6haVz%2BavdFBx3hGjq%2BQ%3D%3D&trackingId=LE9t4RHD810Wk9h5zMyNAw%3D%3D&position=4&pageNum=2\n",
      "------------------------------------------------\n"
     ]
    },
    {
     "name": "stderr",
     "output_type": "stream",
     "text": [
      "  4%|▍         | 38/973 [01:05<27:03,  1.74s/it]"
     ]
    },
    {
     "name": "stdout",
     "output_type": "stream",
     "text": [
      "Num intentos: 1, URL: https://es.linkedin.com/jobs/view/data-analyst-at-grupo-ns-4145916553?refId=JOY6haVz%2BavdFBx3hGjq%2BQ%3D%3D&trackingId=UVbDpDXl%2F%2FBs0QaznfFkXA%3D%3D&position=8&pageNum=2\n",
      "------------------------------------------------\n"
     ]
    },
    {
     "name": "stderr",
     "output_type": "stream",
     "text": [
      "  4%|▍         | 39/973 [01:06<26:05,  1.68s/it]"
     ]
    },
    {
     "name": "stdout",
     "output_type": "stream",
     "text": [
      "Num intentos: 1, URL: https://es.linkedin.com/jobs/view/data-engineer-sas-power-bi-at-innova-tsn-4141497371?refId=JOY6haVz%2BavdFBx3hGjq%2BQ%3D%3D&trackingId=kxFsa8Z4B%2FSg6qpoM4yzwA%3D%3D&position=19&pageNum=2\n",
      "------------------------------------------------\n"
     ]
    },
    {
     "name": "stderr",
     "output_type": "stream",
     "text": [
      "  4%|▍         | 40/973 [01:08<26:19,  1.69s/it]"
     ]
    },
    {
     "name": "stdout",
     "output_type": "stream",
     "text": [
      "Num intentos: 1, URL: https://es.linkedin.com/jobs/view/data-visualization-developer-at-grupo-ns-4145911973?refId=0lQEwrH3pQrcnHMZEPdE6Q%3D%3D&trackingId=X5Nxz8dR2GdVhfAvsCSdww%3D%3D&position=10&pageNum=3\n",
      "------------------------------------------------\n"
     ]
    },
    {
     "name": "stderr",
     "output_type": "stream",
     "text": [
      "  4%|▍         | 41/973 [01:09<25:14,  1.62s/it]"
     ]
    },
    {
     "name": "stdout",
     "output_type": "stream",
     "text": [
      "Num intentos: 1, URL: https://es.linkedin.com/jobs/view/data-analyst-sql-at-cognodata-4144132521?refId=0lQEwrH3pQrcnHMZEPdE6Q%3D%3D&trackingId=bf07SPoFaa8PfSwHIkcqbA%3D%3D&position=15&pageNum=3\n",
      "------------------------------------------------\n",
      "Num intentos: 1, URL: https://es.linkedin.com/jobs/view/data-engineer-python-scala-spark-100%25-remoto-desde-espa%C3%B1a-at-ust-4144136931?refId=0lQEwrH3pQrcnHMZEPdE6Q%3D%3D&trackingId=T90U4FdHx6n3ikHuDXqM2g%3D%3D&position=22&pageNum=3\n"
     ]
    },
    {
     "name": "stderr",
     "output_type": "stream",
     "text": [
      "  4%|▍         | 42/973 [01:11<26:30,  1.71s/it]"
     ]
    },
    {
     "name": "stdout",
     "output_type": "stream",
     "text": [
      "------------------------------------------------\n"
     ]
    },
    {
     "name": "stderr",
     "output_type": "stream",
     "text": [
      "  4%|▍         | 43/973 [01:13<25:19,  1.63s/it]"
     ]
    },
    {
     "name": "stdout",
     "output_type": "stream",
     "text": [
      "Num intentos: 1, URL: https://es.linkedin.com/jobs/view/data-developer-at-laboratorios-normon-4145913143?refId=0lQEwrH3pQrcnHMZEPdE6Q%3D%3D&trackingId=rz2xk4aXAP1%2BD%2FK%2BYS125w%3D%3D&position=23&pageNum=3\n",
      "------------------------------------------------\n"
     ]
    },
    {
     "name": "stderr",
     "output_type": "stream",
     "text": [
      "  5%|▍         | 44/973 [01:14<24:10,  1.56s/it]"
     ]
    },
    {
     "name": "stdout",
     "output_type": "stream",
     "text": [
      "Num intentos: 1, URL: https://es.linkedin.com/jobs/view/cloud-data-engineer-gcp-at-primeit-espa%C3%B1a-4145740924?refId=syd0D2KoXmexQAiehNkiZA%3D%3D&trackingId=O90aKe1qv5Jxu9D25Slinw%3D%3D&position=8&pageNum=4\n",
      "------------------------------------------------\n"
     ]
    },
    {
     "name": "stderr",
     "output_type": "stream",
     "text": [
      "  5%|▍         | 45/973 [01:15<23:07,  1.50s/it]"
     ]
    },
    {
     "name": "stdout",
     "output_type": "stream",
     "text": [
      "Num intentos: 1, URL: https://es.linkedin.com/jobs/view/junior-data-analyst-at-capitole-4142361631?refId=syd0D2KoXmexQAiehNkiZA%3D%3D&trackingId=Kluff6F7CZjvubwq97d5Sw%3D%3D&position=12&pageNum=4\n",
      "------------------------------------------------\n"
     ]
    },
    {
     "name": "stderr",
     "output_type": "stream",
     "text": [
      "  5%|▍         | 46/973 [01:17<24:57,  1.62s/it]"
     ]
    },
    {
     "name": "stdout",
     "output_type": "stream",
     "text": [
      "Num intentos: 1, URL: https://es.linkedin.com/jobs/view/data-engineer-ai-nlp-at-awin-global-4104362119?refId=syd0D2KoXmexQAiehNkiZA%3D%3D&trackingId=64s%2Fwgc4QcHjtWs1laTRtA%3D%3D&position=13&pageNum=4\n",
      "------------------------------------------------\n"
     ]
    },
    {
     "name": "stderr",
     "output_type": "stream",
     "text": [
      "  5%|▍         | 47/973 [01:19<24:56,  1.62s/it]"
     ]
    },
    {
     "name": "stdout",
     "output_type": "stream",
     "text": [
      "Num intentos: 1, URL: https://es.linkedin.com/jobs/view/growth-data-visualization-analyst-at-fever-4145772578?refId=syd0D2KoXmexQAiehNkiZA%3D%3D&trackingId=nj0qNuYxjLWhrMbQDKkyjw%3D%3D&position=20&pageNum=4\n",
      "------------------------------------------------\n"
     ]
    },
    {
     "name": "stderr",
     "output_type": "stream",
     "text": [
      "  5%|▍         | 48/973 [01:20<23:54,  1.55s/it]"
     ]
    },
    {
     "name": "stdout",
     "output_type": "stream",
     "text": [
      "Num intentos: 1, URL: https://es.linkedin.com/jobs/view/analista-de-visualizaci%C3%B3n-de-datos-junior-at-randstad-espa%C3%B1a-4125920759?refId=syd0D2KoXmexQAiehNkiZA%3D%3D&trackingId=eW3CbEeGX39DO6fHVLGvgw%3D%3D&position=25&pageNum=4\n",
      "------------------------------------------------\n"
     ]
    },
    {
     "name": "stderr",
     "output_type": "stream",
     "text": [
      "  5%|▌         | 49/973 [01:22<23:44,  1.54s/it]"
     ]
    },
    {
     "name": "stdout",
     "output_type": "stream",
     "text": [
      "Num intentos: 1, URL: https://es.linkedin.com/jobs/view/junior-ai-software-engineer-at-sii-group-spain-4145772019?refId=NfI1oXKEWAziniZHawNbcA%3D%3D&trackingId=gs5c7HhgVJbwHKUZVOtyDw%3D%3D&position=7&pageNum=5\n",
      "------------------------------------------------\n"
     ]
    },
    {
     "name": "stderr",
     "output_type": "stream",
     "text": [
      "  5%|▌         | 50/973 [01:24<24:32,  1.60s/it]"
     ]
    },
    {
     "name": "stdout",
     "output_type": "stream",
     "text": [
      "Num intentos: 1, URL: https://es.linkedin.com/jobs/view/data-analyst-teletrabajo-2-d%C3%ADas-de-presencialidad-a-la-semana-at-alten-spain-4117125046?refId=qiJ6q4%2BjkVAGpjN7lVYm9g%3D%3D&trackingId=uyZkk71iZJOv%2F%2FR3%2FPM1pA%3D%3D&position=4&pageNum=6\n",
      "------------------------------------------------\n"
     ]
    },
    {
     "name": "stderr",
     "output_type": "stream",
     "text": [
      "  5%|▌         | 51/973 [01:25<24:04,  1.57s/it]"
     ]
    },
    {
     "name": "stdout",
     "output_type": "stream",
     "text": [
      "Num intentos: 1, URL: https://es.linkedin.com/jobs/view/data-analyst-funcional-at-excelia-4145726753?refId=qiJ6q4%2BjkVAGpjN7lVYm9g%3D%3D&trackingId=okdZfxNzNdPdR7OHgy4dSA%3D%3D&position=14&pageNum=6\n",
      "------------------------------------------------\n"
     ]
    },
    {
     "name": "stderr",
     "output_type": "stream",
     "text": [
      "  5%|▌         | 52/973 [01:27<23:59,  1.56s/it]"
     ]
    },
    {
     "name": "stdout",
     "output_type": "stream",
     "text": [
      "Num intentos: 1, URL: https://es.linkedin.com/jobs/view/data-analyst-at-expleo-group-4145961789?refId=qiJ6q4%2BjkVAGpjN7lVYm9g%3D%3D&trackingId=TJhFzG77uTB%2BNFXpoWfm3A%3D%3D&position=25&pageNum=6\n",
      "------------------------------------------------\n"
     ]
    },
    {
     "name": "stderr",
     "output_type": "stream",
     "text": [
      "  5%|▌         | 53/973 [01:28<24:12,  1.58s/it]"
     ]
    },
    {
     "name": "stdout",
     "output_type": "stream",
     "text": [
      "Num intentos: 1, URL: https://es.linkedin.com/jobs/view/pl-sql-database-engineer-at-atradius-4004972822?refId=7mJssYg8XhxL6SCi8sFlZQ%3D%3D&trackingId=%2FwU0HLz%2BuD0EyaeCroTYiA%3D%3D&position=2&pageNum=7\n",
      "------------------------------------------------\n"
     ]
    },
    {
     "name": "stderr",
     "output_type": "stream",
     "text": [
      "  6%|▌         | 54/973 [01:30<24:25,  1.59s/it]"
     ]
    },
    {
     "name": "stdout",
     "output_type": "stream",
     "text": [
      "Num intentos: 1, URL: https://es.linkedin.com/jobs/view/ingeniero-de-datos-spark-scala-en-azure-databricks-at-grupo-tecdata-engineering-4146656476?refId=7mJssYg8XhxL6SCi8sFlZQ%3D%3D&trackingId=XSi5GLnsHl70OHxy4L9Hng%3D%3D&position=4&pageNum=7\n",
      "------------------------------------------------\n"
     ]
    },
    {
     "name": "stderr",
     "output_type": "stream",
     "text": [
      "  6%|▌         | 55/973 [01:31<24:14,  1.58s/it]"
     ]
    },
    {
     "name": "stdout",
     "output_type": "stream",
     "text": [
      "Num intentos: 1, URL: https://es.linkedin.com/jobs/view/data-engineer-ii-data-platform-at-ziff-davis-4145799613?refId=7mJssYg8XhxL6SCi8sFlZQ%3D%3D&trackingId=qL8JytFn7IlCgwTTKMEaRA%3D%3D&position=10&pageNum=7\n",
      "------------------------------------------------\n",
      "Num intentos: 1, URL: https://es.linkedin.com/jobs/view/data-engineer-sector-e%C3%B3lico-madrid-o-pamplona-at-eosol-4144163736?refId=7mJssYg8XhxL6SCi8sFlZQ%3D%3D&trackingId=6ps6%2B0%2F0YklObNxUlDPXKQ%3D%3D&position=14&pageNum=7\n"
     ]
    },
    {
     "name": "stderr",
     "output_type": "stream",
     "text": [
      "  6%|▌         | 56/973 [01:33<25:27,  1.67s/it]"
     ]
    },
    {
     "name": "stdout",
     "output_type": "stream",
     "text": [
      "------------------------------------------------\n"
     ]
    },
    {
     "name": "stderr",
     "output_type": "stream",
     "text": [
      "  6%|▌         | 57/973 [01:35<25:40,  1.68s/it]"
     ]
    },
    {
     "name": "stdout",
     "output_type": "stream",
     "text": [
      "Num intentos: 1, URL: https://es.linkedin.com/jobs/view/data-engineer-fintech-at-ebury-4127505577?refId=XzILX%2FJyntX%2BslwEYSdfAA%3D%3D&trackingId=BN5INr3fsUT7uc4AqT614Q%3D%3D&position=8&pageNum=8\n",
      "------------------------------------------------\n"
     ]
    },
    {
     "name": "stderr",
     "output_type": "stream",
     "text": [
      "  6%|▌         | 58/973 [01:37<25:57,  1.70s/it]"
     ]
    },
    {
     "name": "stdout",
     "output_type": "stream",
     "text": [
      "Num intentos: 1, URL: https://es.linkedin.com/jobs/view/data-analyst-specialist-madrid-12212-at-naturgy-4123383228?refId=XzILX%2FJyntX%2BslwEYSdfAA%3D%3D&trackingId=X90GGUqE1B%2BB0WLIuqXq%2Bg%3D%3D&position=12&pageNum=8\n",
      "------------------------------------------------\n"
     ]
    },
    {
     "name": "stderr",
     "output_type": "stream",
     "text": [
      "  6%|▌         | 59/973 [01:38<25:05,  1.65s/it]"
     ]
    },
    {
     "name": "stdout",
     "output_type": "stream",
     "text": [
      "Num intentos: 1, URL: https://es.linkedin.com/jobs/view/bi-data-visualization-at-grupo-digital-4144168052?refId=zQtuxswf5sFpuL%2FkUwXZIw%3D%3D&trackingId=x%2BDpjZlCe79Q3jP84NLUgw%3D%3D&position=6&pageNum=9\n",
      "------------------------------------------------\n"
     ]
    },
    {
     "name": "stderr",
     "output_type": "stream",
     "text": [
      "  6%|▌         | 60/973 [01:40<23:58,  1.58s/it]"
     ]
    },
    {
     "name": "stdout",
     "output_type": "stream",
     "text": [
      "Num intentos: 1, URL: https://es.linkedin.com/jobs/view/bi-data-visualization-at-grupo-digital-4144168052?refId=lLfUMnXEaEcpWjyocCqvfg%3D%3D&trackingId=TWbm3nX%2BPc1nihZYvLmOJQ%3D%3D&position=14&pageNum=10\n",
      "------------------------------------------------\n"
     ]
    },
    {
     "name": "stderr",
     "output_type": "stream",
     "text": [
      "  6%|▋         | 61/973 [01:41<24:45,  1.63s/it]"
     ]
    },
    {
     "name": "stdout",
     "output_type": "stream",
     "text": [
      "Num intentos: 1, URL: https://es.linkedin.com/jobs/view/data-analyst-at-expleo-group-4145961789?refId=lLfUMnXEaEcpWjyocCqvfg%3D%3D&trackingId=OYPVazLZU7b9qDI5yiO3zA%3D%3D&position=25&pageNum=10\n",
      "------------------------------------------------\n"
     ]
    },
    {
     "name": "stderr",
     "output_type": "stream",
     "text": [
      "  6%|▋         | 62/973 [01:43<25:52,  1.70s/it]"
     ]
    },
    {
     "name": "stdout",
     "output_type": "stream",
     "text": [
      "Num intentos: 1, URL: https://es.linkedin.com/jobs/view/senior-analytics-engineer-at-ctaima-4145954604?refId=1gxsBjCoxyvxl5YEGDjwHQ%3D%3D&trackingId=59V7j7Fx7ew9S6%2B9G6hcXg%3D%3D&position=19&pageNum=12\n",
      "------------------------------------------------\n",
      "Num intentos: 1, URL: https://es.linkedin.com/jobs/view/software-engineer-front-end-developer-m-f-x-at-deutsche-bank-3991542137?refId=WE0nbdRCjRzYQ%2BMa7Jlfcw%3D%3D&trackingId=al1T0%2BEgBerCuNk6GeVOEQ%3D%3D&position=22&pageNum=13\n"
     ]
    },
    {
     "name": "stderr",
     "output_type": "stream",
     "text": [
      "  6%|▋         | 63/973 [01:46<28:33,  1.88s/it]"
     ]
    },
    {
     "name": "stdout",
     "output_type": "stream",
     "text": [
      "------------------------------------------------\n"
     ]
    },
    {
     "name": "stderr",
     "output_type": "stream",
     "text": [
      "  7%|▋         | 64/973 [01:47<27:32,  1.82s/it]"
     ]
    },
    {
     "name": "stdout",
     "output_type": "stream",
     "text": [
      "Num intentos: 1, URL: https://es.linkedin.com/jobs/view/data-analytics-specialist-at-metlife-espa%C3%B1a-4143720000?refId=kEewYSP0sda%2BAS9qJ05byw%3D%3D&trackingId=GOAqP9E5ZuEQv8EKyX1WZA%3D%3D&position=12&pageNum=15\n",
      "------------------------------------------------\n"
     ]
    },
    {
     "name": "stderr",
     "output_type": "stream",
     "text": [
      "  7%|▋         | 65/973 [01:49<27:45,  1.83s/it]"
     ]
    },
    {
     "name": "stdout",
     "output_type": "stream",
     "text": [
      "Num intentos: 1, URL: https://es.linkedin.com/jobs/view/data-operations-engineer-specialist-at-clarity-ai-4145946412?refId=kEewYSP0sda%2BAS9qJ05byw%3D%3D&trackingId=3y%2BgG7IgMsap9BN0kh4mlA%3D%3D&position=19&pageNum=15\n",
      "------------------------------------------------\n"
     ]
    },
    {
     "name": "stderr",
     "output_type": "stream",
     "text": [
      "  7%|▋         | 66/973 [01:50<24:40,  1.63s/it]"
     ]
    },
    {
     "name": "stdout",
     "output_type": "stream",
     "text": [
      "Num intentos: 1, URL: https://es.linkedin.com/jobs/view/analista-de-visualizaci%C3%B3n-de-datos-junior-at-randstad-espa%C3%B1a-4125920759?refId=5iMqGO1%2FHzfh4hS6zDhIBw%3D%3D&trackingId=HggPEI%2Fdc1WSNzBRrU0oqA%3D%3D&position=3&pageNum=17\n",
      "------------------------------------------------\n"
     ]
    },
    {
     "name": "stderr",
     "output_type": "stream",
     "text": [
      "  7%|▋         | 67/973 [01:52<24:26,  1.62s/it]"
     ]
    },
    {
     "name": "stdout",
     "output_type": "stream",
     "text": [
      "Num intentos: 1, URL: https://es.linkedin.com/jobs/view/senior-aws-data-engineer-at-cognizant-4144854870?refId=5iMqGO1%2FHzfh4hS6zDhIBw%3D%3D&trackingId=sxEbo6WP1Cmv0ZOH4tZgDw%3D%3D&position=17&pageNum=17\n",
      "------------------------------------------------\n"
     ]
    },
    {
     "name": "stderr",
     "output_type": "stream",
     "text": [
      "  7%|▋         | 68/973 [01:53<23:58,  1.59s/it]"
     ]
    },
    {
     "name": "stdout",
     "output_type": "stream",
     "text": [
      "Num intentos: 1, URL: https://es.linkedin.com/jobs/view/java-software-engineer-remoto-i-hexagonal-at-knowmad-mood-4124882758?refId=5iMqGO1%2FHzfh4hS6zDhIBw%3D%3D&trackingId=AblVa2yBq5iaE5qXecJJ6w%3D%3D&position=22&pageNum=17\n",
      "------------------------------------------------\n"
     ]
    },
    {
     "name": "stderr",
     "output_type": "stream",
     "text": [
      "  7%|▋         | 69/973 [01:55<24:12,  1.61s/it]"
     ]
    },
    {
     "name": "stdout",
     "output_type": "stream",
     "text": [
      "Num intentos: 1, URL: https://es.linkedin.com/jobs/view/senior-software-engineer-kotlin-java-all-genders-at-zooplus-4145902812?refId=FdMdL4No5nsuHtAaKxXehg%3D%3D&trackingId=2AC8z0cT2pJuvJROP0Giew%3D%3D&position=10&pageNum=18\n",
      "------------------------------------------------\n",
      "Num intentos: 1, URL: https://es.linkedin.com/jobs/view/internship-business-intelligence-at-johnson-johnson-4144165471?refId=jlTvqtUYEFUTXMPpb2kHVA%3D%3D&trackingId=9uLuTs8OWaHX25CwgTbJyQ%3D%3D&position=17&pageNum=19\n"
     ]
    },
    {
     "name": "stderr",
     "output_type": "stream",
     "text": [
      "  7%|▋         | 70/973 [01:57<23:32,  1.56s/it]"
     ]
    },
    {
     "name": "stdout",
     "output_type": "stream",
     "text": [
      "------------------------------------------------\n"
     ]
    },
    {
     "name": "stderr",
     "output_type": "stream",
     "text": [
      "  7%|▋         | 71/973 [01:58<23:54,  1.59s/it]"
     ]
    },
    {
     "name": "stdout",
     "output_type": "stream",
     "text": [
      "Num intentos: 1, URL: https://es.linkedin.com/jobs/view/analytics-senior-analyst-at-deutsche-bank-4105019668?refId=jlTvqtUYEFUTXMPpb2kHVA%3D%3D&trackingId=5EU9ZMv0XtwuDlrJiSj12g%3D%3D&position=20&pageNum=19\n",
      "------------------------------------------------\n"
     ]
    },
    {
     "name": "stderr",
     "output_type": "stream",
     "text": [
      "  7%|▋         | 72/973 [02:00<23:28,  1.56s/it]"
     ]
    },
    {
     "name": "stdout",
     "output_type": "stream",
     "text": [
      "Num intentos: 1, URL: https://es.linkedin.com/jobs/view/senior-engineer-ai-embedded-software-italy-based-at-axelera-ai-4145182129?refId=RVoI%2BWwn15hCaFEnz4TWeA%3D%3D&trackingId=R5SW5DWBVZWKAdslPdhJEg%3D%3D&position=4&pageNum=20\n",
      "------------------------------------------------\n"
     ]
    },
    {
     "name": "stderr",
     "output_type": "stream",
     "text": [
      "  8%|▊         | 73/973 [02:01<22:24,  1.49s/it]"
     ]
    },
    {
     "name": "stdout",
     "output_type": "stream",
     "text": [
      "Num intentos: 1, URL: https://es.linkedin.com/jobs/view/consultor-a-dei-data-engineering-integration-at-ayesa-4144129584?refId=RVoI%2BWwn15hCaFEnz4TWeA%3D%3D&trackingId=VMZHmIu6swb9zcrEKJhFog%3D%3D&position=10&pageNum=20\n",
      "------------------------------------------------\n"
     ]
    },
    {
     "name": "stderr",
     "output_type": "stream",
     "text": [
      "  8%|▊         | 74/973 [02:02<22:05,  1.47s/it]"
     ]
    },
    {
     "name": "stdout",
     "output_type": "stream",
     "text": [
      "Num intentos: 1, URL: https://es.linkedin.com/jobs/view/business-intelligence-specialist-at-daiichi-sankyo-europe-gmbh-4145924146?refId=RVoI%2BWwn15hCaFEnz4TWeA%3D%3D&trackingId=DtsQGg59iMhLvGUrqtTgZg%3D%3D&position=13&pageNum=20\n",
      "------------------------------------------------\n"
     ]
    },
    {
     "name": "stderr",
     "output_type": "stream",
     "text": [
      "  8%|▊         | 75/973 [02:05<25:13,  1.69s/it]"
     ]
    },
    {
     "name": "stdout",
     "output_type": "stream",
     "text": [
      "Num intentos: 1, URL: https://es.linkedin.com/jobs/view/analytics-senior-analyst-at-deutsche-bank-4105019668?refId=RVoI%2BWwn15hCaFEnz4TWeA%3D%3D&trackingId=SWdO5X4oSUSOAvSA%2FwKv3g%3D%3D&position=22&pageNum=20\n",
      "------------------------------------------------\n",
      "Num intentos: 1, URL: https://es.linkedin.com/jobs/view/software-performance-engineer-android-kotlin-at-tomtom-4123652938?refId=RVoI%2BWwn15hCaFEnz4TWeA%3D%3D&trackingId=Y7oNmieiiRdk9einhhvcfA%3D%3D&position=25&pageNum=20\n"
     ]
    },
    {
     "name": "stderr",
     "output_type": "stream",
     "text": [
      "  8%|▊         | 76/973 [02:07<26:24,  1.77s/it]"
     ]
    },
    {
     "name": "stdout",
     "output_type": "stream",
     "text": [
      "------------------------------------------------\n"
     ]
    },
    {
     "name": "stderr",
     "output_type": "stream",
     "text": [
      "  8%|▊         | 77/973 [02:08<25:42,  1.72s/it]"
     ]
    },
    {
     "name": "stdout",
     "output_type": "stream",
     "text": [
      "Num intentos: 1, URL: https://es.linkedin.com/jobs/view/senior-software-engineer-kotlin-java-all-genders-at-zooplus-4145902812?refId=LtGvNDRbIiqTwa1XzDQk5w%3D%3D&trackingId=XTvhz4hm2GQfQzThotiJWQ%3D%3D&position=1&pageNum=21\n",
      "------------------------------------------------\n"
     ]
    },
    {
     "name": "stderr",
     "output_type": "stream",
     "text": [
      "  8%|▊         | 78/973 [02:10<25:04,  1.68s/it]"
     ]
    },
    {
     "name": "stdout",
     "output_type": "stream",
     "text": [
      "Num intentos: 1, URL: https://es.linkedin.com/jobs/view/it-system-engineer-empresa-fabricante-hw-h-m-d-at-talented-international-4145919115?refId=LtGvNDRbIiqTwa1XzDQk5w%3D%3D&trackingId=8ZmCtgwEv8c7rS9N6vvZRA%3D%3D&position=8&pageNum=21\n",
      "------------------------------------------------\n"
     ]
    },
    {
     "name": "stderr",
     "output_type": "stream",
     "text": [
      "  8%|▊         | 79/973 [02:11<23:39,  1.59s/it]"
     ]
    },
    {
     "name": "stdout",
     "output_type": "stream",
     "text": [
      "Num intentos: 1, URL: https://es.linkedin.com/jobs/view/software-engineer-isr-mission-systems-at-airbus-defence-and-space-4081274981?refId=LtGvNDRbIiqTwa1XzDQk5w%3D%3D&trackingId=1z5ygNO1VFgZITXjLM9g%2Fg%3D%3D&position=13&pageNum=21\n",
      "------------------------------------------------\n"
     ]
    },
    {
     "name": "stderr",
     "output_type": "stream",
     "text": [
      "  8%|▊         | 80/973 [02:13<24:07,  1.62s/it]"
     ]
    },
    {
     "name": "stdout",
     "output_type": "stream",
     "text": [
      "Num intentos: 1, URL: https://es.linkedin.com/jobs/view/system-engineer-%E2%80%93-hybrid-cloud-infrastructure-x-f-m-hybrid-at-sartorius-4124735682?refId=LtGvNDRbIiqTwa1XzDQk5w%3D%3D&trackingId=j9OXrkhOjf4cqLh9%2FTh1xQ%3D%3D&position=17&pageNum=21\n",
      "------------------------------------------------\n"
     ]
    },
    {
     "name": "stderr",
     "output_type": "stream",
     "text": [
      "  8%|▊         | 81/973 [02:15<24:13,  1.63s/it]"
     ]
    },
    {
     "name": "stdout",
     "output_type": "stream",
     "text": [
      "Num intentos: 1, URL: https://es.linkedin.com/jobs/view/senior-software-engineer-cross-border-payments-madrid-barcelona-at-deutsche-bank-3997021232?refId=LtGvNDRbIiqTwa1XzDQk5w%3D%3D&trackingId=Yf2cJVk9M1putEIEsOLuEQ%3D%3D&position=18&pageNum=21\n",
      "------------------------------------------------\n"
     ]
    },
    {
     "name": "stderr",
     "output_type": "stream",
     "text": [
      "  8%|▊         | 82/973 [02:16<24:16,  1.63s/it]"
     ]
    },
    {
     "name": "stdout",
     "output_type": "stream",
     "text": [
      "Num intentos: 1, URL: https://es.linkedin.com/jobs/view/senior-software-engineer-embedded-devices-at-amazon-3903408984?refId=mXSy218UvW9GMbgT3jByKg%3D%3D&trackingId=7uBH1vscpVnqSN22B7dKAg%3D%3D&position=5&pageNum=22\n",
      "------------------------------------------------\n"
     ]
    },
    {
     "name": "stderr",
     "output_type": "stream",
     "text": [
      "  9%|▊         | 83/973 [02:18<23:51,  1.61s/it]"
     ]
    },
    {
     "name": "stdout",
     "output_type": "stream",
     "text": [
      "Num intentos: 1, URL: https://es.linkedin.com/jobs/view/data-governance-monitoring-cdo-openbank-at-openbank-4070746517?refId=mXSy218UvW9GMbgT3jByKg%3D%3D&trackingId=lx%2BS6juEiZdJ7K%2BI0p16pw%3D%3D&position=17&pageNum=22\n",
      "------------------------------------------------\n",
      "Num intentos: 1, URL: https://es.linkedin.com/jobs/view/data-analytics-platform-architect-at-hitachi-energy-4089961588?refId=mXSy218UvW9GMbgT3jByKg%3D%3D&trackingId=mQaXAPgVg%2FfkBIqMD5g%2F9w%3D%3D&position=20&pageNum=22\n"
     ]
    },
    {
     "name": "stderr",
     "output_type": "stream",
     "text": [
      "  9%|▊         | 84/973 [02:20<25:07,  1.70s/it]"
     ]
    },
    {
     "name": "stdout",
     "output_type": "stream",
     "text": [
      "------------------------------------------------\n"
     ]
    },
    {
     "name": "stderr",
     "output_type": "stream",
     "text": [
      "  9%|▊         | 85/973 [02:21<24:04,  1.63s/it]"
     ]
    },
    {
     "name": "stdout",
     "output_type": "stream",
     "text": [
      "Num intentos: 1, URL: https://es.linkedin.com/jobs/view/consultor-senior-power-bi-at-ad4-oct%C3%B3gono-4145481566?refId=mXSy218UvW9GMbgT3jByKg%3D%3D&trackingId=hxVl7jNlnT4%2BkqspbHwZFA%3D%3D&position=22&pageNum=22\n",
      "------------------------------------------------\n"
     ]
    },
    {
     "name": "stderr",
     "output_type": "stream",
     "text": [
      "  9%|▉         | 86/973 [02:23<23:16,  1.57s/it]"
     ]
    },
    {
     "name": "stdout",
     "output_type": "stream",
     "text": [
      "Num intentos: 1, URL: https://es.linkedin.com/jobs/view/continues-development-internship-madrid-at-abbott-4145975105?refId=6nUlb6gH8Ge0cwv7vGKOxQ%3D%3D&trackingId=pv21yklnd94xcNB1F5bwNg%3D%3D&position=6&pageNum=24\n",
      "------------------------------------------------\n"
     ]
    },
    {
     "name": "stderr",
     "output_type": "stream",
     "text": [
      "  9%|▉         | 87/973 [02:24<24:28,  1.66s/it]"
     ]
    },
    {
     "name": "stdout",
     "output_type": "stream",
     "text": [
      "Num intentos: 1, URL: https://es.linkedin.com/jobs/view/senior-software-engineer-tibco-bpm-to-uflow-migration-madrid-barcelona-at-deutsche-bank-3997017761?refId=6nUlb6gH8Ge0cwv7vGKOxQ%3D%3D&trackingId=FHG%2BIN9IPmAFA4WApxuk3Q%3D%3D&position=19&pageNum=24\n",
      "------------------------------------------------\n"
     ]
    },
    {
     "name": "stderr",
     "output_type": "stream",
     "text": [
      "  9%|▉         | 88/973 [02:26<23:09,  1.57s/it]"
     ]
    },
    {
     "name": "stdout",
     "output_type": "stream",
     "text": [
      "Num intentos: 1, URL: https://es.linkedin.com/jobs/view/senior-data-analyst-at-havas-media-network-espa%C3%B1a-4145961916?refId=xndk4q%2FZdLhddgb2PRN9DQ%3D%3D&trackingId=GO%2FkvsM6dWOpDgnLETx2yQ%3D%3D&position=2&pageNum=25\n",
      "------------------------------------------------\n"
     ]
    },
    {
     "name": "stderr",
     "output_type": "stream",
     "text": [
      "  9%|▉         | 89/973 [02:28<24:02,  1.63s/it]"
     ]
    },
    {
     "name": "stdout",
     "output_type": "stream",
     "text": [
      "Num intentos: 1, URL: https://es.linkedin.com/jobs/view/advanced-support-engineer-database-at-oracle-4143752414?refId=%2Fq8IkmAC8FsOi3L4LWt3mA%3D%3D&trackingId=sR%2BbOX439Unx5uif7TN32w%3D%3D&position=11&pageNum=26\n",
      "------------------------------------------------\n"
     ]
    },
    {
     "name": "stderr",
     "output_type": "stream",
     "text": [
      "  9%|▉         | 90/973 [02:29<23:51,  1.62s/it]"
     ]
    },
    {
     "name": "stdout",
     "output_type": "stream",
     "text": [
      "Num intentos: 1, URL: https://es.linkedin.com/jobs/view/senior-software-engineer-release-platforms-at-datadog-3965442723?refId=27zDqnaAzgOwPOyBAP6gyA%3D%3D&trackingId=TNzElLy%2FLFBiaaKK%2B0EVwQ%3D%3D&position=6&pageNum=28\n",
      "------------------------------------------------\n",
      "Num intentos: 1, URL: https://es.linkedin.com/jobs/view/head-of-databricks-center-of-excellence-at-epam-systems-4084886543?refId=27zDqnaAzgOwPOyBAP6gyA%3D%3D&trackingId=yIW5UMVgzXv%2FNDEA27iSvg%3D%3D&position=20&pageNum=28\n"
     ]
    },
    {
     "name": "stderr",
     "output_type": "stream",
     "text": [
      "  9%|▉         | 91/973 [02:31<24:42,  1.68s/it]"
     ]
    },
    {
     "name": "stdout",
     "output_type": "stream",
     "text": [
      "------------------------------------------------\n"
     ]
    },
    {
     "name": "stderr",
     "output_type": "stream",
     "text": [
      "  9%|▉         | 92/973 [02:33<24:01,  1.64s/it]"
     ]
    },
    {
     "name": "stdout",
     "output_type": "stream",
     "text": [
      "Num intentos: 1, URL: https://es.linkedin.com/jobs/view/pr%C3%A1cticas-gobierno-del-dato-atr-madrid-12207-at-naturgy-4119207583?refId=BzKsdm%2FLcWVFlzPY6XXEyg%3D%3D&trackingId=WBXbdra6ALFtQh34wyjBgQ%3D%3D&position=22&pageNum=29\n",
      "------------------------------------------------\n"
     ]
    },
    {
     "name": "stderr",
     "output_type": "stream",
     "text": [
      " 10%|▉         | 93/973 [02:34<23:26,  1.60s/it]"
     ]
    },
    {
     "name": "stdout",
     "output_type": "stream",
     "text": [
      "Num intentos: 1, URL: https://es.linkedin.com/jobs/view/software-engineer-java-at-inetum-4125918174?refId=4T3q6%2BDUDS%2Fwfb0hIc%2BkJw%3D%3D&trackingId=RunohXv6980c86tAwrcZLw%3D%3D&position=4&pageNum=30\n",
      "------------------------------------------------\n"
     ]
    },
    {
     "name": "stderr",
     "output_type": "stream",
     "text": [
      " 10%|▉         | 94/973 [02:36<23:42,  1.62s/it]"
     ]
    },
    {
     "name": "stdout",
     "output_type": "stream",
     "text": [
      "Num intentos: 1, URL: https://es.linkedin.com/jobs/view/2025-software-development-engineer-intern-embedded-development-at-amazon-4071890759?refId=pvzzDZKJw%2BBNu7o7uLGHhw%3D%3D&trackingId=Hg8vaMEm3mKMgmbafRaXzw%3D%3D&position=3&pageNum=31\n",
      "------------------------------------------------\n"
     ]
    },
    {
     "name": "stderr",
     "output_type": "stream",
     "text": [
      " 10%|▉         | 95/973 [02:37<23:49,  1.63s/it]"
     ]
    },
    {
     "name": "stdout",
     "output_type": "stream",
     "text": [
      "Num intentos: 1, URL: https://es.linkedin.com/jobs/view/senior-software-engineer-frontend-at-datadog-3694163449?refId=pvzzDZKJw%2BBNu7o7uLGHhw%3D%3D&trackingId=Z8idTmfFqyaTy1nY03InyQ%3D%3D&position=4&pageNum=31\n",
      "------------------------------------------------\n"
     ]
    },
    {
     "name": "stderr",
     "output_type": "stream",
     "text": [
      " 10%|▉         | 96/973 [02:39<23:19,  1.60s/it]"
     ]
    },
    {
     "name": "stdout",
     "output_type": "stream",
     "text": [
      "Num intentos: 1, URL: https://es.linkedin.com/jobs/view/pricing-data-scientist-at-prima-4008659320?refId=pvzzDZKJw%2BBNu7o7uLGHhw%3D%3D&trackingId=SX3Z%2BNekytvToqmKflWUaQ%3D%3D&position=17&pageNum=31\n",
      "------------------------------------------------\n",
      "Num intentos: 1, URL: https://es.linkedin.com/jobs/view/senior-software-engineer-c%23-fintech-at-client-server-4145778441?refId=pvzzDZKJw%2BBNu7o7uLGHhw%3D%3D&trackingId=ORhioGlCRkPfcTGy%2Fp4QYQ%3D%3D&position=24&pageNum=31\n"
     ]
    },
    {
     "name": "stderr",
     "output_type": "stream",
     "text": [
      " 10%|▉         | 97/973 [02:41<24:04,  1.65s/it]"
     ]
    },
    {
     "name": "stdout",
     "output_type": "stream",
     "text": [
      "------------------------------------------------\n"
     ]
    },
    {
     "name": "stderr",
     "output_type": "stream",
     "text": [
      " 10%|█         | 98/973 [02:42<24:41,  1.69s/it]"
     ]
    },
    {
     "name": "stdout",
     "output_type": "stream",
     "text": [
      "Num intentos: 1, URL: https://es.linkedin.com/jobs/view/value-engineer-growth-turkish-speaker-at-celonis-4047660002?refId=iogc%2B4XiXLpYrKPr7Us7Lw%3D%3D&trackingId=L%2BVeyC3%2BzAI47t9a0E0QIg%3D%3D&position=16&pageNum=32\n",
      "------------------------------------------------\n"
     ]
    },
    {
     "name": "stderr",
     "output_type": "stream",
     "text": [
      " 10%|█         | 99/973 [02:44<24:52,  1.71s/it]"
     ]
    },
    {
     "name": "stdout",
     "output_type": "stream",
     "text": [
      "Num intentos: 1, URL: https://es.linkedin.com/jobs/view/senior-security-operations-engineer-at-pleo-4119695764?refId=GB%2Fwwj7Zi4x1VtaSwZK9nQ%3D%3D&trackingId=mfsEfOy7n8Vm%2Fk1gxZ954g%3D%3D&position=8&pageNum=33\n",
      "------------------------------------------------\n"
     ]
    },
    {
     "name": "stderr",
     "output_type": "stream",
     "text": [
      " 10%|█         | 100/973 [02:46<25:06,  1.73s/it]"
     ]
    },
    {
     "name": "stdout",
     "output_type": "stream",
     "text": [
      "Num intentos: 1, URL: https://es.linkedin.com/jobs/view/software-development-engineer-invoice-by-amazon-at-amazon-3972022073?refId=GB%2Fwwj7Zi4x1VtaSwZK9nQ%3D%3D&trackingId=9aFE1BIoFuZCaKF7%2FXkLHg%3D%3D&position=17&pageNum=33\n",
      "------------------------------------------------\n"
     ]
    },
    {
     "name": "stderr",
     "output_type": "stream",
     "text": [
      " 10%|█         | 101/973 [02:48<25:52,  1.78s/it]"
     ]
    },
    {
     "name": "stdout",
     "output_type": "stream",
     "text": [
      "Num intentos: 1, URL: https://es.linkedin.com/jobs/view/software-engineer-kafka-platform-at-new-relic-4106767412?refId=GB%2Fwwj7Zi4x1VtaSwZK9nQ%3D%3D&trackingId=7ut1bKLUPNd%2FN5mQpf%2FpqQ%3D%3D&position=20&pageNum=33\n",
      "------------------------------------------------\n"
     ]
    },
    {
     "name": "stderr",
     "output_type": "stream",
     "text": [
      " 10%|█         | 102/973 [02:49<24:05,  1.66s/it]"
     ]
    },
    {
     "name": "stdout",
     "output_type": "stream",
     "text": [
      "Num intentos: 1, URL: https://es.linkedin.com/jobs/view/data-scientist-at-segurcaixa-adeslas-4121116151?refId=jYUCayDj5AktnYUNOxZvEQ%3D%3D&trackingId=%2B%2BGY6OTCoT5WqCwUfkcVEg%3D%3D&position=15&pageNum=34\n",
      "------------------------------------------------\n"
     ]
    },
    {
     "name": "stderr",
     "output_type": "stream",
     "text": [
      " 11%|█         | 103/973 [02:51<23:52,  1.65s/it]"
     ]
    },
    {
     "name": "stdout",
     "output_type": "stream",
     "text": [
      "Num intentos: 1, URL: https://es.linkedin.com/jobs/view/quality-assurance-engineer-at-nationale-nederlanden-4146912934?refId=jYUCayDj5AktnYUNOxZvEQ%3D%3D&trackingId=i10BpefHgJt67nL%2Bp7btEA%3D%3D&position=25&pageNum=34\n",
      "------------------------------------------------\n"
     ]
    },
    {
     "name": "stderr",
     "output_type": "stream",
     "text": [
      " 11%|█         | 104/973 [02:53<24:22,  1.68s/it]"
     ]
    },
    {
     "name": "stdout",
     "output_type": "stream",
     "text": [
      "Num intentos: 1, URL: https://es.linkedin.com/jobs/view/programmatic-specialist-at-seedtag-4145922709?refId=k9%2FkRnfSBzcobArEZmRAig%3D%3D&trackingId=dgDhtnO0HTt780RS%2FZovpw%3D%3D&position=24&pageNum=35\n",
      "------------------------------------------------\n"
     ]
    },
    {
     "name": "stderr",
     "output_type": "stream",
     "text": [
      " 11%|█         | 105/973 [02:54<24:57,  1.73s/it]"
     ]
    },
    {
     "name": "stdout",
     "output_type": "stream",
     "text": [
      "Num intentos: 1, URL: https://es.linkedin.com/jobs/view/c%2B%2B-software-engineer-generalist-american-football-at-electronic-arts-ea-4117143047?refId=M92tBlvFSrvwBHhPL3Il6Q%3D%3D&trackingId=I2E%2FHmW9vMo%2BsaKFsPejCQ%3D%3D&position=19&pageNum=37\n",
      "------------------------------------------------\n"
     ]
    },
    {
     "name": "stderr",
     "output_type": "stream",
     "text": [
      " 11%|█         | 106/973 [02:56<25:56,  1.80s/it]"
     ]
    },
    {
     "name": "stdout",
     "output_type": "stream",
     "text": [
      "Num intentos: 1, URL: https://es.linkedin.com/jobs/view/java-software-engineer-checkout-hybrid-at-edreams-odigeo-4077621765?refId=4aUxUe7ReM%2FfmMEQZ%2Bz1sA%3D%3D&trackingId=02DWTb3dExi%2Bv4Nv4nzqnQ%3D%3D&position=10&pageNum=38\n",
      "------------------------------------------------\n"
     ]
    },
    {
     "name": "stderr",
     "output_type": "stream",
     "text": [
      " 11%|█         | 107/973 [02:58<25:59,  1.80s/it]"
     ]
    },
    {
     "name": "stdout",
     "output_type": "stream",
     "text": [
      "Num intentos: 1, URL: https://es.linkedin.com/jobs/view/data-scientist-at-publicis-groupe-espa%C3%B1a-4097066075?refId=4aUxUe7ReM%2FfmMEQZ%2Bz1sA%3D%3D&trackingId=%2FQRY5ieVZolYxUsPEupmdQ%3D%3D&position=23&pageNum=38\n",
      "------------------------------------------------\n"
     ]
    },
    {
     "name": "stderr",
     "output_type": "stream",
     "text": [
      " 11%|█         | 108/973 [03:00<24:41,  1.71s/it]"
     ]
    },
    {
     "name": "stdout",
     "output_type": "stream",
     "text": [
      "Num intentos: 1, URL: https://es.linkedin.com/jobs/view/sr-software-development-engineer-ab-cart-at-amazon-4074363999?refId=4aUxUe7ReM%2FfmMEQZ%2Bz1sA%3D%3D&trackingId=ZvXhmmu2r2%2FExNIzpvkfyw%3D%3D&position=25&pageNum=38\n",
      "------------------------------------------------\n"
     ]
    },
    {
     "name": "stderr",
     "output_type": "stream",
     "text": [
      " 11%|█         | 109/973 [03:01<24:31,  1.70s/it]"
     ]
    },
    {
     "name": "stdout",
     "output_type": "stream",
     "text": [
      "Num intentos: 1, URL: https://es.linkedin.com/jobs/view/software-quality-assurance-analyst-engineer-at-apex-group-ltd-4102804712?refId=xPrcwAXkZO4mu5jDn0JJDg%3D%3D&trackingId=Uiah%2Be2XrzI%2FrIGCJBonsg%3D%3D&position=9&pageNum=39\n",
      "------------------------------------------------\n",
      "Num intentos: 1, URL: https://es.linkedin.com/jobs/view/senior-manager-data-scientist-cssc-at-coca-cola-europacific-partners-4145904212?refId=xPrcwAXkZO4mu5jDn0JJDg%3D%3D&trackingId=3nuGazB3aJE8j7Gf0aDa8Q%3D%3D&position=15&pageNum=39\n"
     ]
    },
    {
     "name": "stderr",
     "output_type": "stream",
     "text": [
      " 11%|█▏        | 110/973 [03:03<24:23,  1.70s/it]"
     ]
    },
    {
     "name": "stdout",
     "output_type": "stream",
     "text": [
      "------------------------------------------------\n"
     ]
    },
    {
     "name": "stderr",
     "output_type": "stream",
     "text": [
      " 11%|█▏        | 111/973 [03:04<23:07,  1.61s/it]"
     ]
    },
    {
     "name": "stdout",
     "output_type": "stream",
     "text": [
      "Num intentos: 1, URL: https://es.linkedin.com/jobs/view/data-engineer-junior-%E2%80%93-spark-scala-at-it-partner-4143517293?refId=5lUV4%2FNAtY0kytHF7H9LFw%3D%3D&trackingId=io8oE36GsSpONy4Bq2zKbg%3D%3D&position=9&pageNum=0\n",
      "------------------------------------------------\n"
     ]
    },
    {
     "name": "stderr",
     "output_type": "stream",
     "text": [
      " 12%|█▏        | 112/973 [03:06<22:43,  1.58s/it]"
     ]
    },
    {
     "name": "stdout",
     "output_type": "stream",
     "text": [
      "Num intentos: 1, URL: https://es.linkedin.com/jobs/view/data-analytics-engineer-at-kilo-health-4146217157?refId=gl%2Bd7kBz9WLFJeX%2Bk722Sg%3D%3D&trackingId=79bCfwWHRrOkBJ4%2B5E7%2FAQ%3D%3D&position=1&pageNum=1\n",
      "------------------------------------------------\n"
     ]
    },
    {
     "name": "stderr",
     "output_type": "stream",
     "text": [
      " 12%|█▏        | 113/973 [03:08<23:21,  1.63s/it]"
     ]
    },
    {
     "name": "stdout",
     "output_type": "stream",
     "text": [
      "Num intentos: 1, URL: https://es.linkedin.com/jobs/view/data-engineer-%E2%80%93-spark-scala-at-grupo-tecdata-engineering-4144999494?refId=0lQEwrH3pQrcnHMZEPdE6Q%3D%3D&trackingId=OL%2BueOF7N%2BJUlbYbVNVVlg%3D%3D&position=13&pageNum=3\n",
      "------------------------------------------------\n"
     ]
    },
    {
     "name": "stderr",
     "output_type": "stream",
     "text": [
      " 12%|█▏        | 114/973 [03:09<23:45,  1.66s/it]"
     ]
    },
    {
     "name": "stdout",
     "output_type": "stream",
     "text": [
      "Num intentos: 1, URL: https://es.linkedin.com/jobs/view/senior-data-engineer-azure-databricks-at-capgemini-4072586493?refId=0lQEwrH3pQrcnHMZEPdE6Q%3D%3D&trackingId=q0UYJqGZkbHvisfNV2HbnA%3D%3D&position=17&pageNum=3\n",
      "------------------------------------------------\n"
     ]
    },
    {
     "name": "stderr",
     "output_type": "stream",
     "text": [
      " 12%|█▏        | 115/973 [03:11<22:55,  1.60s/it]"
     ]
    },
    {
     "name": "stdout",
     "output_type": "stream",
     "text": [
      "Num intentos: 1, URL: https://es.linkedin.com/jobs/view/big-data-engineer-at-plexus-tech-4143518055?refId=syd0D2KoXmexQAiehNkiZA%3D%3D&trackingId=V2OFi3Hm67%2FCv3H4leAkZQ%3D%3D&position=17&pageNum=4\n",
      "------------------------------------------------\n"
     ]
    },
    {
     "name": "stderr",
     "output_type": "stream",
     "text": [
      " 12%|█▏        | 116/973 [03:12<22:25,  1.57s/it]"
     ]
    },
    {
     "name": "stdout",
     "output_type": "stream",
     "text": [
      "Num intentos: 1, URL: https://es.linkedin.com/jobs/view/data-engineer-at-sg-tech-4145060962?refId=NfI1oXKEWAziniZHawNbcA%3D%3D&trackingId=5fLmwaiW8TWbNyi3im6j1g%3D%3D&position=2&pageNum=5\n",
      "------------------------------------------------\n",
      "Num intentos: 1, URL: https://es.linkedin.com/jobs/view/data-engineer-datastage-at-logicalis-spain-4146216249?refId=NfI1oXKEWAziniZHawNbcA%3D%3D&trackingId=RRCWd1aey54jWh7bAP04Nw%3D%3D&position=15&pageNum=5\n"
     ]
    },
    {
     "name": "stderr",
     "output_type": "stream",
     "text": [
      " 12%|█▏        | 117/973 [03:14<22:12,  1.56s/it]"
     ]
    },
    {
     "name": "stdout",
     "output_type": "stream",
     "text": [
      "------------------------------------------------\n"
     ]
    },
    {
     "name": "stderr",
     "output_type": "stream",
     "text": [
      " 12%|█▏        | 118/973 [03:16<22:42,  1.59s/it]"
     ]
    },
    {
     "name": "stdout",
     "output_type": "stream",
     "text": [
      "Num intentos: 1, URL: https://es.linkedin.com/jobs/view/bi-data-visualization-developer-at-tata-consultancy-services-4145644071?refId=NfI1oXKEWAziniZHawNbcA%3D%3D&trackingId=CRvh4afNiFbTWSTDedLOhA%3D%3D&position=22&pageNum=5\n",
      "------------------------------------------------\n"
     ]
    },
    {
     "name": "stderr",
     "output_type": "stream",
     "text": [
      " 12%|█▏        | 119/973 [03:18<24:38,  1.73s/it]"
     ]
    },
    {
     "name": "stdout",
     "output_type": "stream",
     "text": [
      "Num intentos: 1, URL: https://es.linkedin.com/jobs/view/data-engineer-at-philip-morris-international-4145076060?refId=NfI1oXKEWAziniZHawNbcA%3D%3D&trackingId=EQn84I5DRrxCji8kXdWyhg%3D%3D&position=25&pageNum=5\n",
      "------------------------------------------------\n"
     ]
    },
    {
     "name": "stderr",
     "output_type": "stream",
     "text": [
      " 12%|█▏        | 120/973 [03:19<23:15,  1.64s/it]"
     ]
    },
    {
     "name": "stdout",
     "output_type": "stream",
     "text": [
      "Num intentos: 1, URL: https://es.linkedin.com/jobs/view/bi-data-visualization-remoto-at-grupo-digital-4146038511?refId=qiJ6q4%2BjkVAGpjN7lVYm9g%3D%3D&trackingId=d%2BA06pQrj5%2FbNbyuARMd1w%3D%3D&position=20&pageNum=6\n",
      "------------------------------------------------\n"
     ]
    },
    {
     "name": "stderr",
     "output_type": "stream",
     "text": [
      " 12%|█▏        | 121/973 [03:21<22:17,  1.57s/it]"
     ]
    },
    {
     "name": "stdout",
     "output_type": "stream",
     "text": [
      "Num intentos: 1, URL: https://es.linkedin.com/jobs/view/data-engineer-snowflake-at-logicalis-spain-4146213416?refId=qiJ6q4%2BjkVAGpjN7lVYm9g%3D%3D&trackingId=uqq%2BSmxg35nHyNYAYb3jJA%3D%3D&position=21&pageNum=6\n",
      "------------------------------------------------\n"
     ]
    },
    {
     "name": "stderr",
     "output_type": "stream",
     "text": [
      " 13%|█▎        | 122/973 [03:22<21:36,  1.52s/it]"
     ]
    },
    {
     "name": "stdout",
     "output_type": "stream",
     "text": [
      "Num intentos: 1, URL: https://es.linkedin.com/jobs/view/data-analyst-marketing-databases-at-kiteris-4145027292?refId=7mJssYg8XhxL6SCi8sFlZQ%3D%3D&trackingId=d9hoyP2c8ykn66TnalRrtA%3D%3D&position=11&pageNum=7\n",
      "------------------------------------------------\n"
     ]
    },
    {
     "name": "stderr",
     "output_type": "stream",
     "text": [
      " 13%|█▎        | 123/973 [03:23<20:13,  1.43s/it]"
     ]
    },
    {
     "name": "stdout",
     "output_type": "stream",
     "text": [
      "Num intentos: 1, URL: https://es.linkedin.com/jobs/view/data-engineer-%E2%80%93-apache-spark-aws-at-it-partner-4143514376?refId=7mJssYg8XhxL6SCi8sFlZQ%3D%3D&trackingId=AaW8mL6YYpWlA6TsynU8MQ%3D%3D&position=17&pageNum=7\n",
      "------------------------------------------------\n",
      "Num intentos: 1, URL: https://es.linkedin.com/jobs/view/data-engineer-at-thetaray-4143535243?refId=7mJssYg8XhxL6SCi8sFlZQ%3D%3D&trackingId=sAJjPuAt1VSgxFvfqS5ZHg%3D%3D&position=25&pageNum=7\n"
     ]
    },
    {
     "name": "stderr",
     "output_type": "stream",
     "text": [
      " 13%|█▎        | 124/973 [03:25<20:06,  1.42s/it]"
     ]
    },
    {
     "name": "stdout",
     "output_type": "stream",
     "text": [
      "------------------------------------------------\n"
     ]
    },
    {
     "name": "stderr",
     "output_type": "stream",
     "text": [
      " 13%|█▎        | 125/973 [03:26<20:53,  1.48s/it]"
     ]
    },
    {
     "name": "stdout",
     "output_type": "stream",
     "text": [
      "Num intentos: 1, URL: https://es.linkedin.com/jobs/view/data-scientist-ai-engineer-at-keyrus-4144968826?refId=zQtuxswf5sFpuL%2FkUwXZIw%3D%3D&trackingId=JCnVG4T%2FaWMGrWl7CG89ng%3D%3D&position=9&pageNum=9\n",
      "------------------------------------------------\n"
     ]
    },
    {
     "name": "stderr",
     "output_type": "stream",
     "text": [
      " 13%|█▎        | 126/973 [03:27<19:34,  1.39s/it]"
     ]
    },
    {
     "name": "stdout",
     "output_type": "stream",
     "text": [
      "Num intentos: 1, URL: https://es.linkedin.com/jobs/view/data-analyst-strategist-at-quantum-technology-solutions-inc-4145040283?refId=zQtuxswf5sFpuL%2FkUwXZIw%3D%3D&trackingId=M3moQ8uBHS2nONIFy82FBw%3D%3D&position=13&pageNum=9\n",
      "------------------------------------------------\n"
     ]
    },
    {
     "name": "stderr",
     "output_type": "stream",
     "text": [
      " 13%|█▎        | 127/973 [03:29<19:11,  1.36s/it]"
     ]
    },
    {
     "name": "stdout",
     "output_type": "stream",
     "text": [
      "Num intentos: 1, URL: https://es.linkedin.com/jobs/view/data-analyst-marketing-databases-at-kiteris-4145027292?refId=lLfUMnXEaEcpWjyocCqvfg%3D%3D&trackingId=JUxyVA2EpsxQ4aB8p6Yojw%3D%3D&position=8&pageNum=10\n",
      "------------------------------------------------\n"
     ]
    },
    {
     "name": "stderr",
     "output_type": "stream",
     "text": [
      " 13%|█▎        | 128/973 [03:30<19:55,  1.41s/it]"
     ]
    },
    {
     "name": "stdout",
     "output_type": "stream",
     "text": [
      "Num intentos: 1, URL: https://es.linkedin.com/jobs/view/senior-data-engineer-100%25-remote-emea-at-hostaway-4143024175?refId=lLfUMnXEaEcpWjyocCqvfg%3D%3D&trackingId=Lm99Xr1mO%2BiGpck1wSbxLw%3D%3D&position=11&pageNum=10\n",
      "------------------------------------------------\n"
     ]
    },
    {
     "name": "stderr",
     "output_type": "stream",
     "text": [
      " 13%|█▎        | 129/973 [03:31<19:14,  1.37s/it]"
     ]
    },
    {
     "name": "stdout",
     "output_type": "stream",
     "text": [
      "Num intentos: 1, URL: https://es.linkedin.com/jobs/view/senior-software-engineer-python-cyber-defence-api-at-smart4energy-4143254831?refId=WE0nbdRCjRzYQ%2BMa7Jlfcw%3D%3D&trackingId=NMzdYTr5Bm%2BRqu4FalGA4w%3D%3D&position=13&pageNum=13\n",
      "------------------------------------------------\n"
     ]
    },
    {
     "name": "stderr",
     "output_type": "stream",
     "text": [
      " 13%|█▎        | 130/973 [03:33<18:19,  1.30s/it]"
     ]
    },
    {
     "name": "stdout",
     "output_type": "stream",
     "text": [
      "Num intentos: 1, URL: https://es.linkedin.com/jobs/view/software-engineer-3-browser-extensions-at-nexthink-4133367772?refId=WE0nbdRCjRzYQ%2BMa7Jlfcw%3D%3D&trackingId=5QOeVtwfQvsh9jNQopWwKw%3D%3D&position=25&pageNum=13\n",
      "------------------------------------------------\n",
      "Num intentos: 1, URL: https://es.linkedin.com/jobs/view/data-scientist-ai-engineer-especialista-en-ia-madrid-espa%C3%B1a-at-triangle-talent-solutions-rrhh-espa%C3%B1a-4143536214?refId=RdedVh4j8Ltwj0EyXoSKYA%3D%3D&trackingId=Fea52TZMzWv0YRFx2YAYCw%3D%3D&position=12&pageNum=14\n"
     ]
    },
    {
     "name": "stderr",
     "output_type": "stream",
     "text": [
      " 13%|█▎        | 131/973 [03:34<18:23,  1.31s/it]"
     ]
    },
    {
     "name": "stdout",
     "output_type": "stream",
     "text": [
      "------------------------------------------------\n"
     ]
    },
    {
     "name": "stderr",
     "output_type": "stream",
     "text": [
      " 14%|█▎        | 132/973 [03:35<18:32,  1.32s/it]"
     ]
    },
    {
     "name": "stdout",
     "output_type": "stream",
     "text": [
      "Num intentos: 1, URL: https://es.linkedin.com/jobs/view/business-intelligence-intern-at-macmillan-education-4145647513?refId=kEewYSP0sda%2BAS9qJ05byw%3D%3D&trackingId=5TIU4ttWJDVgLED%2Bzxmt8w%3D%3D&position=5&pageNum=15\n",
      "------------------------------------------------\n"
     ]
    },
    {
     "name": "stderr",
     "output_type": "stream",
     "text": [
      " 14%|█▎        | 133/973 [03:37<19:07,  1.37s/it]"
     ]
    },
    {
     "name": "stdout",
     "output_type": "stream",
     "text": [
      "Num intentos: 1, URL: https://es.linkedin.com/jobs/view/senior-data-platform-engineer-databricks-at-epam-systems-4121162257?refId=kEewYSP0sda%2BAS9qJ05byw%3D%3D&trackingId=XeX51dwTEugn0kM9ntNnVg%3D%3D&position=8&pageNum=15\n",
      "------------------------------------------------\n"
     ]
    },
    {
     "name": "stderr",
     "output_type": "stream",
     "text": [
      " 14%|█▍        | 134/973 [03:38<18:33,  1.33s/it]"
     ]
    },
    {
     "name": "stdout",
     "output_type": "stream",
     "text": [
      "Num intentos: 1, URL: https://es.linkedin.com/jobs/view/junior-data-scientist-at-ladorian-in-store-retail-media-4143252153?refId=kEewYSP0sda%2BAS9qJ05byw%3D%3D&trackingId=E8lvCTXpNsHQKfONzMJccA%3D%3D&position=11&pageNum=15\n",
      "Error en el link: https://es.linkedin.com/jobs/view/junior-data-scientist-at-ladorian-in-store-retail-media-4143252153?refId=kEewYSP0sda%2BAS9qJ05byw%3D%3D&trackingId=E8lvCTXpNsHQKfONzMJccA%3D%3D&position=11&pageNum=15\n",
      "------------------------------------------------\n"
     ]
    },
    {
     "name": "stderr",
     "output_type": "stream",
     "text": [
      " 14%|█▍        | 135/973 [03:39<18:03,  1.29s/it]"
     ]
    },
    {
     "name": "stdout",
     "output_type": "stream",
     "text": [
      "Num intentos: 1, URL: https://es.linkedin.com/jobs/view/senior-software-engineer-java-at-nexthink-4144714938?refId=xAOfEyQvsTybZp6n8A%2B4ZA%3D%3D&trackingId=D0U4dypb0R6hVxYqr9v27Q%3D%3D&position=21&pageNum=16\n",
      "------------------------------------------------\n"
     ]
    },
    {
     "name": "stderr",
     "output_type": "stream",
     "text": [
      " 14%|█▍        | 136/973 [03:41<19:06,  1.37s/it]"
     ]
    },
    {
     "name": "stdout",
     "output_type": "stream",
     "text": [
      "Num intentos: 1, URL: https://es.linkedin.com/jobs/view/data-governance-engineer-at-canonical-4145062246?refId=FdMdL4No5nsuHtAaKxXehg%3D%3D&trackingId=ntsWITwt%2FqVmChZ%2BCbsaiA%3D%3D&position=19&pageNum=18\n",
      "------------------------------------------------\n",
      "Num intentos: 1, URL: https://es.linkedin.com/jobs/view/data-governance-engineer-at-canonical-4145057822?refId=jlTvqtUYEFUTXMPpb2kHVA%3D%3D&trackingId=F0xFuswKPHSyBtDss92%2B8w%3D%3D&position=8&pageNum=19\n"
     ]
    },
    {
     "name": "stderr",
     "output_type": "stream",
     "text": [
      " 14%|█▍        | 137/973 [03:42<20:45,  1.49s/it]"
     ]
    },
    {
     "name": "stdout",
     "output_type": "stream",
     "text": [
      "------------------------------------------------\n"
     ]
    },
    {
     "name": "stderr",
     "output_type": "stream",
     "text": [
      " 14%|█▍        | 138/973 [03:44<20:55,  1.50s/it]"
     ]
    },
    {
     "name": "stdout",
     "output_type": "stream",
     "text": [
      "Num intentos: 1, URL: https://es.linkedin.com/jobs/view/senior-cloud-data-engineer-at-bip-spain-4145057508?refId=jlTvqtUYEFUTXMPpb2kHVA%3D%3D&trackingId=N5To8SYrMCCgoeYX5%2FYFRQ%3D%3D&position=23&pageNum=19\n",
      "------------------------------------------------\n"
     ]
    },
    {
     "name": "stderr",
     "output_type": "stream",
     "text": [
      " 14%|█▍        | 139/973 [03:45<20:35,  1.48s/it]"
     ]
    },
    {
     "name": "stdout",
     "output_type": "stream",
     "text": [
      "Num intentos: 1, URL: https://es.linkedin.com/jobs/view/junior-qlick-analyst-at-empresa-confidencial-4145035886?refId=RVoI%2BWwn15hCaFEnz4TWeA%3D%3D&trackingId=lTvxPk3WX0IeHv3HudUQ6w%3D%3D&position=3&pageNum=20\n",
      "------------------------------------------------\n"
     ]
    },
    {
     "name": "stderr",
     "output_type": "stream",
     "text": [
      " 14%|█▍        | 140/973 [03:47<22:04,  1.59s/it]"
     ]
    },
    {
     "name": "stdout",
     "output_type": "stream",
     "text": [
      "Num intentos: 1, URL: https://es.linkedin.com/jobs/view/senior-cloud-data-engineer-at-bip-spain-4145057508?refId=RVoI%2BWwn15hCaFEnz4TWeA%3D%3D&trackingId=uEmpvtDYD4W2l3ynUw%2FeBg%3D%3D&position=6&pageNum=20\n",
      "------------------------------------------------\n"
     ]
    },
    {
     "name": "stderr",
     "output_type": "stream",
     "text": [
      " 14%|█▍        | 141/973 [03:49<21:40,  1.56s/it]"
     ]
    },
    {
     "name": "stdout",
     "output_type": "stream",
     "text": [
      "Num intentos: 1, URL: https://es.linkedin.com/jobs/view/data-scientist-at-gds-modellica-4143256097?refId=RVoI%2BWwn15hCaFEnz4TWeA%3D%3D&trackingId=J%2F2mNdaDMlgzpzsl84ToWw%3D%3D&position=15&pageNum=20\n",
      "------------------------------------------------\n"
     ]
    },
    {
     "name": "stderr",
     "output_type": "stream",
     "text": [
      " 15%|█▍        | 142/973 [03:50<20:39,  1.49s/it]"
     ]
    },
    {
     "name": "stdout",
     "output_type": "stream",
     "text": [
      "Num intentos: 1, URL: https://es.linkedin.com/jobs/view/consultor-power-bi-at-mobaba-consulting-sl-4143529558?refId=LtGvNDRbIiqTwa1XzDQk5w%3D%3D&trackingId=4SbYEZISTx3gdf%2FehUBXZg%3D%3D&position=12&pageNum=21\n",
      "------------------------------------------------\n"
     ]
    },
    {
     "name": "stderr",
     "output_type": "stream",
     "text": [
      " 15%|█▍        | 143/973 [03:51<19:31,  1.41s/it]"
     ]
    },
    {
     "name": "stdout",
     "output_type": "stream",
     "text": [
      "Num intentos: 1, URL: https://es.linkedin.com/jobs/view/analista-financiero-power-bi-at-empresa-confidencial-4145603083?refId=mXSy218UvW9GMbgT3jByKg%3D%3D&trackingId=ZmLFINDStVfLcGpEPk3J%2FA%3D%3D&position=6&pageNum=22\n",
      "------------------------------------------------\n"
     ]
    },
    {
     "name": "stderr",
     "output_type": "stream",
     "text": [
      " 15%|█▍        | 144/973 [03:52<17:54,  1.30s/it]"
     ]
    },
    {
     "name": "stdout",
     "output_type": "stream",
     "text": [
      "Num intentos: 1, URL: https://es.linkedin.com/jobs/view/embedded-software-engineer-h-m-n-at-bertrandt-group-4095174824?refId=mXSy218UvW9GMbgT3jByKg%3D%3D&trackingId=w%2FKC8ctpnNbzycYvFfuWDQ%3D%3D&position=23&pageNum=22\n",
      "------------------------------------------------\n",
      "Num intentos: 1, URL: https://es.linkedin.com/jobs/view/senior-software-engineer-architect-java-m-f-d-at-arsys-4145077459?refId=xndk4q%2FZdLhddgb2PRN9DQ%3D%3D&trackingId=vVK5DQeqV0kRv5aEmstTGA%3D%3D&position=6&pageNum=25\n"
     ]
    },
    {
     "name": "stderr",
     "output_type": "stream",
     "text": [
      " 15%|█▍        | 145/973 [03:54<18:38,  1.35s/it]"
     ]
    },
    {
     "name": "stdout",
     "output_type": "stream",
     "text": [
      "------------------------------------------------\n"
     ]
    },
    {
     "name": "stderr",
     "output_type": "stream",
     "text": [
      " 15%|█▌        | 146/973 [03:55<18:48,  1.37s/it]"
     ]
    },
    {
     "name": "stdout",
     "output_type": "stream",
     "text": [
      "Num intentos: 1, URL: https://es.linkedin.com/jobs/view/full-stack-java-software-engineer-100%25-f-m-d-at-julius-baer-4145105080?refId=%2Fq8IkmAC8FsOi3L4LWt3mA%3D%3D&trackingId=IEKq7EKPuCXqJ2B859fuaA%3D%3D&position=25&pageNum=26\n",
      "------------------------------------------------\n"
     ]
    },
    {
     "name": "stderr",
     "output_type": "stream",
     "text": [
      " 15%|█▌        | 147/973 [03:57<19:01,  1.38s/it]"
     ]
    },
    {
     "name": "stdout",
     "output_type": "stream",
     "text": [
      "Num intentos: 1, URL: https://es.linkedin.com/jobs/view/senior-java-software-engineer-at-amaris-consulting-4143241905?refId=ayqrf6i0IBZ5ivdHUm4zEw%3D%3D&trackingId=JJ1TsB0Pm7jYoUxNLpGAEQ%3D%3D&position=12&pageNum=27\n",
      "------------------------------------------------\n"
     ]
    },
    {
     "name": "stderr",
     "output_type": "stream",
     "text": [
      " 15%|█▌        | 148/973 [03:58<18:43,  1.36s/it]"
     ]
    },
    {
     "name": "stdout",
     "output_type": "stream",
     "text": [
      "Num intentos: 1, URL: https://es.linkedin.com/jobs/view/senior-software-engineer-java-and-node-js-m-f-d-at-arsys-4145077492?refId=27zDqnaAzgOwPOyBAP6gyA%3D%3D&trackingId=EWd7thaaARZU4ybCUgho7Q%3D%3D&position=9&pageNum=28\n",
      "------------------------------------------------\n"
     ]
    },
    {
     "name": "stderr",
     "output_type": "stream",
     "text": [
      " 15%|█▌        | 149/973 [03:59<17:45,  1.29s/it]"
     ]
    },
    {
     "name": "stdout",
     "output_type": "stream",
     "text": [
      "Num intentos: 1, URL: https://es.linkedin.com/jobs/view/staff-software-engineer-adas-at-tomtom-4143518791?refId=27zDqnaAzgOwPOyBAP6gyA%3D%3D&trackingId=nTp7MKItwjZSIWqk1%2BO90A%3D%3D&position=18&pageNum=28\n",
      "------------------------------------------------\n"
     ]
    },
    {
     "name": "stderr",
     "output_type": "stream",
     "text": [
      " 15%|█▌        | 150/973 [04:00<17:33,  1.28s/it]"
     ]
    },
    {
     "name": "stdout",
     "output_type": "stream",
     "text": [
      "Num intentos: 1, URL: https://es.linkedin.com/jobs/view/beca-digitalizaci%C3%B3n-madrid-at-prezero-espa%C3%B1a-4143240223?refId=BzKsdm%2FLcWVFlzPY6XXEyg%3D%3D&trackingId=tNwxDqxcvFeGrGX4XggXlg%3D%3D&position=8&pageNum=29\n",
      "------------------------------------------------\n"
     ]
    },
    {
     "name": "stderr",
     "output_type": "stream",
     "text": [
      " 16%|█▌        | 151/973 [04:01<16:34,  1.21s/it]"
     ]
    },
    {
     "name": "stdout",
     "output_type": "stream",
     "text": [
      "Num intentos: 1, URL: https://es.linkedin.com/jobs/view/tableau-consultant-at-vass-4145024966?refId=BzKsdm%2FLcWVFlzPY6XXEyg%3D%3D&trackingId=SyYbnzT2G%2BwLt5t%2FrbN%2FaQ%3D%3D&position=13&pageNum=29\n",
      "------------------------------------------------\n"
     ]
    },
    {
     "name": "stderr",
     "output_type": "stream",
     "text": [
      " 16%|█▌        | 152/973 [04:03<17:49,  1.30s/it]"
     ]
    },
    {
     "name": "stdout",
     "output_type": "stream",
     "text": [
      "Num intentos: 1, URL: https://es.linkedin.com/jobs/view/golang-software-engineer-commercial-systems-at-canonical-4143546094?refId=k9%2FkRnfSBzcobArEZmRAig%3D%3D&trackingId=sQDd1TKPHpcgWC2mi7%2Bggg%3D%3D&position=13&pageNum=35\n",
      "------------------------------------------------\n",
      "Num intentos: 1, URL: https://es.linkedin.com/jobs/view/full-stack-net-software-engineer-f-m-d-100%25-at-julius-baer-4145101584?refId=FnhfE%2BUO6DlfX1s9TYmIuw%3D%3D&trackingId=P1arRvM2IiZ0av%2FrviIILg%3D%3D&position=1&pageNum=36\n"
     ]
    },
    {
     "name": "stderr",
     "output_type": "stream",
     "text": [
      " 16%|█▌        | 153/973 [04:04<18:28,  1.35s/it]"
     ]
    },
    {
     "name": "stdout",
     "output_type": "stream",
     "text": [
      "------------------------------------------------\n"
     ]
    },
    {
     "name": "stderr",
     "output_type": "stream",
     "text": [
      " 16%|█▌        | 154/973 [04:06<20:18,  1.49s/it]"
     ]
    },
    {
     "name": "stdout",
     "output_type": "stream",
     "text": [
      "Num intentos: 1, URL: https://es.linkedin.com/jobs/view/senior-data-scientist-gen-ai-nlp-at-capgemini-4071396142?refId=M92tBlvFSrvwBHhPL3Il6Q%3D%3D&trackingId=T%2BcBu8oHwirZWWUPrnydpg%3D%3D&position=7&pageNum=37\n",
      "------------------------------------------------\n"
     ]
    },
    {
     "name": "stderr",
     "output_type": "stream",
     "text": [
      " 16%|█▌        | 155/973 [04:08<19:56,  1.46s/it]"
     ]
    },
    {
     "name": "stdout",
     "output_type": "stream",
     "text": [
      "Num intentos: 1, URL: https://es.linkedin.com/jobs/view/junior-data-engineer-at-revel-4141679160?refId=5lUV4%2FNAtY0kytHF7H9LFw%3D%3D&trackingId=i3WJr9YS3xR7jb2brY0WPA%3D%3D&position=3&pageNum=0\n",
      "------------------------------------------------\n"
     ]
    },
    {
     "name": "stderr",
     "output_type": "stream",
     "text": [
      " 16%|█▌        | 156/973 [04:09<21:13,  1.56s/it]"
     ]
    },
    {
     "name": "stdout",
     "output_type": "stream",
     "text": [
      "Num intentos: 1, URL: https://es.linkedin.com/jobs/view/data-engineer-advanced-analytics-madrid-at-deloitte-4102760934?refId=5lUV4%2FNAtY0kytHF7H9LFw%3D%3D&trackingId=BruwJKI8pnYr51SW2NAbMg%3D%3D&position=15&pageNum=0\n",
      "------------------------------------------------\n"
     ]
    },
    {
     "name": "stderr",
     "output_type": "stream",
     "text": [
      " 16%|█▌        | 157/973 [04:11<20:57,  1.54s/it]"
     ]
    },
    {
     "name": "stdout",
     "output_type": "stream",
     "text": [
      "Num intentos: 1, URL: https://es.linkedin.com/jobs/view/data-engineer-at-amura-it-4144378300?refId=gl%2Bd7kBz9WLFJeX%2Bk722Sg%3D%3D&trackingId=2DDxC5Dbt2yZqV6m9yfsvg%3D%3D&position=16&pageNum=1\n",
      "------------------------------------------------\n"
     ]
    },
    {
     "name": "stderr",
     "output_type": "stream",
     "text": [
      " 16%|█▌        | 158/973 [04:12<20:16,  1.49s/it]"
     ]
    },
    {
     "name": "stdout",
     "output_type": "stream",
     "text": [
      "Num intentos: 1, URL: https://es.linkedin.com/jobs/view/data-analyst-at-revel-4141673886?refId=JOY6haVz%2BavdFBx3hGjq%2BQ%3D%3D&trackingId=uy273SzdS9n4C6ZSW%2FVYBA%3D%3D&position=13&pageNum=2\n",
      "------------------------------------------------\n",
      "Num intentos: 1, URL: https://es.linkedin.com/jobs/view/ttech-data-analyst-visualization-engineer-at-telef%C3%B3nica-4144947595?refId=JOY6haVz%2BavdFBx3hGjq%2BQ%3D%3D&trackingId=tGDVmzfdZasbLXsEWvxoaw%3D%3D&position=18&pageNum=2\n"
     ]
    },
    {
     "name": "stderr",
     "output_type": "stream",
     "text": [
      " 16%|█▋        | 159/973 [04:14<21:44,  1.60s/it]"
     ]
    },
    {
     "name": "stdout",
     "output_type": "stream",
     "text": [
      "------------------------------------------------\n"
     ]
    },
    {
     "name": "stderr",
     "output_type": "stream",
     "text": [
      " 16%|█▋        | 160/973 [04:16<21:37,  1.60s/it]"
     ]
    },
    {
     "name": "stdout",
     "output_type": "stream",
     "text": [
      "Num intentos: 1, URL: https://es.linkedin.com/jobs/view/data-feed-engineer-at-nubika-digital-inetum-group-4144379202?refId=JOY6haVz%2BavdFBx3hGjq%2BQ%3D%3D&trackingId=Sj%2B3lThG5yWsgpT64IWzlg%3D%3D&position=20&pageNum=2\n",
      "Error en el link: https://es.linkedin.com/jobs/view/data-feed-engineer-at-nubika-digital-inetum-group-4144379202?refId=JOY6haVz%2BavdFBx3hGjq%2BQ%3D%3D&trackingId=Sj%2B3lThG5yWsgpT64IWzlg%3D%3D&position=20&pageNum=2\n",
      "------------------------------------------------\n"
     ]
    },
    {
     "name": "stderr",
     "output_type": "stream",
     "text": [
      " 17%|█▋        | 161/973 [04:17<21:19,  1.58s/it]"
     ]
    },
    {
     "name": "stdout",
     "output_type": "stream",
     "text": [
      "Num intentos: 1, URL: https://es.linkedin.com/jobs/view/analista-de-datos-madrid-h-m-at-grupo-elecnor-4142300111?refId=0lQEwrH3pQrcnHMZEPdE6Q%3D%3D&trackingId=c6nlOxeRTW8y1kIz9jnT2g%3D%3D&position=5&pageNum=3\n",
      "Error en el link: https://es.linkedin.com/jobs/view/analista-de-datos-madrid-h-m-at-grupo-elecnor-4142300111?refId=0lQEwrH3pQrcnHMZEPdE6Q%3D%3D&trackingId=c6nlOxeRTW8y1kIz9jnT2g%3D%3D&position=5&pageNum=3\n",
      "------------------------------------------------\n"
     ]
    },
    {
     "name": "stderr",
     "output_type": "stream",
     "text": [
      " 17%|█▋        | 162/973 [04:19<20:51,  1.54s/it]"
     ]
    },
    {
     "name": "stdout",
     "output_type": "stream",
     "text": [
      "Num intentos: 1, URL: https://es.linkedin.com/jobs/view/desarrollador-a-de-big-data-at-irium-4142324691?refId=0lQEwrH3pQrcnHMZEPdE6Q%3D%3D&trackingId=SjHewYm9Ia2q70izcUX6HQ%3D%3D&position=8&pageNum=3\n",
      "------------------------------------------------\n"
     ]
    },
    {
     "name": "stderr",
     "output_type": "stream",
     "text": [
      " 17%|█▋        | 163/973 [04:21<21:59,  1.63s/it]"
     ]
    },
    {
     "name": "stdout",
     "output_type": "stream",
     "text": [
      "Num intentos: 1, URL: https://es.linkedin.com/jobs/view/data-engineer-scala-spark-at-capgemini-automotive-4144320776?refId=0lQEwrH3pQrcnHMZEPdE6Q%3D%3D&trackingId=2x%2BxpLVKWU6NFjg3xU85Ew%3D%3D&position=12&pageNum=3\n",
      "------------------------------------------------\n"
     ]
    },
    {
     "name": "stderr",
     "output_type": "stream",
     "text": [
      " 17%|█▋        | 164/973 [04:22<22:25,  1.66s/it]"
     ]
    },
    {
     "name": "stdout",
     "output_type": "stream",
     "text": [
      "Num intentos: 1, URL: https://es.linkedin.com/jobs/view/data-catalog-engineer-m-f-d-at-fusion-consulting-4103528561?refId=syd0D2KoXmexQAiehNkiZA%3D%3D&trackingId=6JqEfZMrowMIJTOEq3LvDQ%3D%3D&position=6&pageNum=4\n",
      "------------------------------------------------\n"
     ]
    },
    {
     "name": "stderr",
     "output_type": "stream",
     "text": [
      " 17%|█▋        | 165/973 [04:24<21:46,  1.62s/it]"
     ]
    },
    {
     "name": "stdout",
     "output_type": "stream",
     "text": [
      "Num intentos: 1, URL: https://es.linkedin.com/jobs/view/data-engineer-snowflake-at-road-to-data-4141622394?refId=syd0D2KoXmexQAiehNkiZA%3D%3D&trackingId=zkHUQ38O7068k2HYY%2BhD3g%3D%3D&position=10&pageNum=4\n",
      "------------------------------------------------\n"
     ]
    },
    {
     "name": "stderr",
     "output_type": "stream",
     "text": [
      " 17%|█▋        | 166/973 [04:25<21:03,  1.57s/it]"
     ]
    },
    {
     "name": "stdout",
     "output_type": "stream",
     "text": [
      "Num intentos: 1, URL: https://es.linkedin.com/jobs/view/business-data-analyst-at-repsol-4092886715?refId=syd0D2KoXmexQAiehNkiZA%3D%3D&trackingId=DRUgwtMlUTnjYA%2BCXIPQWQ%3D%3D&position=19&pageNum=4\n",
      "------------------------------------------------\n",
      "Num intentos: 1, URL: https://es.linkedin.com/jobs/view/ingeniero-de-datos-at-it-partner-4142048948?refId=syd0D2KoXmexQAiehNkiZA%3D%3D&trackingId=SSK8gu08LEveqWmb4aKHDQ%3D%3D&position=21&pageNum=4\n"
     ]
    },
    {
     "name": "stderr",
     "output_type": "stream",
     "text": [
      " 17%|█▋        | 167/973 [04:27<21:12,  1.58s/it]"
     ]
    },
    {
     "name": "stdout",
     "output_type": "stream",
     "text": [
      "------------------------------------------------\n"
     ]
    },
    {
     "name": "stderr",
     "output_type": "stream",
     "text": [
      " 17%|█▋        | 168/973 [04:29<21:32,  1.61s/it]"
     ]
    },
    {
     "name": "stdout",
     "output_type": "stream",
     "text": [
      "Num intentos: 1, URL: https://es.linkedin.com/jobs/view/senior-data-engineer-at-innova-tsn-4142336001?refId=NfI1oXKEWAziniZHawNbcA%3D%3D&trackingId=b52vbTicc9BnB1dm4CPHLQ%3D%3D&position=14&pageNum=5\n",
      "------------------------------------------------\n"
     ]
    },
    {
     "name": "stderr",
     "output_type": "stream",
     "text": [
      " 17%|█▋        | 169/973 [04:30<20:56,  1.56s/it]"
     ]
    },
    {
     "name": "stdout",
     "output_type": "stream",
     "text": [
      "Num intentos: 1, URL: https://es.linkedin.com/jobs/view/data-engineer-snowflake-hybrid-intelligence-at-capgemini-automotive-4144319712?refId=7mJssYg8XhxL6SCi8sFlZQ%3D%3D&trackingId=cedYOQ4dI79Ubmuo0QDk9w%3D%3D&position=7&pageNum=7\n",
      "------------------------------------------------\n"
     ]
    },
    {
     "name": "stderr",
     "output_type": "stream",
     "text": [
      " 17%|█▋        | 170/973 [04:32<22:12,  1.66s/it]"
     ]
    },
    {
     "name": "stdout",
     "output_type": "stream",
     "text": [
      "Num intentos: 1, URL: https://es.linkedin.com/jobs/view/software-engineer-python-people-platform-at-revolut-4124804569?refId=7mJssYg8XhxL6SCi8sFlZQ%3D%3D&trackingId=2WGgXOpHnI5fG71J6DpcAQ%3D%3D&position=21&pageNum=7\n",
      "------------------------------------------------\n"
     ]
    },
    {
     "name": "stderr",
     "output_type": "stream",
     "text": [
      " 18%|█▊        | 171/973 [04:33<21:02,  1.57s/it]"
     ]
    },
    {
     "name": "stdout",
     "output_type": "stream",
     "text": [
      "Num intentos: 1, URL: https://es.linkedin.com/jobs/view/junior-backend-engineer-at-fero-4142349559?refId=XzILX%2FJyntX%2BslwEYSdfAA%3D%3D&trackingId=T0IxxF2vJyvm3Bwft3Q3KA%3D%3D&position=13&pageNum=8\n",
      "------------------------------------------------\n"
     ]
    },
    {
     "name": "stderr",
     "output_type": "stream",
     "text": [
      " 18%|█▊        | 172/973 [04:35<23:31,  1.76s/it]"
     ]
    },
    {
     "name": "stdout",
     "output_type": "stream",
     "text": [
      "Num intentos: 1, URL: https://es.linkedin.com/jobs/view/aerospace-data-management-engineer-at-bertrandt-group-3999055019?refId=1gxsBjCoxyvxl5YEGDjwHQ%3D%3D&trackingId=ETQO5QBqqIxrbdkiSdoVig%3D%3D&position=22&pageNum=12\n",
      "------------------------------------------------\n",
      "Num intentos: 1, URL: https://es.linkedin.com/jobs/view/full-stack-software-engineer-at-pharma-universe-4144332807?refId=WE0nbdRCjRzYQ%2BMa7Jlfcw%3D%3D&trackingId=gAHsgqrMYuH1hRWllH1njg%3D%3D&position=3&pageNum=13\n"
     ]
    },
    {
     "name": "stderr",
     "output_type": "stream",
     "text": [
      " 18%|█▊        | 173/973 [04:37<22:55,  1.72s/it]"
     ]
    },
    {
     "name": "stdout",
     "output_type": "stream",
     "text": [
      "------------------------------------------------\n"
     ]
    },
    {
     "name": "stderr",
     "output_type": "stream",
     "text": [
      " 18%|█▊        | 174/973 [04:39<21:59,  1.65s/it]"
     ]
    },
    {
     "name": "stdout",
     "output_type": "stream",
     "text": [
      "Num intentos: 1, URL: https://es.linkedin.com/jobs/view/business-data-analyst-at-levy-search-4144404077?refId=RdedVh4j8Ltwj0EyXoSKYA%3D%3D&trackingId=4n9MsKisQSanOnyI3Oojvg%3D%3D&position=10&pageNum=14\n",
      "------------------------------------------------\n"
     ]
    },
    {
     "name": "stderr",
     "output_type": "stream",
     "text": [
      " 18%|█▊        | 175/973 [04:41<23:16,  1.75s/it]"
     ]
    },
    {
     "name": "stdout",
     "output_type": "stream",
     "text": [
      "Num intentos: 1, URL: https://es.linkedin.com/jobs/view/data-analyst-admin-intern-madrid-molecular-at-abbott-4136864658?refId=kEewYSP0sda%2BAS9qJ05byw%3D%3D&trackingId=4fBwyeXK9J6veQSfW6ou%2BQ%3D%3D&position=22&pageNum=15\n",
      "------------------------------------------------\n"
     ]
    },
    {
     "name": "stderr",
     "output_type": "stream",
     "text": [
      " 18%|█▊        | 176/973 [04:42<22:43,  1.71s/it]"
     ]
    },
    {
     "name": "stdout",
     "output_type": "stream",
     "text": [
      "Num intentos: 1, URL: https://es.linkedin.com/jobs/view/senior-data-software-engineer-databricks-at-epam-systems-4121164179?refId=xAOfEyQvsTybZp6n8A%2B4ZA%3D%3D&trackingId=5tIt8AI33IP1DnEFPpqKXg%3D%3D&position=24&pageNum=16\n",
      "------------------------------------------------\n"
     ]
    },
    {
     "name": "stderr",
     "output_type": "stream",
     "text": [
      " 18%|█▊        | 177/973 [04:44<22:31,  1.70s/it]"
     ]
    },
    {
     "name": "stdout",
     "output_type": "stream",
     "text": [
      "Num intentos: 1, URL: https://es.linkedin.com/jobs/view/senior-data-engineer-integration-at-robert-walters-4144341679?refId=5iMqGO1%2FHzfh4hS6zDhIBw%3D%3D&trackingId=cz9DX0dr0cKZ9PP0iaZ%2Bmg%3D%3D&position=2&pageNum=17\n",
      "------------------------------------------------\n"
     ]
    },
    {
     "name": "stderr",
     "output_type": "stream",
     "text": [
      " 18%|█▊        | 178/973 [04:46<23:19,  1.76s/it]"
     ]
    },
    {
     "name": "stdout",
     "output_type": "stream",
     "text": [
      "Num intentos: 1, URL: https://es.linkedin.com/jobs/view/senior-data-platform-engineer-fintech-at-ebury-4119000583?refId=5iMqGO1%2FHzfh4hS6zDhIBw%3D%3D&trackingId=guQwUY55Y5zTvKRLV7jUkA%3D%3D&position=10&pageNum=17\n",
      "------------------------------------------------\n"
     ]
    },
    {
     "name": "stderr",
     "output_type": "stream",
     "text": [
      " 18%|█▊        | 179/973 [04:47<23:10,  1.75s/it]"
     ]
    },
    {
     "name": "stdout",
     "output_type": "stream",
     "text": [
      "Num intentos: 1, URL: https://es.linkedin.com/jobs/view/senior-data-engineer-at-nagra-4144816982?refId=FdMdL4No5nsuHtAaKxXehg%3D%3D&trackingId=hDsuQbG3NCRU1qlRjxolZQ%3D%3D&position=18&pageNum=18\n",
      "------------------------------------------------\n"
     ]
    },
    {
     "name": "stderr",
     "output_type": "stream",
     "text": [
      " 18%|█▊        | 180/973 [04:49<23:26,  1.77s/it]"
     ]
    },
    {
     "name": "stdout",
     "output_type": "stream",
     "text": [
      "Num intentos: 1, URL: https://es.linkedin.com/jobs/view/master-data-analyst-at-randstad-4142359584?refId=jlTvqtUYEFUTXMPpb2kHVA%3D%3D&trackingId=lmLZRF2V7NfKBgzCDMeeWg%3D%3D&position=3&pageNum=19\n",
      "------------------------------------------------\n"
     ]
    },
    {
     "name": "stderr",
     "output_type": "stream",
     "text": [
      " 19%|█▊        | 181/973 [04:51<23:05,  1.75s/it]"
     ]
    },
    {
     "name": "stdout",
     "output_type": "stream",
     "text": [
      "Num intentos: 1, URL: https://es.linkedin.com/jobs/view/principal-data-software-engineer-databricks-at-epam-systems-4121157625?refId=LtGvNDRbIiqTwa1XzDQk5w%3D%3D&trackingId=3BtkitB8ur45%2BNj9Sbuu6g%3D%3D&position=6&pageNum=21\n",
      "------------------------------------------------\n"
     ]
    },
    {
     "name": "stderr",
     "output_type": "stream",
     "text": [
      " 19%|█▊        | 182/973 [04:52<21:54,  1.66s/it]"
     ]
    },
    {
     "name": "stdout",
     "output_type": "stream",
     "text": [
      "Num intentos: 1, URL: https://es.linkedin.com/jobs/view/senior-software-engineer-next-js-%2B4-at-grupo-talents-4144333694?refId=LtGvNDRbIiqTwa1XzDQk5w%3D%3D&trackingId=Yn5HKD0FAyOja5daLK6rkQ%3D%3D&position=10&pageNum=21\n",
      "------------------------------------------------\n"
     ]
    },
    {
     "name": "stderr",
     "output_type": "stream",
     "text": [
      " 19%|█▉        | 183/973 [04:54<22:34,  1.71s/it]"
     ]
    },
    {
     "name": "stdout",
     "output_type": "stream",
     "text": [
      "Num intentos: 1, URL: https://es.linkedin.com/jobs/view/software-engineer-application-performance-monitoring-at-datadog-3708915683?refId=mXSy218UvW9GMbgT3jByKg%3D%3D&trackingId=6%2Fjw0mdWhBFbeZwfWdHCaA%3D%3D&position=11&pageNum=22\n",
      "------------------------------------------------\n"
     ]
    },
    {
     "name": "stderr",
     "output_type": "stream",
     "text": [
      " 19%|█▉        | 184/973 [04:56<21:44,  1.65s/it]"
     ]
    },
    {
     "name": "stdout",
     "output_type": "stream",
     "text": [
      "Num intentos: 1, URL: https://es.linkedin.com/jobs/view/data-scientist-at-innova-tsn-4142393609?refId=mXSy218UvW9GMbgT3jByKg%3D%3D&trackingId=BCYAXo7jaxsi%2FnMywV19Qw%3D%3D&position=13&pageNum=22\n",
      "------------------------------------------------\n"
     ]
    },
    {
     "name": "stderr",
     "output_type": "stream",
     "text": [
      " 19%|█▉        | 185/973 [04:57<21:41,  1.65s/it]"
     ]
    },
    {
     "name": "stdout",
     "output_type": "stream",
     "text": [
      "Num intentos: 1, URL: https://es.linkedin.com/jobs/view/embedded-software-engineer-at-airbus-defence-and-space-4079957384?refId=6iugOUKVCcIlzIMTSgbc4A%3D%3D&trackingId=ufuGbTgJqoWoQVFQSF4jGg%3D%3D&position=8&pageNum=23\n",
      "------------------------------------------------\n",
      "Num intentos: 1, URL: https://es.linkedin.com/jobs/view/senior-software-engineer-at-tomtom-4123653751?refId=6iugOUKVCcIlzIMTSgbc4A%3D%3D&trackingId=6%2BM2cFzYt9od6gRAz5N1Jw%3D%3D&position=11&pageNum=23\n"
     ]
    },
    {
     "name": "stderr",
     "output_type": "stream",
     "text": [
      " 19%|█▉        | 186/973 [04:59<22:00,  1.68s/it]"
     ]
    },
    {
     "name": "stdout",
     "output_type": "stream",
     "text": [
      "------------------------------------------------\n"
     ]
    },
    {
     "name": "stderr",
     "output_type": "stream",
     "text": [
      " 19%|█▉        | 187/973 [05:00<20:25,  1.56s/it]"
     ]
    },
    {
     "name": "stdout",
     "output_type": "stream",
     "text": [
      "Num intentos: 1, URL: https://es.linkedin.com/jobs/view/tech-lead-software-engineer-kotlin-java-at-pharma-universe-4144332738?refId=6nUlb6gH8Ge0cwv7vGKOxQ%3D%3D&trackingId=e57qDQ2FNCE26r9DUguBHA%3D%3D&position=8&pageNum=24\n",
      "------------------------------------------------\n"
     ]
    },
    {
     "name": "stderr",
     "output_type": "stream",
     "text": [
      " 19%|█▉        | 188/973 [05:02<20:56,  1.60s/it]"
     ]
    },
    {
     "name": "stdout",
     "output_type": "stream",
     "text": [
      "Num intentos: 1, URL: https://es.linkedin.com/jobs/view/data-architect-gcp-at-capgemini-automotive-4144318999?refId=6nUlb6gH8Ge0cwv7vGKOxQ%3D%3D&trackingId=nHjJd7jYUyU6XGpoumt9pw%3D%3D&position=22&pageNum=24\n",
      "------------------------------------------------\n"
     ]
    },
    {
     "name": "stderr",
     "output_type": "stream",
     "text": [
      " 19%|█▉        | 189/973 [05:04<21:50,  1.67s/it]"
     ]
    },
    {
     "name": "stdout",
     "output_type": "stream",
     "text": [
      "Num intentos: 1, URL: https://es.linkedin.com/jobs/view/senior-software-engineer-at-sulzer-services-4142099560?refId=6nUlb6gH8Ge0cwv7vGKOxQ%3D%3D&trackingId=GrG3%2BHr%2FVT1plPmfEckB2g%3D%3D&position=25&pageNum=24\n",
      "------------------------------------------------\n"
     ]
    },
    {
     "name": "stderr",
     "output_type": "stream",
     "text": [
      " 20%|█▉        | 190/973 [05:06<22:27,  1.72s/it]"
     ]
    },
    {
     "name": "stdout",
     "output_type": "stream",
     "text": [
      "Num intentos: 1, URL: https://es.linkedin.com/jobs/view/data-architect-aws-at-capgemini-automotive-4144321692?refId=xndk4q%2FZdLhddgb2PRN9DQ%3D%3D&trackingId=5Tuwplm1caGGwNcxQQYVTg%3D%3D&position=25&pageNum=25\n",
      "------------------------------------------------\n"
     ]
    },
    {
     "name": "stderr",
     "output_type": "stream",
     "text": [
      " 20%|█▉        | 191/973 [05:07<21:42,  1.67s/it]"
     ]
    },
    {
     "name": "stdout",
     "output_type": "stream",
     "text": [
      "Num intentos: 1, URL: https://es.linkedin.com/jobs/view/software-engineer-at-gmv-4144405107?refId=%2Fq8IkmAC8FsOi3L4LWt3mA%3D%3D&trackingId=UzSKCVhl8aCSN6UlzrpYpg%3D%3D&position=6&pageNum=26\n",
      "------------------------------------------------\n"
     ]
    },
    {
     "name": "stderr",
     "output_type": "stream",
     "text": [
      " 20%|█▉        | 192/973 [05:09<22:20,  1.72s/it]"
     ]
    },
    {
     "name": "stdout",
     "output_type": "stream",
     "text": [
      "Num intentos: 1, URL: https://es.linkedin.com/jobs/view/analista-junior-soluciones-digitales-at-aon-4144054109?refId=ayqrf6i0IBZ5ivdHUm4zEw%3D%3D&trackingId=eAIg1lhxSdWdk2F%2Fhtlt%2Fg%3D%3D&position=2&pageNum=27\n",
      "------------------------------------------------\n",
      "Num intentos: 1, URL: https://es.linkedin.com/jobs/view/software-engineer-iv-at-tomtom-4063473448?refId=ayqrf6i0IBZ5ivdHUm4zEw%3D%3D&trackingId=d63kpJ7mdk3%2FX%2BymYuni6g%3D%3D&position=4&pageNum=27\n"
     ]
    },
    {
     "name": "stderr",
     "output_type": "stream",
     "text": [
      " 20%|█▉        | 193/973 [05:11<22:09,  1.70s/it]"
     ]
    },
    {
     "name": "stdout",
     "output_type": "stream",
     "text": [
      "------------------------------------------------\n"
     ]
    },
    {
     "name": "stderr",
     "output_type": "stream",
     "text": [
      " 20%|█▉        | 194/973 [05:13<22:13,  1.71s/it]"
     ]
    },
    {
     "name": "stdout",
     "output_type": "stream",
     "text": [
      "Num intentos: 1, URL: https://es.linkedin.com/jobs/view/software-engineer-electricity-markets-modelling-at-baringa-4143830100?refId=ayqrf6i0IBZ5ivdHUm4zEw%3D%3D&trackingId=Ny2h9V9b2eJ0Qeg1AGe5qQ%3D%3D&position=23&pageNum=27\n",
      "------------------------------------------------\n"
     ]
    },
    {
     "name": "stderr",
     "output_type": "stream",
     "text": [
      " 20%|██        | 195/973 [05:14<20:29,  1.58s/it]"
     ]
    },
    {
     "name": "stdout",
     "output_type": "stream",
     "text": [
      "Num intentos: 1, URL: https://es.linkedin.com/jobs/view/software-engineer-backend-generalist-at-datadog-3705380264?refId=27zDqnaAzgOwPOyBAP6gyA%3D%3D&trackingId=0cLmspp4MuRejxxFRG7aDg%3D%3D&position=8&pageNum=28\n",
      "------------------------------------------------\n"
     ]
    },
    {
     "name": "stderr",
     "output_type": "stream",
     "text": [
      " 20%|██        | 196/973 [05:15<19:18,  1.49s/it]"
     ]
    },
    {
     "name": "stdout",
     "output_type": "stream",
     "text": [
      "Num intentos: 1, URL: https://es.linkedin.com/jobs/view/l%C3%ADder-equipo-analytics-at-ziorem-4144401429?refId=4T3q6%2BDUDS%2Fwfb0hIc%2BkJw%3D%3D&trackingId=X390R21OhUqkZPbyyFRLOw%3D%3D&position=5&pageNum=30\n",
      "------------------------------------------------\n"
     ]
    },
    {
     "name": "stderr",
     "output_type": "stream",
     "text": [
      " 20%|██        | 197/973 [05:17<18:56,  1.46s/it]"
     ]
    },
    {
     "name": "stdout",
     "output_type": "stream",
     "text": [
      "Num intentos: 1, URL: https://es.linkedin.com/jobs/view/geospatial-data-scientist-m-w-d-at-osapiens-4142378406?refId=4T3q6%2BDUDS%2Fwfb0hIc%2BkJw%3D%3D&trackingId=OYPmjULSaXqxXayrTEvyIA%3D%3D&position=10&pageNum=30\n",
      "------------------------------------------------\n"
     ]
    },
    {
     "name": "stderr",
     "output_type": "stream",
     "text": [
      " 20%|██        | 198/973 [05:18<18:25,  1.43s/it]"
     ]
    },
    {
     "name": "stdout",
     "output_type": "stream",
     "text": [
      "Num intentos: 1, URL: https://es.linkedin.com/jobs/view/business-analist-at-allianz-direct-4144896731?refId=4T3q6%2BDUDS%2Fwfb0hIc%2BkJw%3D%3D&trackingId=%2FkwLqm8RIl4GzYUpSjcG6g%3D%3D&position=25&pageNum=30\n",
      "------------------------------------------------\n",
      "Num intentos: 1, URL: https://es.linkedin.com/jobs/view/senior-software-engineer-backend-at-happening-4127862347?refId=pvzzDZKJw%2BBNu7o7uLGHhw%3D%3D&trackingId=22pkbLfvxNblm8iJ3hW8yw%3D%3D&position=25&pageNum=31\n"
     ]
    },
    {
     "name": "stderr",
     "output_type": "stream",
     "text": [
      " 20%|██        | 199/973 [05:20<19:28,  1.51s/it]"
     ]
    },
    {
     "name": "stdout",
     "output_type": "stream",
     "text": [
      "------------------------------------------------\n"
     ]
    },
    {
     "name": "stderr",
     "output_type": "stream",
     "text": [
      " 21%|██        | 200/973 [05:21<18:28,  1.43s/it]"
     ]
    },
    {
     "name": "stdout",
     "output_type": "stream",
     "text": [
      "Num intentos: 1, URL: https://es.linkedin.com/jobs/view/data-scientist-at-securitas-direct-by-verisure-4144432519?refId=iogc%2B4XiXLpYrKPr7Us7Lw%3D%3D&trackingId=Dg%2BXGPYgL0xZUUmY4vAJOw%3D%3D&position=4&pageNum=32\n",
      "------------------------------------------------\n"
     ]
    },
    {
     "name": "stderr",
     "output_type": "stream",
     "text": [
      " 21%|██        | 201/973 [05:22<18:03,  1.40s/it]"
     ]
    },
    {
     "name": "stdout",
     "output_type": "stream",
     "text": [
      "Num intentos: 1, URL: https://es.linkedin.com/jobs/view/fullstack-software-engineer-php-react-at-launchmetrics-4142326108?refId=iogc%2B4XiXLpYrKPr7Us7Lw%3D%3D&trackingId=29dyoTP%2FKh6F4MBDFaoXJQ%3D%3D&position=7&pageNum=32\n",
      "------------------------------------------------\n"
     ]
    },
    {
     "name": "stderr",
     "output_type": "stream",
     "text": [
      " 21%|██        | 202/973 [05:24<18:43,  1.46s/it]"
     ]
    },
    {
     "name": "stdout",
     "output_type": "stream",
     "text": [
      "Num intentos: 1, URL: https://es.linkedin.com/jobs/view/senior-cloud-software-engineer-with-go-python-and-kubernetes-r-d-area-eviden-at-eviden-4125763747?refId=iogc%2B4XiXLpYrKPr7Us7Lw%3D%3D&trackingId=rTLKCt3GP%2FUXAXbWFRSDXA%3D%3D&position=13&pageNum=32\n",
      "------------------------------------------------\n"
     ]
    },
    {
     "name": "stderr",
     "output_type": "stream",
     "text": [
      " 21%|██        | 203/973 [05:25<18:04,  1.41s/it]"
     ]
    },
    {
     "name": "stdout",
     "output_type": "stream",
     "text": [
      "Num intentos: 1, URL: https://es.linkedin.com/jobs/view/software-development-engineer-12-month-contract-eu-prime-savings-and-speed-at-amazon-web-services-aws-4144389319?refId=jYUCayDj5AktnYUNOxZvEQ%3D%3D&trackingId=4l%2BWRWC4FU%2FZQdclRaMBkw%3D%3D&position=1&pageNum=34\n",
      "------------------------------------------------\n"
     ]
    },
    {
     "name": "stderr",
     "output_type": "stream",
     "text": [
      " 21%|██        | 204/973 [05:26<17:13,  1.34s/it]"
     ]
    },
    {
     "name": "stdout",
     "output_type": "stream",
     "text": [
      "Num intentos: 1, URL: https://es.linkedin.com/jobs/view/artificial-intelligence-strategy-analyst-at-ntt-data-europe-latam-4119565259?refId=jYUCayDj5AktnYUNOxZvEQ%3D%3D&trackingId=qiRSehRZCGlfDqnCjQj0pQ%3D%3D&position=7&pageNum=34\n",
      "------------------------------------------------\n"
     ]
    },
    {
     "name": "stderr",
     "output_type": "stream",
     "text": [
      " 21%|██        | 205/973 [05:28<17:05,  1.34s/it]"
     ]
    },
    {
     "name": "stdout",
     "output_type": "stream",
     "text": [
      "Num intentos: 1, URL: https://es.linkedin.com/jobs/view/lead-quality-assurance-engineer-software-qa-at-alten-spain-4112677837?refId=jYUCayDj5AktnYUNOxZvEQ%3D%3D&trackingId=tRT6dM1qWf8f3wKN2%2Byepg%3D%3D&position=16&pageNum=34\n",
      "------------------------------------------------\n",
      "Num intentos: 1, URL: https://es.linkedin.com/jobs/view/gnss-software-engineer-at-gmv-4144399832?refId=k9%2FkRnfSBzcobArEZmRAig%3D%3D&trackingId=4pqeQq1JO%2BofZGxTJ4vfYg%3D%3D&position=1&pageNum=35\n"
     ]
    },
    {
     "name": "stderr",
     "output_type": "stream",
     "text": [
      " 21%|██        | 206/973 [05:29<16:23,  1.28s/it]"
     ]
    },
    {
     "name": "stdout",
     "output_type": "stream",
     "text": [
      "------------------------------------------------\n"
     ]
    },
    {
     "name": "stderr",
     "output_type": "stream",
     "text": [
      " 21%|██▏       | 207/973 [05:30<17:04,  1.34s/it]"
     ]
    },
    {
     "name": "stdout",
     "output_type": "stream",
     "text": [
      "Num intentos: 1, URL: https://es.linkedin.com/jobs/view/senior-software-engineer-at-nagra-4144818748?refId=FnhfE%2BUO6DlfX1s9TYmIuw%3D%3D&trackingId=FFuq3BBkL7Ye8C4VOsitvQ%3D%3D&position=11&pageNum=36\n",
      "------------------------------------------------\n"
     ]
    },
    {
     "name": "stderr",
     "output_type": "stream",
     "text": [
      " 21%|██▏       | 208/973 [05:31<16:04,  1.26s/it]"
     ]
    },
    {
     "name": "stdout",
     "output_type": "stream",
     "text": [
      "Num intentos: 1, URL: https://es.linkedin.com/jobs/view/functional-expert-business-intelligence-microsoft-power-bi-at-destinus-4144352092?refId=FnhfE%2BUO6DlfX1s9TYmIuw%3D%3D&trackingId=pZCVXelbG%2FHvyD%2Bu%2FXkxzg%3D%3D&position=24&pageNum=36\n",
      "------------------------------------------------\n"
     ]
    },
    {
     "name": "stderr",
     "output_type": "stream",
     "text": [
      " 21%|██▏       | 209/973 [05:32<15:36,  1.23s/it]"
     ]
    },
    {
     "name": "stdout",
     "output_type": "stream",
     "text": [
      "Num intentos: 1, URL: https://es.linkedin.com/jobs/view/staff-software-engineer-personalization-foundations-at-happening-4135241010?refId=M92tBlvFSrvwBHhPL3Il6Q%3D%3D&trackingId=5P8QovId%2Fqdf4%2BIctaUt7w%3D%3D&position=13&pageNum=37\n",
      "------------------------------------------------\n"
     ]
    },
    {
     "name": "stderr",
     "output_type": "stream",
     "text": [
      " 22%|██▏       | 210/973 [05:34<15:28,  1.22s/it]"
     ]
    },
    {
     "name": "stdout",
     "output_type": "stream",
     "text": [
      "Num intentos: 1, URL: https://es.linkedin.com/jobs/view/software-engineer-for-defense-projects-at-gmv-4144406036?refId=4aUxUe7ReM%2FfmMEQZ%2Bz1sA%3D%3D&trackingId=dgi0Wpl%2F0gTmCjpETFemHg%3D%3D&position=13&pageNum=38\n",
      "------------------------------------------------\n"
     ]
    },
    {
     "name": "stderr",
     "output_type": "stream",
     "text": [
      " 22%|██▏       | 211/973 [05:35<15:06,  1.19s/it]"
     ]
    },
    {
     "name": "stdout",
     "output_type": "stream",
     "text": [
      "Num intentos: 1, URL: https://es.linkedin.com/jobs/view/c%2B%2B-software-engineer-at-worldline-4131654600?refId=xPrcwAXkZO4mu5jDn0JJDg%3D%3D&trackingId=7OoMsoyZpJTZe0ZceCgTNw%3D%3D&position=11&pageNum=39\n",
      "------------------------------------------------\n"
     ]
    },
    {
     "name": "stderr",
     "output_type": "stream",
     "text": [
      " 22%|██▏       | 212/973 [05:36<14:38,  1.15s/it]"
     ]
    },
    {
     "name": "stdout",
     "output_type": "stream",
     "text": [
      "Num intentos: 1, URL: https://es.linkedin.com/jobs/view/data-engineer-big-data-100%25-remoto-at-minsait-4141630555?refId=5lUV4%2FNAtY0kytHF7H9LFw%3D%3D&trackingId=SRJFonYxAKaq22YglLDH1A%3D%3D&position=5&pageNum=0\n",
      "------------------------------------------------\n",
      "Num intentos: 1, URL: https://es.linkedin.com/jobs/view/bi-data-engineer-at-ryanair-europe-s-favourite-airline-4026646862?refId=JOY6haVz%2BavdFBx3hGjq%2BQ%3D%3D&trackingId=BnfTELw%2BDsxKEaJP6ots6w%3D%3D&position=7&pageNum=2\n"
     ]
    },
    {
     "name": "stderr",
     "output_type": "stream",
     "text": [
      " 22%|██▏       | 213/973 [05:37<15:48,  1.25s/it]"
     ]
    },
    {
     "name": "stdout",
     "output_type": "stream",
     "text": [
      "------------------------------------------------\n"
     ]
    },
    {
     "name": "stderr",
     "output_type": "stream",
     "text": [
      " 22%|██▏       | 214/973 [05:38<15:33,  1.23s/it]"
     ]
    },
    {
     "name": "stdout",
     "output_type": "stream",
     "text": [
      "Num intentos: 1, URL: https://es.linkedin.com/jobs/view/data-engineer-datalake-at-cobser-consulting-4141620474?refId=JOY6haVz%2BavdFBx3hGjq%2BQ%3D%3D&trackingId=lSIek7hwkxA5HP0cuj%2B4NA%3D%3D&position=12&pageNum=2\n",
      "------------------------------------------------\n"
     ]
    },
    {
     "name": "stderr",
     "output_type": "stream",
     "text": [
      " 22%|██▏       | 215/973 [05:40<15:05,  1.19s/it]"
     ]
    },
    {
     "name": "stdout",
     "output_type": "stream",
     "text": [
      "Num intentos: 1, URL: https://es.linkedin.com/jobs/view/junior-big-data-developer-santander-digital-services-at-santander-digital-services-4143044935?refId=JOY6haVz%2BavdFBx3hGjq%2BQ%3D%3D&trackingId=BtmXwy7n%2BvoZO%2FA8L6DIUg%3D%3D&position=17&pageNum=2\n",
      "------------------------------------------------\n"
     ]
    },
    {
     "name": "stderr",
     "output_type": "stream",
     "text": [
      " 22%|██▏       | 216/973 [05:41<14:37,  1.16s/it]"
     ]
    },
    {
     "name": "stdout",
     "output_type": "stream",
     "text": [
      "Num intentos: 1, URL: https://es.linkedin.com/jobs/view/machine-learning-ai-engineer-at-axa-4141624097?refId=NfI1oXKEWAziniZHawNbcA%3D%3D&trackingId=JLhv%2BK3Rx9wUajitVF2S2Q%3D%3D&position=8&pageNum=5\n",
      "------------------------------------------------\n"
     ]
    },
    {
     "name": "stderr",
     "output_type": "stream",
     "text": [
      " 22%|██▏       | 217/973 [05:42<14:38,  1.16s/it]"
     ]
    },
    {
     "name": "stdout",
     "output_type": "stream",
     "text": [
      "Num intentos: 1, URL: https://es.linkedin.com/jobs/view/%F0%9F%9A%80-data-engineer-proyecto-lider-sector-gran-consumo-fullremote-%F0%9F%9A%80-at-decskill-espa%C3%B1a-4141672771?refId=qiJ6q4%2BjkVAGpjN7lVYm9g%3D%3D&trackingId=PPbKT%2BVSeDR%2Fe099ec%2BIrw%3D%3D&position=15&pageNum=6\n",
      "Error en el link: https://es.linkedin.com/jobs/view/%F0%9F%9A%80-data-engineer-proyecto-lider-sector-gran-consumo-fullremote-%F0%9F%9A%80-at-decskill-espa%C3%B1a-4141672771?refId=qiJ6q4%2BjkVAGpjN7lVYm9g%3D%3D&trackingId=PPbKT%2BVSeDR%2Fe099ec%2BIrw%3D%3D&position=15&pageNum=6\n",
      "------------------------------------------------\n"
     ]
    },
    {
     "name": "stderr",
     "output_type": "stream",
     "text": [
      " 22%|██▏       | 218/973 [05:43<14:36,  1.16s/it]"
     ]
    },
    {
     "name": "stdout",
     "output_type": "stream",
     "text": [
      "Num intentos: 1, URL: https://es.linkedin.com/jobs/view/developer-data-engineer-f-m-d-at-axpo-group-4114533358?refId=zQtuxswf5sFpuL%2FkUwXZIw%3D%3D&trackingId=9YYBm9T7XYnx9TWgcg3GXg%3D%3D&position=4&pageNum=9\n",
      "------------------------------------------------\n"
     ]
    },
    {
     "name": "stderr",
     "output_type": "stream",
     "text": [
      " 23%|██▎       | 219/973 [05:44<14:19,  1.14s/it]"
     ]
    },
    {
     "name": "stdout",
     "output_type": "stream",
     "text": [
      "Num intentos: 1, URL: https://es.linkedin.com/jobs/view/data-engineer-snowflake-hybrid-intelligence-at-capgemini-engineering-4141624253?refId=zQtuxswf5sFpuL%2FkUwXZIw%3D%3D&trackingId=hnpKd%2FPkQWWtVyE%2BQbvWyw%3D%3D&position=19&pageNum=9\n",
      "Error en el link: https://es.linkedin.com/jobs/view/data-engineer-snowflake-hybrid-intelligence-at-capgemini-engineering-4141624253?refId=zQtuxswf5sFpuL%2FkUwXZIw%3D%3D&trackingId=hnpKd%2FPkQWWtVyE%2BQbvWyw%3D%3D&position=19&pageNum=9\n",
      "------------------------------------------------\n",
      "Num intentos: 1, URL: https://es.linkedin.com/jobs/view/data-engineer-snowflake-hybrid-intelligence-at-capgemini-engineering-4141624253?refId=lLfUMnXEaEcpWjyocCqvfg%3D%3D&trackingId=eKz7fAEJtQya3goPu6Vkfw%3D%3D&position=18&pageNum=10\n",
      "Error en el link: https://es.linkedin.com/jobs/view/data-engineer-snowflake-hybrid-intelligence-at-capgemini-engineering-4141624253?refId=lLfUMnXEaEcpWjyocCqvfg%3D%3D&trackingId=eKz7fAEJtQya3goPu6Vkfw%3D%3D&position=18&pageNum=10\n"
     ]
    },
    {
     "name": "stderr",
     "output_type": "stream",
     "text": [
      " 23%|██▎       | 220/973 [05:45<14:46,  1.18s/it]"
     ]
    },
    {
     "name": "stdout",
     "output_type": "stream",
     "text": [
      "------------------------------------------------\n"
     ]
    },
    {
     "name": "stderr",
     "output_type": "stream",
     "text": [
      " 23%|██▎       | 221/973 [05:47<14:45,  1.18s/it]"
     ]
    },
    {
     "name": "stdout",
     "output_type": "stream",
     "text": [
      "Num intentos: 1, URL: https://es.linkedin.com/jobs/view/data-scientist-at-axa-4141619527?refId=RdedVh4j8Ltwj0EyXoSKYA%3D%3D&trackingId=nElcM0kjGhT5E9es50810A%3D%3D&position=4&pageNum=14\n",
      "------------------------------------------------\n"
     ]
    },
    {
     "name": "stderr",
     "output_type": "stream",
     "text": [
      " 23%|██▎       | 222/973 [05:48<15:02,  1.20s/it]"
     ]
    },
    {
     "name": "stdout",
     "output_type": "stream",
     "text": [
      "Num intentos: 1, URL: https://es.linkedin.com/jobs/view/software-engineer-net-at-teya-4141682805?refId=RdedVh4j8Ltwj0EyXoSKYA%3D%3D&trackingId=wwkbn86PMA0mnaOsHUfgEA%3D%3D&position=11&pageNum=14\n",
      "------------------------------------------------\n"
     ]
    },
    {
     "name": "stderr",
     "output_type": "stream",
     "text": [
      " 23%|██▎       | 223/973 [05:49<15:00,  1.20s/it]"
     ]
    },
    {
     "name": "stdout",
     "output_type": "stream",
     "text": [
      "Num intentos: 1, URL: https://es.linkedin.com/jobs/view/software-engineer-devx-at-cabify-4143600717?refId=RdedVh4j8Ltwj0EyXoSKYA%3D%3D&trackingId=HRqwz7D%2Bu4dGJ6PXaYwoag%3D%3D&position=13&pageNum=14\n",
      "------------------------------------------------\n"
     ]
    },
    {
     "name": "stderr",
     "output_type": "stream",
     "text": [
      " 23%|██▎       | 224/973 [05:50<15:34,  1.25s/it]"
     ]
    },
    {
     "name": "stdout",
     "output_type": "stream",
     "text": [
      "Num intentos: 1, URL: https://es.linkedin.com/jobs/view/data-scientist-ingeniero-ia-at-yeeply-4143443930?refId=kEewYSP0sda%2BAS9qJ05byw%3D%3D&trackingId=uLIc8Vmd%2BSkhZKGze1ih1w%3D%3D&position=17&pageNum=15\n",
      "------------------------------------------------\n"
     ]
    },
    {
     "name": "stderr",
     "output_type": "stream",
     "text": [
      " 23%|██▎       | 225/973 [05:51<14:40,  1.18s/it]"
     ]
    },
    {
     "name": "stdout",
     "output_type": "stream",
     "text": [
      "Num intentos: 1, URL: https://es.linkedin.com/jobs/view/junior-data-scientist-temporal-at-boslan-ingenieria-y-consultoria-4143418724?refId=xAOfEyQvsTybZp6n8A%2B4ZA%3D%3D&trackingId=G%2B2YRVhwkQ7HcBApSLm9Nw%3D%3D&position=16&pageNum=16\n",
      "Error en el link: https://es.linkedin.com/jobs/view/junior-data-scientist-temporal-at-boslan-ingenieria-y-consultoria-4143418724?refId=xAOfEyQvsTybZp6n8A%2B4ZA%3D%3D&trackingId=G%2B2YRVhwkQ7HcBApSLm9Nw%3D%3D&position=16&pageNum=16\n",
      "------------------------------------------------\n"
     ]
    },
    {
     "name": "stderr",
     "output_type": "stream",
     "text": [
      " 23%|██▎       | 226/973 [05:53<14:48,  1.19s/it]"
     ]
    },
    {
     "name": "stdout",
     "output_type": "stream",
     "text": [
      "Num intentos: 1, URL: https://es.linkedin.com/jobs/view/frontend-software-engineer-at-p2p-org-4143388235?refId=5iMqGO1%2FHzfh4hS6zDhIBw%3D%3D&trackingId=GSLllOHhjeC7HfkESNo%2Feg%3D%3D&position=7&pageNum=17\n",
      "------------------------------------------------\n",
      "Num intentos: 1, URL: https://es.linkedin.com/jobs/view/senior-data-analyst-at-make-3792377593?refId=5iMqGO1%2FHzfh4hS6zDhIBw%3D%3D&trackingId=A0bcLlXQz5zTl3RNTxbsog%3D%3D&position=12&pageNum=17\n"
     ]
    },
    {
     "name": "stderr",
     "output_type": "stream",
     "text": [
      " 23%|██▎       | 227/973 [05:54<15:58,  1.29s/it]"
     ]
    },
    {
     "name": "stdout",
     "output_type": "stream",
     "text": [
      "------------------------------------------------\n"
     ]
    },
    {
     "name": "stderr",
     "output_type": "stream",
     "text": [
      " 23%|██▎       | 228/973 [05:55<15:40,  1.26s/it]"
     ]
    },
    {
     "name": "stdout",
     "output_type": "stream",
     "text": [
      "Num intentos: 1, URL: https://es.linkedin.com/jobs/view/analista-de-datos-operaciones-y-log%C3%ADstica-at-iberian-ventures-4143460512?refId=jlTvqtUYEFUTXMPpb2kHVA%3D%3D&trackingId=sIL8JxgfKC0oLPPqTGCNYg%3D%3D&position=7&pageNum=19\n",
      "------------------------------------------------\n"
     ]
    },
    {
     "name": "stderr",
     "output_type": "stream",
     "text": [
      " 24%|██▎       | 229/973 [05:57<15:38,  1.26s/it]"
     ]
    },
    {
     "name": "stdout",
     "output_type": "stream",
     "text": [
      "Num intentos: 1, URL: https://es.linkedin.com/jobs/view/software-engineer-go-golang-at-abbott-3850663049?refId=jlTvqtUYEFUTXMPpb2kHVA%3D%3D&trackingId=5JxNyg%2FiGSi3KTQBKPTVyg%3D%3D&position=10&pageNum=19\n",
      "------------------------------------------------\n"
     ]
    },
    {
     "name": "stderr",
     "output_type": "stream",
     "text": [
      " 24%|██▎       | 230/973 [05:58<15:48,  1.28s/it]"
     ]
    },
    {
     "name": "stdout",
     "output_type": "stream",
     "text": [
      "Num intentos: 1, URL: https://es.linkedin.com/jobs/view/data-scientist-genai-llms-at-bbva-4143652000?refId=jlTvqtUYEFUTXMPpb2kHVA%3D%3D&trackingId=7Oo2Wulej7jiXvyVgujmpQ%3D%3D&position=13&pageNum=19\n",
      "------------------------------------------------\n"
     ]
    },
    {
     "name": "stderr",
     "output_type": "stream",
     "text": [
      " 24%|██▎       | 231/973 [05:59<15:38,  1.27s/it]"
     ]
    },
    {
     "name": "stdout",
     "output_type": "stream",
     "text": [
      "Num intentos: 1, URL: https://es.linkedin.com/jobs/view/madrid-software-engineer-at-neptune-north-4143639236?refId=LtGvNDRbIiqTwa1XzDQk5w%3D%3D&trackingId=24hJVTz9V2Ywf7Mhptv30A%3D%3D&position=15&pageNum=21\n",
      "------------------------------------------------\n"
     ]
    },
    {
     "name": "stderr",
     "output_type": "stream",
     "text": [
      " 24%|██▍       | 232/973 [06:00<15:41,  1.27s/it]"
     ]
    },
    {
     "name": "stdout",
     "output_type": "stream",
     "text": [
      "Num intentos: 1, URL: https://es.linkedin.com/jobs/view/beca-datos-madrid-at-prezero-espa%C3%B1a-4141493190?refId=6iugOUKVCcIlzIMTSgbc4A%3D%3D&trackingId=iBTmEfN0%2FIfKjSi9SV2UJQ%3D%3D&position=15&pageNum=23\n",
      "------------------------------------------------\n",
      "Num intentos: 1, URL: https://es.linkedin.com/jobs/view/expert-data-scientist-at-bbva-4143647978?refId=6nUlb6gH8Ge0cwv7vGKOxQ%3D%3D&trackingId=Rtytslw1K1pHI0sRRqrQAQ%3D%3D&position=7&pageNum=24\n"
     ]
    },
    {
     "name": "stderr",
     "output_type": "stream",
     "text": [
      " 24%|██▍       | 233/973 [06:02<16:09,  1.31s/it]"
     ]
    },
    {
     "name": "stdout",
     "output_type": "stream",
     "text": [
      "------------------------------------------------\n"
     ]
    },
    {
     "name": "stderr",
     "output_type": "stream",
     "text": [
      " 24%|██▍       | 234/973 [06:03<14:59,  1.22s/it]"
     ]
    },
    {
     "name": "stdout",
     "output_type": "stream",
     "text": [
      "Num intentos: 1, URL: https://es.linkedin.com/jobs/view/01-staff-software-engineer-madrid-remote-at-resolve-4143458571?refId=6nUlb6gH8Ge0cwv7vGKOxQ%3D%3D&trackingId=GuJxFuELthRRhYORYvBiYA%3D%3D&position=17&pageNum=24\n",
      "------------------------------------------------\n"
     ]
    },
    {
     "name": "stderr",
     "output_type": "stream",
     "text": [
      " 24%|██▍       | 235/973 [06:04<14:10,  1.15s/it]"
     ]
    },
    {
     "name": "stdout",
     "output_type": "stream",
     "text": [
      "Num intentos: 1, URL: https://es.linkedin.com/jobs/view/revenue-generation-bi-data-analyst-trainee-at-radisson-hotel-group-4115188019?refId=xndk4q%2FZdLhddgb2PRN9DQ%3D%3D&trackingId=XOWpoFyo7hiF3TAm3FbgCw%3D%3D&position=9&pageNum=25\n",
      "------------------------------------------------\n"
     ]
    },
    {
     "name": "stderr",
     "output_type": "stream",
     "text": [
      " 24%|██▍       | 236/973 [06:05<14:36,  1.19s/it]"
     ]
    },
    {
     "name": "stdout",
     "output_type": "stream",
     "text": [
      "Num intentos: 1, URL: https://es.linkedin.com/jobs/view/desarrollador-de-informes-sas-visual-analytics-at-it-partner-4141666541?refId=%2Fq8IkmAC8FsOi3L4LWt3mA%3D%3D&trackingId=NN9J%2BiOxNHKOltTYn8yftw%3D%3D&position=16&pageNum=26\n",
      "------------------------------------------------\n"
     ]
    },
    {
     "name": "stderr",
     "output_type": "stream",
     "text": [
      " 24%|██▍       | 237/973 [06:06<14:27,  1.18s/it]"
     ]
    },
    {
     "name": "stdout",
     "output_type": "stream",
     "text": [
      "Num intentos: 1, URL: https://es.linkedin.com/jobs/view/senior-software-engineer-c%23-java-at-oliver-bernard-4141499923?refId=27zDqnaAzgOwPOyBAP6gyA%3D%3D&trackingId=aW7vQm%2BHkgni5MU4Ru34tg%3D%3D&position=10&pageNum=28\n",
      "------------------------------------------------\n"
     ]
    },
    {
     "name": "stderr",
     "output_type": "stream",
     "text": [
      " 24%|██▍       | 238/973 [06:07<13:28,  1.10s/it]"
     ]
    },
    {
     "name": "stdout",
     "output_type": "stream",
     "text": [
      "Num intentos: 1, URL: https://es.linkedin.com/jobs/view/bi-specialist-at-amadeus-4143600364?refId=BzKsdm%2FLcWVFlzPY6XXEyg%3D%3D&trackingId=Rt3hxBNYjln37m0Yv%2FuO3A%3D%3D&position=23&pageNum=29\n",
      "------------------------------------------------\n"
     ]
    },
    {
     "name": "stderr",
     "output_type": "stream",
     "text": [
      " 25%|██▍       | 239/973 [06:09<14:32,  1.19s/it]"
     ]
    },
    {
     "name": "stdout",
     "output_type": "stream",
     "text": [
      "Num intentos: 1, URL: https://es.linkedin.com/jobs/view/senior-software-engineer-high-performance-transaction-systems-at-datadog-3964927124?refId=iogc%2B4XiXLpYrKPr7Us7Lw%3D%3D&trackingId=xMvEf6OfzJOT%2BXCvtWqMPA%3D%3D&position=11&pageNum=32\n",
      "------------------------------------------------\n"
     ]
    },
    {
     "name": "stderr",
     "output_type": "stream",
     "text": [
      " 25%|██▍       | 240/973 [06:10<14:51,  1.22s/it]"
     ]
    },
    {
     "name": "stdout",
     "output_type": "stream",
     "text": [
      "Num intentos: 1, URL: https://es.linkedin.com/jobs/view/senior-software-engineer-full-stack-web-at-p2p-org-4143387285?refId=iogc%2B4XiXLpYrKPr7Us7Lw%3D%3D&trackingId=yG6%2BaQ0mTNuGjDYOZdWDbQ%3D%3D&position=19&pageNum=32\n",
      "------------------------------------------------\n"
     ]
    },
    {
     "name": "stderr",
     "output_type": "stream",
     "text": [
      " 25%|██▍       | 241/973 [06:11<14:41,  1.20s/it]"
     ]
    },
    {
     "name": "stdout",
     "output_type": "stream",
     "text": [
      "Num intentos: 1, URL: https://es.linkedin.com/jobs/view/data-scientist-at-hays-4118611352?refId=iogc%2B4XiXLpYrKPr7Us7Lw%3D%3D&trackingId=crWm2tEz37olTeOGfc02zw%3D%3D&position=21&pageNum=32\n",
      "------------------------------------------------\n"
     ]
    },
    {
     "name": "stderr",
     "output_type": "stream",
     "text": [
      " 25%|██▍       | 242/973 [06:12<14:38,  1.20s/it]"
     ]
    },
    {
     "name": "stdout",
     "output_type": "stream",
     "text": [
      "Num intentos: 1, URL: https://es.linkedin.com/jobs/view/sr-software-engineer-at-pagonxt-a-santander-company-4143634221?refId=GB%2Fwwj7Zi4x1VtaSwZK9nQ%3D%3D&trackingId=OQgbaMQU%2BGDkL%2FdCp4gqcQ%3D%3D&position=5&pageNum=33\n",
      "------------------------------------------------\n"
     ]
    },
    {
     "name": "stderr",
     "output_type": "stream",
     "text": [
      " 25%|██▍       | 243/973 [06:13<14:33,  1.20s/it]"
     ]
    },
    {
     "name": "stdout",
     "output_type": "stream",
     "text": [
      "Num intentos: 1, URL: https://es.linkedin.com/jobs/view/experto-a-en-ia-at-mapfre-4143653552?refId=GB%2Fwwj7Zi4x1VtaSwZK9nQ%3D%3D&trackingId=9OasgGDqzEuZH47pUUzJMA%3D%3D&position=9&pageNum=33\n",
      "------------------------------------------------\n"
     ]
    },
    {
     "name": "stderr",
     "output_type": "stream",
     "text": [
      " 25%|██▌       | 244/973 [06:15<14:48,  1.22s/it]"
     ]
    },
    {
     "name": "stdout",
     "output_type": "stream",
     "text": [
      "Num intentos: 1, URL: https://es.linkedin.com/jobs/view/senior-software-engineer-internal-service-platform-at-datadog-4082643644?refId=GB%2Fwwj7Zi4x1VtaSwZK9nQ%3D%3D&trackingId=BDxMn29Ql3k2iVMNYOhHAA%3D%3D&position=11&pageNum=33\n",
      "------------------------------------------------\n"
     ]
    },
    {
     "name": "stderr",
     "output_type": "stream",
     "text": [
      " 25%|██▌       | 245/973 [06:16<14:48,  1.22s/it]"
     ]
    },
    {
     "name": "stdout",
     "output_type": "stream",
     "text": [
      "Num intentos: 1, URL: https://es.linkedin.com/jobs/view/experto-a-en-gobierno-de-la-ia-at-mapfre-4143658102?refId=jYUCayDj5AktnYUNOxZvEQ%3D%3D&trackingId=NQGe1XKg9VPEftjnvPkvpg%3D%3D&position=9&pageNum=34\n",
      "------------------------------------------------\n"
     ]
    },
    {
     "name": "stderr",
     "output_type": "stream",
     "text": [
      " 25%|██▌       | 246/973 [06:17<14:18,  1.18s/it]"
     ]
    },
    {
     "name": "stdout",
     "output_type": "stream",
     "text": [
      "Num intentos: 1, URL: https://es.linkedin.com/jobs/view/clinical-data-scientist-at-psi-cro-ag-4122408989?refId=k9%2FkRnfSBzcobArEZmRAig%3D%3D&trackingId=WgYFUzTuEf2wiGFyftG%2FhQ%3D%3D&position=3&pageNum=35\n",
      "------------------------------------------------\n"
     ]
    },
    {
     "name": "stderr",
     "output_type": "stream",
     "text": [
      " 25%|██▌       | 247/973 [06:18<13:48,  1.14s/it]"
     ]
    },
    {
     "name": "stdout",
     "output_type": "stream",
     "text": [
      "Num intentos: 1, URL: https://es.linkedin.com/jobs/view/software-and-support-engineer-for-siemens-logistics-at-siemens-4141623950?refId=k9%2FkRnfSBzcobArEZmRAig%3D%3D&trackingId=0vD4ik3%2BJD6NnkeVF7L5cA%3D%3D&position=25&pageNum=35\n",
      "------------------------------------------------\n",
      "Num intentos: 1, URL: https://es.linkedin.com/jobs/view/field-service-engineer-at-alfa-laval-energy-4143373998?refId=FnhfE%2BUO6DlfX1s9TYmIuw%3D%3D&trackingId=RM9SHYxvH%2B4OkSHFvbe1MQ%3D%3D&position=12&pageNum=36\n"
     ]
    },
    {
     "name": "stderr",
     "output_type": "stream",
     "text": [
      " 25%|██▌       | 248/973 [06:20<15:16,  1.26s/it]"
     ]
    },
    {
     "name": "stdout",
     "output_type": "stream",
     "text": [
      "------------------------------------------------\n"
     ]
    },
    {
     "name": "stderr",
     "output_type": "stream",
     "text": [
      " 26%|██▌       | 249/973 [06:21<15:05,  1.25s/it]"
     ]
    },
    {
     "name": "stdout",
     "output_type": "stream",
     "text": [
      "Num intentos: 1, URL: https://es.linkedin.com/jobs/view/sr-software-engineer-net-at-inetum-4141665307?refId=FnhfE%2BUO6DlfX1s9TYmIuw%3D%3D&trackingId=9nhn4UTaDlvnz03ci%2BoxNA%3D%3D&position=14&pageNum=36\n",
      "------------------------------------------------\n"
     ]
    },
    {
     "name": "stderr",
     "output_type": "stream",
     "text": [
      " 26%|██▌       | 250/973 [06:22<15:13,  1.26s/it]"
     ]
    },
    {
     "name": "stdout",
     "output_type": "stream",
     "text": [
      "Num intentos: 1, URL: https://es.linkedin.com/jobs/view/project-engineer-at-nextracker-inc-4143652283?refId=M92tBlvFSrvwBHhPL3Il6Q%3D%3D&trackingId=RGJVIOCZ8QlyyCyas%2B0rvQ%3D%3D&position=12&pageNum=37\n",
      "------------------------------------------------\n"
     ]
    },
    {
     "name": "stderr",
     "output_type": "stream",
     "text": [
      " 26%|██▌       | 251/973 [06:23<14:48,  1.23s/it]"
     ]
    },
    {
     "name": "stdout",
     "output_type": "stream",
     "text": [
      "Num intentos: 1, URL: https://es.linkedin.com/jobs/view/r-d-engineer-software-developer-for-material-apps-at-ansys-4111760685?refId=4aUxUe7ReM%2FfmMEQZ%2Bz1sA%3D%3D&trackingId=ijUG0g9vxNHpvsIbNApBGQ%3D%3D&position=8&pageNum=38\n",
      "------------------------------------------------\n"
     ]
    },
    {
     "name": "stderr",
     "output_type": "stream",
     "text": [
      " 26%|██▌       | 252/973 [06:24<13:58,  1.16s/it]"
     ]
    },
    {
     "name": "stdout",
     "output_type": "stream",
     "text": [
      "Num intentos: 1, URL: https://es.linkedin.com/jobs/view/junior-data-engineer-at-ladorian-in-store-retail-media-4138336693?refId=5lUV4%2FNAtY0kytHF7H9LFw%3D%3D&trackingId=NtIiCpUes7N%2FOJhjRG5Beg%3D%3D&position=12&pageNum=0\n",
      "Error en el link: https://es.linkedin.com/jobs/view/junior-data-engineer-at-ladorian-in-store-retail-media-4138336693?refId=5lUV4%2FNAtY0kytHF7H9LFw%3D%3D&trackingId=NtIiCpUes7N%2FOJhjRG5Beg%3D%3D&position=12&pageNum=0\n",
      "------------------------------------------------\n"
     ]
    },
    {
     "name": "stderr",
     "output_type": "stream",
     "text": [
      " 26%|██▌       | 253/973 [06:25<13:43,  1.14s/it]"
     ]
    },
    {
     "name": "stdout",
     "output_type": "stream",
     "text": [
      "Num intentos: 1, URL: https://es.linkedin.com/jobs/view/data-analyst-engineer-at-revolut-4142286885?refId=gl%2Bd7kBz9WLFJeX%2Bk722Sg%3D%3D&trackingId=LnUzVtHPBSGczsEr0hnRUw%3D%3D&position=15&pageNum=1\n",
      "------------------------------------------------\n"
     ]
    },
    {
     "name": "stderr",
     "output_type": "stream",
     "text": [
      " 26%|██▌       | 254/973 [06:26<13:21,  1.12s/it]"
     ]
    },
    {
     "name": "stdout",
     "output_type": "stream",
     "text": [
      "Num intentos: 1, URL: https://es.linkedin.com/jobs/view/data-engineer-at-mahou-san-miguel-4141143189?refId=gl%2Bd7kBz9WLFJeX%2Bk722Sg%3D%3D&trackingId=sJAUVosruei8I%2BlBq6EoyQ%3D%3D&position=24&pageNum=1\n",
      "------------------------------------------------\n",
      "Num intentos: 1, URL: https://es.linkedin.com/jobs/view/technical-data-analyst-data-engineer-at-orquest-retail-smart-planning-4141131441?refId=JOY6haVz%2BavdFBx3hGjq%2BQ%3D%3D&trackingId=7%2F5tR2EvqHKTmoHp9iCguA%3D%3D&position=3&pageNum=2\n"
     ]
    },
    {
     "name": "stderr",
     "output_type": "stream",
     "text": [
      " 26%|██▌       | 255/973 [06:28<14:41,  1.23s/it]"
     ]
    },
    {
     "name": "stdout",
     "output_type": "stream",
     "text": [
      "------------------------------------------------\n"
     ]
    },
    {
     "name": "stderr",
     "output_type": "stream",
     "text": [
      " 26%|██▋       | 256/973 [06:29<14:18,  1.20s/it]"
     ]
    },
    {
     "name": "stdout",
     "output_type": "stream",
     "text": [
      "Num intentos: 1, URL: https://es.linkedin.com/jobs/view/data-analyst-fraude-audiovisual-at-laliga-4142631834?refId=JOY6haVz%2BavdFBx3hGjq%2BQ%3D%3D&trackingId=1yXPj14FPZaLINWSbiKeUA%3D%3D&position=9&pageNum=2\n",
      "------------------------------------------------\n"
     ]
    },
    {
     "name": "stderr",
     "output_type": "stream",
     "text": [
      " 26%|██▋       | 257/973 [06:30<14:44,  1.23s/it]"
     ]
    },
    {
     "name": "stdout",
     "output_type": "stream",
     "text": [
      "Num intentos: 1, URL: https://es.linkedin.com/jobs/view/data-engineer-at-sdg-group-espa%C3%B1a-3931414992?refId=NfI1oXKEWAziniZHawNbcA%3D%3D&trackingId=1NBNp59DeZloykJRqCEYKw%3D%3D&position=9&pageNum=5\n",
      "------------------------------------------------\n"
     ]
    },
    {
     "name": "stderr",
     "output_type": "stream",
     "text": [
      " 27%|██▋       | 258/973 [06:32<14:38,  1.23s/it]"
     ]
    },
    {
     "name": "stdout",
     "output_type": "stream",
     "text": [
      "Num intentos: 1, URL: https://es.linkedin.com/jobs/view/especialista-en-data-e-ia-para-sector-formacion-hibrido-madrid-at-experis-4132033702?refId=NfI1oXKEWAziniZHawNbcA%3D%3D&trackingId=KTkgJ9SmZAfwRriwEpD6ow%3D%3D&position=17&pageNum=5\n",
      "------------------------------------------------\n"
     ]
    },
    {
     "name": "stderr",
     "output_type": "stream",
     "text": [
      " 27%|██▋       | 259/973 [06:33<15:23,  1.29s/it]"
     ]
    },
    {
     "name": "stdout",
     "output_type": "stream",
     "text": [
      "Num intentos: 1, URL: https://es.linkedin.com/jobs/view/data-engineer-at-philip-morris-international-4127944753?refId=qiJ6q4%2BjkVAGpjN7lVYm9g%3D%3D&trackingId=E0s4sWdIMyHbIDTLaF%2BpRQ%3D%3D&position=1&pageNum=6\n",
      "------------------------------------------------\n"
     ]
    },
    {
     "name": "stderr",
     "output_type": "stream",
     "text": [
      " 27%|██▋       | 260/973 [06:35<16:17,  1.37s/it]"
     ]
    },
    {
     "name": "stdout",
     "output_type": "stream",
     "text": [
      "Num intentos: 1, URL: https://es.linkedin.com/jobs/view/data-analyst-at-sdg-group-espa%C3%B1a-3757292593?refId=qiJ6q4%2BjkVAGpjN7lVYm9g%3D%3D&trackingId=6caM9vxHVD03Ysx83aRG8w%3D%3D&position=6&pageNum=6\n",
      "------------------------------------------------\n"
     ]
    },
    {
     "name": "stderr",
     "output_type": "stream",
     "text": [
      " 27%|██▋       | 261/973 [06:36<15:39,  1.32s/it]"
     ]
    },
    {
     "name": "stdout",
     "output_type": "stream",
     "text": [
      "Num intentos: 1, URL: https://es.linkedin.com/jobs/view/data-analyst-power-bi-at-logicalis-spain-4125751464?refId=qiJ6q4%2BjkVAGpjN7lVYm9g%3D%3D&trackingId=h867eJkoKk5xNbpdg6vHDg%3D%3D&position=19&pageNum=6\n",
      "------------------------------------------------\n",
      "Num intentos: 1, URL: https://es.linkedin.com/jobs/view/analista-de-datos-con-sql-alto-at-cognodata-4143018342?refId=qiJ6q4%2BjkVAGpjN7lVYm9g%3D%3D&trackingId=fIZsGUOGrWhL%2BEH58%2B2cxw%3D%3D&position=23&pageNum=6\n"
     ]
    },
    {
     "name": "stderr",
     "output_type": "stream",
     "text": [
      " 27%|██▋       | 262/973 [06:37<15:58,  1.35s/it]"
     ]
    },
    {
     "name": "stdout",
     "output_type": "stream",
     "text": [
      "------------------------------------------------\n"
     ]
    },
    {
     "name": "stderr",
     "output_type": "stream",
     "text": [
      " 27%|██▋       | 263/973 [06:38<15:39,  1.32s/it]"
     ]
    },
    {
     "name": "stdout",
     "output_type": "stream",
     "text": [
      "Num intentos: 1, URL: https://es.linkedin.com/jobs/view/data-engineer-ii-at-expedia-group-4130991821?refId=XzILX%2FJyntX%2BslwEYSdfAA%3D%3D&trackingId=Iy5xQ7Ev2PTKVZF1cw187Q%3D%3D&position=16&pageNum=8\n",
      "------------------------------------------------\n"
     ]
    },
    {
     "name": "stderr",
     "output_type": "stream",
     "text": [
      " 27%|██▋       | 264/973 [06:40<15:48,  1.34s/it]"
     ]
    },
    {
     "name": "stdout",
     "output_type": "stream",
     "text": [
      "Num intentos: 1, URL: https://es.linkedin.com/jobs/view/analista-de-datos-con-sql-alto-at-cognodata-4143018342?refId=jj4UbOc%2FecseE2pKr2PGiw%3D%3D&trackingId=dGBJmXzr5IrBwnRqVZAG8Q%3D%3D&position=2&pageNum=11\n",
      "------------------------------------------------\n"
     ]
    },
    {
     "name": "stderr",
     "output_type": "stream",
     "text": [
      " 27%|██▋       | 265/973 [06:41<15:34,  1.32s/it]"
     ]
    },
    {
     "name": "stdout",
     "output_type": "stream",
     "text": [
      "Num intentos: 1, URL: https://es.linkedin.com/jobs/view/junior-business-intelligence-at-clikalia-4142653271?refId=jj4UbOc%2FecseE2pKr2PGiw%3D%3D&trackingId=wpIXyr2lE5WreYFD93VFHA%3D%3D&position=14&pageNum=11\n",
      "------------------------------------------------\n"
     ]
    },
    {
     "name": "stderr",
     "output_type": "stream",
     "text": [
      " 27%|██▋       | 266/973 [06:42<15:02,  1.28s/it]"
     ]
    },
    {
     "name": "stdout",
     "output_type": "stream",
     "text": [
      "Num intentos: 1, URL: https://es.linkedin.com/jobs/view/data-analyst-at-kone-4142606765?refId=1gxsBjCoxyvxl5YEGDjwHQ%3D%3D&trackingId=1l9sOZWR9jqOCP7Aq809tg%3D%3D&position=5&pageNum=12\n",
      "------------------------------------------------\n"
     ]
    },
    {
     "name": "stderr",
     "output_type": "stream",
     "text": [
      " 27%|██▋       | 267/973 [06:43<14:25,  1.23s/it]"
     ]
    },
    {
     "name": "stdout",
     "output_type": "stream",
     "text": [
      "Num intentos: 1, URL: https://es.linkedin.com/jobs/view/software-engineering-platforms-principal-engineer-devops-platforms-at-stellantis-4114694282?refId=1gxsBjCoxyvxl5YEGDjwHQ%3D%3D&trackingId=nZ0Dr8%2F8iDNQ%2FxTjPyI36g%3D%3D&position=20&pageNum=12\n",
      "------------------------------------------------\n",
      "Num intentos: 1, URL: https://es.linkedin.com/jobs/view/senior-software-engineer-focus-on-data-ai-ml-at-kudelski-security-4142275649?refId=RdedVh4j8Ltwj0EyXoSKYA%3D%3D&trackingId=cjBJFs0%2F2%2F%2Bzh9gNT5U%2FuQ%3D%3D&position=2&pageNum=14\n"
     ]
    },
    {
     "name": "stderr",
     "output_type": "stream",
     "text": [
      " 28%|██▊       | 268/973 [06:45<15:15,  1.30s/it]"
     ]
    },
    {
     "name": "stdout",
     "output_type": "stream",
     "text": [
      "------------------------------------------------\n"
     ]
    },
    {
     "name": "stderr",
     "output_type": "stream",
     "text": [
      " 28%|██▊       | 269/973 [06:46<16:00,  1.36s/it]"
     ]
    },
    {
     "name": "stdout",
     "output_type": "stream",
     "text": [
      "Num intentos: 1, URL: https://es.linkedin.com/jobs/view/senior-cloud-data-engineer-at-ravenpack-4061879999?refId=xAOfEyQvsTybZp6n8A%2B4ZA%3D%3D&trackingId=mc7hRaiyv%2Brhl%2BX1%2FzzSzQ%3D%3D&position=4&pageNum=16\n",
      "------------------------------------------------\n"
     ]
    },
    {
     "name": "stderr",
     "output_type": "stream",
     "text": [
      " 28%|██▊       | 270/973 [06:47<14:31,  1.24s/it]"
     ]
    },
    {
     "name": "stdout",
     "output_type": "stream",
     "text": [
      "Num intentos: 1, URL: https://es.linkedin.com/jobs/view/research-development-software-engineer-at-plenoptika-4142611444?refId=xAOfEyQvsTybZp6n8A%2B4ZA%3D%3D&trackingId=f1E7Z81UhIL1EGXM88hZ1A%3D%3D&position=25&pageNum=16\n",
      "------------------------------------------------\n"
     ]
    },
    {
     "name": "stderr",
     "output_type": "stream",
     "text": [
      " 28%|██▊       | 271/973 [06:49<15:23,  1.32s/it]"
     ]
    },
    {
     "name": "stdout",
     "output_type": "stream",
     "text": [
      "Num intentos: 1, URL: https://es.linkedin.com/jobs/view/data-analyst-sap-center-of-expertise-f-m-d-at-hitachi-energy-4141103405?refId=RVoI%2BWwn15hCaFEnz4TWeA%3D%3D&trackingId=GrxtkVDXzr2Tq8NR408%2FYA%3D%3D&position=19&pageNum=20\n",
      "------------------------------------------------\n"
     ]
    },
    {
     "name": "stderr",
     "output_type": "stream",
     "text": [
      " 28%|██▊       | 272/973 [06:50<14:17,  1.22s/it]"
     ]
    },
    {
     "name": "stdout",
     "output_type": "stream",
     "text": [
      "Num intentos: 1, URL: https://es.linkedin.com/jobs/view/desarrollador-de-scala-at-ad4-oct%C3%B3gono-4141124287?refId=LtGvNDRbIiqTwa1XzDQk5w%3D%3D&trackingId=QGBu6ydm6xdew0Ifi8rXIA%3D%3D&position=5&pageNum=21\n",
      "------------------------------------------------\n"
     ]
    },
    {
     "name": "stderr",
     "output_type": "stream",
     "text": [
      " 28%|██▊       | 273/973 [06:51<14:19,  1.23s/it]"
     ]
    },
    {
     "name": "stdout",
     "output_type": "stream",
     "text": [
      "Num intentos: 1, URL: https://es.linkedin.com/jobs/view/consultor-de-programaci%C3%B3n-sas-at-cgi-4116540353?refId=6iugOUKVCcIlzIMTSgbc4A%3D%3D&trackingId=JVtSzDjk60FaZjgREGepdg%3D%3D&position=6&pageNum=23\n",
      "------------------------------------------------\n"
     ]
    },
    {
     "name": "stderr",
     "output_type": "stream",
     "text": [
      " 28%|██▊       | 274/973 [06:52<15:05,  1.30s/it]"
     ]
    },
    {
     "name": "stdout",
     "output_type": "stream",
     "text": [
      "Num intentos: 1, URL: https://es.linkedin.com/jobs/view/back-end-developer-at-ravenpack-4036349581?refId=6nUlb6gH8Ge0cwv7vGKOxQ%3D%3D&trackingId=hry5TnJnRwDaQ0OV0TIEfQ%3D%3D&position=11&pageNum=24\n",
      "------------------------------------------------\n"
     ]
    },
    {
     "name": "stderr",
     "output_type": "stream",
     "text": [
      " 28%|██▊       | 275/973 [06:54<14:38,  1.26s/it]"
     ]
    },
    {
     "name": "stdout",
     "output_type": "stream",
     "text": [
      "Num intentos: 1, URL: https://es.linkedin.com/jobs/view/business-intelligence-analyst-at-lognext-4140695127?refId=27zDqnaAzgOwPOyBAP6gyA%3D%3D&trackingId=k3H2JDKMyMK6Nkq1dO6JdQ%3D%3D&position=11&pageNum=28\n",
      "------------------------------------------------\n",
      "Num intentos: 1, URL: https://es.linkedin.com/jobs/view/network-automation-software-engineer-at-nokia-4140644375?refId=BzKsdm%2FLcWVFlzPY6XXEyg%3D%3D&trackingId=nXjdad7qjEX87yYkn3wUgw%3D%3D&position=1&pageNum=29\n"
     ]
    },
    {
     "name": "stderr",
     "output_type": "stream",
     "text": [
      " 28%|██▊       | 276/973 [06:55<14:53,  1.28s/it]"
     ]
    },
    {
     "name": "stdout",
     "output_type": "stream",
     "text": [
      "------------------------------------------------\n"
     ]
    },
    {
     "name": "stderr",
     "output_type": "stream",
     "text": [
      " 28%|██▊       | 277/973 [06:56<14:20,  1.24s/it]"
     ]
    },
    {
     "name": "stdout",
     "output_type": "stream",
     "text": [
      "Num intentos: 1, URL: https://es.linkedin.com/jobs/view/senior-software-engineer-java-hybrid-madrid-at-matchtech-4141136776?refId=BzKsdm%2FLcWVFlzPY6XXEyg%3D%3D&trackingId=XoyLCwOC%2BVj2fXClarMmSQ%3D%3D&position=9&pageNum=29\n",
      "------------------------------------------------\n"
     ]
    },
    {
     "name": "stderr",
     "output_type": "stream",
     "text": [
      " 29%|██▊       | 278/973 [06:57<14:21,  1.24s/it]"
     ]
    },
    {
     "name": "stdout",
     "output_type": "stream",
     "text": [
      "Num intentos: 1, URL: https://es.linkedin.com/jobs/view/dlp-data-loss-prevention-solution-architect-at-stellantis-4114695530?refId=BzKsdm%2FLcWVFlzPY6XXEyg%3D%3D&trackingId=S0%2BaRB9YFlpvrdML1bvftQ%3D%3D&position=25&pageNum=29\n",
      "------------------------------------------------\n"
     ]
    },
    {
     "name": "stderr",
     "output_type": "stream",
     "text": [
      " 29%|██▊       | 279/973 [06:59<15:02,  1.30s/it]"
     ]
    },
    {
     "name": "stdout",
     "output_type": "stream",
     "text": [
      "Num intentos: 1, URL: https://es.linkedin.com/jobs/view/software-development-engineer-ii-at-expedia-group-4130986984?refId=4T3q6%2BDUDS%2Fwfb0hIc%2BkJw%3D%3D&trackingId=v%2FyFn5s966kbV%2FEut1BhkQ%3D%3D&position=9&pageNum=30\n",
      "------------------------------------------------\n"
     ]
    },
    {
     "name": "stderr",
     "output_type": "stream",
     "text": [
      " 29%|██▉       | 280/973 [07:00<14:45,  1.28s/it]"
     ]
    },
    {
     "name": "stdout",
     "output_type": "stream",
     "text": [
      "Num intentos: 1, URL: https://es.linkedin.com/jobs/view/data-architect-gcp-at-capgemini-4143081010?refId=4T3q6%2BDUDS%2Fwfb0hIc%2BkJw%3D%3D&trackingId=xlOU9jfSOs8yV%2FiPsQVrfA%3D%3D&position=15&pageNum=30\n",
      "------------------------------------------------\n"
     ]
    },
    {
     "name": "stderr",
     "output_type": "stream",
     "text": [
      " 29%|██▉       | 281/973 [07:01<14:32,  1.26s/it]"
     ]
    },
    {
     "name": "stdout",
     "output_type": "stream",
     "text": [
      "Num intentos: 1, URL: https://es.linkedin.com/jobs/view/consultor-a-powerbi-at-santander-consumer-finance-global-services-4142640892?refId=pvzzDZKJw%2BBNu7o7uLGHhw%3D%3D&trackingId=0Nr5XgSy6lWwVQgqwSv8EQ%3D%3D&position=19&pageNum=31\n",
      "------------------------------------------------\n",
      "Num intentos: 1, URL: https://es.linkedin.com/jobs/view/software-development-engineer-ii-at-expedia-group-4119370172?refId=iogc%2B4XiXLpYrKPr7Us7Lw%3D%3D&trackingId=R40Vea4ThRkyZYCL7mA%2F2g%3D%3D&position=23&pageNum=32\n"
     ]
    },
    {
     "name": "stderr",
     "output_type": "stream",
     "text": [
      " 29%|██▉       | 282/973 [07:03<15:13,  1.32s/it]"
     ]
    },
    {
     "name": "stdout",
     "output_type": "stream",
     "text": [
      "------------------------------------------------\n"
     ]
    },
    {
     "name": "stderr",
     "output_type": "stream",
     "text": [
      " 29%|██▉       | 283/973 [07:04<15:52,  1.38s/it]"
     ]
    },
    {
     "name": "stdout",
     "output_type": "stream",
     "text": [
      "Num intentos: 1, URL: https://es.linkedin.com/jobs/view/palantir-specialist-at-sdg-group-espa%C3%B1a-4084134482?refId=iogc%2B4XiXLpYrKPr7Us7Lw%3D%3D&trackingId=6bB1rVe2jfgmIQ%2BXqhuwvg%3D%3D&position=24&pageNum=32\n",
      "------------------------------------------------\n"
     ]
    },
    {
     "name": "stderr",
     "output_type": "stream",
     "text": [
      " 29%|██▉       | 284/973 [07:06<15:36,  1.36s/it]"
     ]
    },
    {
     "name": "stdout",
     "output_type": "stream",
     "text": [
      "Num intentos: 1, URL: https://es.linkedin.com/jobs/view/data-analyst-intern-spanish-speaker-at-morningstar-4141162182?refId=jYUCayDj5AktnYUNOxZvEQ%3D%3D&trackingId=TsQkVfqaRhDnFWibr7R%2FAQ%3D%3D&position=22&pageNum=34\n",
      "------------------------------------------------\n"
     ]
    },
    {
     "name": "stderr",
     "output_type": "stream",
     "text": [
      " 29%|██▉       | 285/973 [07:07<15:39,  1.37s/it]"
     ]
    },
    {
     "name": "stdout",
     "output_type": "stream",
     "text": [
      "Num intentos: 1, URL: https://es.linkedin.com/jobs/view/data-analyst-certificado-discapacidad-at-sdg-group-espa%C3%B1a-3765753873?refId=k9%2FkRnfSBzcobArEZmRAig%3D%3D&trackingId=nf0khZKD2%2BpSRc%2BEuC2veQ%3D%3D&position=20&pageNum=35\n",
      "------------------------------------------------\n"
     ]
    },
    {
     "name": "stderr",
     "output_type": "stream",
     "text": [
      " 29%|██▉       | 286/973 [07:08<14:10,  1.24s/it]"
     ]
    },
    {
     "name": "stdout",
     "output_type": "stream",
     "text": [
      "Num intentos: 1, URL: https://es.linkedin.com/jobs/view/embedded-software-engineer-c-c%2B%2B-at-gmv-4142633885?refId=xPrcwAXkZO4mu5jDn0JJDg%3D%3D&trackingId=IfromVN5%2FVmSOFarhZGXCA%3D%3D&position=18&pageNum=39\n",
      "------------------------------------------------\n"
     ]
    },
    {
     "name": "stderr",
     "output_type": "stream",
     "text": [
      " 29%|██▉       | 287/973 [07:09<13:23,  1.17s/it]"
     ]
    },
    {
     "name": "stdout",
     "output_type": "stream",
     "text": [
      "Num intentos: 1, URL: https://es.linkedin.com/jobs/view/gestor-a-data-scientist-modelos-ia-bcn-madrid-at-caixabank-4140605084?refId=kEewYSP0sda%2BAS9qJ05byw%3D%3D&trackingId=g0rY%2FlBLI2L2h8YVJnsQcw%3D%3D&position=10&pageNum=15\n",
      "------------------------------------------------\n"
     ]
    },
    {
     "name": "stderr",
     "output_type": "stream",
     "text": [
      " 30%|██▉       | 288/973 [07:11<15:09,  1.33s/it]"
     ]
    },
    {
     "name": "stdout",
     "output_type": "stream",
     "text": [
      "Num intentos: 1, URL: https://es.linkedin.com/jobs/view/ingeniero-de-datos-at-mutua-madrile%C3%B1a-4139133600?refId=5lUV4%2FNAtY0kytHF7H9LFw%3D%3D&trackingId=uOJ9V9O4xB422p6GmMw4dg%3D%3D&position=4&pageNum=0\n",
      "------------------------------------------------\n",
      "Num intentos: 1, URL: https://es.linkedin.com/jobs/view/data-engineer-junior-at-logicalis-spain-4136261724?refId=5lUV4%2FNAtY0kytHF7H9LFw%3D%3D&trackingId=zlohHZ%2BEPA9ePlBrT6znrg%3D%3D&position=8&pageNum=0\n"
     ]
    },
    {
     "name": "stderr",
     "output_type": "stream",
     "text": [
      " 30%|██▉       | 289/973 [07:12<15:14,  1.34s/it]"
     ]
    },
    {
     "name": "stdout",
     "output_type": "stream",
     "text": [
      "------------------------------------------------\n"
     ]
    },
    {
     "name": "stderr",
     "output_type": "stream",
     "text": [
      " 30%|██▉       | 290/973 [07:13<14:56,  1.31s/it]"
     ]
    },
    {
     "name": "stdout",
     "output_type": "stream",
     "text": [
      "Num intentos: 1, URL: https://es.linkedin.com/jobs/view/data-engineer-at-nubika-digital-inetum-group-4138201935?refId=5lUV4%2FNAtY0kytHF7H9LFw%3D%3D&trackingId=oqqMju6hirZgMpVujJVPCA%3D%3D&position=10&pageNum=0\n",
      "Error en el link: https://es.linkedin.com/jobs/view/data-engineer-at-nubika-digital-inetum-group-4138201935?refId=5lUV4%2FNAtY0kytHF7H9LFw%3D%3D&trackingId=oqqMju6hirZgMpVujJVPCA%3D%3D&position=10&pageNum=0\n",
      "------------------------------------------------\n"
     ]
    },
    {
     "name": "stderr",
     "output_type": "stream",
     "text": [
      " 30%|██▉       | 291/973 [07:14<14:38,  1.29s/it]"
     ]
    },
    {
     "name": "stdout",
     "output_type": "stream",
     "text": [
      "Num intentos: 1, URL: https://es.linkedin.com/jobs/view/data-engineer-at-integra-tecnolog%C3%ADa-4136474553?refId=5lUV4%2FNAtY0kytHF7H9LFw%3D%3D&trackingId=5kMiplsuAfbmelQt1J1hfQ%3D%3D&position=21&pageNum=0\n",
      "Error en el link: https://es.linkedin.com/jobs/view/data-engineer-at-integra-tecnolog%C3%ADa-4136474553?refId=5lUV4%2FNAtY0kytHF7H9LFw%3D%3D&trackingId=5kMiplsuAfbmelQt1J1hfQ%3D%3D&position=21&pageNum=0\n",
      "------------------------------------------------\n"
     ]
    },
    {
     "name": "stderr",
     "output_type": "stream",
     "text": [
      " 30%|███       | 292/973 [07:15<13:51,  1.22s/it]"
     ]
    },
    {
     "name": "stdout",
     "output_type": "stream",
     "text": [
      "Num intentos: 1, URL: https://es.linkedin.com/jobs/view/data-ai-engineer-sr-data-ai-engineer-at-repsol-4092570713?refId=5lUV4%2FNAtY0kytHF7H9LFw%3D%3D&trackingId=07DEMmODyTM2ojJpKjmYrg%3D%3D&position=23&pageNum=0\n",
      "------------------------------------------------\n"
     ]
    },
    {
     "name": "stderr",
     "output_type": "stream",
     "text": [
      " 30%|███       | 293/973 [07:17<13:29,  1.19s/it]"
     ]
    },
    {
     "name": "stdout",
     "output_type": "stream",
     "text": [
      "Num intentos: 1, URL: https://es.linkedin.com/jobs/view/data-engineer-at-ayesa-4136794833?refId=gl%2Bd7kBz9WLFJeX%2Bk722Sg%3D%3D&trackingId=l2m1b02gbGk6yNJAiOFyrw%3D%3D&position=2&pageNum=1\n",
      "------------------------------------------------\n"
     ]
    },
    {
     "name": "stderr",
     "output_type": "stream",
     "text": [
      " 30%|███       | 294/973 [07:18<13:05,  1.16s/it]"
     ]
    },
    {
     "name": "stdout",
     "output_type": "stream",
     "text": [
      "Num intentos: 1, URL: https://es.linkedin.com/jobs/view/data-engineer-h%C3%ADbrido-madrid-at-sopra-steria-4136730872?refId=gl%2Bd7kBz9WLFJeX%2Bk722Sg%3D%3D&trackingId=Wx8V1UM2DLf3NM%2BgCHq8Og%3D%3D&position=5&pageNum=1\n",
      "------------------------------------------------\n"
     ]
    },
    {
     "name": "stderr",
     "output_type": "stream",
     "text": [
      " 30%|███       | 295/973 [07:19<13:53,  1.23s/it]"
     ]
    },
    {
     "name": "stdout",
     "output_type": "stream",
     "text": [
      "Num intentos: 1, URL: https://es.linkedin.com/jobs/view/data-engineer-at-inetum-4138211519?refId=gl%2Bd7kBz9WLFJeX%2Bk722Sg%3D%3D&trackingId=8ZzIZla00xl6FcK30WVODA%3D%3D&position=7&pageNum=1\n",
      "------------------------------------------------\n"
     ]
    },
    {
     "name": "stderr",
     "output_type": "stream",
     "text": [
      " 30%|███       | 296/973 [07:20<14:12,  1.26s/it]"
     ]
    },
    {
     "name": "stdout",
     "output_type": "stream",
     "text": [
      "Num intentos: 1, URL: https://es.linkedin.com/jobs/view/data-engineer-at-telef%C3%B3nica-4136699456?refId=gl%2Bd7kBz9WLFJeX%2Bk722Sg%3D%3D&trackingId=sKEv0uowQOW7fzD2sVOHbA%3D%3D&position=14&pageNum=1\n",
      "------------------------------------------------\n",
      "Num intentos: 1, URL: https://es.linkedin.com/jobs/view/data-science-engineer-at-tuio-4136676436?refId=gl%2Bd7kBz9WLFJeX%2Bk722Sg%3D%3D&trackingId=pd7CClXRG8zYXD%2FOcqURJw%3D%3D&position=21&pageNum=1\n"
     ]
    },
    {
     "name": "stderr",
     "output_type": "stream",
     "text": [
      " 31%|███       | 297/973 [07:22<14:36,  1.30s/it]"
     ]
    },
    {
     "name": "stdout",
     "output_type": "stream",
     "text": [
      "------------------------------------------------\n"
     ]
    },
    {
     "name": "stderr",
     "output_type": "stream",
     "text": [
      " 31%|███       | 298/973 [07:23<13:45,  1.22s/it]"
     ]
    },
    {
     "name": "stdout",
     "output_type": "stream",
     "text": [
      "Num intentos: 1, URL: https://es.linkedin.com/jobs/view/data-engineer-at-tenth-revolution-group-4139161720?refId=gl%2Bd7kBz9WLFJeX%2Bk722Sg%3D%3D&trackingId=xvXBeTGks2Ee19mBIO2zcA%3D%3D&position=23&pageNum=1\n",
      "------------------------------------------------\n"
     ]
    },
    {
     "name": "stderr",
     "output_type": "stream",
     "text": [
      " 31%|███       | 299/973 [07:24<13:44,  1.22s/it]"
     ]
    },
    {
     "name": "stdout",
     "output_type": "stream",
     "text": [
      "Num intentos: 1, URL: https://es.linkedin.com/jobs/view/data-visualization-engineer-at-nubika-digital-inetum-group-4138204585?refId=JOY6haVz%2BavdFBx3hGjq%2BQ%3D%3D&trackingId=AJDwZDWrtLENN5K7PAUU6Q%3D%3D&position=1&pageNum=2\n",
      "Error en el link: https://es.linkedin.com/jobs/view/data-visualization-engineer-at-nubika-digital-inetum-group-4138204585?refId=JOY6haVz%2BavdFBx3hGjq%2BQ%3D%3D&trackingId=AJDwZDWrtLENN5K7PAUU6Q%3D%3D&position=1&pageNum=2\n",
      "------------------------------------------------\n"
     ]
    },
    {
     "name": "stderr",
     "output_type": "stream",
     "text": [
      " 31%|███       | 300/973 [07:25<14:16,  1.27s/it]"
     ]
    },
    {
     "name": "stdout",
     "output_type": "stream",
     "text": [
      "Num intentos: 1, URL: https://es.linkedin.com/jobs/view/data-engineer-at-ryanair-europe-s-favourite-airline-4080173436?refId=JOY6haVz%2BavdFBx3hGjq%2BQ%3D%3D&trackingId=kOwyPv%2FWlp9beg7BpjkMsw%3D%3D&position=6&pageNum=2\n",
      "------------------------------------------------\n"
     ]
    },
    {
     "name": "stderr",
     "output_type": "stream",
     "text": [
      " 31%|███       | 301/973 [07:27<14:44,  1.32s/it]"
     ]
    },
    {
     "name": "stdout",
     "output_type": "stream",
     "text": [
      "Num intentos: 1, URL: https://es.linkedin.com/jobs/view/data-engineer-f-m-d-at-hallo-theo-4136779410?refId=JOY6haVz%2BavdFBx3hGjq%2BQ%3D%3D&trackingId=1Q3ShrRxsvVdf16%2BnPna1A%3D%3D&position=11&pageNum=2\n",
      "------------------------------------------------\n"
     ]
    },
    {
     "name": "stderr",
     "output_type": "stream",
     "text": [
      " 31%|███       | 302/973 [07:28<14:17,  1.28s/it]"
     ]
    },
    {
     "name": "stdout",
     "output_type": "stream",
     "text": [
      "Num intentos: 1, URL: https://es.linkedin.com/jobs/view/data-engineer-google-cloud-teletrabajo-100%25-at-cmv-consultores-4140115412?refId=JOY6haVz%2BavdFBx3hGjq%2BQ%3D%3D&trackingId=3QaC5bL1OvSREOdYZM1y6w%3D%3D&position=15&pageNum=2\n",
      "------------------------------------------------\n",
      "Num intentos: 1, URL: https://es.linkedin.com/jobs/view/azure-data-engineer-at-the-cocktail-4138309788?refId=JOY6haVz%2BavdFBx3hGjq%2BQ%3D%3D&trackingId=Ig%2FMl%2BxiomSsFsQBj1thbA%3D%3D&position=21&pageNum=2\n"
     ]
    },
    {
     "name": "stderr",
     "output_type": "stream",
     "text": [
      " 31%|███       | 303/973 [07:29<14:37,  1.31s/it]"
     ]
    },
    {
     "name": "stdout",
     "output_type": "stream",
     "text": [
      "------------------------------------------------\n"
     ]
    },
    {
     "name": "stderr",
     "output_type": "stream",
     "text": [
      " 31%|███       | 304/973 [07:31<13:56,  1.25s/it]"
     ]
    },
    {
     "name": "stdout",
     "output_type": "stream",
     "text": [
      "Num intentos: 1, URL: https://es.linkedin.com/jobs/view/python-software-engineer-at-knowmad-mood-4139152658?refId=JOY6haVz%2BavdFBx3hGjq%2BQ%3D%3D&trackingId=LBNTIpA47W4DZWj06d6SOQ%3D%3D&position=22&pageNum=2\n",
      "------------------------------------------------\n"
     ]
    },
    {
     "name": "stderr",
     "output_type": "stream",
     "text": [
      " 31%|███▏      | 305/973 [07:32<14:07,  1.27s/it]"
     ]
    },
    {
     "name": "stdout",
     "output_type": "stream",
     "text": [
      "Num intentos: 1, URL: https://es.linkedin.com/jobs/view/senior-data-engineer-at-gyrus-4137875192?refId=0lQEwrH3pQrcnHMZEPdE6Q%3D%3D&trackingId=U7tusWX6fc9HEuzNruji2Q%3D%3D&position=7&pageNum=3\n",
      "------------------------------------------------\n"
     ]
    },
    {
     "name": "stderr",
     "output_type": "stream",
     "text": [
      " 31%|███▏      | 306/973 [07:33<14:42,  1.32s/it]"
     ]
    },
    {
     "name": "stdout",
     "output_type": "stream",
     "text": [
      "Num intentos: 1, URL: https://es.linkedin.com/jobs/view/data-analyst-at-novaquality-consulting-4137428610?refId=0lQEwrH3pQrcnHMZEPdE6Q%3D%3D&trackingId=TQlb8ePjLFKoocr%2FQRuMLg%3D%3D&position=9&pageNum=3\n",
      "------------------------------------------------\n"
     ]
    },
    {
     "name": "stderr",
     "output_type": "stream",
     "text": [
      " 32%|███▏      | 307/973 [07:34<13:50,  1.25s/it]"
     ]
    },
    {
     "name": "stdout",
     "output_type": "stream",
     "text": [
      "Num intentos: 1, URL: https://es.linkedin.com/jobs/view/analytics-engineer-f-m-x-spain-at-auto1-group-4137181791?refId=0lQEwrH3pQrcnHMZEPdE6Q%3D%3D&trackingId=KzVY3O9h21QgfJeeV1kS1A%3D%3D&position=24&pageNum=3\n",
      "------------------------------------------------\n"
     ]
    },
    {
     "name": "stderr",
     "output_type": "stream",
     "text": [
      " 32%|███▏      | 308/973 [07:36<13:56,  1.26s/it]"
     ]
    },
    {
     "name": "stdout",
     "output_type": "stream",
     "text": [
      "Num intentos: 1, URL: https://es.linkedin.com/jobs/view/data-analyst-at-scalian-4138066102?refId=0lQEwrH3pQrcnHMZEPdE6Q%3D%3D&trackingId=s0xaX5FeGgsY3LNTW2Hq5Q%3D%3D&position=25&pageNum=3\n",
      "------------------------------------------------\n"
     ]
    },
    {
     "name": "stderr",
     "output_type": "stream",
     "text": [
      " 32%|███▏      | 309/973 [07:37<13:46,  1.25s/it]"
     ]
    },
    {
     "name": "stdout",
     "output_type": "stream",
     "text": [
      "Num intentos: 1, URL: https://es.linkedin.com/jobs/view/data-engineer-at-keyrus-4096487346?refId=syd0D2KoXmexQAiehNkiZA%3D%3D&trackingId=uAlMPhH0DUN%2FgXiFx11P7Q%3D%3D&position=1&pageNum=4\n",
      "------------------------------------------------\n"
     ]
    },
    {
     "name": "stderr",
     "output_type": "stream",
     "text": [
      " 32%|███▏      | 310/973 [07:38<13:01,  1.18s/it]"
     ]
    },
    {
     "name": "stdout",
     "output_type": "stream",
     "text": [
      "Num intentos: 1, URL: https://es.linkedin.com/jobs/view/artificial-intelligence-engineer-at-srg-network-4137895800?refId=syd0D2KoXmexQAiehNkiZA%3D%3D&trackingId=lJmbMbuPp%2BlKqYRNREjaOQ%3D%3D&position=2&pageNum=4\n",
      "------------------------------------------------\n",
      "Num intentos: 1, URL: https://es.linkedin.com/jobs/view/data-analyst-at-prima-4138412654?refId=syd0D2KoXmexQAiehNkiZA%3D%3D&trackingId=reu%2F%2B7NzXjE963DNiG4yXg%3D%3D&position=3&pageNum=4\n"
     ]
    },
    {
     "name": "stderr",
     "output_type": "stream",
     "text": [
      " 32%|███▏      | 311/973 [07:39<13:39,  1.24s/it]"
     ]
    },
    {
     "name": "stdout",
     "output_type": "stream",
     "text": [
      "------------------------------------------------\n"
     ]
    },
    {
     "name": "stderr",
     "output_type": "stream",
     "text": [
      " 32%|███▏      | 312/973 [07:41<13:53,  1.26s/it]"
     ]
    },
    {
     "name": "stdout",
     "output_type": "stream",
     "text": [
      "Num intentos: 1, URL: https://es.linkedin.com/jobs/view/principal-data-platform-engineer-at-onetrust-4139664312?refId=syd0D2KoXmexQAiehNkiZA%3D%3D&trackingId=8WtMNYoUfMzmotRGMKVScg%3D%3D&position=11&pageNum=4\n",
      "------------------------------------------------\n"
     ]
    },
    {
     "name": "stderr",
     "output_type": "stream",
     "text": [
      " 32%|███▏      | 313/973 [07:42<13:04,  1.19s/it]"
     ]
    },
    {
     "name": "stdout",
     "output_type": "stream",
     "text": [
      "Num intentos: 1, URL: https://es.linkedin.com/jobs/view/lead-data-engineer-at-levy-search-4139642693?refId=syd0D2KoXmexQAiehNkiZA%3D%3D&trackingId=TNJiX24ecyC0YI111QfoyA%3D%3D&position=14&pageNum=4\n",
      "------------------------------------------------\n"
     ]
    },
    {
     "name": "stderr",
     "output_type": "stream",
     "text": [
      " 32%|███▏      | 314/973 [07:43<13:17,  1.21s/it]"
     ]
    },
    {
     "name": "stdout",
     "output_type": "stream",
     "text": [
      "Num intentos: 1, URL: https://es.linkedin.com/jobs/view/data-engineer-gcp-hibrido-at-knowmad-mood-3930141183?refId=syd0D2KoXmexQAiehNkiZA%3D%3D&trackingId=14mSkVZ3heaKRqN%2BGEJlXA%3D%3D&position=15&pageNum=4\n",
      "------------------------------------------------\n"
     ]
    },
    {
     "name": "stderr",
     "output_type": "stream",
     "text": [
      " 32%|███▏      | 315/973 [07:44<14:34,  1.33s/it]"
     ]
    },
    {
     "name": "stdout",
     "output_type": "stream",
     "text": [
      "Num intentos: 1, URL: https://es.linkedin.com/jobs/view/cloud-data-engineer-google-cloud-english-spanish-at-google-4139839193?refId=NfI1oXKEWAziniZHawNbcA%3D%3D&trackingId=0uxjKareSD8jOmcyLzyszQ%3D%3D&position=4&pageNum=5\n",
      "------------------------------------------------\n"
     ]
    },
    {
     "name": "stderr",
     "output_type": "stream",
     "text": [
      " 32%|███▏      | 316/973 [07:46<14:08,  1.29s/it]"
     ]
    },
    {
     "name": "stdout",
     "output_type": "stream",
     "text": [
      "Num intentos: 1, URL: https://es.linkedin.com/jobs/view/ai-software-engineer-at-davidson-consulting-4137979395?refId=NfI1oXKEWAziniZHawNbcA%3D%3D&trackingId=sdAVXLgbQlFCjk7Y%2BpTptQ%3D%3D&position=6&pageNum=5\n",
      "------------------------------------------------\n"
     ]
    },
    {
     "name": "stderr",
     "output_type": "stream",
     "text": [
      " 33%|███▎      | 317/973 [07:47<15:19,  1.40s/it]"
     ]
    },
    {
     "name": "stdout",
     "output_type": "stream",
     "text": [
      "Num intentos: 1, URL: https://es.linkedin.com/jobs/view/urgent-performance-data-analysis-engineer-totalenergies-renewables-ib%C3%A9rica-at-totalenergies-4022148805?refId=NfI1oXKEWAziniZHawNbcA%3D%3D&trackingId=XV2tY%2FsfuZTNuUOzqP4w%2Bg%3D%3D&position=16&pageNum=5\n",
      "------------------------------------------------\n",
      "Num intentos: 1, URL: https://es.linkedin.com/jobs/view/ingeniero-a-de-datos-azure-at-serem-consultor%C3%ADa-empresarial-4140419549?refId=NfI1oXKEWAziniZHawNbcA%3D%3D&trackingId=lolmsN5yVnQfcfzJ11pjuA%3D%3D&position=19&pageNum=5\n"
     ]
    },
    {
     "name": "stderr",
     "output_type": "stream",
     "text": [
      " 33%|███▎      | 318/973 [07:49<15:35,  1.43s/it]"
     ]
    },
    {
     "name": "stdout",
     "output_type": "stream",
     "text": [
      "------------------------------------------------\n"
     ]
    },
    {
     "name": "stderr",
     "output_type": "stream",
     "text": [
      " 33%|███▎      | 319/973 [07:50<15:05,  1.38s/it]"
     ]
    },
    {
     "name": "stdout",
     "output_type": "stream",
     "text": [
      "Num intentos: 1, URL: https://es.linkedin.com/jobs/view/mid-data-analyst-python-aws-100%25-remoto-desde-espa%C3%B1a-at-ust-4138321181?refId=NfI1oXKEWAziniZHawNbcA%3D%3D&trackingId=bdgJLyzaJi3sj0EWfqftsw%3D%3D&position=20&pageNum=5\n",
      "------------------------------------------------\n"
     ]
    },
    {
     "name": "stderr",
     "output_type": "stream",
     "text": [
      " 33%|███▎      | 320/973 [07:51<14:09,  1.30s/it]"
     ]
    },
    {
     "name": "stdout",
     "output_type": "stream",
     "text": [
      "Num intentos: 1, URL: https://es.linkedin.com/jobs/view/software-engineer-at-coforge-4139863953?refId=NfI1oXKEWAziniZHawNbcA%3D%3D&trackingId=8AfZD6HaH41%2FObKgHJrFcA%3D%3D&position=23&pageNum=5\n",
      "------------------------------------------------\n"
     ]
    },
    {
     "name": "stderr",
     "output_type": "stream",
     "text": [
      " 33%|███▎      | 321/973 [07:52<13:49,  1.27s/it]"
     ]
    },
    {
     "name": "stdout",
     "output_type": "stream",
     "text": [
      "Num intentos: 1, URL: https://es.linkedin.com/jobs/view/data-engineer-azure-at-logicalis-spain-4136258947?refId=NfI1oXKEWAziniZHawNbcA%3D%3D&trackingId=V7AMGxaEENErt25WsSxBlQ%3D%3D&position=24&pageNum=5\n",
      "------------------------------------------------\n"
     ]
    },
    {
     "name": "stderr",
     "output_type": "stream",
     "text": [
      " 33%|███▎      | 322/973 [07:54<14:04,  1.30s/it]"
     ]
    },
    {
     "name": "stdout",
     "output_type": "stream",
     "text": [
      "Num intentos: 1, URL: https://es.linkedin.com/jobs/view/data-engineer-m-f-d-at-basf-4136246137?refId=qiJ6q4%2BjkVAGpjN7lVYm9g%3D%3D&trackingId=e1reIFiO3Nezw28zQyknng%3D%3D&position=3&pageNum=6\n",
      "------------------------------------------------\n"
     ]
    },
    {
     "name": "stderr",
     "output_type": "stream",
     "text": [
      " 33%|███▎      | 323/973 [07:55<13:49,  1.28s/it]"
     ]
    },
    {
     "name": "stdout",
     "output_type": "stream",
     "text": [
      "Num intentos: 1, URL: https://es.linkedin.com/jobs/view/data-engineer-python-middle-id27950-at-agileengine-4137880666?refId=qiJ6q4%2BjkVAGpjN7lVYm9g%3D%3D&trackingId=JIJ7ErexY%2FsLiFY%2F9qExCg%3D%3D&position=8&pageNum=6\n",
      "------------------------------------------------\n"
     ]
    },
    {
     "name": "stderr",
     "output_type": "stream",
     "text": [
      " 33%|███▎      | 324/973 [07:56<13:36,  1.26s/it]"
     ]
    },
    {
     "name": "stdout",
     "output_type": "stream",
     "text": [
      "Num intentos: 1, URL: https://es.linkedin.com/jobs/view/data-engineer-%E2%80%93-european-institution-maia-at-the-whiteam-4139942436?refId=qiJ6q4%2BjkVAGpjN7lVYm9g%3D%3D&trackingId=D3P8gaSkXrBeP6qkMa%2BB%2FQ%3D%3D&position=9&pageNum=6\n",
      "Error en el link: https://es.linkedin.com/jobs/view/data-engineer-%E2%80%93-european-institution-maia-at-the-whiteam-4139942436?refId=qiJ6q4%2BjkVAGpjN7lVYm9g%3D%3D&trackingId=D3P8gaSkXrBeP6qkMa%2BB%2FQ%3D%3D&position=9&pageNum=6\n",
      "------------------------------------------------\n"
     ]
    },
    {
     "name": "stderr",
     "output_type": "stream",
     "text": [
      " 33%|███▎      | 325/973 [07:57<13:10,  1.22s/it]"
     ]
    },
    {
     "name": "stdout",
     "output_type": "stream",
     "text": [
      "Num intentos: 1, URL: https://es.linkedin.com/jobs/view/analista-de-datos-at-codere-4139882556?refId=qiJ6q4%2BjkVAGpjN7lVYm9g%3D%3D&trackingId=l%2B9RrnSItfLbjs1a2mDJOQ%3D%3D&position=18&pageNum=6\n",
      "------------------------------------------------\n"
     ]
    },
    {
     "name": "stderr",
     "output_type": "stream",
     "text": [
      " 34%|███▎      | 326/973 [07:58<12:58,  1.20s/it]"
     ]
    },
    {
     "name": "stdout",
     "output_type": "stream",
     "text": [
      "Num intentos: 1, URL: https://es.linkedin.com/jobs/view/analista-de-datos-100%25-remoto-at-cmv-consultores-4136194224?refId=7mJssYg8XhxL6SCi8sFlZQ%3D%3D&trackingId=x8%2FvjEptY9URjE211xY%2BTA%3D%3D&position=1&pageNum=7\n",
      "------------------------------------------------\n"
     ]
    },
    {
     "name": "stderr",
     "output_type": "stream",
     "text": [
      " 34%|███▎      | 327/973 [08:00<13:13,  1.23s/it]"
     ]
    },
    {
     "name": "stdout",
     "output_type": "stream",
     "text": [
      "Num intentos: 1, URL: https://es.linkedin.com/jobs/view/senior-software-engineer-at-fever-4138202017?refId=7mJssYg8XhxL6SCi8sFlZQ%3D%3D&trackingId=FfiKUNDsvH45OUvfii5COA%3D%3D&position=9&pageNum=7\n",
      "------------------------------------------------\n"
     ]
    },
    {
     "name": "stderr",
     "output_type": "stream",
     "text": [
      " 34%|███▎      | 328/973 [08:01<13:14,  1.23s/it]"
     ]
    },
    {
     "name": "stdout",
     "output_type": "stream",
     "text": [
      "Num intentos: 1, URL: https://es.linkedin.com/jobs/view/aws-data-engineer-at-roche-4139649259?refId=7mJssYg8XhxL6SCi8sFlZQ%3D%3D&trackingId=yfvwhCVrXJjNUT34nVm7yg%3D%3D&position=22&pageNum=7\n",
      "------------------------------------------------\n"
     ]
    },
    {
     "name": "stderr",
     "output_type": "stream",
     "text": [
      " 34%|███▍      | 329/973 [08:02<13:12,  1.23s/it]"
     ]
    },
    {
     "name": "stdout",
     "output_type": "stream",
     "text": [
      "Num intentos: 1, URL: https://es.linkedin.com/jobs/view/software-engineer-at-expedia-group-4137434202?refId=7mJssYg8XhxL6SCi8sFlZQ%3D%3D&trackingId=MSXY7Za0n3gJgmSWsezRzQ%3D%3D&position=24&pageNum=7\n",
      "------------------------------------------------\n"
     ]
    },
    {
     "name": "stderr",
     "output_type": "stream",
     "text": [
      " 34%|███▍      | 330/973 [08:03<13:11,  1.23s/it]"
     ]
    },
    {
     "name": "stdout",
     "output_type": "stream",
     "text": [
      "Num intentos: 1, URL: https://es.linkedin.com/jobs/view/data-engineer-python-senior-id27950-at-agileengine-4137878711?refId=XzILX%2FJyntX%2BslwEYSdfAA%3D%3D&trackingId=9c1O3jGUXtgcyYpDYlZpvA%3D%3D&position=9&pageNum=8\n",
      "------------------------------------------------\n",
      "Num intentos: 1, URL: https://es.linkedin.com/jobs/view/data-engineer-at-nationale-nederlanden-4138882322?refId=XzILX%2FJyntX%2BslwEYSdfAA%3D%3D&trackingId=ytepo8Pp5lVcRdTGlthGbw%3D%3D&position=14&pageNum=8\n"
     ]
    },
    {
     "name": "stderr",
     "output_type": "stream",
     "text": [
      " 34%|███▍      | 331/973 [08:05<14:15,  1.33s/it]"
     ]
    },
    {
     "name": "stdout",
     "output_type": "stream",
     "text": [
      "------------------------------------------------\n"
     ]
    },
    {
     "name": "stderr",
     "output_type": "stream",
     "text": [
      " 34%|███▍      | 332/973 [08:06<14:16,  1.34s/it]"
     ]
    },
    {
     "name": "stdout",
     "output_type": "stream",
     "text": [
      "Num intentos: 1, URL: https://es.linkedin.com/jobs/view/middle-data-platform-engineer-at-eye-candy-solutions-4135879854?refId=XzILX%2FJyntX%2BslwEYSdfAA%3D%3D&trackingId=puhTHhVBu0Odq1QeE6VGew%3D%3D&position=17&pageNum=8\n",
      "------------------------------------------------\n"
     ]
    },
    {
     "name": "stderr",
     "output_type": "stream",
     "text": [
      " 34%|███▍      | 333/973 [08:08<14:03,  1.32s/it]"
     ]
    },
    {
     "name": "stdout",
     "output_type": "stream",
     "text": [
      "Num intentos: 1, URL: https://es.linkedin.com/jobs/view/data-analyst-ignite-at-chubb-4135275353?refId=XzILX%2FJyntX%2BslwEYSdfAA%3D%3D&trackingId=mk6B8JFpUfkP3mei9KD1%2Bg%3D%3D&position=18&pageNum=8\n",
      "------------------------------------------------\n"
     ]
    },
    {
     "name": "stderr",
     "output_type": "stream",
     "text": [
      " 34%|███▍      | 334/973 [08:09<14:53,  1.40s/it]"
     ]
    },
    {
     "name": "stdout",
     "output_type": "stream",
     "text": [
      "Num intentos: 1, URL: https://es.linkedin.com/jobs/view/senior-data-engineer-m-f-d-at-thoughtworks-4056873158?refId=XzILX%2FJyntX%2BslwEYSdfAA%3D%3D&trackingId=TA6Hf1pOVuW3gJCJKLB1zw%3D%3D&position=25&pageNum=8\n",
      "------------------------------------------------\n"
     ]
    },
    {
     "name": "stderr",
     "output_type": "stream",
     "text": [
      " 34%|███▍      | 335/973 [08:11<15:42,  1.48s/it]"
     ]
    },
    {
     "name": "stdout",
     "output_type": "stream",
     "text": [
      "Num intentos: 1, URL: https://es.linkedin.com/jobs/view/2025-business-intelligence-engineer-internship-at-amazon-web-services-aws-4022060554?refId=zQtuxswf5sFpuL%2FkUwXZIw%3D%3D&trackingId=zC8cIOtzunWolz%2F0IIprIA%3D%3D&position=10&pageNum=9\n",
      "------------------------------------------------\n"
     ]
    },
    {
     "name": "stderr",
     "output_type": "stream",
     "text": [
      " 35%|███▍      | 336/973 [08:22<45:27,  4.28s/it]"
     ]
    },
    {
     "name": "stdout",
     "output_type": "stream",
     "text": [
      "Num intentos: 2, URL: https://es.linkedin.com/jobs/view/cloud-engineer-at-apiux-tech-4139639278?refId=zQtuxswf5sFpuL%2FkUwXZIw%3D%3D&trackingId=Cm3mYnJgWPbaM8muUoGytQ%3D%3D&position=17&pageNum=9\n",
      "------------------------------------------------\n"
     ]
    },
    {
     "name": "stderr",
     "output_type": "stream",
     "text": [
      " 35%|███▍      | 337/973 [08:23<34:50,  3.29s/it]"
     ]
    },
    {
     "name": "stdout",
     "output_type": "stream",
     "text": [
      "Num intentos: 1, URL: https://es.linkedin.com/jobs/view/big-data-engineering-w-m-at-mca-espa%C3%B1a-4139497308?refId=zQtuxswf5sFpuL%2FkUwXZIw%3D%3D&trackingId=CHHmHS7LIyduuDWUxtq3xQ%3D%3D&position=22&pageNum=9\n",
      "------------------------------------------------\n",
      "Num intentos: 1, URL: https://es.linkedin.com/jobs/view/senior-cloud-data-engineer-at-bme-bolsas-y-mercados-espa%C3%B1oles-4137876841?refId=zQtuxswf5sFpuL%2FkUwXZIw%3D%3D&trackingId=hjeUG6d51iUaEj0HIho5bw%3D%3D&position=24&pageNum=9\n"
     ]
    },
    {
     "name": "stderr",
     "output_type": "stream",
     "text": [
      " 35%|███▍      | 338/973 [08:24<29:08,  2.75s/it]"
     ]
    },
    {
     "name": "stdout",
     "output_type": "stream",
     "text": [
      "------------------------------------------------\n"
     ]
    },
    {
     "name": "stderr",
     "output_type": "stream",
     "text": [
      " 35%|███▍      | 339/973 [08:25<24:04,  2.28s/it]"
     ]
    },
    {
     "name": "stdout",
     "output_type": "stream",
     "text": [
      "Num intentos: 1, URL: https://es.linkedin.com/jobs/view/big-data-engineering-w-m-at-mca-espa%C3%B1a-4139497308?refId=lLfUMnXEaEcpWjyocCqvfg%3D%3D&trackingId=mvdsCB5xAqQZ5K0Z4iDhgQ%3D%3D&position=16&pageNum=10\n",
      "------------------------------------------------\n"
     ]
    },
    {
     "name": "stderr",
     "output_type": "stream",
     "text": [
      " 35%|███▍      | 340/973 [08:27<20:30,  1.94s/it]"
     ]
    },
    {
     "name": "stdout",
     "output_type": "stream",
     "text": [
      "Num intentos: 1, URL: https://es.linkedin.com/jobs/view/data-modeller-at-m-%E2%80%8Bgt-consulting-4140118120?refId=jj4UbOc%2FecseE2pKr2PGiw%3D%3D&trackingId=dAHwhyUeNFvUFQVyhSUVNg%3D%3D&position=4&pageNum=11\n",
      "------------------------------------------------\n"
     ]
    },
    {
     "name": "stderr",
     "output_type": "stream",
     "text": [
      " 35%|███▌      | 341/973 [08:28<19:00,  1.80s/it]"
     ]
    },
    {
     "name": "stdout",
     "output_type": "stream",
     "text": [
      "Num intentos: 1, URL: https://es.linkedin.com/jobs/view/senior-data-engineer-aws-at-grupo-ns-4139670732?refId=jj4UbOc%2FecseE2pKr2PGiw%3D%3D&trackingId=807Yj532Yhx9edrgQKdfaQ%3D%3D&position=5&pageNum=11\n",
      "------------------------------------------------\n"
     ]
    },
    {
     "name": "stderr",
     "output_type": "stream",
     "text": [
      " 35%|███▌      | 342/973 [08:30<18:00,  1.71s/it]"
     ]
    },
    {
     "name": "stdout",
     "output_type": "stream",
     "text": [
      "Num intentos: 1, URL: https://es.linkedin.com/jobs/view/software-engineer-python-mid-senior-at-revolut-3194936234?refId=jj4UbOc%2FecseE2pKr2PGiw%3D%3D&trackingId=sAudQI6535tEjrvDoBBJcw%3D%3D&position=7&pageNum=11\n",
      "------------------------------------------------\n"
     ]
    },
    {
     "name": "stderr",
     "output_type": "stream",
     "text": [
      " 35%|███▌      | 343/973 [08:31<17:49,  1.70s/it]"
     ]
    },
    {
     "name": "stdout",
     "output_type": "stream",
     "text": [
      "Num intentos: 1, URL: https://es.linkedin.com/jobs/view/big-data-developer-santander-digital-services-at-santander-digital-services-4101274193?refId=jj4UbOc%2FecseE2pKr2PGiw%3D%3D&trackingId=mh19UiaNy3sbr9iG3pUofg%3D%3D&position=12&pageNum=11\n",
      "------------------------------------------------\n"
     ]
    },
    {
     "name": "stderr",
     "output_type": "stream",
     "text": [
      " 35%|███▌      | 344/973 [08:32<16:27,  1.57s/it]"
     ]
    },
    {
     "name": "stdout",
     "output_type": "stream",
     "text": [
      "Num intentos: 1, URL: https://es.linkedin.com/jobs/view/desarrollador-a-pl-sql-modelado-de-datos-at-inetum-4137843459?refId=jj4UbOc%2FecseE2pKr2PGiw%3D%3D&trackingId=ff4PfHYYZBsZWu%2FzSpICUw%3D%3D&position=17&pageNum=11\n",
      "------------------------------------------------\n",
      "Num intentos: 1, URL: https://es.linkedin.com/jobs/view/senior-software-engineer-conversational-ai-at-sinch-3985612731?refId=jj4UbOc%2FecseE2pKr2PGiw%3D%3D&trackingId=BDQ6ltpy%2BiVp5FlzNplSfw%3D%3D&position=19&pageNum=11\n"
     ]
    },
    {
     "name": "stderr",
     "output_type": "stream",
     "text": [
      " 35%|███▌      | 345/973 [08:34<16:26,  1.57s/it]"
     ]
    },
    {
     "name": "stdout",
     "output_type": "stream",
     "text": [
      "------------------------------------------------\n"
     ]
    },
    {
     "name": "stderr",
     "output_type": "stream",
     "text": [
      " 36%|███▌      | 346/973 [08:36<16:43,  1.60s/it]"
     ]
    },
    {
     "name": "stdout",
     "output_type": "stream",
     "text": [
      "Num intentos: 1, URL: https://es.linkedin.com/jobs/view/senior-data-engineer-at-clarity-ai-4076655575?refId=1gxsBjCoxyvxl5YEGDjwHQ%3D%3D&trackingId=J8zaQ%2FA5CAcS%2BOwBn785nA%3D%3D&position=1&pageNum=12\n",
      "------------------------------------------------\n"
     ]
    },
    {
     "name": "stderr",
     "output_type": "stream",
     "text": [
      " 36%|███▌      | 347/973 [08:37<15:42,  1.51s/it]"
     ]
    },
    {
     "name": "stdout",
     "output_type": "stream",
     "text": [
      "Num intentos: 1, URL: https://es.linkedin.com/jobs/view/analista-de-datos-bi-at-securitas-direct-by-verisure-4138052442?refId=1gxsBjCoxyvxl5YEGDjwHQ%3D%3D&trackingId=uotsAmBV2m43Qxoh5oXGlA%3D%3D&position=7&pageNum=12\n",
      "------------------------------------------------\n"
     ]
    },
    {
     "name": "stderr",
     "output_type": "stream",
     "text": [
      " 36%|███▌      | 348/973 [08:38<15:29,  1.49s/it]"
     ]
    },
    {
     "name": "stdout",
     "output_type": "stream",
     "text": [
      "Num intentos: 1, URL: https://es.linkedin.com/jobs/view/team-leader-data-engineer-azure-at-logicalis-spain-4136265110?refId=1gxsBjCoxyvxl5YEGDjwHQ%3D%3D&trackingId=7%2FEg6em%2BM5rYBPE8g5yYFg%3D%3D&position=12&pageNum=12\n",
      "------------------------------------------------\n"
     ]
    },
    {
     "name": "stderr",
     "output_type": "stream",
     "text": [
      " 36%|███▌      | 349/973 [08:40<15:12,  1.46s/it]"
     ]
    },
    {
     "name": "stdout",
     "output_type": "stream",
     "text": [
      "Num intentos: 1, URL: https://es.linkedin.com/jobs/view/gcp-data-engineer-at-devoteam-i-google-cloud-partner-4137482393?refId=1gxsBjCoxyvxl5YEGDjwHQ%3D%3D&trackingId=K9gR7mH0rNlz%2BP645q9EAA%3D%3D&position=13&pageNum=12\n",
      "------------------------------------------------\n"
     ]
    },
    {
     "name": "stderr",
     "output_type": "stream",
     "text": [
      " 36%|███▌      | 350/973 [08:41<15:05,  1.45s/it]"
     ]
    },
    {
     "name": "stdout",
     "output_type": "stream",
     "text": [
      "Num intentos: 1, URL: https://es.linkedin.com/jobs/view/software-engineer-at-oliver-bernard-4137883517?refId=1gxsBjCoxyvxl5YEGDjwHQ%3D%3D&trackingId=jL7ROgjfkOt8I7wqMn992w%3D%3D&position=16&pageNum=12\n",
      "------------------------------------------------\n"
     ]
    },
    {
     "name": "stderr",
     "output_type": "stream",
     "text": [
      " 36%|███▌      | 351/973 [08:43<15:19,  1.48s/it]"
     ]
    },
    {
     "name": "stdout",
     "output_type": "stream",
     "text": [
      "Num intentos: 1, URL: https://es.linkedin.com/jobs/view/web-analytics-and-personalization-engineer-at-straumann-group-4113922498?refId=1gxsBjCoxyvxl5YEGDjwHQ%3D%3D&trackingId=n5ckyVp%2FIF6jlNIPOtQoFA%3D%3D&position=18&pageNum=12\n",
      "------------------------------------------------\n"
     ]
    },
    {
     "name": "stderr",
     "output_type": "stream",
     "text": [
      " 36%|███▌      | 352/973 [08:45<18:16,  1.77s/it]"
     ]
    },
    {
     "name": "stdout",
     "output_type": "stream",
     "text": [
      "Num intentos: 1, URL: https://es.linkedin.com/jobs/view/team-leader-data-engineer-azure-at-npr-spain-4138351163?refId=1gxsBjCoxyvxl5YEGDjwHQ%3D%3D&trackingId=awtTirIGuWl5V8B%2FdU60LQ%3D%3D&position=24&pageNum=12\n",
      "------------------------------------------------\n"
     ]
    },
    {
     "name": "stderr",
     "output_type": "stream",
     "text": [
      " 36%|███▋      | 353/973 [08:46<16:38,  1.61s/it]"
     ]
    },
    {
     "name": "stdout",
     "output_type": "stream",
     "text": [
      "Num intentos: 1, URL: https://es.linkedin.com/jobs/view/senior-software-engineer-at-teya-4117182850?refId=WE0nbdRCjRzYQ%2BMa7Jlfcw%3D%3D&trackingId=idLB1nG5ZkmACDDISjsy%2Bg%3D%3D&position=1&pageNum=13\n",
      "------------------------------------------------\n"
     ]
    },
    {
     "name": "stderr",
     "output_type": "stream",
     "text": [
      " 36%|███▋      | 354/973 [08:48<15:12,  1.47s/it]"
     ]
    },
    {
     "name": "stdout",
     "output_type": "stream",
     "text": [
      "Num intentos: 1, URL: https://es.linkedin.com/jobs/view/data-scientist-junior-ey-wavespace-data-ai-hub-at-ey-4135292439?refId=WE0nbdRCjRzYQ%2BMa7Jlfcw%3D%3D&trackingId=nSa7d3gjfbGt9F6tZQveXA%3D%3D&position=4&pageNum=13\n",
      "------------------------------------------------\n"
     ]
    },
    {
     "name": "stderr",
     "output_type": "stream",
     "text": [
      " 36%|███▋      | 355/973 [08:49<14:19,  1.39s/it]"
     ]
    },
    {
     "name": "stdout",
     "output_type": "stream",
     "text": [
      "Num intentos: 1, URL: https://es.linkedin.com/jobs/view/backend-engineer-at-collisio-technologies-4139148844?refId=WE0nbdRCjRzYQ%2BMa7Jlfcw%3D%3D&trackingId=NVvumPt%2FDPAj5uj%2BhealaA%3D%3D&position=12&pageNum=13\n",
      "------------------------------------------------\n"
     ]
    },
    {
     "name": "stderr",
     "output_type": "stream",
     "text": [
      " 37%|███▋      | 356/973 [08:50<14:25,  1.40s/it]"
     ]
    },
    {
     "name": "stdout",
     "output_type": "stream",
     "text": [
      "Num intentos: 1, URL: https://es.linkedin.com/jobs/view/software-engineer-space-missions-data-archive-at-starion-4138063157?refId=WE0nbdRCjRzYQ%2BMa7Jlfcw%3D%3D&trackingId=%2F9WNlrlP2jA7MxeAsM6OlA%3D%3D&position=17&pageNum=13\n",
      "------------------------------------------------\n"
     ]
    },
    {
     "name": "stderr",
     "output_type": "stream",
     "text": [
      " 37%|███▋      | 357/973 [08:52<13:57,  1.36s/it]"
     ]
    },
    {
     "name": "stdout",
     "output_type": "stream",
     "text": [
      "Num intentos: 1, URL: https://es.linkedin.com/jobs/view/%23discover-i-2025-2026-material-data-engineer-internship-at-airbus-defence-and-space-4049299964?refId=WE0nbdRCjRzYQ%2BMa7Jlfcw%3D%3D&trackingId=DTBXEmLXts%2FahMVtV4UZqg%3D%3D&position=18&pageNum=13\n",
      "------------------------------------------------\n",
      "Num intentos: 1, URL: https://es.linkedin.com/jobs/view/senior-mlops-azure-engineer-at-bluetab-an-ibm-company-4139178277?refId=RdedVh4j8Ltwj0EyXoSKYA%3D%3D&trackingId=uVjNsEsBKb0NLyf1ZZS3Jg%3D%3D&position=5&pageNum=14\n"
     ]
    },
    {
     "name": "stderr",
     "output_type": "stream",
     "text": [
      " 37%|███▋      | 358/973 [08:53<13:31,  1.32s/it]"
     ]
    },
    {
     "name": "stdout",
     "output_type": "stream",
     "text": [
      "------------------------------------------------\n"
     ]
    },
    {
     "name": "stderr",
     "output_type": "stream",
     "text": [
      " 37%|███▋      | 359/973 [08:54<12:46,  1.25s/it]"
     ]
    },
    {
     "name": "stdout",
     "output_type": "stream",
     "text": [
      "Num intentos: 1, URL: https://es.linkedin.com/jobs/view/senior-product-data-analyst-at-huspy-4095191545?refId=RdedVh4j8Ltwj0EyXoSKYA%3D%3D&trackingId=nS5GSLAjEhT4s%2Bc%2B8p%2BVPA%3D%3D&position=16&pageNum=14\n",
      "------------------------------------------------\n"
     ]
    },
    {
     "name": "stderr",
     "output_type": "stream",
     "text": [
      " 37%|███▋      | 360/973 [08:55<13:05,  1.28s/it]"
     ]
    },
    {
     "name": "stdout",
     "output_type": "stream",
     "text": [
      "Num intentos: 1, URL: https://es.linkedin.com/jobs/view/data-scientist-at-bbva-technology-en-europa-4139654186?refId=RdedVh4j8Ltwj0EyXoSKYA%3D%3D&trackingId=VWwe9mSxryuOIVM%2FAa%2FM7w%3D%3D&position=21&pageNum=14\n",
      "------------------------------------------------\n"
     ]
    },
    {
     "name": "stderr",
     "output_type": "stream",
     "text": [
      " 37%|███▋      | 361/973 [08:56<12:31,  1.23s/it]"
     ]
    },
    {
     "name": "stdout",
     "output_type": "stream",
     "text": [
      "Num intentos: 1, URL: https://es.linkedin.com/jobs/view/senior-software-engineer-java-devops-at-nexthink-4140311423?refId=RdedVh4j8Ltwj0EyXoSKYA%3D%3D&trackingId=W1OyuX0mbNq4VEen2ep7tg%3D%3D&position=23&pageNum=14\n",
      "------------------------------------------------\n"
     ]
    },
    {
     "name": "stderr",
     "output_type": "stream",
     "text": [
      " 37%|███▋      | 362/973 [08:58<12:38,  1.24s/it]"
     ]
    },
    {
     "name": "stdout",
     "output_type": "stream",
     "text": [
      "Num intentos: 1, URL: https://es.linkedin.com/jobs/view/data-consultant-%E2%80%93-looker-power-bi-at-keyrus-4103324849?refId=RdedVh4j8Ltwj0EyXoSKYA%3D%3D&trackingId=csZ9%2Bo6ZKl4saUKhm8hwmg%3D%3D&position=25&pageNum=14\n",
      "------------------------------------------------\n"
     ]
    },
    {
     "name": "stderr",
     "output_type": "stream",
     "text": [
      " 37%|███▋      | 363/973 [08:59<12:44,  1.25s/it]"
     ]
    },
    {
     "name": "stdout",
     "output_type": "stream",
     "text": [
      "Num intentos: 1, URL: https://es.linkedin.com/jobs/view/system-engineer-at-ruckus-networks-4103764149?refId=kEewYSP0sda%2BAS9qJ05byw%3D%3D&trackingId=yhRkkXZE93M3K18zxpabow%3D%3D&position=4&pageNum=15\n",
      "------------------------------------------------\n"
     ]
    },
    {
     "name": "stderr",
     "output_type": "stream",
     "text": [
      " 37%|███▋      | 364/973 [09:00<12:43,  1.25s/it]"
     ]
    },
    {
     "name": "stdout",
     "output_type": "stream",
     "text": [
      "Num intentos: 1, URL: https://es.linkedin.com/jobs/view/azure-cloud-administrator-%E2%80%93-data-analytics-team-at-ryanair-europe-s-favourite-airline-4096052069?refId=kEewYSP0sda%2BAS9qJ05byw%3D%3D&trackingId=iQa24Ft5DLhBZWO7ebM%2FPw%3D%3D&position=9&pageNum=15\n",
      "------------------------------------------------\n",
      "Num intentos: 1, URL: https://es.linkedin.com/jobs/view/software-engineer-python-container-images-at-canonical-4138529495?refId=kEewYSP0sda%2BAS9qJ05byw%3D%3D&trackingId=kkFDAM%2BiIzQPrFeqZhDi4A%3D%3D&position=14&pageNum=15\n"
     ]
    },
    {
     "name": "stderr",
     "output_type": "stream",
     "text": [
      " 38%|███▊      | 365/973 [09:02<13:59,  1.38s/it]"
     ]
    },
    {
     "name": "stdout",
     "output_type": "stream",
     "text": [
      "------------------------------------------------\n"
     ]
    },
    {
     "name": "stderr",
     "output_type": "stream",
     "text": [
      " 38%|███▊      | 366/973 [09:03<14:04,  1.39s/it]"
     ]
    },
    {
     "name": "stdout",
     "output_type": "stream",
     "text": [
      "Num intentos: 1, URL: https://es.linkedin.com/jobs/view/software-engineer-python-container-images-at-canonical-4138525978?refId=kEewYSP0sda%2BAS9qJ05byw%3D%3D&trackingId=UnL3XLEf%2BKbllt6ZHqEmiw%3D%3D&position=15&pageNum=15\n",
      "------------------------------------------------\n"
     ]
    },
    {
     "name": "stderr",
     "output_type": "stream",
     "text": [
      " 38%|███▊      | 367/973 [09:05<13:46,  1.36s/it]"
     ]
    },
    {
     "name": "stdout",
     "output_type": "stream",
     "text": [
      "Num intentos: 1, URL: https://es.linkedin.com/jobs/view/senior-integrations-engineer-at-onetrust-4139666207?refId=kEewYSP0sda%2BAS9qJ05byw%3D%3D&trackingId=l9Er5ZGlhqJcqri7r6S0pQ%3D%3D&position=25&pageNum=15\n",
      "------------------------------------------------\n"
     ]
    },
    {
     "name": "stderr",
     "output_type": "stream",
     "text": [
      " 38%|███▊      | 368/973 [09:06<14:20,  1.42s/it]"
     ]
    },
    {
     "name": "stdout",
     "output_type": "stream",
     "text": [
      "Num intentos: 1, URL: https://es.linkedin.com/jobs/view/senior-integrations-engineer-at-onetrust-4140169494?refId=xAOfEyQvsTybZp6n8A%2B4ZA%3D%3D&trackingId=0G%2FlSVBzznjEF1Z8b5dJMQ%3D%3D&position=2&pageNum=16\n",
      "------------------------------------------------\n"
     ]
    },
    {
     "name": "stderr",
     "output_type": "stream",
     "text": [
      " 38%|███▊      | 369/973 [09:07<13:29,  1.34s/it]"
     ]
    },
    {
     "name": "stdout",
     "output_type": "stream",
     "text": [
      "Num intentos: 1, URL: https://es.linkedin.com/jobs/view/analista-de-datos-ingl%C3%A9s-alto-at-fds-a-dxc-technology-company-4137511794?refId=xAOfEyQvsTybZp6n8A%2B4ZA%3D%3D&trackingId=cBNBxuwbO5mCkFaTnG%2FqAw%3D%3D&position=20&pageNum=16\n",
      "------------------------------------------------\n"
     ]
    },
    {
     "name": "stderr",
     "output_type": "stream",
     "text": [
      " 38%|███▊      | 370/973 [09:08<12:35,  1.25s/it]"
     ]
    },
    {
     "name": "stdout",
     "output_type": "stream",
     "text": [
      "Num intentos: 1, URL: https://es.linkedin.com/jobs/view/lead-software-development-engineer-in-test-at-solera-holdings-llc-4103724529?refId=xAOfEyQvsTybZp6n8A%2B4ZA%3D%3D&trackingId=Fd9qRP%2F2UHv0e07iPgK1yA%3D%3D&position=22&pageNum=16\n",
      "------------------------------------------------\n"
     ]
    },
    {
     "name": "stderr",
     "output_type": "stream",
     "text": [
      " 38%|███▊      | 371/973 [09:10<12:50,  1.28s/it]"
     ]
    },
    {
     "name": "stdout",
     "output_type": "stream",
     "text": [
      "Num intentos: 1, URL: https://es.linkedin.com/jobs/view/senior-data-software-engineer-aws-databricks-pyspark-at-epam-systems-4084889135?refId=5iMqGO1%2FHzfh4hS6zDhIBw%3D%3D&trackingId=WUVgMAYQ5%2BG%2FqNlBR6IVYw%3D%3D&position=4&pageNum=17\n",
      "------------------------------------------------\n",
      "Num intentos: 1, URL: https://es.linkedin.com/jobs/view/senior-software-engineer-dashboards-at-datadog-3694165283?refId=5iMqGO1%2FHzfh4hS6zDhIBw%3D%3D&trackingId=UEMnTSqQzTaMfNzOaXSfoA%3D%3D&position=11&pageNum=17\n"
     ]
    },
    {
     "name": "stderr",
     "output_type": "stream",
     "text": [
      " 38%|███▊      | 372/973 [09:11<13:31,  1.35s/it]"
     ]
    },
    {
     "name": "stdout",
     "output_type": "stream",
     "text": [
      "------------------------------------------------\n"
     ]
    },
    {
     "name": "stderr",
     "output_type": "stream",
     "text": [
      " 38%|███▊      | 373/973 [09:13<13:37,  1.36s/it]"
     ]
    },
    {
     "name": "stdout",
     "output_type": "stream",
     "text": [
      "Num intentos: 1, URL: https://es.linkedin.com/jobs/view/data-scientist-m-f-d-at-basf-4136849962?refId=FdMdL4No5nsuHtAaKxXehg%3D%3D&trackingId=nhzUPE2kih1X%2BF1e1sUTJA%3D%3D&position=2&pageNum=18\n",
      "------------------------------------------------\n"
     ]
    },
    {
     "name": "stderr",
     "output_type": "stream",
     "text": [
      " 38%|███▊      | 374/973 [09:14<12:40,  1.27s/it]"
     ]
    },
    {
     "name": "stdout",
     "output_type": "stream",
     "text": [
      "Num intentos: 1, URL: https://es.linkedin.com/jobs/view/full-stack-software-engineer-freelance-react-node-at-viseo-iberia-4135650179?refId=FdMdL4No5nsuHtAaKxXehg%3D%3D&trackingId=0k%2FjnzpmQt4m5r2xxGVZUg%3D%3D&position=4&pageNum=18\n",
      "------------------------------------------------\n"
     ]
    },
    {
     "name": "stderr",
     "output_type": "stream",
     "text": [
      " 39%|███▊      | 375/973 [09:15<12:10,  1.22s/it]"
     ]
    },
    {
     "name": "stdout",
     "output_type": "stream",
     "text": [
      "Num intentos: 1, URL: https://es.linkedin.com/jobs/view/consultor-a-powerbi-at-between-technology-4136746573?refId=FdMdL4No5nsuHtAaKxXehg%3D%3D&trackingId=POCS3q6L2LxpjSL4ZKJ8Nw%3D%3D&position=11&pageNum=18\n",
      "------------------------------------------------\n"
     ]
    },
    {
     "name": "stderr",
     "output_type": "stream",
     "text": [
      " 39%|███▊      | 376/973 [09:16<11:44,  1.18s/it]"
     ]
    },
    {
     "name": "stdout",
     "output_type": "stream",
     "text": [
      "Num intentos: 1, URL: https://es.linkedin.com/jobs/view/business-intelligence-consultant-at-between-technology-4136853768?refId=FdMdL4No5nsuHtAaKxXehg%3D%3D&trackingId=VA2rgrUcAIauX1IkV68Zdg%3D%3D&position=21&pageNum=18\n",
      "------------------------------------------------\n"
     ]
    },
    {
     "name": "stderr",
     "output_type": "stream",
     "text": [
      " 39%|███▊      | 377/973 [09:17<11:58,  1.21s/it]"
     ]
    },
    {
     "name": "stdout",
     "output_type": "stream",
     "text": [
      "Num intentos: 1, URL: https://es.linkedin.com/jobs/view/digital-firmware-software-engineer-at-kd-4137573932?refId=FdMdL4No5nsuHtAaKxXehg%3D%3D&trackingId=i5sdULu%2FdjQ%2BDwutowQsOQ%3D%3D&position=22&pageNum=18\n",
      "------------------------------------------------\n"
     ]
    },
    {
     "name": "stderr",
     "output_type": "stream",
     "text": [
      " 39%|███▉      | 378/973 [09:18<12:18,  1.24s/it]"
     ]
    },
    {
     "name": "stdout",
     "output_type": "stream",
     "text": [
      "Num intentos: 1, URL: https://es.linkedin.com/jobs/view/geospatial-data-analyst-at-capital-energy-4138542687?refId=FdMdL4No5nsuHtAaKxXehg%3D%3D&trackingId=2lCPbw8SjvQ%2BMsWSZrG%2Fhg%3D%3D&position=23&pageNum=18\n",
      "------------------------------------------------\n",
      "Num intentos: 1, URL: https://es.linkedin.com/jobs/view/marketing-data-analyst-at-socios-com-4087376037?refId=jlTvqtUYEFUTXMPpb2kHVA%3D%3D&trackingId=gJeh3ZFHZrzFSWONwzY1fw%3D%3D&position=5&pageNum=19\n"
     ]
    },
    {
     "name": "stderr",
     "output_type": "stream",
     "text": [
      " 39%|███▉      | 379/973 [09:20<12:49,  1.30s/it]"
     ]
    },
    {
     "name": "stdout",
     "output_type": "stream",
     "text": [
      "------------------------------------------------\n"
     ]
    },
    {
     "name": "stderr",
     "output_type": "stream",
     "text": [
      " 39%|███▉      | 380/973 [09:21<12:56,  1.31s/it]"
     ]
    },
    {
     "name": "stdout",
     "output_type": "stream",
     "text": [
      "Num intentos: 1, URL: https://es.linkedin.com/jobs/view/software-engineer-ii-at-tomtom-4139327809?refId=jlTvqtUYEFUTXMPpb2kHVA%3D%3D&trackingId=TlARcdfQpiDfnvmXexDJ9Q%3D%3D&position=6&pageNum=19\n",
      "------------------------------------------------\n"
     ]
    },
    {
     "name": "stderr",
     "output_type": "stream",
     "text": [
      " 39%|███▉      | 381/973 [09:22<12:40,  1.28s/it]"
     ]
    },
    {
     "name": "stdout",
     "output_type": "stream",
     "text": [
      "Num intentos: 1, URL: https://es.linkedin.com/jobs/view/senior-software-engineer-backend-ai-madrid-at-aircall-3866466178?refId=jlTvqtUYEFUTXMPpb2kHVA%3D%3D&trackingId=GvzzU4JCBj85hFKwlny3og%3D%3D&position=11&pageNum=19\n",
      "------------------------------------------------\n"
     ]
    },
    {
     "name": "stderr",
     "output_type": "stream",
     "text": [
      " 39%|███▉      | 382/973 [09:24<13:08,  1.33s/it]"
     ]
    },
    {
     "name": "stdout",
     "output_type": "stream",
     "text": [
      "Num intentos: 1, URL: https://es.linkedin.com/jobs/view/lead-data-software-engineer-spark-scala-databricks-at-epam-systems-4084883865?refId=jlTvqtUYEFUTXMPpb2kHVA%3D%3D&trackingId=vZyuc3DAcLu4nqiqDEsb%2BQ%3D%3D&position=21&pageNum=19\n",
      "------------------------------------------------\n"
     ]
    },
    {
     "name": "stderr",
     "output_type": "stream",
     "text": [
      " 39%|███▉      | 383/973 [09:25<12:51,  1.31s/it]"
     ]
    },
    {
     "name": "stdout",
     "output_type": "stream",
     "text": [
      "Num intentos: 1, URL: https://es.linkedin.com/jobs/view/senior-software-engineer-datastores-at-datadog-3965447302?refId=jlTvqtUYEFUTXMPpb2kHVA%3D%3D&trackingId=CUH9sp9F4oTYFv%2FhZPsmXQ%3D%3D&position=22&pageNum=19\n",
      "------------------------------------------------\n"
     ]
    },
    {
     "name": "stderr",
     "output_type": "stream",
     "text": [
      " 39%|███▉      | 384/973 [09:26<13:10,  1.34s/it]"
     ]
    },
    {
     "name": "stdout",
     "output_type": "stream",
     "text": [
      "Num intentos: 1, URL: https://es.linkedin.com/jobs/view/lead-data-software-engineer-spark-scala-databricks-at-epam-systems-4084883865?refId=RVoI%2BWwn15hCaFEnz4TWeA%3D%3D&trackingId=hkELvXIuoFZJHXdbfYG0jw%3D%3D&position=7&pageNum=20\n",
      "------------------------------------------------\n",
      "Num intentos: 1, URL: https://es.linkedin.com/jobs/view/senior-software-engineer-datastores-at-datadog-3965447302?refId=RVoI%2BWwn15hCaFEnz4TWeA%3D%3D&trackingId=lSkG7O2VFJ1Jah3m7XObzQ%3D%3D&position=8&pageNum=20\n"
     ]
    },
    {
     "name": "stderr",
     "output_type": "stream",
     "text": [
      " 40%|███▉      | 385/973 [09:28<12:53,  1.31s/it]"
     ]
    },
    {
     "name": "stdout",
     "output_type": "stream",
     "text": [
      "------------------------------------------------\n"
     ]
    },
    {
     "name": "stderr",
     "output_type": "stream",
     "text": [
      " 40%|███▉      | 386/973 [09:29<13:08,  1.34s/it]"
     ]
    },
    {
     "name": "stdout",
     "output_type": "stream",
     "text": [
      "Num intentos: 1, URL: https://es.linkedin.com/jobs/view/data-analyst-proyectos-saas-y-contact-center-at-inconcert-4138815316?refId=RVoI%2BWwn15hCaFEnz4TWeA%3D%3D&trackingId=BkpfE%2B4GzWB2EqP%2FC395KA%3D%3D&position=9&pageNum=20\n",
      "------------------------------------------------\n"
     ]
    },
    {
     "name": "stderr",
     "output_type": "stream",
     "text": [
      " 40%|███▉      | 387/973 [09:30<12:51,  1.32s/it]"
     ]
    },
    {
     "name": "stdout",
     "output_type": "stream",
     "text": [
      "Num intentos: 1, URL: https://es.linkedin.com/jobs/view/frontend-software-engineer-mid-senior-remote-at-avacone-iberia-4138394173?refId=RVoI%2BWwn15hCaFEnz4TWeA%3D%3D&trackingId=XObvd8dmSU4EG50vLObq7A%3D%3D&position=16&pageNum=20\n",
      "------------------------------------------------\n"
     ]
    },
    {
     "name": "stderr",
     "output_type": "stream",
     "text": [
      " 40%|███▉      | 388/973 [09:32<14:00,  1.44s/it]"
     ]
    },
    {
     "name": "stdout",
     "output_type": "stream",
     "text": [
      "Num intentos: 1, URL: https://es.linkedin.com/jobs/view/data-scientist-genai-llms-at-bbva-4136132010?refId=RVoI%2BWwn15hCaFEnz4TWeA%3D%3D&trackingId=RSI0ixmcW7tQaYkL0%2FF1Dg%3D%3D&position=21&pageNum=20\n",
      "------------------------------------------------\n"
     ]
    },
    {
     "name": "stderr",
     "output_type": "stream",
     "text": [
      " 40%|███▉      | 389/973 [09:33<13:18,  1.37s/it]"
     ]
    },
    {
     "name": "stdout",
     "output_type": "stream",
     "text": [
      "Num intentos: 1, URL: https://es.linkedin.com/jobs/view/data-scientist-consultant-hibrido-at-minsait-4135229863?refId=RVoI%2BWwn15hCaFEnz4TWeA%3D%3D&trackingId=RbHvhTX53EPgV85RUprIUA%3D%3D&position=23&pageNum=20\n",
      "------------------------------------------------\n"
     ]
    },
    {
     "name": "stderr",
     "output_type": "stream",
     "text": [
      " 40%|████      | 390/973 [09:35<13:08,  1.35s/it]"
     ]
    },
    {
     "name": "stdout",
     "output_type": "stream",
     "text": [
      "Num intentos: 1, URL: https://es.linkedin.com/jobs/view/system-designer-engineer-at-airbus-defence-and-space-4120001970?refId=LtGvNDRbIiqTwa1XzDQk5w%3D%3D&trackingId=0UNay5iEudNdW3KczpzxFA%3D%3D&position=3&pageNum=21\n",
      "------------------------------------------------\n",
      "Num intentos: 1, URL: https://es.linkedin.com/jobs/view/rev-celerator-graduate-programme-android-software-engineer-at-revolut-4033425309?refId=LtGvNDRbIiqTwa1XzDQk5w%3D%3D&trackingId=KJWMUZdOxjSt3SZquo0jww%3D%3D&position=19&pageNum=21\n"
     ]
    },
    {
     "name": "stderr",
     "output_type": "stream",
     "text": [
      " 40%|████      | 391/973 [09:36<13:51,  1.43s/it]"
     ]
    },
    {
     "name": "stdout",
     "output_type": "stream",
     "text": [
      "------------------------------------------------\n"
     ]
    },
    {
     "name": "stderr",
     "output_type": "stream",
     "text": [
      " 40%|████      | 392/973 [09:37<13:07,  1.36s/it]"
     ]
    },
    {
     "name": "stdout",
     "output_type": "stream",
     "text": [
      "Num intentos: 1, URL: https://es.linkedin.com/jobs/view/senior-software-engineer-madrid-at-aircall-3972031637?refId=mXSy218UvW9GMbgT3jByKg%3D%3D&trackingId=x0baDMgi4HN6DG9UpKwt7w%3D%3D&position=15&pageNum=22\n",
      "------------------------------------------------\n"
     ]
    },
    {
     "name": "stderr",
     "output_type": "stream",
     "text": [
      " 40%|████      | 393/973 [09:38<12:10,  1.26s/it]"
     ]
    },
    {
     "name": "stdout",
     "output_type": "stream",
     "text": [
      "Num intentos: 1, URL: https://es.linkedin.com/jobs/view/sr-artificial-intelligence-genai-engineer-at-avanade-4135517105?refId=mXSy218UvW9GMbgT3jByKg%3D%3D&trackingId=vQEzqkPF519%2BL%2FEyj%2BYHcA%3D%3D&position=18&pageNum=22\n",
      "------------------------------------------------\n"
     ]
    },
    {
     "name": "stderr",
     "output_type": "stream",
     "text": [
      " 40%|████      | 394/973 [09:40<12:11,  1.26s/it]"
     ]
    },
    {
     "name": "stdout",
     "output_type": "stream",
     "text": [
      "Num intentos: 1, URL: https://es.linkedin.com/jobs/view/software-engineer-streams-team-at-datadog-3964926293?refId=mXSy218UvW9GMbgT3jByKg%3D%3D&trackingId=fOZ3QX8rx7eyu%2BjaIRlPqw%3D%3D&position=25&pageNum=22\n",
      "------------------------------------------------\n"
     ]
    },
    {
     "name": "stderr",
     "output_type": "stream",
     "text": [
      " 41%|████      | 395/973 [09:41<12:13,  1.27s/it]"
     ]
    },
    {
     "name": "stdout",
     "output_type": "stream",
     "text": [
      "Num intentos: 1, URL: https://es.linkedin.com/jobs/view/principal-data-ai-architect-field-cdo-egm-at-salesforce-4109051880?refId=6iugOUKVCcIlzIMTSgbc4A%3D%3D&trackingId=FD5PoRS2Yj%2FnI1%2BzXKJcXg%3D%3D&position=1&pageNum=23\n",
      "------------------------------------------------\n"
     ]
    },
    {
     "name": "stderr",
     "output_type": "stream",
     "text": [
      " 41%|████      | 396/973 [09:43<12:59,  1.35s/it]"
     ]
    },
    {
     "name": "stdout",
     "output_type": "stream",
     "text": [
      "Num intentos: 1, URL: https://es.linkedin.com/jobs/view/software-engineer-developer-experience-at-datadog-3965445532?refId=6iugOUKVCcIlzIMTSgbc4A%3D%3D&trackingId=1KEzsBQBqIPqk4jciZ5doQ%3D%3D&position=7&pageNum=23\n",
      "------------------------------------------------\n"
     ]
    },
    {
     "name": "stderr",
     "output_type": "stream",
     "text": [
      " 41%|████      | 397/973 [09:44<13:29,  1.40s/it]"
     ]
    },
    {
     "name": "stdout",
     "output_type": "stream",
     "text": [
      "Num intentos: 1, URL: https://es.linkedin.com/jobs/view/software-engineer-at-eurovision-services-4136127296?refId=6iugOUKVCcIlzIMTSgbc4A%3D%3D&trackingId=cNIJ8A1SHEJkqeLAER%2Fw0w%3D%3D&position=10&pageNum=23\n",
      "------------------------------------------------\n"
     ]
    },
    {
     "name": "stderr",
     "output_type": "stream",
     "text": [
      " 41%|████      | 398/973 [09:45<12:31,  1.31s/it]"
     ]
    },
    {
     "name": "stdout",
     "output_type": "stream",
     "text": [
      "Num intentos: 1, URL: https://es.linkedin.com/jobs/view/power-system-studies-engineer-at-schweitzer-engineering-laboratories-sel-4139669568?refId=6iugOUKVCcIlzIMTSgbc4A%3D%3D&trackingId=GU01TJzYROJZdTsmK1sekA%3D%3D&position=22&pageNum=23\n",
      "------------------------------------------------\n"
     ]
    },
    {
     "name": "stderr",
     "output_type": "stream",
     "text": [
      " 41%|████      | 399/973 [09:46<12:06,  1.27s/it]"
     ]
    },
    {
     "name": "stdout",
     "output_type": "stream",
     "text": [
      "Num intentos: 1, URL: https://es.linkedin.com/jobs/view/full-stack-software-engineer-freelance-react-node-at-viseo-iberia-4135650179?refId=6iugOUKVCcIlzIMTSgbc4A%3D%3D&trackingId=L1WzUFG%2FMGeGWujQM8jYlg%3D%3D&position=23&pageNum=23\n",
      "------------------------------------------------\n"
     ]
    },
    {
     "name": "stderr",
     "output_type": "stream",
     "text": [
      " 41%|████      | 400/973 [09:48<12:44,  1.33s/it]"
     ]
    },
    {
     "name": "stdout",
     "output_type": "stream",
     "text": [
      "Num intentos: 1, URL: https://es.linkedin.com/jobs/view/system-development-engineer-reliability-and-automation-engineering-at-amazon-4137562236?refId=6iugOUKVCcIlzIMTSgbc4A%3D%3D&trackingId=73yjzXkj2TxzPS5x%2FUYvWA%3D%3D&position=24&pageNum=23\n",
      "------------------------------------------------\n"
     ]
    },
    {
     "name": "stderr",
     "output_type": "stream",
     "text": [
      " 41%|████      | 401/973 [09:49<12:32,  1.32s/it]"
     ]
    },
    {
     "name": "stdout",
     "output_type": "stream",
     "text": [
      "Num intentos: 1, URL: https://es.linkedin.com/jobs/view/senior-software-engineer-renewable-energy-meteorology-at-ul-solutions-4117116910?refId=6nUlb6gH8Ge0cwv7vGKOxQ%3D%3D&trackingId=y3CdTVJ%2FjgohisPocOY5zg%3D%3D&position=4&pageNum=24\n",
      "------------------------------------------------\n"
     ]
    },
    {
     "name": "stderr",
     "output_type": "stream",
     "text": [
      " 41%|████▏     | 402/973 [09:50<12:49,  1.35s/it]"
     ]
    },
    {
     "name": "stdout",
     "output_type": "stream",
     "text": [
      "Num intentos: 1, URL: https://es.linkedin.com/jobs/view/java-spring-boot-software-engineer-microservices-at-bluetab-an-ibm-company-4138319266?refId=6nUlb6gH8Ge0cwv7vGKOxQ%3D%3D&trackingId=Tw1iv0GW%2BBvrmubbbm2SRg%3D%3D&position=5&pageNum=24\n",
      "------------------------------------------------\n"
     ]
    },
    {
     "name": "stderr",
     "output_type": "stream",
     "text": [
      " 41%|████▏     | 403/973 [09:52<13:07,  1.38s/it]"
     ]
    },
    {
     "name": "stdout",
     "output_type": "stream",
     "text": [
      "Num intentos: 1, URL: https://es.linkedin.com/jobs/view/lead-software-engineer-at-capgemini-engineering-4137990562?refId=6nUlb6gH8Ge0cwv7vGKOxQ%3D%3D&trackingId=dzN0cAfJYC%2Bte5SajPurCA%3D%3D&position=9&pageNum=24\n",
      "------------------------------------------------\n"
     ]
    },
    {
     "name": "stderr",
     "output_type": "stream",
     "text": [
      " 42%|████▏     | 404/973 [09:53<12:35,  1.33s/it]"
     ]
    },
    {
     "name": "stdout",
     "output_type": "stream",
     "text": [
      "Num intentos: 1, URL: https://es.linkedin.com/jobs/view/security-automation-engineer-at-celonis-4047659069?refId=6nUlb6gH8Ge0cwv7vGKOxQ%3D%3D&trackingId=hUREHvuYPPv8QCja4zkKdQ%3D%3D&position=10&pageNum=24\n",
      "------------------------------------------------\n",
      "Num intentos: 1, URL: https://es.linkedin.com/jobs/view/container-engineer-at-capgemini-4135215213?refId=6nUlb6gH8Ge0cwv7vGKOxQ%3D%3D&trackingId=KYwkotESFxnIjQicRyttvQ%3D%3D&position=13&pageNum=24\n"
     ]
    },
    {
     "name": "stderr",
     "output_type": "stream",
     "text": [
      " 42%|████▏     | 405/973 [09:54<12:18,  1.30s/it]"
     ]
    },
    {
     "name": "stdout",
     "output_type": "stream",
     "text": [
      "------------------------------------------------\n"
     ]
    },
    {
     "name": "stderr",
     "output_type": "stream",
     "text": [
      " 42%|████▏     | 406/973 [09:56<12:20,  1.31s/it]"
     ]
    },
    {
     "name": "stdout",
     "output_type": "stream",
     "text": [
      "Num intentos: 1, URL: https://es.linkedin.com/jobs/view/bi-consultant-alteryx-at-keyrus-4118976079?refId=xndk4q%2FZdLhddgb2PRN9DQ%3D%3D&trackingId=%2BW%2FGjO60c04GdXKymBD%2Fpw%3D%3D&position=7&pageNum=25\n",
      "------------------------------------------------\n"
     ]
    },
    {
     "name": "stderr",
     "output_type": "stream",
     "text": [
      " 42%|████▏     | 407/973 [09:57<12:43,  1.35s/it]"
     ]
    },
    {
     "name": "stdout",
     "output_type": "stream",
     "text": [
      "Num intentos: 1, URL: https://es.linkedin.com/jobs/view/senior-software-engineer-core-entities-team-madrid-based-at-aircall-3971241743?refId=xndk4q%2FZdLhddgb2PRN9DQ%3D%3D&trackingId=7s3AFUnAwx1LXtQibBQRHg%3D%3D&position=15&pageNum=25\n",
      "------------------------------------------------\n"
     ]
    },
    {
     "name": "stderr",
     "output_type": "stream",
     "text": [
      " 42%|████▏     | 408/973 [09:58<12:31,  1.33s/it]"
     ]
    },
    {
     "name": "stdout",
     "output_type": "stream",
     "text": [
      "Num intentos: 1, URL: https://es.linkedin.com/jobs/view/senior-web-software-engineer-genai-at-picsart-4061662931?refId=xndk4q%2FZdLhddgb2PRN9DQ%3D%3D&trackingId=TefBLfELC9384OVjo1LWBg%3D%3D&position=19&pageNum=25\n",
      "------------------------------------------------\n"
     ]
    },
    {
     "name": "stderr",
     "output_type": "stream",
     "text": [
      " 42%|████▏     | 409/973 [10:00<12:54,  1.37s/it]"
     ]
    },
    {
     "name": "stdout",
     "output_type": "stream",
     "text": [
      "Num intentos: 1, URL: https://es.linkedin.com/jobs/view/global-media-data-analyst-at-havas-media-espa%C3%B1a-4138180263?refId=xndk4q%2FZdLhddgb2PRN9DQ%3D%3D&trackingId=E8JcidcZl7s%2B7cVgw9Y05w%3D%3D&position=20&pageNum=25\n",
      "------------------------------------------------\n"
     ]
    },
    {
     "name": "stderr",
     "output_type": "stream",
     "text": [
      " 42%|████▏     | 410/973 [10:02<13:50,  1.48s/it]"
     ]
    },
    {
     "name": "stdout",
     "output_type": "stream",
     "text": [
      "Num intentos: 1, URL: https://es.linkedin.com/jobs/view/software-engineer-java-fincrime-at-revolut-4115149797?refId=xndk4q%2FZdLhddgb2PRN9DQ%3D%3D&trackingId=6F2BREutYnvQJSUSFG8AXA%3D%3D&position=23&pageNum=25\n",
      "------------------------------------------------\n"
     ]
    },
    {
     "name": "stderr",
     "output_type": "stream",
     "text": [
      " 42%|████▏     | 411/973 [10:03<13:52,  1.48s/it]"
     ]
    },
    {
     "name": "stdout",
     "output_type": "stream",
     "text": [
      "Num intentos: 1, URL: https://es.linkedin.com/jobs/view/software-engineer-alerting-platform-automation-at-datadog-3964924345?refId=%2Fq8IkmAC8FsOi3L4LWt3mA%3D%3D&trackingId=e6kFuNwwHKscPfvNReyWaQ%3D%3D&position=2&pageNum=26\n",
      "------------------------------------------------\n"
     ]
    },
    {
     "name": "stderr",
     "output_type": "stream",
     "text": [
      " 42%|████▏     | 412/973 [10:05<14:39,  1.57s/it]"
     ]
    },
    {
     "name": "stdout",
     "output_type": "stream",
     "text": [
      "Num intentos: 1, URL: https://es.linkedin.com/jobs/view/full-stack-software-engineer-hybrid-remote-at-ansys-4137590547?refId=%2Fq8IkmAC8FsOi3L4LWt3mA%3D%3D&trackingId=IsVxDalnvS8uG7mONpA%2FQw%3D%3D&position=9&pageNum=26\n",
      "------------------------------------------------\n"
     ]
    },
    {
     "name": "stderr",
     "output_type": "stream",
     "text": [
      " 42%|████▏     | 413/973 [10:07<15:15,  1.63s/it]"
     ]
    },
    {
     "name": "stdout",
     "output_type": "stream",
     "text": [
      "Num intentos: 1, URL: https://es.linkedin.com/jobs/view/senior-data-consultant-pre-sales-data-architect-at-keyrus-4125539801?refId=%2Fq8IkmAC8FsOi3L4LWt3mA%3D%3D&trackingId=enVv1b6pA7LdYS9GmeplOg%3D%3D&position=13&pageNum=26\n",
      "------------------------------------------------\n"
     ]
    },
    {
     "name": "stderr",
     "output_type": "stream",
     "text": [
      " 43%|████▎     | 414/973 [10:08<14:56,  1.60s/it]"
     ]
    },
    {
     "name": "stdout",
     "output_type": "stream",
     "text": [
      "Num intentos: 1, URL: https://es.linkedin.com/jobs/view/software-engineer-java-core-platform-at-revolut-3981852565?refId=%2Fq8IkmAC8FsOi3L4LWt3mA%3D%3D&trackingId=%2Bgbu1h5g0sYBo%2FByLbeE%2Bg%3D%3D&position=21&pageNum=26\n",
      "------------------------------------------------\n"
     ]
    },
    {
     "name": "stderr",
     "output_type": "stream",
     "text": [
      " 43%|████▎     | 415/973 [10:09<13:34,  1.46s/it]"
     ]
    },
    {
     "name": "stdout",
     "output_type": "stream",
     "text": [
      "Num intentos: 1, URL: https://es.linkedin.com/jobs/view/power-system-studies-engineer-at-hitachi-energy-4135506347?refId=%2Fq8IkmAC8FsOi3L4LWt3mA%3D%3D&trackingId=KBVF9Nh750KfmSbD68nrNQ%3D%3D&position=23&pageNum=26\n",
      "------------------------------------------------\n"
     ]
    },
    {
     "name": "stderr",
     "output_type": "stream",
     "text": [
      " 43%|████▎     | 416/973 [10:11<13:08,  1.41s/it]"
     ]
    },
    {
     "name": "stdout",
     "output_type": "stream",
     "text": [
      "Num intentos: 1, URL: https://es.linkedin.com/jobs/view/data-scientist-at-mca-espa%C3%B1a-4137549653?refId=ayqrf6i0IBZ5ivdHUm4zEw%3D%3D&trackingId=4KySE2pTUKWXNKiyyTcnLw%3D%3D&position=3&pageNum=27\n",
      "------------------------------------------------\n"
     ]
    },
    {
     "name": "stderr",
     "output_type": "stream",
     "text": [
      " 43%|████▎     | 417/973 [10:12<13:26,  1.45s/it]"
     ]
    },
    {
     "name": "stdout",
     "output_type": "stream",
     "text": [
      "Num intentos: 1, URL: https://es.linkedin.com/jobs/view/software-engineer-go-container-images-at-canonical-4139264780?refId=ayqrf6i0IBZ5ivdHUm4zEw%3D%3D&trackingId=jprhlo%2FysKwmR20uojwVEg%3D%3D&position=7&pageNum=27\n",
      "------------------------------------------------\n",
      "Num intentos: 1, URL: https://es.linkedin.com/jobs/view/software-engineer-go-container-images-at-canonical-4139264767?refId=ayqrf6i0IBZ5ivdHUm4zEw%3D%3D&trackingId=%2B0%2Bx2dzMbQyGgcDt8g6aJQ%3D%3D&position=8&pageNum=27\n"
     ]
    },
    {
     "name": "stderr",
     "output_type": "stream",
     "text": [
      " 43%|████▎     | 418/973 [10:14<14:19,  1.55s/it]"
     ]
    },
    {
     "name": "stdout",
     "output_type": "stream",
     "text": [
      "------------------------------------------------\n"
     ]
    },
    {
     "name": "stderr",
     "output_type": "stream",
     "text": [
      " 43%|████▎     | 419/973 [10:15<13:39,  1.48s/it]"
     ]
    },
    {
     "name": "stdout",
     "output_type": "stream",
     "text": [
      "Num intentos: 1, URL: https://es.linkedin.com/jobs/view/oracle-analyst-at-ayesa-4136735832?refId=ayqrf6i0IBZ5ivdHUm4zEw%3D%3D&trackingId=D%2FsqEYtIAICVt7GHCXwm2Q%3D%3D&position=10&pageNum=27\n",
      "------------------------------------------------\n"
     ]
    },
    {
     "name": "stderr",
     "output_type": "stream",
     "text": [
      " 43%|████▎     | 420/973 [10:17<14:23,  1.56s/it]"
     ]
    },
    {
     "name": "stdout",
     "output_type": "stream",
     "text": [
      "Num intentos: 1, URL: https://es.linkedin.com/jobs/view/experto-en-datorama-at-deloitte-4097326927?refId=ayqrf6i0IBZ5ivdHUm4zEw%3D%3D&trackingId=EiYEm33rBhfY4dOd054yGA%3D%3D&position=17&pageNum=27\n",
      "------------------------------------------------\n"
     ]
    },
    {
     "name": "stderr",
     "output_type": "stream",
     "text": [
      " 43%|████▎     | 421/973 [10:19<14:34,  1.58s/it]"
     ]
    },
    {
     "name": "stdout",
     "output_type": "stream",
     "text": [
      "Num intentos: 1, URL: https://es.linkedin.com/jobs/view/space-data-archive-software-engineer-at-aurora-technology-bv-4139323960?refId=ayqrf6i0IBZ5ivdHUm4zEw%3D%3D&trackingId=8mG5XSEcsSWTlmCFMJtkCA%3D%3D&position=21&pageNum=27\n",
      "------------------------------------------------\n"
     ]
    },
    {
     "name": "stderr",
     "output_type": "stream",
     "text": [
      " 43%|████▎     | 422/973 [10:20<13:48,  1.50s/it]"
     ]
    },
    {
     "name": "stdout",
     "output_type": "stream",
     "text": [
      "Num intentos: 1, URL: https://es.linkedin.com/jobs/view/scada-engineer-and-analyst-at-fotowatio-renewable-ventures-frv-4136744765?refId=ayqrf6i0IBZ5ivdHUm4zEw%3D%3D&trackingId=GE5JIK8VMKSuSWszQ29hpg%3D%3D&position=25&pageNum=27\n",
      "------------------------------------------------\n"
     ]
    },
    {
     "name": "stderr",
     "output_type": "stream",
     "text": [
      " 43%|████▎     | 423/973 [10:22<14:07,  1.54s/it]"
     ]
    },
    {
     "name": "stdout",
     "output_type": "stream",
     "text": [
      "Num intentos: 1, URL: https://es.linkedin.com/jobs/view/head-of-artificial-intelligence-at-indra-4136140576?refId=27zDqnaAzgOwPOyBAP6gyA%3D%3D&trackingId=Oqj4FT3HYux19MkbXiqz1A%3D%3D&position=13&pageNum=28\n",
      "------------------------------------------------\n"
     ]
    },
    {
     "name": "stderr",
     "output_type": "stream",
     "text": [
      " 44%|████▎     | 424/973 [10:23<14:14,  1.56s/it]"
     ]
    },
    {
     "name": "stdout",
     "output_type": "stream",
     "text": [
      "Num intentos: 1, URL: https://es.linkedin.com/jobs/view/senior-web-software-engineer-growth-at-picsart-4036368783?refId=27zDqnaAzgOwPOyBAP6gyA%3D%3D&trackingId=NaAZq%2BR%2Fh2ybVaAOvp9F4Q%3D%3D&position=21&pageNum=28\n",
      "------------------------------------------------\n",
      "Num intentos: 1, URL: https://es.linkedin.com/jobs/view/senior-software-engineer-x-f-m-at-alan-4068052263?refId=27zDqnaAzgOwPOyBAP6gyA%3D%3D&trackingId=YhI7D1ewRMA3stZqAo9BnA%3D%3D&position=23&pageNum=28\n"
     ]
    },
    {
     "name": "stderr",
     "output_type": "stream",
     "text": [
      " 44%|████▎     | 425/973 [10:25<14:19,  1.57s/it]"
     ]
    },
    {
     "name": "stdout",
     "output_type": "stream",
     "text": [
      "------------------------------------------------\n"
     ]
    },
    {
     "name": "stderr",
     "output_type": "stream",
     "text": [
      " 44%|████▍     | 426/973 [10:26<13:18,  1.46s/it]"
     ]
    },
    {
     "name": "stdout",
     "output_type": "stream",
     "text": [
      "Num intentos: 1, URL: https://es.linkedin.com/jobs/view/data-migration-analyst-at-nationale-nederlanden-4139199416?refId=BzKsdm%2FLcWVFlzPY6XXEyg%3D%3D&trackingId=BHlTIX3RHm8GB1Thfs0e0Q%3D%3D&position=5&pageNum=29\n",
      "------------------------------------------------\n"
     ]
    },
    {
     "name": "stderr",
     "output_type": "stream",
     "text": [
      " 44%|████▍     | 427/973 [10:27<12:31,  1.38s/it]"
     ]
    },
    {
     "name": "stdout",
     "output_type": "stream",
     "text": [
      "Num intentos: 1, URL: https://es.linkedin.com/jobs/view/balancing-data-analyst-f-m-d-at-axpo-group-4136534191?refId=BzKsdm%2FLcWVFlzPY6XXEyg%3D%3D&trackingId=VwZ5zMLlFnmyMOrZS6yweQ%3D%3D&position=10&pageNum=29\n",
      "------------------------------------------------\n"
     ]
    },
    {
     "name": "stderr",
     "output_type": "stream",
     "text": [
      " 44%|████▍     | 428/973 [10:28<12:13,  1.35s/it]"
     ]
    },
    {
     "name": "stdout",
     "output_type": "stream",
     "text": [
      "Num intentos: 1, URL: https://es.linkedin.com/jobs/view/expert-data-scientist-at-bbva-4136126738?refId=BzKsdm%2FLcWVFlzPY6XXEyg%3D%3D&trackingId=xY5c2Nu4ZfXJK%2FLTAwDXbA%3D%3D&position=11&pageNum=29\n",
      "------------------------------------------------\n"
     ]
    },
    {
     "name": "stderr",
     "output_type": "stream",
     "text": [
      " 44%|████▍     | 429/973 [10:30<11:48,  1.30s/it]"
     ]
    },
    {
     "name": "stdout",
     "output_type": "stream",
     "text": [
      "Num intentos: 1, URL: https://es.linkedin.com/jobs/view/senior-software-engineer-engineering-productivity-remote-emea-at-aircall-4132548270?refId=BzKsdm%2FLcWVFlzPY6XXEyg%3D%3D&trackingId=7ivfrfQ8d6oMB8WGcI6HCQ%3D%3D&position=17&pageNum=29\n",
      "------------------------------------------------\n"
     ]
    },
    {
     "name": "stderr",
     "output_type": "stream",
     "text": [
      " 44%|████▍     | 430/973 [10:31<12:34,  1.39s/it]"
     ]
    },
    {
     "name": "stdout",
     "output_type": "stream",
     "text": [
      "Num intentos: 1, URL: https://es.linkedin.com/jobs/view/software-engineer-web-browser-sdk-at-datadog-3791749840?refId=BzKsdm%2FLcWVFlzPY6XXEyg%3D%3D&trackingId=fDZ7wPO9InSnR82xuRZiHA%3D%3D&position=20&pageNum=29\n",
      "------------------------------------------------\n"
     ]
    },
    {
     "name": "stderr",
     "output_type": "stream",
     "text": [
      " 44%|████▍     | 431/973 [10:33<12:51,  1.42s/it]"
     ]
    },
    {
     "name": "stdout",
     "output_type": "stream",
     "text": [
      "Num intentos: 1, URL: https://es.linkedin.com/jobs/view/software-engineer-ceph-distributed-storage-at-canonical-4138407324?refId=BzKsdm%2FLcWVFlzPY6XXEyg%3D%3D&trackingId=zvDNRWci3QaOPKbrXj0mtw%3D%3D&position=21&pageNum=29\n",
      "------------------------------------------------\n",
      "Num intentos: 1, URL: https://es.linkedin.com/jobs/view/embedded-software-engineer-c%2B%2B-at-gmv-4099246021?refId=BzKsdm%2FLcWVFlzPY6XXEyg%3D%3D&trackingId=njPCeuAgP%2B1bg5SKeGFb0Q%3D%3D&position=24&pageNum=29\n"
     ]
    },
    {
     "name": "stderr",
     "output_type": "stream",
     "text": [
      " 44%|████▍     | 432/973 [10:34<12:37,  1.40s/it]"
     ]
    },
    {
     "name": "stdout",
     "output_type": "stream",
     "text": [
      "------------------------------------------------\n"
     ]
    },
    {
     "name": "stderr",
     "output_type": "stream",
     "text": [
      " 45%|████▍     | 433/973 [10:35<11:52,  1.32s/it]"
     ]
    },
    {
     "name": "stdout",
     "output_type": "stream",
     "text": [
      "Num intentos: 1, URL: https://es.linkedin.com/jobs/view/data-scientist-caf-digital-services-at-caf-construcciones-y-auxiliar-de-ferrocarriles-4138305971?refId=4T3q6%2BDUDS%2Fwfb0hIc%2BkJw%3D%3D&trackingId=8fxNUxpoicJf5rsAk5F7NA%3D%3D&position=3&pageNum=30\n",
      "------------------------------------------------\n"
     ]
    },
    {
     "name": "stderr",
     "output_type": "stream",
     "text": [
      " 45%|████▍     | 434/973 [10:37<12:59,  1.45s/it]"
     ]
    },
    {
     "name": "stdout",
     "output_type": "stream",
     "text": [
      "Num intentos: 1, URL: https://es.linkedin.com/jobs/view/full-stack-software-engineer-hybrid-setup-at-iptiq-by-swiss-re-4008960946?refId=4T3q6%2BDUDS%2Fwfb0hIc%2BkJw%3D%3D&trackingId=whF6ABdHEEoOknPILB92dw%3D%3D&position=24&pageNum=30\n",
      "------------------------------------------------\n"
     ]
    },
    {
     "name": "stderr",
     "output_type": "stream",
     "text": [
      " 45%|████▍     | 435/973 [10:39<13:14,  1.48s/it]"
     ]
    },
    {
     "name": "stdout",
     "output_type": "stream",
     "text": [
      "Num intentos: 1, URL: https://es.linkedin.com/jobs/view/senior-software-engineer-streams-team-at-datadog-3965447300?refId=pvzzDZKJw%2BBNu7o7uLGHhw%3D%3D&trackingId=fi3FMoNtOpTdrU6B1Bwz7w%3D%3D&position=9&pageNum=31\n",
      "------------------------------------------------\n"
     ]
    },
    {
     "name": "stderr",
     "output_type": "stream",
     "text": [
      " 45%|████▍     | 436/973 [10:40<13:19,  1.49s/it]"
     ]
    },
    {
     "name": "stdout",
     "output_type": "stream",
     "text": [
      "Num intentos: 1, URL: https://es.linkedin.com/jobs/view/software-engineer-ceph-distributed-storage-at-canonical-4138406423?refId=pvzzDZKJw%2BBNu7o7uLGHhw%3D%3D&trackingId=TbpuOd8HwNSeBqDzznewVQ%3D%3D&position=13&pageNum=31\n",
      "------------------------------------------------\n"
     ]
    },
    {
     "name": "stderr",
     "output_type": "stream",
     "text": [
      " 45%|████▍     | 437/973 [10:41<12:39,  1.42s/it]"
     ]
    },
    {
     "name": "stdout",
     "output_type": "stream",
     "text": [
      "Num intentos: 1, URL: https://es.linkedin.com/jobs/view/data-scientist-business-analytics-at-ntt-data-europe-latam-4136129173?refId=pvzzDZKJw%2BBNu7o7uLGHhw%3D%3D&trackingId=n%2Fn6wpNrIkWeL804QSxb2g%3D%3D&position=16&pageNum=31\n",
      "------------------------------------------------\n",
      "Num intentos: 1, URL: https://es.linkedin.com/jobs/view/software-engineer-fabric-rpc-at-datadog-3965441937?refId=pvzzDZKJw%2BBNu7o7uLGHhw%3D%3D&trackingId=fEY525%2FDEVC6IKek%2FSSHyg%3D%3D&position=22&pageNum=31\n"
     ]
    },
    {
     "name": "stderr",
     "output_type": "stream",
     "text": [
      " 45%|████▌     | 438/973 [10:43<12:37,  1.42s/it]"
     ]
    },
    {
     "name": "stdout",
     "output_type": "stream",
     "text": [
      "------------------------------------------------\n",
      "Num intentos: 1, URL: https://es.linkedin.com/jobs/view/partner-engineer-youtube-ancillary-rights-english-at-google-4139841018?refId=iogc%2B4XiXLpYrKPr7Us7Lw%3D%3D&trackingId=0gu5M9x5syIR16le5aDtDw%3D%3D&position=1&pageNum=32\n"
     ]
    },
    {
     "name": "stderr",
     "output_type": "stream",
     "text": [
      " 45%|████▌     | 439/973 [10:45<13:57,  1.57s/it]"
     ]
    },
    {
     "name": "stdout",
     "output_type": "stream",
     "text": [
      "------------------------------------------------\n"
     ]
    },
    {
     "name": "stderr",
     "output_type": "stream",
     "text": [
      " 45%|████▌     | 440/973 [10:46<14:24,  1.62s/it]"
     ]
    },
    {
     "name": "stdout",
     "output_type": "stream",
     "text": [
      "Num intentos: 1, URL: https://es.linkedin.com/jobs/view/software-engineer-authentication-and-authorization-at-pleo-4140305211?refId=iogc%2B4XiXLpYrKPr7Us7Lw%3D%3D&trackingId=qDDIU2zOlkSAs6Q3BJnjNA%3D%3D&position=10&pageNum=32\n",
      "------------------------------------------------\n"
     ]
    },
    {
     "name": "stderr",
     "output_type": "stream",
     "text": [
      " 45%|████▌     | 441/973 [10:48<13:51,  1.56s/it]"
     ]
    },
    {
     "name": "stdout",
     "output_type": "stream",
     "text": [
      "Num intentos: 1, URL: https://es.linkedin.com/jobs/view/electrical-engineer-power-system-simulations-at-eselec-4136136527?refId=iogc%2B4XiXLpYrKPr7Us7Lw%3D%3D&trackingId=m31cUMFn6RlWsqLCPnWcdQ%3D%3D&position=15&pageNum=32\n",
      "------------------------------------------------\n"
     ]
    },
    {
     "name": "stderr",
     "output_type": "stream",
     "text": [
      " 45%|████▌     | 442/973 [10:49<13:58,  1.58s/it]"
     ]
    },
    {
     "name": "stdout",
     "output_type": "stream",
     "text": [
      "Num intentos: 1, URL: https://es.linkedin.com/jobs/view/specialist-digital-insights-at-vodafone-4137896432?refId=GB%2Fwwj7Zi4x1VtaSwZK9nQ%3D%3D&trackingId=dLw6X2wewAPOTdVY0sossw%3D%3D&position=6&pageNum=33\n",
      "------------------------------------------------\n"
     ]
    },
    {
     "name": "stderr",
     "output_type": "stream",
     "text": [
      " 46%|████▌     | 443/973 [10:51<13:44,  1.56s/it]"
     ]
    },
    {
     "name": "stdout",
     "output_type": "stream",
     "text": [
      "Num intentos: 1, URL: https://es.linkedin.com/jobs/view/senior-software-engineer-banking-capital-markets-at-chainlink-labs-4057982399?refId=GB%2Fwwj7Zi4x1VtaSwZK9nQ%3D%3D&trackingId=jm2F56XnOoD0iCNyBZ%2FEAQ%3D%3D&position=13&pageNum=33\n",
      "------------------------------------------------\n"
     ]
    },
    {
     "name": "stderr",
     "output_type": "stream",
     "text": [
      " 46%|████▌     | 444/973 [10:53<14:14,  1.61s/it]"
     ]
    },
    {
     "name": "stdout",
     "output_type": "stream",
     "text": [
      "Num intentos: 1, URL: https://es.linkedin.com/jobs/view/senior-software-engineer-distributed-systems-at-datadog-3679615306?refId=GB%2Fwwj7Zi4x1VtaSwZK9nQ%3D%3D&trackingId=%2FUjhOzSZZF7zj6FSfMee9A%3D%3D&position=15&pageNum=33\n",
      "------------------------------------------------\n"
     ]
    },
    {
     "name": "stderr",
     "output_type": "stream",
     "text": [
      " 46%|████▌     | 445/973 [10:54<12:55,  1.47s/it]"
     ]
    },
    {
     "name": "stdout",
     "output_type": "stream",
     "text": [
      "Num intentos: 1, URL: https://es.linkedin.com/jobs/view/embedded-software-engineer-at-teledyne-flir-4137534709?refId=GB%2Fwwj7Zi4x1VtaSwZK9nQ%3D%3D&trackingId=Upfa8kx99cz4kUYu4DPiPA%3D%3D&position=19&pageNum=33\n",
      "------------------------------------------------\n",
      "Num intentos: 1, URL: https://es.linkedin.com/jobs/view/sar-processing-analyst-at-deimos-4137258791?refId=GB%2Fwwj7Zi4x1VtaSwZK9nQ%3D%3D&trackingId=rpad6g9cBKqBMTi0ZVSLkA%3D%3D&position=25&pageNum=33\n"
     ]
    },
    {
     "name": "stderr",
     "output_type": "stream",
     "text": [
      " 46%|████▌     | 446/973 [10:55<12:46,  1.45s/it]"
     ]
    },
    {
     "name": "stdout",
     "output_type": "stream",
     "text": [
      "------------------------------------------------\n"
     ]
    },
    {
     "name": "stderr",
     "output_type": "stream",
     "text": [
      " 46%|████▌     | 447/973 [10:56<11:55,  1.36s/it]"
     ]
    },
    {
     "name": "stdout",
     "output_type": "stream",
     "text": [
      "Num intentos: 1, URL: https://es.linkedin.com/jobs/view/data-scientist-f-m-d-%F0%9F%9A%80-at-free2move-4139944238?refId=jYUCayDj5AktnYUNOxZvEQ%3D%3D&trackingId=oqFU5%2B1IYbtIqAsv3%2BF%2FXg%3D%3D&position=2&pageNum=34\n",
      "------------------------------------------------\n"
     ]
    },
    {
     "name": "stderr",
     "output_type": "stream",
     "text": [
      " 46%|████▌     | 448/973 [10:58<11:39,  1.33s/it]"
     ]
    },
    {
     "name": "stdout",
     "output_type": "stream",
     "text": [
      "Num intentos: 1, URL: https://es.linkedin.com/jobs/view/digital-finance-senior-developer-power-bi-and-data-fabric-at-ey-4136834186?refId=jYUCayDj5AktnYUNOxZvEQ%3D%3D&trackingId=ts14q%2FjOQGcwT6dQTLZnxQ%3D%3D&position=10&pageNum=34\n",
      "------------------------------------------------\n"
     ]
    },
    {
     "name": "stderr",
     "output_type": "stream",
     "text": [
      " 46%|████▌     | 449/973 [10:59<12:36,  1.44s/it]"
     ]
    },
    {
     "name": "stdout",
     "output_type": "stream",
     "text": [
      "Num intentos: 1, URL: https://es.linkedin.com/jobs/view/senior-software-engineer-sdlc-security-at-datadog-4096173551?refId=jYUCayDj5AktnYUNOxZvEQ%3D%3D&trackingId=d04vLDwTh3%2Bh8N9N3%2BRNAQ%3D%3D&position=11&pageNum=34\n",
      "------------------------------------------------\n"
     ]
    },
    {
     "name": "stderr",
     "output_type": "stream",
     "text": [
      " 46%|████▌     | 450/973 [11:01<12:17,  1.41s/it]"
     ]
    },
    {
     "name": "stdout",
     "output_type": "stream",
     "text": [
      "Num intentos: 1, URL: https://es.linkedin.com/jobs/view/software-engineer-java-and-c%2B%2B-at-revolut-4139343968?refId=jYUCayDj5AktnYUNOxZvEQ%3D%3D&trackingId=evcbU3OevGsJ9QhfdM0MKw%3D%3D&position=12&pageNum=34\n",
      "------------------------------------------------\n"
     ]
    },
    {
     "name": "stderr",
     "output_type": "stream",
     "text": [
      " 46%|████▋     | 451/973 [11:02<12:38,  1.45s/it]"
     ]
    },
    {
     "name": "stdout",
     "output_type": "stream",
     "text": [
      "Num intentos: 1, URL: https://es.linkedin.com/jobs/view/ingeniero-a-civil-especialista-en-datos-iccp-at-aecom-4136194100?refId=jYUCayDj5AktnYUNOxZvEQ%3D%3D&trackingId=e7%2B6E64%2F4TdWH60VcQ8YKw%3D%3D&position=18&pageNum=34\n",
      "------------------------------------------------\n"
     ]
    },
    {
     "name": "stderr",
     "output_type": "stream",
     "text": [
      " 46%|████▋     | 452/973 [11:04<12:27,  1.43s/it]"
     ]
    },
    {
     "name": "stdout",
     "output_type": "stream",
     "text": [
      "Num intentos: 1, URL: https://es.linkedin.com/jobs/view/senior-software-engineer-java-kotlin-at-templeton-partners-innovative-inclusive-hiring-solutions-4139216040?refId=jYUCayDj5AktnYUNOxZvEQ%3D%3D&trackingId=wG%2BFaiy90Xp99dLHzYs6dw%3D%3D&position=20&pageNum=34\n",
      "------------------------------------------------\n",
      "Num intentos: 1, URL: https://es.linkedin.com/jobs/view/data-scientist-at-softwareone-4136484886?refId=k9%2FkRnfSBzcobArEZmRAig%3D%3D&trackingId=MBoHJufijCvinfGMh0AhSw%3D%3D&position=4&pageNum=35\n"
     ]
    },
    {
     "name": "stderr",
     "output_type": "stream",
     "text": [
      " 47%|████▋     | 453/973 [11:05<13:25,  1.55s/it]"
     ]
    },
    {
     "name": "stdout",
     "output_type": "stream",
     "text": [
      "------------------------------------------------\n"
     ]
    },
    {
     "name": "stderr",
     "output_type": "stream",
     "text": [
      " 47%|████▋     | 454/973 [11:07<14:14,  1.65s/it]"
     ]
    },
    {
     "name": "stdout",
     "output_type": "stream",
     "text": [
      "Num intentos: 1, URL: https://es.linkedin.com/jobs/view/software-development-engineer-amazon-business-international-expansion-abix-at-amazon-4140188281?refId=k9%2FkRnfSBzcobArEZmRAig%3D%3D&trackingId=znrN%2FudWnN5kNtP9zh81aA%3D%3D&position=7&pageNum=35\n",
      "------------------------------------------------\n"
     ]
    },
    {
     "name": "stderr",
     "output_type": "stream",
     "text": [
      " 47%|████▋     | 455/973 [11:09<14:12,  1.65s/it]"
     ]
    },
    {
     "name": "stdout",
     "output_type": "stream",
     "text": [
      "Num intentos: 1, URL: https://es.linkedin.com/jobs/view/senior-software-engineer-cloud-security-platform-at-datadog-3681922940?refId=k9%2FkRnfSBzcobArEZmRAig%3D%3D&trackingId=xEjRBOLAnniodkfLlzNInQ%3D%3D&position=14&pageNum=35\n",
      "------------------------------------------------\n"
     ]
    },
    {
     "name": "stderr",
     "output_type": "stream",
     "text": [
      " 47%|████▋     | 456/973 [11:10<13:37,  1.58s/it]"
     ]
    },
    {
     "name": "stdout",
     "output_type": "stream",
     "text": [
      "Num intentos: 1, URL: https://es.linkedin.com/jobs/view/data-scientist-global-portfolio-management-at-prima-4136590772?refId=k9%2FkRnfSBzcobArEZmRAig%3D%3D&trackingId=D2dVLniCWnHJGlsY8BiZsA%3D%3D&position=15&pageNum=35\n",
      "------------------------------------------------\n"
     ]
    },
    {
     "name": "stderr",
     "output_type": "stream",
     "text": [
      " 47%|████▋     | 457/973 [11:12<13:12,  1.54s/it]"
     ]
    },
    {
     "name": "stdout",
     "output_type": "stream",
     "text": [
      "Num intentos: 1, URL: https://es.linkedin.com/jobs/view/data-science-specialist-at-havas-media-network-espa%C3%B1a-4135282233?refId=FnhfE%2BUO6DlfX1s9TYmIuw%3D%3D&trackingId=hr0rmCmRe4925dliGgguDQ%3D%3D&position=4&pageNum=36\n",
      "------------------------------------------------\n"
     ]
    },
    {
     "name": "stderr",
     "output_type": "stream",
     "text": [
      " 47%|████▋     | 458/973 [11:13<13:13,  1.54s/it]"
     ]
    },
    {
     "name": "stdout",
     "output_type": "stream",
     "text": [
      "Num intentos: 1, URL: https://es.linkedin.com/jobs/view/software-development-engineer-ring-at-amazon-4059096271?refId=FnhfE%2BUO6DlfX1s9TYmIuw%3D%3D&trackingId=MrGBuNhlu4qyibfoa5PXqA%3D%3D&position=7&pageNum=36\n",
      "------------------------------------------------\n",
      "Num intentos: 1, URL: https://es.linkedin.com/jobs/view/tableau-consultant-at-keyrus-4118976082?refId=FnhfE%2BUO6DlfX1s9TYmIuw%3D%3D&trackingId=sa%2BkJUPdfkNgG6D%2BI%2BsOUw%3D%3D&position=18&pageNum=36\n"
     ]
    },
    {
     "name": "stderr",
     "output_type": "stream",
     "text": [
      " 47%|████▋     | 459/973 [11:15<12:47,  1.49s/it]"
     ]
    },
    {
     "name": "stdout",
     "output_type": "stream",
     "text": [
      "------------------------------------------------\n"
     ]
    },
    {
     "name": "stderr",
     "output_type": "stream",
     "text": [
      " 47%|████▋     | 460/973 [11:16<12:50,  1.50s/it]"
     ]
    },
    {
     "name": "stdout",
     "output_type": "stream",
     "text": [
      "Num intentos: 1, URL: https://es.linkedin.com/jobs/view/data-governance-specialist-at-edp-renewables-4139649736?refId=FnhfE%2BUO6DlfX1s9TYmIuw%3D%3D&trackingId=TqPik9RUqp4teE4NA4wn2g%3D%3D&position=22&pageNum=36\n",
      "------------------------------------------------\n"
     ]
    },
    {
     "name": "stderr",
     "output_type": "stream",
     "text": [
      " 47%|████▋     | 461/973 [11:18<12:37,  1.48s/it]"
     ]
    },
    {
     "name": "stdout",
     "output_type": "stream",
     "text": [
      "Num intentos: 1, URL: https://es.linkedin.com/jobs/view/software-engineer-packaging-optimize-ubuntu-server-for-public-clouds-at-canonical-4136860928?refId=FnhfE%2BUO6DlfX1s9TYmIuw%3D%3D&trackingId=xPf4x9AABSQcvXJ752L2eA%3D%3D&position=23&pageNum=36\n",
      "------------------------------------------------\n"
     ]
    },
    {
     "name": "stderr",
     "output_type": "stream",
     "text": [
      " 47%|████▋     | 462/973 [11:19<13:21,  1.57s/it]"
     ]
    },
    {
     "name": "stdout",
     "output_type": "stream",
     "text": [
      "Num intentos: 1, URL: https://es.linkedin.com/jobs/view/sr-software-development-engineer-firetv-experiences-at-amazon-4138036958?refId=M92tBlvFSrvwBHhPL3Il6Q%3D%3D&trackingId=QZGPuELS4VsrPdKEZ3AhAQ%3D%3D&position=1&pageNum=37\n",
      "------------------------------------------------\n"
     ]
    },
    {
     "name": "stderr",
     "output_type": "stream",
     "text": [
      " 48%|████▊     | 463/973 [11:21<13:03,  1.54s/it]"
     ]
    },
    {
     "name": "stdout",
     "output_type": "stream",
     "text": [
      "Num intentos: 1, URL: https://es.linkedin.com/jobs/view/professional-software-engineer-r-d-at-tttech-auto-4138085988?refId=M92tBlvFSrvwBHhPL3Il6Q%3D%3D&trackingId=QAgOtyV7EHFWAnkvgmeCGg%3D%3D&position=2&pageNum=37\n",
      "------------------------------------------------\n"
     ]
    },
    {
     "name": "stderr",
     "output_type": "stream",
     "text": [
      " 48%|████▊     | 464/973 [11:22<12:26,  1.47s/it]"
     ]
    },
    {
     "name": "stdout",
     "output_type": "stream",
     "text": [
      "Num intentos: 1, URL: https://es.linkedin.com/jobs/view/data-scientist-at-thetaray-4133299164?refId=M92tBlvFSrvwBHhPL3Il6Q%3D%3D&trackingId=FER2vnM31ebXCmG1L5aiCw%3D%3D&position=3&pageNum=37\n",
      "------------------------------------------------\n"
     ]
    },
    {
     "name": "stderr",
     "output_type": "stream",
     "text": [
      " 48%|████▊     | 465/973 [11:24<11:58,  1.41s/it]"
     ]
    },
    {
     "name": "stdout",
     "output_type": "stream",
     "text": [
      "Num intentos: 1, URL: https://es.linkedin.com/jobs/view/java-software-engineer-at-bertrandt-group-4139339695?refId=M92tBlvFSrvwBHhPL3Il6Q%3D%3D&trackingId=iD1q6NGysrZJXExYEYIopg%3D%3D&position=6&pageNum=37\n",
      "------------------------------------------------\n"
     ]
    },
    {
     "name": "stderr",
     "output_type": "stream",
     "text": [
      " 48%|████▊     | 466/973 [11:25<12:19,  1.46s/it]"
     ]
    },
    {
     "name": "stdout",
     "output_type": "stream",
     "text": [
      "Num intentos: 1, URL: https://es.linkedin.com/jobs/view/firmware-engineer-avionics-and-flight-system-at-sener-aerospace-defence-4118526049?refId=M92tBlvFSrvwBHhPL3Il6Q%3D%3D&trackingId=tLOx6PLWOWZXWOvq4JXSzA%3D%3D&position=11&pageNum=37\n",
      "------------------------------------------------\n"
     ]
    },
    {
     "name": "stderr",
     "output_type": "stream",
     "text": [
      " 48%|████▊     | 467/973 [11:27<13:22,  1.59s/it]"
     ]
    },
    {
     "name": "stdout",
     "output_type": "stream",
     "text": [
      "Num intentos: 1, URL: https://es.linkedin.com/jobs/view/senior-software-engineer-cloud-platforms-observability-at-datadog-3899944739?refId=M92tBlvFSrvwBHhPL3Il6Q%3D%3D&trackingId=HZRPEbJWGOA1Bzes6rx%2BjA%3D%3D&position=15&pageNum=37\n",
      "------------------------------------------------\n"
     ]
    },
    {
     "name": "stderr",
     "output_type": "stream",
     "text": [
      " 48%|████▊     | 468/973 [11:28<12:59,  1.54s/it]"
     ]
    },
    {
     "name": "stdout",
     "output_type": "stream",
     "text": [
      "Num intentos: 1, URL: https://es.linkedin.com/jobs/view/software-engineer-packaging-optimize-ubuntu-server-for-public-clouds-at-canonical-4136865600?refId=M92tBlvFSrvwBHhPL3Il6Q%3D%3D&trackingId=NgIRPEONZ4AFrYy0A4OOZQ%3D%3D&position=18&pageNum=37\n",
      "------------------------------------------------\n"
     ]
    },
    {
     "name": "stderr",
     "output_type": "stream",
     "text": [
      " 48%|████▊     | 469/973 [11:30<12:54,  1.54s/it]"
     ]
    },
    {
     "name": "stdout",
     "output_type": "stream",
     "text": [
      "Num intentos: 1, URL: https://es.linkedin.com/jobs/view/qlick-sense-analyst-at-davidson-consulting-4137979004?refId=M92tBlvFSrvwBHhPL3Il6Q%3D%3D&trackingId=FxVdtB9cRHYbwNXMpl3CQA%3D%3D&position=24&pageNum=37\n",
      "------------------------------------------------\n"
     ]
    },
    {
     "name": "stderr",
     "output_type": "stream",
     "text": [
      " 48%|████▊     | 470/973 [11:31<12:53,  1.54s/it]"
     ]
    },
    {
     "name": "stdout",
     "output_type": "stream",
     "text": [
      "Num intentos: 1, URL: https://es.linkedin.com/jobs/view/lead-data-scientist-genai-at-akkodis-4136751883?refId=M92tBlvFSrvwBHhPL3Il6Q%3D%3D&trackingId=QYB%2BWnQHXyyT%2FYuprq6%2Bbg%3D%3D&position=25&pageNum=37\n",
      "------------------------------------------------\n"
     ]
    },
    {
     "name": "stderr",
     "output_type": "stream",
     "text": [
      " 48%|████▊     | 471/973 [11:33<13:11,  1.58s/it]"
     ]
    },
    {
     "name": "stdout",
     "output_type": "stream",
     "text": [
      "Num intentos: 1, URL: https://es.linkedin.com/jobs/view/software-engineer-packaging-optimize-ubuntu-server-at-canonical-4138531358?refId=4aUxUe7ReM%2FfmMEQZ%2Bz1sA%3D%3D&trackingId=4DEYF0MPaOzokJJcAYU2VQ%3D%3D&position=2&pageNum=38\n",
      "------------------------------------------------\n",
      "Num intentos: 1, URL: https://es.linkedin.com/jobs/view/senior-software-engineer-fintech-at-ebury-4118799731?refId=4aUxUe7ReM%2FfmMEQZ%2Bz1sA%3D%3D&trackingId=3E0T%2FagyX5EFyVq57TcKFA%3D%3D&position=15&pageNum=38\n"
     ]
    },
    {
     "name": "stderr",
     "output_type": "stream",
     "text": [
      " 49%|████▊     | 472/973 [11:35<13:34,  1.63s/it]"
     ]
    },
    {
     "name": "stdout",
     "output_type": "stream",
     "text": [
      "------------------------------------------------\n"
     ]
    },
    {
     "name": "stderr",
     "output_type": "stream",
     "text": [
      " 49%|████▊     | 473/973 [11:36<13:15,  1.59s/it]"
     ]
    },
    {
     "name": "stdout",
     "output_type": "stream",
     "text": [
      "Num intentos: 1, URL: https://es.linkedin.com/jobs/view/software-engineer-packaging-optimize-ubuntu-server-at-canonical-4138532235?refId=4aUxUe7ReM%2FfmMEQZ%2Bz1sA%3D%3D&trackingId=oF14Ac12aprXEx%2BdViYROA%3D%3D&position=16&pageNum=38\n",
      "------------------------------------------------\n"
     ]
    },
    {
     "name": "stderr",
     "output_type": "stream",
     "text": [
      " 49%|████▊     | 474/973 [11:38<12:56,  1.56s/it]"
     ]
    },
    {
     "name": "stdout",
     "output_type": "stream",
     "text": [
      "Num intentos: 1, URL: https://es.linkedin.com/jobs/view/alliances-field-engineer-at-canonical-4140134549?refId=4aUxUe7ReM%2FfmMEQZ%2Bz1sA%3D%3D&trackingId=P2ESN38FNuwqys8FSgSGNA%3D%3D&position=17&pageNum=38\n",
      "------------------------------------------------\n"
     ]
    },
    {
     "name": "stderr",
     "output_type": "stream",
     "text": [
      " 49%|████▉     | 475/973 [11:39<11:54,  1.44s/it]"
     ]
    },
    {
     "name": "stdout",
     "output_type": "stream",
     "text": [
      "Num intentos: 1, URL: https://es.linkedin.com/jobs/view/alliances-field-engineer-at-canonical-4140131851?refId=4aUxUe7ReM%2FfmMEQZ%2Bz1sA%3D%3D&trackingId=P1%2BEDrH%2FM9cMJJgEiOooIQ%3D%3D&position=18&pageNum=38\n",
      "------------------------------------------------\n"
     ]
    },
    {
     "name": "stderr",
     "output_type": "stream",
     "text": [
      " 49%|████▉     | 476/973 [11:41<12:03,  1.46s/it]"
     ]
    },
    {
     "name": "stdout",
     "output_type": "stream",
     "text": [
      "Num intentos: 1, URL: https://es.linkedin.com/jobs/view/software-engineer-packaging-optimize-ubuntu-server-at-canonical-4139247392?refId=4aUxUe7ReM%2FfmMEQZ%2Bz1sA%3D%3D&trackingId=a5fNup2vp95J8EuGFMPwQA%3D%3D&position=19&pageNum=38\n",
      "------------------------------------------------\n"
     ]
    },
    {
     "name": "stderr",
     "output_type": "stream",
     "text": [
      " 49%|████▉     | 477/973 [11:42<11:51,  1.44s/it]"
     ]
    },
    {
     "name": "stdout",
     "output_type": "stream",
     "text": [
      "Num intentos: 1, URL: https://es.linkedin.com/jobs/view/software-engineer-packaging-optimize-ubuntu-server-at-canonical-4139244721?refId=4aUxUe7ReM%2FfmMEQZ%2Bz1sA%3D%3D&trackingId=hC69aZN1sIvsooN6ppydnQ%3D%3D&position=20&pageNum=38\n",
      "------------------------------------------------\n"
     ]
    },
    {
     "name": "stderr",
     "output_type": "stream",
     "text": [
      " 49%|████▉     | 478/973 [11:43<10:54,  1.32s/it]"
     ]
    },
    {
     "name": "stdout",
     "output_type": "stream",
     "text": [
      "Num intentos: 1, URL: https://es.linkedin.com/jobs/view/%23discover-i-2025-2026-aerial-delivery-software-engineer-internship-at-airbus-defence-and-space-4033611350?refId=xPrcwAXkZO4mu5jDn0JJDg%3D%3D&trackingId=JgjVLfs%2Flnx35q783obHOA%3D%3D&position=1&pageNum=39\n",
      "------------------------------------------------\n"
     ]
    },
    {
     "name": "stderr",
     "output_type": "stream",
     "text": [
      " 49%|████▉     | 479/973 [11:45<11:49,  1.44s/it]"
     ]
    },
    {
     "name": "stdout",
     "output_type": "stream",
     "text": [
      "Num intentos: 1, URL: https://es.linkedin.com/jobs/view/ai-effectiveness-executive-data-scientist-at-dentsu-4136440819?refId=xPrcwAXkZO4mu5jDn0JJDg%3D%3D&trackingId=YVwVaGPjqD4FCLHv3hghuQ%3D%3D&position=5&pageNum=39\n",
      "------------------------------------------------\n"
     ]
    },
    {
     "name": "stderr",
     "output_type": "stream",
     "text": [
      " 49%|████▉     | 480/973 [11:46<12:12,  1.48s/it]"
     ]
    },
    {
     "name": "stdout",
     "output_type": "stream",
     "text": [
      "Num intentos: 1, URL: https://es.linkedin.com/jobs/view/senior-software-engineer-fintech-at-ebury-4118797948?refId=xPrcwAXkZO4mu5jDn0JJDg%3D%3D&trackingId=gx4dMdZtYI4ZNurqtFKk%2FQ%3D%3D&position=13&pageNum=39\n",
      "------------------------------------------------\n"
     ]
    },
    {
     "name": "stderr",
     "output_type": "stream",
     "text": [
      " 49%|████▉     | 481/973 [11:48<11:57,  1.46s/it]"
     ]
    },
    {
     "name": "stdout",
     "output_type": "stream",
     "text": [
      "Num intentos: 1, URL: https://es.linkedin.com/jobs/view/data-scientist-at-agap2-espa%C3%B1a-4138243891?refId=xPrcwAXkZO4mu5jDn0JJDg%3D%3D&trackingId=zXnVocuSeB0bwHglKTXuOw%3D%3D&position=16&pageNum=39\n",
      "Error en el link: https://es.linkedin.com/jobs/view/data-scientist-at-agap2-espa%C3%B1a-4138243891?refId=xPrcwAXkZO4mu5jDn0JJDg%3D%3D&trackingId=zXnVocuSeB0bwHglKTXuOw%3D%3D&position=16&pageNum=39\n",
      "------------------------------------------------\n"
     ]
    },
    {
     "name": "stderr",
     "output_type": "stream",
     "text": [
      " 50%|████▉     | 482/973 [11:49<11:34,  1.42s/it]"
     ]
    },
    {
     "name": "stdout",
     "output_type": "stream",
     "text": [
      "Num intentos: 1, URL: https://es.linkedin.com/jobs/view/staff-software-engineer-error-tracking-at-datadog-4138200109?refId=xPrcwAXkZO4mu5jDn0JJDg%3D%3D&trackingId=mOZwFi7a2QOP%2BxCg%2B0gJPg%3D%3D&position=24&pageNum=39\n",
      "------------------------------------------------\n"
     ]
    },
    {
     "name": "stderr",
     "output_type": "stream",
     "text": [
      " 50%|████▉     | 483/973 [11:50<11:24,  1.40s/it]"
     ]
    },
    {
     "name": "stdout",
     "output_type": "stream",
     "text": [
      "Num intentos: 1, URL: https://es.linkedin.com/jobs/view/data-engineer-at-bbva-technology-en-europa-4132387966?refId=5lUV4%2FNAtY0kytHF7H9LFw%3D%3D&trackingId=9hPF18rn5kchhnxJOLp3mw%3D%3D&position=1&pageNum=0\n",
      "------------------------------------------------\n"
     ]
    },
    {
     "name": "stderr",
     "output_type": "stream",
     "text": [
      " 50%|████▉     | 484/973 [11:52<11:40,  1.43s/it]"
     ]
    },
    {
     "name": "stdout",
     "output_type": "stream",
     "text": [
      "Num intentos: 1, URL: https://es.linkedin.com/jobs/view/big-data-engineer-at-capgemini-4129877196?refId=5lUV4%2FNAtY0kytHF7H9LFw%3D%3D&trackingId=RyoUR%2BVUGoGh912gqbB8aw%3D%3D&position=14&pageNum=0\n",
      "------------------------------------------------\n"
     ]
    },
    {
     "name": "stderr",
     "output_type": "stream",
     "text": [
      " 50%|████▉     | 485/973 [11:53<11:32,  1.42s/it]"
     ]
    },
    {
     "name": "stdout",
     "output_type": "stream",
     "text": [
      "Num intentos: 1, URL: https://es.linkedin.com/jobs/view/data-engineer-at-ocu-4130455265?refId=5lUV4%2FNAtY0kytHF7H9LFw%3D%3D&trackingId=VD8V5zFD0etbpd%2FxUQEXmg%3D%3D&position=24&pageNum=0\n",
      "------------------------------------------------\n",
      "Num intentos: 1, URL: https://es.linkedin.com/jobs/view/data-engineer-at-tokiota-4129442397?refId=5lUV4%2FNAtY0kytHF7H9LFw%3D%3D&trackingId=2j3G6pBhQeX7cOYampidUg%3D%3D&position=25&pageNum=0\n"
     ]
    },
    {
     "name": "stderr",
     "output_type": "stream",
     "text": [
      " 50%|████▉     | 486/973 [11:55<11:29,  1.42s/it]"
     ]
    },
    {
     "name": "stdout",
     "output_type": "stream",
     "text": [
      "------------------------------------------------\n"
     ]
    },
    {
     "name": "stderr",
     "output_type": "stream",
     "text": [
      " 50%|█████     | 487/973 [11:56<11:28,  1.42s/it]"
     ]
    },
    {
     "name": "stdout",
     "output_type": "stream",
     "text": [
      "Num intentos: 1, URL: https://es.linkedin.com/jobs/view/software-engineer-python-at-bling-4130153525?refId=gl%2Bd7kBz9WLFJeX%2Bk722Sg%3D%3D&trackingId=KkjSYEJdFWz6MJXrjjJpIA%3D%3D&position=4&pageNum=1\n",
      "------------------------------------------------\n"
     ]
    },
    {
     "name": "stderr",
     "output_type": "stream",
     "text": [
      " 50%|█████     | 488/973 [11:57<11:12,  1.39s/it]"
     ]
    },
    {
     "name": "stdout",
     "output_type": "stream",
     "text": [
      "Num intentos: 1, URL: https://es.linkedin.com/jobs/view/data-engineer-at-scalian-spain-4133368829?refId=gl%2Bd7kBz9WLFJeX%2Bk722Sg%3D%3D&trackingId=FN3H04v0IdsXntd2lH1wrA%3D%3D&position=9&pageNum=1\n",
      "------------------------------------------------\n"
     ]
    },
    {
     "name": "stderr",
     "output_type": "stream",
     "text": [
      " 50%|█████     | 489/973 [11:59<11:03,  1.37s/it]"
     ]
    },
    {
     "name": "stdout",
     "output_type": "stream",
     "text": [
      "Num intentos: 1, URL: https://es.linkedin.com/jobs/view/data-engineer-h%C3%ADbrido-madrid-at-sopra-steria-4132489778?refId=gl%2Bd7kBz9WLFJeX%2Bk722Sg%3D%3D&trackingId=2IkyeCUP1Z0RxFHBh9k5MQ%3D%3D&position=11&pageNum=1\n",
      "------------------------------------------------\n"
     ]
    },
    {
     "name": "stderr",
     "output_type": "stream",
     "text": [
      " 50%|█████     | 490/973 [12:00<10:55,  1.36s/it]"
     ]
    },
    {
     "name": "stdout",
     "output_type": "stream",
     "text": [
      "Num intentos: 1, URL: https://es.linkedin.com/jobs/view/ingeniero-de-datos-at-neotalent-conclusion-4132275263?refId=gl%2Bd7kBz9WLFJeX%2Bk722Sg%3D%3D&trackingId=4iyi90dH53mEOH3Qm%2FYB%2FA%3D%3D&position=17&pageNum=1\n",
      "------------------------------------------------\n"
     ]
    },
    {
     "name": "stderr",
     "output_type": "stream",
     "text": [
      " 50%|█████     | 491/973 [12:01<10:52,  1.35s/it]"
     ]
    },
    {
     "name": "stdout",
     "output_type": "stream",
     "text": [
      "Num intentos: 1, URL: https://es.linkedin.com/jobs/view/senior-data-engineer-google-cloud-at-capgemini-4132848455?refId=gl%2Bd7kBz9WLFJeX%2Bk722Sg%3D%3D&trackingId=Os1RvXA%2FZqdgR6K%2Bu9ptKg%3D%3D&position=19&pageNum=1\n",
      "------------------------------------------------\n"
     ]
    },
    {
     "name": "stderr",
     "output_type": "stream",
     "text": [
      " 51%|█████     | 492/973 [12:02<10:10,  1.27s/it]"
     ]
    },
    {
     "name": "stdout",
     "output_type": "stream",
     "text": [
      "Num intentos: 1, URL: https://es.linkedin.com/jobs/view/junior-data-analyst-at-labelium-espa%C3%B1a-4134420211?refId=JOY6haVz%2BavdFBx3hGjq%2BQ%3D%3D&trackingId=jJaauH8o9OyL%2BpBh7UwIiw%3D%3D&position=14&pageNum=2\n",
      "------------------------------------------------\n",
      "Num intentos: 1, URL: https://es.linkedin.com/jobs/view/analista-de-datos-at-shakers-4129619544?refId=JOY6haVz%2BavdFBx3hGjq%2BQ%3D%3D&trackingId=KbHd%2BvvL9miKA2t4zIPaxQ%3D%3D&position=16&pageNum=2\n"
     ]
    },
    {
     "name": "stderr",
     "output_type": "stream",
     "text": [
      " 51%|█████     | 493/973 [12:04<11:04,  1.38s/it]"
     ]
    },
    {
     "name": "stdout",
     "output_type": "stream",
     "text": [
      "------------------------------------------------\n"
     ]
    },
    {
     "name": "stderr",
     "output_type": "stream",
     "text": [
      " 51%|█████     | 494/973 [12:06<11:29,  1.44s/it]"
     ]
    },
    {
     "name": "stdout",
     "output_type": "stream",
     "text": [
      "Num intentos: 1, URL: https://es.linkedin.com/jobs/view/cloud-engineer-at-ing-espa%C3%B1a-portugal-4132075078?refId=JOY6haVz%2BavdFBx3hGjq%2BQ%3D%3D&trackingId=LC7Fy8iypMawoyFbev%2FyGA%3D%3D&position=23&pageNum=2\n",
      "------------------------------------------------\n"
     ]
    },
    {
     "name": "stderr",
     "output_type": "stream",
     "text": [
      " 51%|█████     | 495/973 [12:07<11:58,  1.50s/it]"
     ]
    },
    {
     "name": "stdout",
     "output_type": "stream",
     "text": [
      "Num intentos: 1, URL: https://es.linkedin.com/jobs/view/data-engineer-consultant-at-decide4ai-4130472074?refId=0lQEwrH3pQrcnHMZEPdE6Q%3D%3D&trackingId=NGBBtK%2FzeR%2BJzb25HBWy7A%3D%3D&position=1&pageNum=3\n",
      "------------------------------------------------\n"
     ]
    },
    {
     "name": "stderr",
     "output_type": "stream",
     "text": [
      " 51%|█████     | 496/973 [12:09<11:47,  1.48s/it]"
     ]
    },
    {
     "name": "stdout",
     "output_type": "stream",
     "text": [
      "Num intentos: 1, URL: https://es.linkedin.com/jobs/view/database-systems-engineer-at-centric-software-4132066805?refId=0lQEwrH3pQrcnHMZEPdE6Q%3D%3D&trackingId=toxX8oLUoVniDUSYIAsbvw%3D%3D&position=11&pageNum=3\n",
      "------------------------------------------------\n"
     ]
    },
    {
     "name": "stderr",
     "output_type": "stream",
     "text": [
      " 51%|█████     | 497/973 [12:10<11:40,  1.47s/it]"
     ]
    },
    {
     "name": "stdout",
     "output_type": "stream",
     "text": [
      "Num intentos: 1, URL: https://es.linkedin.com/jobs/view/ingeniero-a-de-datos-scala-kotlin-python-madrid-espa%C3%B1a-at-grupo-digital-4129221295?refId=0lQEwrH3pQrcnHMZEPdE6Q%3D%3D&trackingId=oegV7c6N5MhBB79qmX8Fig%3D%3D&position=20&pageNum=3\n",
      "------------------------------------------------\n"
     ]
    },
    {
     "name": "stderr",
     "output_type": "stream",
     "text": [
      " 51%|█████     | 498/973 [12:12<11:29,  1.45s/it]"
     ]
    },
    {
     "name": "stdout",
     "output_type": "stream",
     "text": [
      "Num intentos: 1, URL: https://es.linkedin.com/jobs/view/data-cloud-engineer-aws-azure-at-ntt-data-europe-latam-4084134296?refId=syd0D2KoXmexQAiehNkiZA%3D%3D&trackingId=hxxp5%2BzgCnAg3vuD4ED8RQ%3D%3D&position=7&pageNum=4\n",
      "------------------------------------------------\n"
     ]
    },
    {
     "name": "stderr",
     "output_type": "stream",
     "text": [
      " 51%|█████▏    | 499/973 [12:13<11:12,  1.42s/it]"
     ]
    },
    {
     "name": "stdout",
     "output_type": "stream",
     "text": [
      "Num intentos: 1, URL: https://es.linkedin.com/jobs/view/big-data-developer-%E2%80%93-hibrido-%E2%80%93-ingles-at-irium-4131331399?refId=syd0D2KoXmexQAiehNkiZA%3D%3D&trackingId=UvQh%2F6pT8RFQ5zdr9a7ajw%3D%3D&position=9&pageNum=4\n",
      "------------------------------------------------\n",
      "Num intentos: 1, URL: https://es.linkedin.com/jobs/view/data-engineer-developer-at-ad4-oct%C3%B3gono-4129285716?refId=syd0D2KoXmexQAiehNkiZA%3D%3D&trackingId=H%2BJodjWs7QcXG%2Bt0TiBBXw%3D%3D&position=18&pageNum=4\n"
     ]
    },
    {
     "name": "stderr",
     "output_type": "stream",
     "text": [
      " 51%|█████▏    | 500/973 [12:15<11:33,  1.47s/it]"
     ]
    },
    {
     "name": "stdout",
     "output_type": "stream",
     "text": [
      "------------------------------------------------\n"
     ]
    },
    {
     "name": "stderr",
     "output_type": "stream",
     "text": [
      " 51%|█████▏    | 501/973 [12:16<11:10,  1.42s/it]"
     ]
    },
    {
     "name": "stdout",
     "output_type": "stream",
     "text": [
      "Num intentos: 1, URL: https://es.linkedin.com/jobs/view/bigdata-developer-at-grupo-digital-4133286331?refId=syd0D2KoXmexQAiehNkiZA%3D%3D&trackingId=Oq2QiGs89zcC%2BwnPoMJN9w%3D%3D&position=22&pageNum=4\n",
      "------------------------------------------------\n"
     ]
    },
    {
     "name": "stderr",
     "output_type": "stream",
     "text": [
      " 52%|█████▏    | 502/973 [12:17<11:06,  1.41s/it]"
     ]
    },
    {
     "name": "stdout",
     "output_type": "stream",
     "text": [
      "Num intentos: 1, URL: https://es.linkedin.com/jobs/view/analista-de-datos-at-vass-4132089724?refId=NfI1oXKEWAziniZHawNbcA%3D%3D&trackingId=uJrPJThM6%2FnvM8b5pI8HzA%3D%3D&position=1&pageNum=5\n",
      "------------------------------------------------\n"
     ]
    },
    {
     "name": "stderr",
     "output_type": "stream",
     "text": [
      " 52%|█████▏    | 503/973 [12:18<10:37,  1.36s/it]"
     ]
    },
    {
     "name": "stdout",
     "output_type": "stream",
     "text": [
      "Num intentos: 1, URL: https://es.linkedin.com/jobs/view/machine-learning-engineer-madrid-barcelona-hybrid-at-twentyai-4132245212?refId=NfI1oXKEWAziniZHawNbcA%3D%3D&trackingId=ErCSDOF0mj1hMbX%2FsQ1WYA%3D%3D&position=5&pageNum=5\n",
      "------------------------------------------------\n"
     ]
    },
    {
     "name": "stderr",
     "output_type": "stream",
     "text": [
      " 52%|█████▏    | 504/973 [12:20<10:53,  1.39s/it]"
     ]
    },
    {
     "name": "stdout",
     "output_type": "stream",
     "text": [
      "Num intentos: 1, URL: https://es.linkedin.com/jobs/view/data-analyst-at-inkoova-4144163631?refId=NfI1oXKEWAziniZHawNbcA%3D%3D&trackingId=dBEPTTiT91W60dXYLB9Ayg%3D%3D&position=10&pageNum=5\n",
      "------------------------------------------------\n"
     ]
    },
    {
     "name": "stderr",
     "output_type": "stream",
     "text": [
      " 52%|█████▏    | 505/973 [12:21<10:57,  1.40s/it]"
     ]
    },
    {
     "name": "stdout",
     "output_type": "stream",
     "text": [
      "Num intentos: 1, URL: https://es.linkedin.com/jobs/view/senior-software-engineer-ssis-y-data-at-nubika-digital-inetum-group-4132333523?refId=NfI1oXKEWAziniZHawNbcA%3D%3D&trackingId=aoyg9bSDePLaxlBjjV068A%3D%3D&position=18&pageNum=5\n",
      "Error en el link: https://es.linkedin.com/jobs/view/senior-software-engineer-ssis-y-data-at-nubika-digital-inetum-group-4132333523?refId=NfI1oXKEWAziniZHawNbcA%3D%3D&trackingId=aoyg9bSDePLaxlBjjV068A%3D%3D&position=18&pageNum=5\n",
      "------------------------------------------------\n"
     ]
    },
    {
     "name": "stderr",
     "output_type": "stream",
     "text": [
      " 52%|█████▏    | 506/973 [12:23<10:25,  1.34s/it]"
     ]
    },
    {
     "name": "stdout",
     "output_type": "stream",
     "text": [
      "Num intentos: 1, URL: https://es.linkedin.com/jobs/view/big-data-developer-at-tata-consultancy-services-4131273616?refId=NfI1oXKEWAziniZHawNbcA%3D%3D&trackingId=bIi7U%2FJbLNn4M2%2FPNMNkhQ%3D%3D&position=21&pageNum=5\n",
      "------------------------------------------------\n"
     ]
    },
    {
     "name": "stderr",
     "output_type": "stream",
     "text": [
      " 52%|█████▏    | 507/973 [12:24<10:21,  1.33s/it]"
     ]
    },
    {
     "name": "stdout",
     "output_type": "stream",
     "text": [
      "Num intentos: 1, URL: https://es.linkedin.com/jobs/view/data-analyst-at-qualentum-4094678635?refId=qiJ6q4%2BjkVAGpjN7lVYm9g%3D%3D&trackingId=KFkfhht9J8eQPwz92oUUgg%3D%3D&position=11&pageNum=6\n",
      "------------------------------------------------\n",
      "Num intentos: 1, URL: https://es.linkedin.com/jobs/view/data-engineer-f-m-d-at-axpo-group-4131188789?refId=qiJ6q4%2BjkVAGpjN7lVYm9g%3D%3D&trackingId=lY2IjBETBi9G8WohrelsNw%3D%3D&position=13&pageNum=6\n"
     ]
    },
    {
     "name": "stderr",
     "output_type": "stream",
     "text": [
      " 52%|█████▏    | 508/973 [12:25<10:33,  1.36s/it]"
     ]
    },
    {
     "name": "stdout",
     "output_type": "stream",
     "text": [
      "------------------------------------------------\n"
     ]
    },
    {
     "name": "stderr",
     "output_type": "stream",
     "text": [
      " 52%|█████▏    | 509/973 [12:27<11:08,  1.44s/it]"
     ]
    },
    {
     "name": "stdout",
     "output_type": "stream",
     "text": [
      "Num intentos: 1, URL: https://es.linkedin.com/jobs/view/data-engineer-at-kyndryl-4078415262?refId=7mJssYg8XhxL6SCi8sFlZQ%3D%3D&trackingId=jaoDX40%2FR1IpWqgUzVh%2FPg%3D%3D&position=8&pageNum=7\n",
      "------------------------------------------------\n"
     ]
    },
    {
     "name": "stderr",
     "output_type": "stream",
     "text": [
      " 52%|█████▏    | 510/973 [12:28<10:52,  1.41s/it]"
     ]
    },
    {
     "name": "stdout",
     "output_type": "stream",
     "text": [
      "Num intentos: 1, URL: https://es.linkedin.com/jobs/view/lead-data-engineer-at-winning-4133346459?refId=7mJssYg8XhxL6SCi8sFlZQ%3D%3D&trackingId=XOedKy38is5wTjDNCXsshw%3D%3D&position=13&pageNum=7\n",
      "------------------------------------------------\n"
     ]
    },
    {
     "name": "stderr",
     "output_type": "stream",
     "text": [
      " 53%|█████▎    | 511/973 [12:30<10:44,  1.40s/it]"
     ]
    },
    {
     "name": "stdout",
     "output_type": "stream",
     "text": [
      "Num intentos: 1, URL: https://es.linkedin.com/jobs/view/senior-data-analyst-at-akuaro-4130144876?refId=XzILX%2FJyntX%2BslwEYSdfAA%3D%3D&trackingId=iXaU%2BH1vp8RArHV%2Ft3tPQg%3D%3D&position=5&pageNum=8\n",
      "------------------------------------------------\n"
     ]
    },
    {
     "name": "stderr",
     "output_type": "stream",
     "text": [
      " 53%|█████▎    | 512/973 [12:31<11:10,  1.46s/it]"
     ]
    },
    {
     "name": "stdout",
     "output_type": "stream",
     "text": [
      "Num intentos: 1, URL: https://es.linkedin.com/jobs/view/senior-cloud-system-engineer-at-pix4d-4131407222?refId=XzILX%2FJyntX%2BslwEYSdfAA%3D%3D&trackingId=BelVG36aYlmfVsS943vuaw%3D%3D&position=7&pageNum=8\n",
      "------------------------------------------------\n"
     ]
    },
    {
     "name": "stderr",
     "output_type": "stream",
     "text": [
      " 53%|█████▎    | 513/973 [12:33<11:03,  1.44s/it]"
     ]
    },
    {
     "name": "stdout",
     "output_type": "stream",
     "text": [
      "Num intentos: 1, URL: https://es.linkedin.com/jobs/view/arquitecto-de-datos-freelance-at-claire-joster-people-first-4132854076?refId=XzILX%2FJyntX%2BslwEYSdfAA%3D%3D&trackingId=rUGFGYFHK4r6OdZN07%2Fn7A%3D%3D&position=10&pageNum=8\n",
      "Error en el link: https://es.linkedin.com/jobs/view/arquitecto-de-datos-freelance-at-claire-joster-people-first-4132854076?refId=XzILX%2FJyntX%2BslwEYSdfAA%3D%3D&trackingId=rUGFGYFHK4r6OdZN07%2Fn7A%3D%3D&position=10&pageNum=8\n",
      "------------------------------------------------\n"
     ]
    },
    {
     "name": "stderr",
     "output_type": "stream",
     "text": [
      " 53%|█████▎    | 514/973 [12:34<10:40,  1.40s/it]"
     ]
    },
    {
     "name": "stdout",
     "output_type": "stream",
     "text": [
      "Num intentos: 1, URL: https://es.linkedin.com/jobs/view/senior-software-engineer-ssis-y-data-at-inetum-4131769787?refId=XzILX%2FJyntX%2BslwEYSdfAA%3D%3D&trackingId=g2dTyypAJJNPc2ha1uP2TQ%3D%3D&position=15&pageNum=8\n",
      "------------------------------------------------\n",
      "Num intentos: 1, URL: https://es.linkedin.com/jobs/view/beca-talentum-data-analyst-at-telef%C3%B3nica-4132585646?refId=zQtuxswf5sFpuL%2FkUwXZIw%3D%3D&trackingId=Ha0cO31K3njdZwIuC9DJNQ%3D%3D&position=5&pageNum=9\n"
     ]
    },
    {
     "name": "stderr",
     "output_type": "stream",
     "text": [
      " 53%|█████▎    | 515/973 [12:36<11:50,  1.55s/it]"
     ]
    },
    {
     "name": "stdout",
     "output_type": "stream",
     "text": [
      "------------------------------------------------\n"
     ]
    },
    {
     "name": "stderr",
     "output_type": "stream",
     "text": [
      " 53%|█████▎    | 516/973 [12:37<11:23,  1.49s/it]"
     ]
    },
    {
     "name": "stdout",
     "output_type": "stream",
     "text": [
      "Num intentos: 1, URL: https://es.linkedin.com/jobs/view/platform-engineer-sre-at-capgemini-4130125346?refId=zQtuxswf5sFpuL%2FkUwXZIw%3D%3D&trackingId=zD2J6EgtSsWRNFFfrwopnQ%3D%3D&position=12&pageNum=9\n",
      "------------------------------------------------\n"
     ]
    },
    {
     "name": "stderr",
     "output_type": "stream",
     "text": [
      " 53%|█████▎    | 517/973 [12:39<11:09,  1.47s/it]"
     ]
    },
    {
     "name": "stdout",
     "output_type": "stream",
     "text": [
      "Num intentos: 1, URL: https://es.linkedin.com/jobs/view/software-engineer-frontend-temporary-at-ing-espa%C3%B1a-portugal-4132079621?refId=zQtuxswf5sFpuL%2FkUwXZIw%3D%3D&trackingId=96vWMwOSQ0IX2XWWrcL3Qg%3D%3D&position=14&pageNum=9\n",
      "------------------------------------------------\n"
     ]
    },
    {
     "name": "stderr",
     "output_type": "stream",
     "text": [
      " 53%|█████▎    | 518/973 [12:40<10:57,  1.44s/it]"
     ]
    },
    {
     "name": "stdout",
     "output_type": "stream",
     "text": [
      "Num intentos: 1, URL: https://es.linkedin.com/jobs/view/data-engineer-con-aws-at-irium-4130241597?refId=zQtuxswf5sFpuL%2FkUwXZIw%3D%3D&trackingId=V3Ycx2HfWkD0jzhOHuMjAQ%3D%3D&position=15&pageNum=9\n",
      "------------------------------------------------\n"
     ]
    },
    {
     "name": "stderr",
     "output_type": "stream",
     "text": [
      " 53%|█████▎    | 519/973 [12:42<11:06,  1.47s/it]"
     ]
    },
    {
     "name": "stdout",
     "output_type": "stream",
     "text": [
      "Num intentos: 1, URL: https://es.linkedin.com/jobs/view/ingeniero-a-de-datos-scala-apache-spark-at-segula-technologies-4130428875?refId=zQtuxswf5sFpuL%2FkUwXZIw%3D%3D&trackingId=VwoW%2FJMzkkWy6rEthKob5Q%3D%3D&position=20&pageNum=9\n",
      "------------------------------------------------\n"
     ]
    },
    {
     "name": "stderr",
     "output_type": "stream",
     "text": [
      " 53%|█████▎    | 520/973 [12:43<11:20,  1.50s/it]"
     ]
    },
    {
     "name": "stdout",
     "output_type": "stream",
     "text": [
      "Num intentos: 1, URL: https://es.linkedin.com/jobs/view/senior-data-engineer-at-tomtom-4134407884?refId=zQtuxswf5sFpuL%2FkUwXZIw%3D%3D&trackingId=CoGbQ8FbINIzlD1cZTuQYw%3D%3D&position=23&pageNum=9\n",
      "------------------------------------------------\n",
      "Num intentos: 1, URL: https://es.linkedin.com/jobs/view/data-engineer-con-aws-at-irium-4130241597?refId=lLfUMnXEaEcpWjyocCqvfg%3D%3D&trackingId=g0SJt%2BrMPtKx6ixy2dEOYA%3D%3D&position=2&pageNum=10\n"
     ]
    },
    {
     "name": "stderr",
     "output_type": "stream",
     "text": [
      " 54%|█████▎    | 521/973 [12:45<11:22,  1.51s/it]"
     ]
    },
    {
     "name": "stdout",
     "output_type": "stream",
     "text": [
      "------------------------------------------------\n"
     ]
    },
    {
     "name": "stderr",
     "output_type": "stream",
     "text": [
      " 54%|█████▎    | 522/973 [12:46<11:05,  1.48s/it]"
     ]
    },
    {
     "name": "stdout",
     "output_type": "stream",
     "text": [
      "Num intentos: 1, URL: https://es.linkedin.com/jobs/view/software-and-system-test-engineer-at-autek-ingenier%C3%ADa-4036440922?refId=lLfUMnXEaEcpWjyocCqvfg%3D%3D&trackingId=%2Fa3De919Rg9C93l8%2FCAs%2Fw%3D%3D&position=3&pageNum=10\n",
      "------------------------------------------------\n"
     ]
    },
    {
     "name": "stderr",
     "output_type": "stream",
     "text": [
      " 54%|█████▍    | 523/973 [12:47<10:58,  1.46s/it]"
     ]
    },
    {
     "name": "stdout",
     "output_type": "stream",
     "text": [
      "Num intentos: 1, URL: https://es.linkedin.com/jobs/view/senior-software-engineer-at-huspy-4131364225?refId=lLfUMnXEaEcpWjyocCqvfg%3D%3D&trackingId=9h2OcRSGDXEVemPOXp7aOg%3D%3D&position=5&pageNum=10\n",
      "------------------------------------------------\n"
     ]
    },
    {
     "name": "stderr",
     "output_type": "stream",
     "text": [
      " 54%|█████▍    | 524/973 [12:49<10:59,  1.47s/it]"
     ]
    },
    {
     "name": "stdout",
     "output_type": "stream",
     "text": [
      "Num intentos: 1, URL: https://es.linkedin.com/jobs/view/consultor-a-sas-ingeniero-a-de-datos-at-izertis-4132827768?refId=lLfUMnXEaEcpWjyocCqvfg%3D%3D&trackingId=cAxQ5Obw0m7PfpMP0YDdNQ%3D%3D&position=6&pageNum=10\n",
      "------------------------------------------------\n"
     ]
    },
    {
     "name": "stderr",
     "output_type": "stream",
     "text": [
      " 54%|█████▍    | 525/973 [12:50<10:46,  1.44s/it]"
     ]
    },
    {
     "name": "stdout",
     "output_type": "stream",
     "text": [
      "Num intentos: 1, URL: https://es.linkedin.com/jobs/view/jr-software-development-engineer-madrid-at-amazon-4131365424?refId=jj4UbOc%2FecseE2pKr2PGiw%3D%3D&trackingId=cYa0wvlRWl2zlhkZGL6b6g%3D%3D&position=6&pageNum=11\n",
      "------------------------------------------------\n"
     ]
    },
    {
     "name": "stderr",
     "output_type": "stream",
     "text": [
      " 54%|█████▍    | 526/973 [12:52<10:42,  1.44s/it]"
     ]
    },
    {
     "name": "stdout",
     "output_type": "stream",
     "text": [
      "Num intentos: 1, URL: https://es.linkedin.com/jobs/view/software-engineer-spain-at-cubic-telecom-4130882640?refId=jj4UbOc%2FecseE2pKr2PGiw%3D%3D&trackingId=Wr%2B1d033%2Fs%2FUYvwoHRDfYQ%3D%3D&position=9&pageNum=11\n",
      "------------------------------------------------\n"
     ]
    },
    {
     "name": "stderr",
     "output_type": "stream",
     "text": [
      " 54%|█████▍    | 527/973 [12:53<10:43,  1.44s/it]"
     ]
    },
    {
     "name": "stdout",
     "output_type": "stream",
     "text": [
      "Num intentos: 1, URL: https://es.linkedin.com/jobs/view/data-analyst-commissions-at-planet-4129888318?refId=jj4UbOc%2FecseE2pKr2PGiw%3D%3D&trackingId=B9dHKmyudIVxVcvn30rUXw%3D%3D&position=10&pageNum=11\n",
      "------------------------------------------------\n"
     ]
    },
    {
     "name": "stderr",
     "output_type": "stream",
     "text": [
      " 54%|█████▍    | 528/973 [12:54<10:06,  1.36s/it]"
     ]
    },
    {
     "name": "stdout",
     "output_type": "stream",
     "text": [
      "Num intentos: 1, URL: https://es.linkedin.com/jobs/view/analista-programador-a-modelado-de-datos-at-ayesa-4129455902?refId=jj4UbOc%2FecseE2pKr2PGiw%3D%3D&trackingId=s08VpbDCvyoPGOHlmjBmGA%3D%3D&position=21&pageNum=11\n",
      "------------------------------------------------\n"
     ]
    },
    {
     "name": "stderr",
     "output_type": "stream",
     "text": [
      " 54%|█████▍    | 529/973 [12:56<09:51,  1.33s/it]"
     ]
    },
    {
     "name": "stdout",
     "output_type": "stream",
     "text": [
      "Num intentos: 1, URL: https://es.linkedin.com/jobs/view/data-collection-engineer-consultant-at-jakala-4129212066?refId=jj4UbOc%2FecseE2pKr2PGiw%3D%3D&trackingId=vb7keon%2Btg2UVLe0DHitMA%3D%3D&position=25&pageNum=11\n",
      "------------------------------------------------\n"
     ]
    },
    {
     "name": "stderr",
     "output_type": "stream",
     "text": [
      " 54%|█████▍    | 530/973 [12:57<10:06,  1.37s/it]"
     ]
    },
    {
     "name": "stdout",
     "output_type": "stream",
     "text": [
      "Num intentos: 1, URL: https://es.linkedin.com/jobs/view/data-analyst-tableau-at-pepper-advantage-4130155246?refId=1gxsBjCoxyvxl5YEGDjwHQ%3D%3D&trackingId=5yLdDcaEbCv%2F92J1iiP7hQ%3D%3D&position=4&pageNum=12\n",
      "------------------------------------------------\n"
     ]
    },
    {
     "name": "stderr",
     "output_type": "stream",
     "text": [
      " 55%|█████▍    | 531/973 [12:58<09:45,  1.32s/it]"
     ]
    },
    {
     "name": "stdout",
     "output_type": "stream",
     "text": [
      "Num intentos: 1, URL: https://es.linkedin.com/jobs/view/system-administration-and-web-services-engineer-at-ntt-data-inc-4133029707?refId=1gxsBjCoxyvxl5YEGDjwHQ%3D%3D&trackingId=V5%2B0hn4awdzWruM8VErrCg%3D%3D&position=6&pageNum=12\n",
      "------------------------------------------------\n"
     ]
    },
    {
     "name": "stderr",
     "output_type": "stream",
     "text": [
      " 55%|█████▍    | 532/973 [13:00<10:14,  1.39s/it]"
     ]
    },
    {
     "name": "stdout",
     "output_type": "stream",
     "text": [
      "Num intentos: 1, URL: https://es.linkedin.com/jobs/view/database-engineer-m-f-d-at-basf-4129253908?refId=1gxsBjCoxyvxl5YEGDjwHQ%3D%3D&trackingId=1%2BLpXS0t2jENINjxhdF3WQ%3D%3D&position=9&pageNum=12\n",
      "------------------------------------------------\n",
      "Num intentos: 1, URL: https://es.linkedin.com/jobs/view/t%C3%A9cnico-a-en-inteligencia-de-negocio-con-tecnolog%C3%ADa-microsoft-at-uci-uni%C3%B3n-de-cr%C3%A9ditos-inmobiliarios-4132526920?refId=1gxsBjCoxyvxl5YEGDjwHQ%3D%3D&trackingId=gB1zWVwJSnCCehu5UNMD0w%3D%3D&position=15&pageNum=12\n"
     ]
    },
    {
     "name": "stderr",
     "output_type": "stream",
     "text": [
      " 55%|█████▍    | 533/973 [13:01<09:47,  1.33s/it]"
     ]
    },
    {
     "name": "stdout",
     "output_type": "stream",
     "text": [
      "------------------------------------------------\n",
      "Num intentos: 1, URL: https://es.linkedin.com/jobs/view/analista-de-datos-en-planta-de-producci%C3%B3n-farmac%C3%A9utica-at-eli-lilly-and-company-4129605919?refId=WE0nbdRCjRzYQ%2BMa7Jlfcw%3D%3D&trackingId=Y4MZGNV4%2Bf31femmhIUbVg%3D%3D&position=14&pageNum=13\n"
     ]
    },
    {
     "name": "stderr",
     "output_type": "stream",
     "text": [
      " 55%|█████▍    | 534/973 [13:03<10:35,  1.45s/it]"
     ]
    },
    {
     "name": "stdout",
     "output_type": "stream",
     "text": [
      "------------------------------------------------\n",
      "Num intentos: 1, URL: https://es.linkedin.com/jobs/view/software-engineer-at-astek-4133038548?refId=WE0nbdRCjRzYQ%2BMa7Jlfcw%3D%3D&trackingId=nAsA6JUXF5F3nXpdURdpEA%3D%3D&position=16&pageNum=13\n"
     ]
    },
    {
     "name": "stderr",
     "output_type": "stream",
     "text": [
      " 55%|█████▍    | 535/973 [13:05<11:14,  1.54s/it]"
     ]
    },
    {
     "name": "stdout",
     "output_type": "stream",
     "text": [
      "------------------------------------------------\n",
      "Num intentos: 1, URL: https://es.linkedin.com/jobs/view/business-intelligence-support-at-randstad-4129185772?refId=WE0nbdRCjRzYQ%2BMa7Jlfcw%3D%3D&trackingId=5%2FfGh2m6YqLgSMWSuisqeQ%3D%3D&position=20&pageNum=13\n"
     ]
    },
    {
     "name": "stderr",
     "output_type": "stream",
     "text": [
      " 55%|█████▌    | 536/973 [13:07<12:20,  1.69s/it]"
     ]
    },
    {
     "name": "stdout",
     "output_type": "stream",
     "text": [
      "------------------------------------------------\n",
      "Num intentos: 1, URL: https://es.linkedin.com/jobs/view/intern-data-research-at-clarity-ai-4132265660?refId=RdedVh4j8Ltwj0EyXoSKYA%3D%3D&trackingId=v8g41iEagjHUXwP0LsiGew%3D%3D&position=3&pageNum=14\n"
     ]
    },
    {
     "name": "stderr",
     "output_type": "stream",
     "text": [
      " 55%|█████▌    | 537/973 [13:09<14:39,  2.02s/it]"
     ]
    },
    {
     "name": "stdout",
     "output_type": "stream",
     "text": [
      "------------------------------------------------\n",
      "Num intentos: 1, URL: https://es.linkedin.com/jobs/view/desarrollador-a-bbdd-oracle-modelo-de-datos-at-inetum-4129181798?refId=RdedVh4j8Ltwj0EyXoSKYA%3D%3D&trackingId=5pScqweaj8ULt5t%2BCPRGrQ%3D%3D&position=7&pageNum=14\n"
     ]
    },
    {
     "name": "stderr",
     "output_type": "stream",
     "text": [
      " 55%|█████▌    | 538/973 [13:12<15:08,  2.09s/it]"
     ]
    },
    {
     "name": "stdout",
     "output_type": "stream",
     "text": [
      "------------------------------------------------\n",
      "Num intentos: 1, URL: https://es.linkedin.com/jobs/view/system-security-engineer-at-bme-bolsas-y-mercados-espa%C3%B1oles-4130417412?refId=RdedVh4j8Ltwj0EyXoSKYA%3D%3D&trackingId=3SKZAkmZT836lBJqFCJP2A%3D%3D&position=20&pageNum=14\n"
     ]
    },
    {
     "name": "stderr",
     "output_type": "stream",
     "text": [
      " 55%|█████▌    | 539/973 [13:14<15:02,  2.08s/it]"
     ]
    },
    {
     "name": "stdout",
     "output_type": "stream",
     "text": [
      "------------------------------------------------\n",
      "Num intentos: 1, URL: https://es.linkedin.com/jobs/view/senior-software-engineer-at-ascertia-%E2%80%93-an-infocert-company-4132062209?refId=RdedVh4j8Ltwj0EyXoSKYA%3D%3D&trackingId=dttCNFxTxoGIuFAlfvuvAQ%3D%3D&position=24&pageNum=14\n"
     ]
    },
    {
     "name": "stderr",
     "output_type": "stream",
     "text": [
      " 55%|█████▌    | 540/973 [13:15<14:22,  1.99s/it]"
     ]
    },
    {
     "name": "stdout",
     "output_type": "stream",
     "text": [
      "------------------------------------------------\n",
      "Num intentos: 1, URL: https://es.linkedin.com/jobs/view/data-manager-at-ioon-4132878136?refId=kEewYSP0sda%2BAS9qJ05byw%3D%3D&trackingId=%2FR5EbWxTvhLeLKs2hdZQvw%3D%3D&position=13&pageNum=15\n"
     ]
    },
    {
     "name": "stderr",
     "output_type": "stream",
     "text": [
      " 56%|█████▌    | 541/973 [13:17<14:15,  1.98s/it]"
     ]
    },
    {
     "name": "stdout",
     "output_type": "stream",
     "text": [
      "------------------------------------------------\n",
      "Num intentos: 1, URL: https://es.linkedin.com/jobs/view/power-bi-sql-consultant-at-vass-4132708319?refId=kEewYSP0sda%2BAS9qJ05byw%3D%3D&trackingId=pY06ov%2FtSNCxjrtuNyec9Q%3D%3D&position=18&pageNum=15\n"
     ]
    },
    {
     "name": "stderr",
     "output_type": "stream",
     "text": [
      " 56%|█████▌    | 542/973 [13:19<13:27,  1.87s/it]"
     ]
    },
    {
     "name": "stdout",
     "output_type": "stream",
     "text": [
      "------------------------------------------------\n",
      "Num intentos: 1, URL: https://es.linkedin.com/jobs/view/software-engineer-python-golang-kubernetes-at-canonical-4131916306?refId=xAOfEyQvsTybZp6n8A%2B4ZA%3D%3D&trackingId=DIoljYw7o91mn7pphP8ewg%3D%3D&position=12&pageNum=16\n"
     ]
    },
    {
     "name": "stderr",
     "output_type": "stream",
     "text": [
      " 56%|█████▌    | 543/973 [13:22<14:54,  2.08s/it]"
     ]
    },
    {
     "name": "stdout",
     "output_type": "stream",
     "text": [
      "------------------------------------------------\n",
      "Num intentos: 1, URL: https://es.linkedin.com/jobs/view/analista-bi-at-reale-seguros-4115454100?refId=xAOfEyQvsTybZp6n8A%2B4ZA%3D%3D&trackingId=DASSALnkc0GImhg7%2BVWWXw%3D%3D&position=13&pageNum=16\n"
     ]
    },
    {
     "name": "stderr",
     "output_type": "stream",
     "text": [
      " 56%|█████▌    | 544/973 [13:23<13:39,  1.91s/it]"
     ]
    },
    {
     "name": "stdout",
     "output_type": "stream",
     "text": [
      "------------------------------------------------\n",
      "Num intentos: 1, URL: https://es.linkedin.com/jobs/view/software-engineer-python-golang-kubernetes-at-canonical-4131919384?refId=xAOfEyQvsTybZp6n8A%2B4ZA%3D%3D&trackingId=6m0%2BPEM3bttUwJMtDhuJmg%3D%3D&position=19&pageNum=16\n"
     ]
    },
    {
     "name": "stderr",
     "output_type": "stream",
     "text": [
      " 56%|█████▌    | 545/973 [13:25<13:06,  1.84s/it]"
     ]
    },
    {
     "name": "stdout",
     "output_type": "stream",
     "text": [
      "------------------------------------------------\n",
      "Num intentos: 1, URL: https://es.linkedin.com/jobs/view/software-engineer-java-or-c%23-at-ips-group-4130505040?refId=xAOfEyQvsTybZp6n8A%2B4ZA%3D%3D&trackingId=nRrqRvUZecN4Htga%2BcHlHg%3D%3D&position=23&pageNum=16\n"
     ]
    },
    {
     "name": "stderr",
     "output_type": "stream",
     "text": [
      " 56%|█████▌    | 546/973 [13:26<12:45,  1.79s/it]"
     ]
    },
    {
     "name": "stdout",
     "output_type": "stream",
     "text": [
      "------------------------------------------------\n",
      "Num intentos: 1, URL: https://es.linkedin.com/jobs/view/analista-bi-at-hays-4133034552?refId=5iMqGO1%2FHzfh4hS6zDhIBw%3D%3D&trackingId=7VOwDizW8X6%2FIw2LxO1dyg%3D%3D&position=5&pageNum=17\n"
     ]
    },
    {
     "name": "stderr",
     "output_type": "stream",
     "text": [
      " 56%|█████▌    | 547/973 [13:28<11:39,  1.64s/it]"
     ]
    },
    {
     "name": "stdout",
     "output_type": "stream",
     "text": [
      "------------------------------------------------\n",
      "Num intentos: 1, URL: https://es.linkedin.com/jobs/view/database-devops-infrastructure-engineer-at-roche-4132537384?refId=5iMqGO1%2FHzfh4hS6zDhIBw%3D%3D&trackingId=XcdGNFFAP%2ByaxtbKSG7m7Q%3D%3D&position=9&pageNum=17\n"
     ]
    },
    {
     "name": "stderr",
     "output_type": "stream",
     "text": [
      " 56%|█████▋    | 548/973 [13:30<11:55,  1.68s/it]"
     ]
    },
    {
     "name": "stdout",
     "output_type": "stream",
     "text": [
      "------------------------------------------------\n",
      "Num intentos: 1, URL: https://es.linkedin.com/jobs/view/pam-system-engineer-at-bme-bolsas-y-mercados-espa%C3%B1oles-4130420413?refId=FdMdL4No5nsuHtAaKxXehg%3D%3D&trackingId=0Y8IaVRJz%2FpnhcRpAmeYoQ%3D%3D&position=7&pageNum=18\n"
     ]
    },
    {
     "name": "stderr",
     "output_type": "stream",
     "text": [
      " 56%|█████▋    | 549/973 [13:31<11:44,  1.66s/it]"
     ]
    },
    {
     "name": "stdout",
     "output_type": "stream",
     "text": [
      "------------------------------------------------\n",
      "Num intentos: 1, URL: https://es.linkedin.com/jobs/view/data-insights-intern-at-signify-4130427743?refId=FdMdL4No5nsuHtAaKxXehg%3D%3D&trackingId=hJT8Bzju0Vom4xs3grYEsA%3D%3D&position=8&pageNum=18\n"
     ]
    },
    {
     "name": "stderr",
     "output_type": "stream",
     "text": [
      " 57%|█████▋    | 550/973 [13:34<14:00,  1.99s/it]"
     ]
    },
    {
     "name": "stdout",
     "output_type": "stream",
     "text": [
      "------------------------------------------------\n",
      "Num intentos: 1, URL: https://es.linkedin.com/jobs/view/arlo-europe-data-analyst-intern-at-verisure-4130430579?refId=FdMdL4No5nsuHtAaKxXehg%3D%3D&trackingId=qUhtRxSolBhLDKHuCjvd4g%3D%3D&position=24&pageNum=18\n"
     ]
    },
    {
     "name": "stderr",
     "output_type": "stream",
     "text": [
      " 57%|█████▋    | 551/973 [13:36<15:09,  2.16s/it]"
     ]
    },
    {
     "name": "stdout",
     "output_type": "stream",
     "text": [
      "------------------------------------------------\n",
      "Num intentos: 1, URL: https://es.linkedin.com/jobs/view/data-architect-at-siemens-gamesa-4129245712?refId=jlTvqtUYEFUTXMPpb2kHVA%3D%3D&trackingId=q42yk89xpG8b6VL68qEwSQ%3D%3D&position=16&pageNum=19\n"
     ]
    },
    {
     "name": "stderr",
     "output_type": "stream",
     "text": [
      " 57%|█████▋    | 552/973 [13:39<16:35,  2.36s/it]"
     ]
    },
    {
     "name": "stdout",
     "output_type": "stream",
     "text": [
      "------------------------------------------------\n",
      "Num intentos: 1, URL: https://es.linkedin.com/jobs/view/data-architect-at-siemens-gamesa-4129245712?refId=RVoI%2BWwn15hCaFEnz4TWeA%3D%3D&trackingId=IJoEMm4oT60WRkiGwG6CEA%3D%3D&position=2&pageNum=20\n"
     ]
    },
    {
     "name": "stderr",
     "output_type": "stream",
     "text": [
      " 57%|█████▋    | 553/973 [13:41<15:20,  2.19s/it]"
     ]
    },
    {
     "name": "stdout",
     "output_type": "stream",
     "text": [
      "------------------------------------------------\n",
      "Num intentos: 1, URL: https://es.linkedin.com/jobs/view/software-engineer-at-allot-4129476410?refId=RVoI%2BWwn15hCaFEnz4TWeA%3D%3D&trackingId=4nQR05Bevo2wlPrFhnyEzw%3D%3D&position=17&pageNum=20\n"
     ]
    },
    {
     "name": "stderr",
     "output_type": "stream",
     "text": [
      " 57%|█████▋    | 554/973 [13:43<14:04,  2.01s/it]"
     ]
    },
    {
     "name": "stdout",
     "output_type": "stream",
     "text": [
      "------------------------------------------------\n",
      "Num intentos: 1, URL: https://es.linkedin.com/jobs/view/2025-software-dev-engineer-intern-spain-at-amazon-4131362754?refId=RVoI%2BWwn15hCaFEnz4TWeA%3D%3D&trackingId=vmN1hEKrv8suXDrmR8kebQ%3D%3D&position=20&pageNum=20\n"
     ]
    },
    {
     "name": "stderr",
     "output_type": "stream",
     "text": [
      " 57%|█████▋    | 555/973 [13:44<12:33,  1.80s/it]"
     ]
    },
    {
     "name": "stdout",
     "output_type": "stream",
     "text": [
      "------------------------------------------------\n",
      "Num intentos: 1, URL: https://es.linkedin.com/jobs/view/senior-consultant-data-and-analytics-at-turner-townsend-4133540808?refId=LtGvNDRbIiqTwa1XzDQk5w%3D%3D&trackingId=YfdEJVauDjxx1rUzLuFUFA%3D%3D&position=16&pageNum=21\n"
     ]
    },
    {
     "name": "stderr",
     "output_type": "stream",
     "text": [
      " 57%|█████▋    | 556/973 [13:46<12:03,  1.73s/it]"
     ]
    },
    {
     "name": "stdout",
     "output_type": "stream",
     "text": [
      "------------------------------------------------\n",
      "Num intentos: 1, URL: https://es.linkedin.com/jobs/view/software-engineer-java-relocation-to-poland-portugal-or-spain-at-revolut-3845484992?refId=LtGvNDRbIiqTwa1XzDQk5w%3D%3D&trackingId=zBZ%2FuBc3bxuvx7f2FXWYkA%3D%3D&position=23&pageNum=21\n"
     ]
    },
    {
     "name": "stderr",
     "output_type": "stream",
     "text": [
      " 57%|█████▋    | 557/973 [13:48<12:52,  1.86s/it]"
     ]
    },
    {
     "name": "stdout",
     "output_type": "stream",
     "text": [
      "------------------------------------------------\n",
      "Num intentos: 1, URL: https://es.linkedin.com/jobs/view/egnos-system-engineer-at-expleo-group-4133376402?refId=LtGvNDRbIiqTwa1XzDQk5w%3D%3D&trackingId=qQqMy%2F1cuMuMzVzqv3stqA%3D%3D&position=25&pageNum=21\n"
     ]
    },
    {
     "name": "stderr",
     "output_type": "stream",
     "text": [
      " 57%|█████▋    | 558/973 [13:49<11:56,  1.73s/it]"
     ]
    },
    {
     "name": "stdout",
     "output_type": "stream",
     "text": [
      "------------------------------------------------\n",
      "Num intentos: 1, URL: https://es.linkedin.com/jobs/view/senior-software-engineer-spain-at-telgorithm-4131327541?refId=mXSy218UvW9GMbgT3jByKg%3D%3D&trackingId=0aIIUaBkyJuqHN%2B%2FqyYoeg%3D%3D&position=3&pageNum=22\n"
     ]
    },
    {
     "name": "stderr",
     "output_type": "stream",
     "text": [
      " 57%|█████▋    | 559/973 [13:51<12:06,  1.75s/it]"
     ]
    },
    {
     "name": "stdout",
     "output_type": "stream",
     "text": [
      "------------------------------------------------\n",
      "Num intentos: 1, URL: https://es.linkedin.com/jobs/view/senior-software-engineer-at-twinred-4134421209?refId=6iugOUKVCcIlzIMTSgbc4A%3D%3D&trackingId=EWuprqgPsff9Dx%2BpTn0PlQ%3D%3D&position=18&pageNum=23\n"
     ]
    },
    {
     "name": "stderr",
     "output_type": "stream",
     "text": [
      " 58%|█████▊    | 560/973 [13:53<11:41,  1.70s/it]"
     ]
    },
    {
     "name": "stdout",
     "output_type": "stream",
     "text": [
      "------------------------------------------------\n",
      "Num intentos: 1, URL: https://es.linkedin.com/jobs/view/senior-software-engineer-qualcomm-xr-labs-europe-madrid-spain-at-qualcomm-4131751245?refId=6nUlb6gH8Ge0cwv7vGKOxQ%3D%3D&trackingId=uWrHLYCjBj5EhUM8ZjEOrg%3D%3D&position=20&pageNum=24\n"
     ]
    },
    {
     "name": "stderr",
     "output_type": "stream",
     "text": [
      " 58%|█████▊    | 561/973 [13:54<11:43,  1.71s/it]"
     ]
    },
    {
     "name": "stdout",
     "output_type": "stream",
     "text": [
      "------------------------------------------------\n",
      "Num intentos: 1, URL: https://es.linkedin.com/jobs/view/software-development-engineer-amazon-business-at-amazon-4133617836?refId=6nUlb6gH8Ge0cwv7vGKOxQ%3D%3D&trackingId=eiCGuRb5F%2FzexidpzxRNoA%3D%3D&position=23&pageNum=24\n"
     ]
    },
    {
     "name": "stderr",
     "output_type": "stream",
     "text": [
      " 58%|█████▊    | 562/973 [13:56<11:53,  1.74s/it]"
     ]
    },
    {
     "name": "stdout",
     "output_type": "stream",
     "text": [
      "------------------------------------------------\n",
      "Num intentos: 1, URL: https://es.linkedin.com/jobs/view/validation-and-verification-software-engineer-for-galileo-at-gmv-3971219992?refId=xndk4q%2FZdLhddgb2PRN9DQ%3D%3D&trackingId=vNhv6pgkFDSSq5DYGDm5rg%3D%3D&position=4&pageNum=25\n"
     ]
    },
    {
     "name": "stderr",
     "output_type": "stream",
     "text": [
      " 58%|█████▊    | 563/973 [13:58<11:57,  1.75s/it]"
     ]
    },
    {
     "name": "stdout",
     "output_type": "stream",
     "text": [
      "------------------------------------------------\n",
      "Num intentos: 1, URL: https://es.linkedin.com/jobs/view/devops-engineer-cloud-hybrid-at-siemens-4113624098?refId=xndk4q%2FZdLhddgb2PRN9DQ%3D%3D&trackingId=sCDadfSpupmT4xuBrmrKUA%3D%3D&position=11&pageNum=25\n"
     ]
    },
    {
     "name": "stderr",
     "output_type": "stream",
     "text": [
      " 58%|█████▊    | 564/973 [14:00<11:52,  1.74s/it]"
     ]
    },
    {
     "name": "stdout",
     "output_type": "stream",
     "text": [
      "------------------------------------------------\n",
      "Num intentos: 1, URL: https://es.linkedin.com/jobs/view/data-scientist-spain-at-allot-4130412457?refId=xndk4q%2FZdLhddgb2PRN9DQ%3D%3D&trackingId=nyNzprXA%2Fa3%2F%2B7BPTUzmuw%3D%3D&position=21&pageNum=25\n"
     ]
    },
    {
     "name": "stderr",
     "output_type": "stream",
     "text": [
      " 58%|█████▊    | 565/973 [14:01<11:19,  1.67s/it]"
     ]
    },
    {
     "name": "stdout",
     "output_type": "stream",
     "text": [
      "------------------------------------------------\n",
      "Num intentos: 1, URL: https://es.linkedin.com/jobs/view/embedded-software-engineer-at-orbital-paradigm-4132133943?refId=%2Fq8IkmAC8FsOi3L4LWt3mA%3D%3D&trackingId=8uK2SVEELXZkCaOHLooKVg%3D%3D&position=4&pageNum=26\n"
     ]
    },
    {
     "name": "stderr",
     "output_type": "stream",
     "text": [
      " 58%|█████▊    | 566/973 [14:02<10:16,  1.52s/it]"
     ]
    },
    {
     "name": "stdout",
     "output_type": "stream",
     "text": [
      "------------------------------------------------\n",
      "Num intentos: 1, URL: https://es.linkedin.com/jobs/view/embedded-software-engineer-at-thales-4130442413?refId=%2Fq8IkmAC8FsOi3L4LWt3mA%3D%3D&trackingId=7eZDnU2L8NxtcO%2BaoQ3Xow%3D%3D&position=8&pageNum=26\n"
     ]
    },
    {
     "name": "stderr",
     "output_type": "stream",
     "text": [
      " 58%|█████▊    | 567/973 [14:04<10:43,  1.58s/it]"
     ]
    },
    {
     "name": "stdout",
     "output_type": "stream",
     "text": [
      "------------------------------------------------\n",
      "Num intentos: 1, URL: https://es.linkedin.com/jobs/view/cient%C3%ADfico-de-datos-at-bcas-4129453407?refId=%2Fq8IkmAC8FsOi3L4LWt3mA%3D%3D&trackingId=vOgklGgbJTNAHqQ1Jc7BPA%3D%3D&position=12&pageNum=26\n"
     ]
    },
    {
     "name": "stderr",
     "output_type": "stream",
     "text": [
      " 58%|█████▊    | 568/973 [14:05<10:33,  1.56s/it]"
     ]
    },
    {
     "name": "stdout",
     "output_type": "stream",
     "text": [
      "------------------------------------------------\n",
      "Num intentos: 1, URL: https://es.linkedin.com/jobs/view/front-end-software-engineer-hybrid-setup-at-iptiq-by-swiss-re-4129199223?refId=%2Fq8IkmAC8FsOi3L4LWt3mA%3D%3D&trackingId=cZgIiMkz%2Brl8fdLhi53EiQ%3D%3D&position=20&pageNum=26\n"
     ]
    },
    {
     "name": "stderr",
     "output_type": "stream",
     "text": [
      " 58%|█████▊    | 569/973 [14:07<10:35,  1.57s/it]"
     ]
    },
    {
     "name": "stdout",
     "output_type": "stream",
     "text": [
      "------------------------------------------------\n",
      "Num intentos: 1, URL: https://es.linkedin.com/jobs/view/system-design-engineer-at-hitachi-energy-4133293121?refId=ayqrf6i0IBZ5ivdHUm4zEw%3D%3D&trackingId=T%2FxGSZiqnn0p2iSOKBx4Mw%3D%3D&position=6&pageNum=27\n"
     ]
    },
    {
     "name": "stderr",
     "output_type": "stream",
     "text": [
      " 59%|█████▊    | 570/973 [14:09<10:58,  1.63s/it]"
     ]
    },
    {
     "name": "stdout",
     "output_type": "stream",
     "text": [
      "------------------------------------------------\n",
      "Num intentos: 1, URL: https://es.linkedin.com/jobs/view/data-scientist-at-plenitude-espa%C3%B1a-4133523039?refId=ayqrf6i0IBZ5ivdHUm4zEw%3D%3D&trackingId=0y%2FLmCUcuh2EtpOtk4QN5A%3D%3D&position=14&pageNum=27\n"
     ]
    },
    {
     "name": "stderr",
     "output_type": "stream",
     "text": [
      " 59%|█████▊    | 571/973 [14:11<11:28,  1.71s/it]"
     ]
    },
    {
     "name": "stdout",
     "output_type": "stream",
     "text": [
      "------------------------------------------------\n",
      "Num intentos: 1, URL: https://es.linkedin.com/jobs/view/senior-data-scienist-machine-deep-learning-at-robert-walters-4131150935?refId=27zDqnaAzgOwPOyBAP6gyA%3D%3D&trackingId=%2Bw1DjvTQsUGlFrgnzx2qBg%3D%3D&position=4&pageNum=28\n"
     ]
    },
    {
     "name": "stderr",
     "output_type": "stream",
     "text": [
      " 59%|█████▉    | 572/973 [14:12<11:16,  1.69s/it]"
     ]
    },
    {
     "name": "stdout",
     "output_type": "stream",
     "text": [
      "------------------------------------------------\n",
      "Num intentos: 1, URL: https://es.linkedin.com/jobs/view/senior-engineer-at-chubb-3947153034?refId=27zDqnaAzgOwPOyBAP6gyA%3D%3D&trackingId=1R2rOTwiXELw8jbev%2BaP9w%3D%3D&position=22&pageNum=28\n"
     ]
    },
    {
     "name": "stderr",
     "output_type": "stream",
     "text": [
      " 59%|█████▉    | 573/973 [14:14<11:03,  1.66s/it]"
     ]
    },
    {
     "name": "stdout",
     "output_type": "stream",
     "text": [
      "------------------------------------------------\n",
      "Num intentos: 1, URL: https://es.linkedin.com/jobs/view/2025-software-development-engineer-embedded-development-at-amazon-4071888910?refId=27zDqnaAzgOwPOyBAP6gyA%3D%3D&trackingId=ieEVPPmK4I7tZEpucoHqfA%3D%3D&position=25&pageNum=28\n"
     ]
    },
    {
     "name": "stderr",
     "output_type": "stream",
     "text": [
      " 59%|█████▉    | 574/973 [14:16<11:38,  1.75s/it]"
     ]
    },
    {
     "name": "stdout",
     "output_type": "stream",
     "text": [
      "------------------------------------------------\n",
      "Num intentos: 1, URL: https://es.linkedin.com/jobs/view/spontaneous-application-at-keyrus-4131494850?refId=BzKsdm%2FLcWVFlzPY6XXEyg%3D%3D&trackingId=1FLw4MEHFnJ4tNLuUu%2BUBg%3D%3D&position=4&pageNum=29\n"
     ]
    },
    {
     "name": "stderr",
     "output_type": "stream",
     "text": [
      " 59%|█████▉    | 575/973 [14:18<11:53,  1.79s/it]"
     ]
    },
    {
     "name": "stdout",
     "output_type": "stream",
     "text": [
      "------------------------------------------------\n",
      "Num intentos: 1, URL: https://es.linkedin.com/jobs/view/software-engineer-for-aeronautical-simulation-at-gmv-4133628932?refId=BzKsdm%2FLcWVFlzPY6XXEyg%3D%3D&trackingId=H5USI6lD1XgqRt791WUqHA%3D%3D&position=19&pageNum=29\n"
     ]
    },
    {
     "name": "stderr",
     "output_type": "stream",
     "text": [
      " 59%|█████▉    | 576/973 [14:20<11:47,  1.78s/it]"
     ]
    },
    {
     "name": "stdout",
     "output_type": "stream",
     "text": [
      "------------------------------------------------\n",
      "Num intentos: 1, URL: https://es.linkedin.com/jobs/view/bi-solutions-specialist-alteryx-at-keyrus-4131492918?refId=4T3q6%2BDUDS%2Fwfb0hIc%2BkJw%3D%3D&trackingId=3TPXo8AssBLlujk4SsiC%2Fg%3D%3D&position=14&pageNum=30\n"
     ]
    },
    {
     "name": "stderr",
     "output_type": "stream",
     "text": [
      " 59%|█████▉    | 577/973 [14:21<10:52,  1.65s/it]"
     ]
    },
    {
     "name": "stdout",
     "output_type": "stream",
     "text": [
      "------------------------------------------------\n",
      "Num intentos: 1, URL: https://es.linkedin.com/jobs/view/software-engineer-vue-js-2-3-at-knowmad-mood-4132846061?refId=4T3q6%2BDUDS%2Fwfb0hIc%2BkJw%3D%3D&trackingId=KJxKBBEJ0h9EvF8FLozbQg%3D%3D&position=22&pageNum=30\n"
     ]
    },
    {
     "name": "stderr",
     "output_type": "stream",
     "text": [
      " 59%|█████▉    | 578/973 [14:23<10:58,  1.67s/it]"
     ]
    },
    {
     "name": "stdout",
     "output_type": "stream",
     "text": [
      "------------------------------------------------\n",
      "Num intentos: 1, URL: https://es.linkedin.com/jobs/view/beca-en-gesti%C3%B3n-del-dato-personas-organizaci%C3%B3n-at-mapfre-4129435976?refId=pvzzDZKJw%2BBNu7o7uLGHhw%3D%3D&trackingId=LeSw4YdgE46Zca9NXfnz0g%3D%3D&position=1&pageNum=31\n"
     ]
    },
    {
     "name": "stderr",
     "output_type": "stream",
     "text": [
      " 60%|█████▉    | 579/973 [14:24<11:15,  1.72s/it]"
     ]
    },
    {
     "name": "stdout",
     "output_type": "stream",
     "text": [
      "------------------------------------------------\n",
      "Num intentos: 1, URL: https://es.linkedin.com/jobs/view/system-engineer-f-m-d-aerodynamics-for-rolling-stock-at-siemens-4074554911?refId=pvzzDZKJw%2BBNu7o7uLGHhw%3D%3D&trackingId=yQuKD9vRHTHsB1FZG7CN0Q%3D%3D&position=5&pageNum=31\n"
     ]
    },
    {
     "name": "stderr",
     "output_type": "stream",
     "text": [
      " 60%|█████▉    | 580/973 [14:26<11:34,  1.77s/it]"
     ]
    },
    {
     "name": "stdout",
     "output_type": "stream",
     "text": [
      "------------------------------------------------\n",
      "Num intentos: 1, URL: https://es.linkedin.com/jobs/view/data-scientist-at-idealista-4132065750?refId=pvzzDZKJw%2BBNu7o7uLGHhw%3D%3D&trackingId=XGPSmyq5FTbp%2BW79qYA4KQ%3D%3D&position=11&pageNum=31\n"
     ]
    },
    {
     "name": "stderr",
     "output_type": "stream",
     "text": [
      " 60%|█████▉    | 581/973 [14:28<11:19,  1.73s/it]"
     ]
    },
    {
     "name": "stdout",
     "output_type": "stream",
     "text": [
      "------------------------------------------------\n",
      "Num intentos: 1, URL: https://es.linkedin.com/jobs/view/marketing-data-scientist-advanced-analytics-at-deloitte-4132522565?refId=pvzzDZKJw%2BBNu7o7uLGHhw%3D%3D&trackingId=dkZiEJpCY6EotkwDVwpOzA%3D%3D&position=14&pageNum=31\n"
     ]
    },
    {
     "name": "stderr",
     "output_type": "stream",
     "text": [
      " 60%|█████▉    | 582/973 [14:30<10:56,  1.68s/it]"
     ]
    },
    {
     "name": "stdout",
     "output_type": "stream",
     "text": [
      "------------------------------------------------\n",
      "Num intentos: 1, URL: https://es.linkedin.com/jobs/view/associate-network-systems-engineer-%E2%80%93-based-in-luxembourg-at-european-investment-bank-eib-4130427115?refId=iogc%2B4XiXLpYrKPr7Us7Lw%3D%3D&trackingId=uBD6uaMNYufQLpYl0PSIDw%3D%3D&position=18&pageNum=32\n"
     ]
    },
    {
     "name": "stderr",
     "output_type": "stream",
     "text": [
      " 60%|█████▉    | 583/973 [14:31<11:16,  1.73s/it]"
     ]
    },
    {
     "name": "stdout",
     "output_type": "stream",
     "text": [
      "------------------------------------------------\n",
      "Num intentos: 1, URL: https://es.linkedin.com/jobs/view/system-software-engineer-gcc-llvm-compiler-tooling-and-ecosystem-at-canonical-4131923221?refId=GB%2Fwwj7Zi4x1VtaSwZK9nQ%3D%3D&trackingId=2DaXvG96ClZsziMtj7IOdw%3D%3D&position=1&pageNum=33\n"
     ]
    },
    {
     "name": "stderr",
     "output_type": "stream",
     "text": [
      " 60%|██████    | 584/973 [14:33<11:51,  1.83s/it]"
     ]
    },
    {
     "name": "stdout",
     "output_type": "stream",
     "text": [
      "------------------------------------------------\n",
      "Num intentos: 1, URL: https://es.linkedin.com/jobs/view/system-software-engineer-gcc-llvm-compiler-tooling-and-ecosystem-at-canonical-4131921754?refId=GB%2Fwwj7Zi4x1VtaSwZK9nQ%3D%3D&trackingId=mcDFAYTsgOX65LT2cyNutQ%3D%3D&position=2&pageNum=33\n"
     ]
    },
    {
     "name": "stderr",
     "output_type": "stream",
     "text": [
      " 60%|██████    | 585/973 [14:35<11:50,  1.83s/it]"
     ]
    },
    {
     "name": "stdout",
     "output_type": "stream",
     "text": [
      "------------------------------------------------\n",
      "Num intentos: 1, URL: https://es.linkedin.com/jobs/view/a400m-radio-system-engineer-at-airbus-defence-and-space-4132058376?refId=GB%2Fwwj7Zi4x1VtaSwZK9nQ%3D%3D&trackingId=cNgKxF%2BqTI6LnMlzpEnpxQ%3D%3D&position=4&pageNum=33\n"
     ]
    },
    {
     "name": "stderr",
     "output_type": "stream",
     "text": [
      " 60%|██████    | 586/973 [14:37<10:56,  1.70s/it]"
     ]
    },
    {
     "name": "stdout",
     "output_type": "stream",
     "text": [
      "------------------------------------------------\n",
      "Num intentos: 1, URL: https://es.linkedin.com/jobs/view/senior-data-scientist-at-akuaro-4130151294?refId=GB%2Fwwj7Zi4x1VtaSwZK9nQ%3D%3D&trackingId=pX0SIRDejCKOtelpXUt36w%3D%3D&position=7&pageNum=33\n"
     ]
    },
    {
     "name": "stderr",
     "output_type": "stream",
     "text": [
      " 60%|██████    | 587/973 [14:38<10:25,  1.62s/it]"
     ]
    },
    {
     "name": "stdout",
     "output_type": "stream",
     "text": [
      "------------------------------------------------\n",
      "Num intentos: 1, URL: https://es.linkedin.com/jobs/view/fpga-software-engineer-at-deimos-4131721308?refId=GB%2Fwwj7Zi4x1VtaSwZK9nQ%3D%3D&trackingId=Jl8UBJ9nt65mrFF7QMvpoQ%3D%3D&position=10&pageNum=33\n"
     ]
    },
    {
     "name": "stderr",
     "output_type": "stream",
     "text": [
      " 60%|██████    | 588/973 [14:40<10:39,  1.66s/it]"
     ]
    },
    {
     "name": "stdout",
     "output_type": "stream",
     "text": [
      "------------------------------------------------\n",
      "Num intentos: 1, URL: https://es.linkedin.com/jobs/view/especialista-en-modelos-predictivos-at-santander-assurance-solutions-s-a-sasa-4129190889?refId=GB%2Fwwj7Zi4x1VtaSwZK9nQ%3D%3D&trackingId=iWbohe1kwH9X1sBcrZfw2Q%3D%3D&position=14&pageNum=33\n",
      "Error en el link: https://es.linkedin.com/jobs/view/especialista-en-modelos-predictivos-at-santander-assurance-solutions-s-a-sasa-4129190889?refId=GB%2Fwwj7Zi4x1VtaSwZK9nQ%3D%3D&trackingId=iWbohe1kwH9X1sBcrZfw2Q%3D%3D&position=14&pageNum=33\n"
     ]
    },
    {
     "name": "stderr",
     "output_type": "stream",
     "text": [
      " 61%|██████    | 589/973 [14:41<10:12,  1.59s/it]"
     ]
    },
    {
     "name": "stdout",
     "output_type": "stream",
     "text": [
      "------------------------------------------------\n",
      "Num intentos: 1, URL: https://es.linkedin.com/jobs/view/railway-software-engineer-c%2B%2B-at-siemens-4026532557?refId=GB%2Fwwj7Zi4x1VtaSwZK9nQ%3D%3D&trackingId=k7ahvm5qZE5%2Fetm5T8Bctg%3D%3D&position=24&pageNum=33\n"
     ]
    },
    {
     "name": "stderr",
     "output_type": "stream",
     "text": [
      " 61%|██████    | 590/973 [14:43<10:16,  1.61s/it]"
     ]
    },
    {
     "name": "stdout",
     "output_type": "stream",
     "text": [
      "------------------------------------------------\n",
      "Num intentos: 1, URL: https://es.linkedin.com/jobs/view/software-development-engineer-eu-intech-consumer-selection-discovery-at-amazon-4130719741?refId=jYUCayDj5AktnYUNOxZvEQ%3D%3D&trackingId=FEvPwJ2XGN1%2B8XCHey6VKA%3D%3D&position=3&pageNum=34\n"
     ]
    },
    {
     "name": "stderr",
     "output_type": "stream",
     "text": [
      " 61%|██████    | 591/973 [14:45<11:32,  1.81s/it]"
     ]
    },
    {
     "name": "stdout",
     "output_type": "stream",
     "text": [
      "------------------------------------------------\n",
      "Num intentos: 1, URL: https://es.linkedin.com/jobs/view/software-engineer-java-rail-signalling-at-siemens-4026530995?refId=jYUCayDj5AktnYUNOxZvEQ%3D%3D&trackingId=1GVbFdEZ7dsqdGlrmxW2xg%3D%3D&position=6&pageNum=34\n"
     ]
    },
    {
     "name": "stderr",
     "output_type": "stream",
     "text": [
      " 61%|██████    | 592/973 [14:47<11:01,  1.74s/it]"
     ]
    },
    {
     "name": "stdout",
     "output_type": "stream",
     "text": [
      "------------------------------------------------\n",
      "Num intentos: 1, URL: https://es.linkedin.com/jobs/view/staff-software-engineer-at-datadog-4102080396?refId=jYUCayDj5AktnYUNOxZvEQ%3D%3D&trackingId=SrH2AdrbcVmm%2BtpNFD%2BDcw%3D%3D&position=14&pageNum=34\n"
     ]
    },
    {
     "name": "stderr",
     "output_type": "stream",
     "text": [
      " 61%|██████    | 593/973 [14:48<10:07,  1.60s/it]"
     ]
    },
    {
     "name": "stdout",
     "output_type": "stream",
     "text": [
      "------------------------------------------------\n",
      "Num intentos: 1, URL: https://es.linkedin.com/jobs/view/r-d-sw-engineer-eviden-at-eviden-3949347076?refId=jYUCayDj5AktnYUNOxZvEQ%3D%3D&trackingId=tAf347BE8xXZXTbO0C6lHg%3D%3D&position=21&pageNum=34\n"
     ]
    },
    {
     "name": "stderr",
     "output_type": "stream",
     "text": [
      " 61%|██████    | 594/973 [14:50<10:13,  1.62s/it]"
     ]
    },
    {
     "name": "stdout",
     "output_type": "stream",
     "text": [
      "------------------------------------------------\n",
      "Num intentos: 1, URL: https://es.linkedin.com/jobs/view/oliver-wyman-digital-data-analytics-analyst-senior-analyst-madrid-spain-at-oliver-wyman-4133565956?refId=k9%2FkRnfSBzcobArEZmRAig%3D%3D&trackingId=OcpHXCr4ysVBBZO2gVkI2w%3D%3D&position=5&pageNum=35\n"
     ]
    },
    {
     "name": "stderr",
     "output_type": "stream",
     "text": [
      " 61%|██████    | 595/973 [14:52<10:33,  1.68s/it]"
     ]
    },
    {
     "name": "stdout",
     "output_type": "stream",
     "text": [
      "------------------------------------------------\n",
      "Num intentos: 1, URL: https://es.linkedin.com/jobs/view/senior-software-engineer-java-at-adyen-3977789574?refId=FnhfE%2BUO6DlfX1s9TYmIuw%3D%3D&trackingId=iP1XQzoBgWh32IXkif7tEw%3D%3D&position=2&pageNum=36\n"
     ]
    },
    {
     "name": "stderr",
     "output_type": "stream",
     "text": [
      " 61%|██████▏   | 596/973 [14:53<10:55,  1.74s/it]"
     ]
    },
    {
     "name": "stdout",
     "output_type": "stream",
     "text": [
      "------------------------------------------------\n",
      "Num intentos: 1, URL: https://es.linkedin.com/jobs/view/datacenter-presales-engineer-at-ntt-4133376441?refId=FnhfE%2BUO6DlfX1s9TYmIuw%3D%3D&trackingId=0k27KGKYNVx62SEYILiXiQ%3D%3D&position=3&pageNum=36\n"
     ]
    },
    {
     "name": "stderr",
     "output_type": "stream",
     "text": [
      " 61%|██████▏   | 597/973 [14:55<11:05,  1.77s/it]"
     ]
    },
    {
     "name": "stdout",
     "output_type": "stream",
     "text": [
      "------------------------------------------------\n",
      "Num intentos: 1, URL: https://es.linkedin.com/jobs/view/software-engineer-cross-platform-c%2B%2B-multipass-at-canonical-4130360057?refId=FnhfE%2BUO6DlfX1s9TYmIuw%3D%3D&trackingId=Ihd0qQvvUr3Y9FZFV2ax9w%3D%3D&position=20&pageNum=36\n"
     ]
    },
    {
     "name": "stderr",
     "output_type": "stream",
     "text": [
      " 61%|██████▏   | 598/973 [14:57<11:22,  1.82s/it]"
     ]
    },
    {
     "name": "stdout",
     "output_type": "stream",
     "text": [
      "------------------------------------------------\n",
      "Num intentos: 1, URL: https://es.linkedin.com/jobs/view/golang-system-software-engineer-containers-virtualisation-at-canonical-4131914966?refId=M92tBlvFSrvwBHhPL3Il6Q%3D%3D&trackingId=ZoLBmjlttA6MsmxaRovf0g%3D%3D&position=8&pageNum=37\n"
     ]
    },
    {
     "name": "stderr",
     "output_type": "stream",
     "text": [
      " 62%|██████▏   | 599/973 [14:59<11:20,  1.82s/it]"
     ]
    },
    {
     "name": "stdout",
     "output_type": "stream",
     "text": [
      "------------------------------------------------\n",
      "Num intentos: 1, URL: https://es.linkedin.com/jobs/view/software-engineer-cross-platform-c%2B%2B-multipass-at-canonical-4130360067?refId=M92tBlvFSrvwBHhPL3Il6Q%3D%3D&trackingId=A4E%2BY8Mz%2BjACQ2yrLkhI2A%3D%3D&position=14&pageNum=37\n"
     ]
    },
    {
     "name": "stderr",
     "output_type": "stream",
     "text": [
      " 62%|██████▏   | 600/973 [15:01<11:02,  1.78s/it]"
     ]
    },
    {
     "name": "stdout",
     "output_type": "stream",
     "text": [
      "------------------------------------------------\n",
      "Num intentos: 1, URL: https://es.linkedin.com/jobs/view/consultor-a-junior-departamento-de-operaciones-at-adecco-4130087097?refId=4aUxUe7ReM%2FfmMEQZ%2Bz1sA%3D%3D&trackingId=7a0nLIMPWjRdqnlp%2FJUHEA%3D%3D&position=4&pageNum=38\n"
     ]
    },
    {
     "name": "stderr",
     "output_type": "stream",
     "text": [
      " 62%|██████▏   | 601/973 [15:02<10:38,  1.72s/it]"
     ]
    },
    {
     "name": "stdout",
     "output_type": "stream",
     "text": [
      "------------------------------------------------\n",
      "Num intentos: 1, URL: https://es.linkedin.com/jobs/view/data-scientist-at-wpp-3995975421?refId=4aUxUe7ReM%2FfmMEQZ%2Bz1sA%3D%3D&trackingId=Eo910yXDsRwK4ORWh9h9dg%3D%3D&position=6&pageNum=38\n"
     ]
    },
    {
     "name": "stderr",
     "output_type": "stream",
     "text": [
      " 62%|██████▏   | 602/973 [15:04<10:45,  1.74s/it]"
     ]
    },
    {
     "name": "stdout",
     "output_type": "stream",
     "text": [
      "------------------------------------------------\n",
      "Num intentos: 1, URL: https://es.linkedin.com/jobs/view/data-scientist-at-logicalis-spain-4130602748?refId=4aUxUe7ReM%2FfmMEQZ%2Bz1sA%3D%3D&trackingId=k6hUyYWdG19wA5uDQxQQkA%3D%3D&position=7&pageNum=38\n"
     ]
    },
    {
     "name": "stderr",
     "output_type": "stream",
     "text": [
      " 62%|██████▏   | 603/973 [15:06<10:20,  1.68s/it]"
     ]
    },
    {
     "name": "stdout",
     "output_type": "stream",
     "text": [
      "------------------------------------------------\n",
      "Num intentos: 1, URL: https://es.linkedin.com/jobs/view/golang-system-software-engineer-containers-virtualisation-at-canonical-4131917415?refId=xPrcwAXkZO4mu5jDn0JJDg%3D%3D&trackingId=Yf2hiL0sqmzio77YtuAWtg%3D%3D&position=22&pageNum=39\n"
     ]
    },
    {
     "name": "stderr",
     "output_type": "stream",
     "text": [
      " 62%|██████▏   | 604/973 [15:07<10:28,  1.70s/it]"
     ]
    },
    {
     "name": "stdout",
     "output_type": "stream",
     "text": [
      "------------------------------------------------\n",
      "Num intentos: 1, URL: https://es.linkedin.com/jobs/view/data-engineer-big-data-2025-at-kair%C3%B3s-digital-solutions-s-l-4127609285?refId=5lUV4%2FNAtY0kytHF7H9LFw%3D%3D&trackingId=WnG71VijTrRPNsRkjn%2B34w%3D%3D&position=11&pageNum=0\n"
     ]
    },
    {
     "name": "stderr",
     "output_type": "stream",
     "text": [
      " 62%|██████▏   | 605/973 [15:09<10:09,  1.66s/it]"
     ]
    },
    {
     "name": "stdout",
     "output_type": "stream",
     "text": [
      "Error en el link: https://es.linkedin.com/jobs/view/data-engineer-big-data-2025-at-kair%C3%B3s-digital-solutions-s-l-4127609285?refId=5lUV4%2FNAtY0kytHF7H9LFw%3D%3D&trackingId=WnG71VijTrRPNsRkjn%2B34w%3D%3D&position=11&pageNum=0\n",
      "------------------------------------------------\n",
      "Num intentos: 1, URL: https://es.linkedin.com/jobs/view/data-engineer-at-next-digital-4104331057?refId=5lUV4%2FNAtY0kytHF7H9LFw%3D%3D&trackingId=3WUYoJgMUQ3OUHRVW12B%2Bw%3D%3D&position=19&pageNum=0\n"
     ]
    },
    {
     "name": "stderr",
     "output_type": "stream",
     "text": [
      " 62%|██████▏   | 606/973 [15:11<10:40,  1.74s/it]"
     ]
    },
    {
     "name": "stdout",
     "output_type": "stream",
     "text": [
      "------------------------------------------------\n",
      "Num intentos: 1, URL: https://es.linkedin.com/jobs/view/data-engineer-at-pluxee-4122611898?refId=5lUV4%2FNAtY0kytHF7H9LFw%3D%3D&trackingId=B%2BcYzz1eCVt2ZUCve%2Beglw%3D%3D&position=22&pageNum=0\n"
     ]
    },
    {
     "name": "stderr",
     "output_type": "stream",
     "text": [
      " 62%|██████▏   | 607/973 [15:13<11:26,  1.88s/it]"
     ]
    },
    {
     "name": "stdout",
     "output_type": "stream",
     "text": [
      "------------------------------------------------\n",
      "Num intentos: 1, URL: https://es.linkedin.com/jobs/view/data-engineer-at-davidson-consulting-4125834109?refId=gl%2Bd7kBz9WLFJeX%2Bk722Sg%3D%3D&trackingId=RJ1RJoK9NVh8XH4yTR3Dsw%3D%3D&position=6&pageNum=1\n"
     ]
    },
    {
     "name": "stderr",
     "output_type": "stream",
     "text": [
      " 62%|██████▏   | 608/973 [15:15<10:56,  1.80s/it]"
     ]
    },
    {
     "name": "stdout",
     "output_type": "stream",
     "text": [
      "------------------------------------------------\n",
      "Num intentos: 1, URL: https://es.linkedin.com/jobs/view/data-ai-data-engineer-at-excelia-4127190716?refId=gl%2Bd7kBz9WLFJeX%2Bk722Sg%3D%3D&trackingId=8SyzlWTddjF0XuWZHVtiYw%3D%3D&position=12&pageNum=1\n"
     ]
    },
    {
     "name": "stderr",
     "output_type": "stream",
     "text": [
      " 63%|██████▎   | 609/973 [15:16<10:38,  1.75s/it]"
     ]
    },
    {
     "name": "stdout",
     "output_type": "stream",
     "text": [
      "------------------------------------------------\n",
      "Num intentos: 1, URL: https://es.linkedin.com/jobs/view/data-engineer-at-randstad-espa%C3%B1a-4124378741?refId=gl%2Bd7kBz9WLFJeX%2Bk722Sg%3D%3D&trackingId=0shPw0oXSjIkG112Q%2B1ZKQ%3D%3D&position=13&pageNum=1\n"
     ]
    },
    {
     "name": "stderr",
     "output_type": "stream",
     "text": [
      " 63%|██████▎   | 610/973 [15:18<10:43,  1.77s/it]"
     ]
    },
    {
     "name": "stdout",
     "output_type": "stream",
     "text": [
      "------------------------------------------------\n"
     ]
    },
    {
     "name": "stderr",
     "output_type": "stream",
     "text": [
      " 63%|██████▎   | 611/973 [15:20<10:02,  1.67s/it]"
     ]
    },
    {
     "name": "stdout",
     "output_type": "stream",
     "text": [
      "Num intentos: 1, URL: https://es.linkedin.com/jobs/view/data-engineer-2025-at-kair%C3%B3s-digital-solutions-s-l-4126493252?refId=gl%2Bd7kBz9WLFJeX%2Bk722Sg%3D%3D&trackingId=i5Pr0QfII25Es4UAykxDFA%3D%3D&position=25&pageNum=1\n",
      "Error en el link: https://es.linkedin.com/jobs/view/data-engineer-2025-at-kair%C3%B3s-digital-solutions-s-l-4126493252?refId=gl%2Bd7kBz9WLFJeX%2Bk722Sg%3D%3D&trackingId=i5Pr0QfII25Es4UAykxDFA%3D%3D&position=25&pageNum=1\n",
      "------------------------------------------------\n",
      "Num intentos: 1, URL: https://es.linkedin.com/jobs/view/artificial-intelligence-engineer-at-suntory-global-spirits-4127261076?refId=JOY6haVz%2BavdFBx3hGjq%2BQ%3D%3D&trackingId=HAx0gW37hgMfRMXwZWmuZA%3D%3D&position=10&pageNum=2\n"
     ]
    },
    {
     "name": "stderr",
     "output_type": "stream",
     "text": [
      " 63%|██████▎   | 612/973 [15:22<11:19,  1.88s/it]"
     ]
    },
    {
     "name": "stdout",
     "output_type": "stream",
     "text": [
      "------------------------------------------------\n",
      "Num intentos: 1, URL: https://es.linkedin.com/jobs/view/data-engineer-at-arval-bnp-paribas-group-4113936228?refId=JOY6haVz%2BavdFBx3hGjq%2BQ%3D%3D&trackingId=Z2aaT9hupzaetqMYT4eQ9g%3D%3D&position=24&pageNum=2\n"
     ]
    },
    {
     "name": "stderr",
     "output_type": "stream",
     "text": [
      " 63%|██████▎   | 613/973 [15:24<11:28,  1.91s/it]"
     ]
    },
    {
     "name": "stdout",
     "output_type": "stream",
     "text": [
      "------------------------------------------------\n",
      "Num intentos: 1, URL: https://es.linkedin.com/jobs/view/ingeniero-a-de-datos-at-iahorro-com-4127254903?refId=0lQEwrH3pQrcnHMZEPdE6Q%3D%3D&trackingId=KVt8TLj%2FK8wxYtvFK8QBAA%3D%3D&position=3&pageNum=3\n"
     ]
    },
    {
     "name": "stderr",
     "output_type": "stream",
     "text": [
      " 63%|██████▎   | 614/973 [15:26<12:23,  2.07s/it]"
     ]
    },
    {
     "name": "stdout",
     "output_type": "stream",
     "text": [
      "------------------------------------------------\n",
      "Num intentos: 1, URL: https://es.linkedin.com/jobs/view/data-engineer-aws-at-knowmad-mood-4123151922?refId=0lQEwrH3pQrcnHMZEPdE6Q%3D%3D&trackingId=KrBzEDOnNwPH4HiGKiK3JQ%3D%3D&position=4&pageNum=3\n"
     ]
    },
    {
     "name": "stderr",
     "output_type": "stream",
     "text": [
      " 63%|██████▎   | 615/973 [15:28<11:33,  1.94s/it]"
     ]
    },
    {
     "name": "stdout",
     "output_type": "stream",
     "text": [
      "------------------------------------------------\n",
      "Num intentos: 1, URL: https://es.linkedin.com/jobs/view/data-engineer-at-logicalis-spain-4123613276?refId=0lQEwrH3pQrcnHMZEPdE6Q%3D%3D&trackingId=b%2B2s%2BoTKeG072rACBJWA8A%3D%3D&position=16&pageNum=3\n"
     ]
    },
    {
     "name": "stderr",
     "output_type": "stream",
     "text": [
      " 63%|██████▎   | 616/973 [15:30<11:05,  1.87s/it]"
     ]
    },
    {
     "name": "stdout",
     "output_type": "stream",
     "text": [
      "------------------------------------------------\n",
      "Num intentos: 1, URL: https://es.linkedin.com/jobs/view/data-engineer-at-osp-%E2%80%93-otto-group-solution-provider-4126150154?refId=syd0D2KoXmexQAiehNkiZA%3D%3D&trackingId=vfU%2F%2FGE6H1pAwqbvT7f5TA%3D%3D&position=4&pageNum=4\n"
     ]
    },
    {
     "name": "stderr",
     "output_type": "stream",
     "text": [
      " 63%|██████▎   | 617/973 [15:31<10:46,  1.81s/it]"
     ]
    },
    {
     "name": "stdout",
     "output_type": "stream",
     "text": [
      "------------------------------------------------\n",
      "Num intentos: 1, URL: https://es.linkedin.com/jobs/view/data-engineer-at-plexus-tech-4125974912?refId=syd0D2KoXmexQAiehNkiZA%3D%3D&trackingId=vsrvF5v024BEcMxaARDfZQ%3D%3D&position=16&pageNum=4\n"
     ]
    },
    {
     "name": "stderr",
     "output_type": "stream",
     "text": [
      " 64%|██████▎   | 618/973 [15:33<10:53,  1.84s/it]"
     ]
    },
    {
     "name": "stdout",
     "output_type": "stream",
     "text": [
      "------------------------------------------------\n",
      "Num intentos: 1, URL: https://es.linkedin.com/jobs/view/analista-de-datos-sas-sector-p%C3%BAblico-at-deloitte-4092852074?refId=syd0D2KoXmexQAiehNkiZA%3D%3D&trackingId=Q%2FzjsDSPqIppGPTa3YXfCA%3D%3D&position=24&pageNum=4\n"
     ]
    },
    {
     "name": "stderr",
     "output_type": "stream",
     "text": [
      " 64%|██████▎   | 619/973 [15:35<11:03,  1.88s/it]"
     ]
    },
    {
     "name": "stdout",
     "output_type": "stream",
     "text": [
      "------------------------------------------------\n"
     ]
    },
    {
     "name": "stderr",
     "output_type": "stream",
     "text": [
      " 64%|██████▎   | 620/973 [15:37<10:34,  1.80s/it]"
     ]
    },
    {
     "name": "stdout",
     "output_type": "stream",
     "text": [
      "Num intentos: 1, URL: https://es.linkedin.com/jobs/view/big-data-engineer-at-nubika-digital-inetum-group-4125134372?refId=NfI1oXKEWAziniZHawNbcA%3D%3D&trackingId=4pK2jcTP3gsd0MKBnNA2Eg%3D%3D&position=11&pageNum=5\n",
      "Error en el link: https://es.linkedin.com/jobs/view/big-data-engineer-at-nubika-digital-inetum-group-4125134372?refId=NfI1oXKEWAziniZHawNbcA%3D%3D&trackingId=4pK2jcTP3gsd0MKBnNA2Eg%3D%3D&position=11&pageNum=5\n",
      "------------------------------------------------\n",
      "Num intentos: 1, URL: https://es.linkedin.com/jobs/view/data-analyst-trainee-at-samy-alliance-4128305518?refId=NfI1oXKEWAziniZHawNbcA%3D%3D&trackingId=GbGCJZw5F4gG19xsfnfYjQ%3D%3D&position=12&pageNum=5\n"
     ]
    },
    {
     "name": "stderr",
     "output_type": "stream",
     "text": [
      " 64%|██████▍   | 621/973 [15:39<10:16,  1.75s/it]"
     ]
    },
    {
     "name": "stdout",
     "output_type": "stream",
     "text": [
      "------------------------------------------------\n",
      "Num intentos: 1, URL: https://es.linkedin.com/jobs/view/data-engineer-senior-h%C3%ADbrido-at-knowmad-mood-4102939687?refId=NfI1oXKEWAziniZHawNbcA%3D%3D&trackingId=m8QRTaX5ppHkm9MDg4Wniw%3D%3D&position=13&pageNum=5\n"
     ]
    },
    {
     "name": "stderr",
     "output_type": "stream",
     "text": [
      " 64%|██████▍   | 622/973 [15:40<10:08,  1.73s/it]"
     ]
    },
    {
     "name": "stdout",
     "output_type": "stream",
     "text": [
      "------------------------------------------------\n",
      "Num intentos: 1, URL: https://es.linkedin.com/jobs/view/database-engineer-nosql-at-clavium-4129624324?refId=qiJ6q4%2BjkVAGpjN7lVYm9g%3D%3D&trackingId=TUZpU58QOjPRADW9rlyPHw%3D%3D&position=2&pageNum=6\n"
     ]
    },
    {
     "name": "stderr",
     "output_type": "stream",
     "text": [
      " 64%|██████▍   | 623/973 [15:42<09:58,  1.71s/it]"
     ]
    },
    {
     "name": "stdout",
     "output_type": "stream",
     "text": [
      "------------------------------------------------\n",
      "Num intentos: 1, URL: https://es.linkedin.com/jobs/view/ingeniero-a-de-datos-scala-remoto-at-grupo-digital-4124368269?refId=7mJssYg8XhxL6SCi8sFlZQ%3D%3D&trackingId=QhViU4EOo8%2FG05LkwVmJcQ%3D%3D&position=3&pageNum=7\n"
     ]
    },
    {
     "name": "stderr",
     "output_type": "stream",
     "text": [
      " 64%|██████▍   | 624/973 [15:44<09:59,  1.72s/it]"
     ]
    },
    {
     "name": "stdout",
     "output_type": "stream",
     "text": [
      "------------------------------------------------\n",
      "Num intentos: 1, URL: https://es.linkedin.com/jobs/view/pl-sql-software-engineer-at-fadata-4128480167?refId=7mJssYg8XhxL6SCi8sFlZQ%3D%3D&trackingId=zGlYblcJPv5Hp8mbnrlMEg%3D%3D&position=6&pageNum=7\n"
     ]
    },
    {
     "name": "stderr",
     "output_type": "stream",
     "text": [
      " 64%|██████▍   | 625/973 [15:45<10:12,  1.76s/it]"
     ]
    },
    {
     "name": "stdout",
     "output_type": "stream",
     "text": [
      "------------------------------------------------\n",
      "Num intentos: 1, URL: https://es.linkedin.com/jobs/view/analista-de-datos-at-ad4-oct%C3%B3gono-4124335071?refId=7mJssYg8XhxL6SCi8sFlZQ%3D%3D&trackingId=teAyh%2Bkzr7JwV%2FxV9Y73%2BQ%3D%3D&position=15&pageNum=7\n"
     ]
    },
    {
     "name": "stderr",
     "output_type": "stream",
     "text": [
      " 64%|██████▍   | 626/973 [15:47<10:14,  1.77s/it]"
     ]
    },
    {
     "name": "stdout",
     "output_type": "stream",
     "text": [
      "------------------------------------------------\n",
      "Num intentos: 1, URL: https://es.linkedin.com/jobs/view/engineer-artificial-intelligence-at-suntory-global-spirits-4127798775?refId=7mJssYg8XhxL6SCi8sFlZQ%3D%3D&trackingId=5ptRLl52PH%2BRIKl50V%2BdwA%3D%3D&position=23&pageNum=7\n"
     ]
    },
    {
     "name": "stderr",
     "output_type": "stream",
     "text": [
      " 64%|██████▍   | 627/973 [15:49<10:26,  1.81s/it]"
     ]
    },
    {
     "name": "stdout",
     "output_type": "stream",
     "text": [
      "------------------------------------------------\n",
      "Num intentos: 1, URL: https://es.linkedin.com/jobs/view/product-data-analyst-at-playtomic-4125747259?refId=XzILX%2FJyntX%2BslwEYSdfAA%3D%3D&trackingId=Hpwly7UwvjFAMRHUQjys9g%3D%3D&position=4&pageNum=8\n"
     ]
    },
    {
     "name": "stderr",
     "output_type": "stream",
     "text": [
      " 65%|██████▍   | 628/973 [15:51<10:19,  1.80s/it]"
     ]
    },
    {
     "name": "stdout",
     "output_type": "stream",
     "text": [
      "------------------------------------------------\n",
      "Num intentos: 1, URL: https://es.linkedin.com/jobs/view/data-engineer-at-softwareone-4123651911?refId=XzILX%2FJyntX%2BslwEYSdfAA%3D%3D&trackingId=qOgiRg3QA%2FtMt%2FYQLpZhHQ%3D%3D&position=6&pageNum=8\n"
     ]
    },
    {
     "name": "stderr",
     "output_type": "stream",
     "text": [
      " 65%|██████▍   | 629/973 [15:53<10:20,  1.80s/it]"
     ]
    },
    {
     "name": "stdout",
     "output_type": "stream",
     "text": [
      "------------------------------------------------\n",
      "Num intentos: 1, URL: https://es.linkedin.com/jobs/view/data-analyst-product-at-revolut-4026013717?refId=XzILX%2FJyntX%2BslwEYSdfAA%3D%3D&trackingId=XJdnIDwcDvdlhMjo5iITgg%3D%3D&position=20&pageNum=8\n"
     ]
    },
    {
     "name": "stderr",
     "output_type": "stream",
     "text": [
      " 65%|██████▍   | 630/973 [15:54<10:00,  1.75s/it]"
     ]
    },
    {
     "name": "stdout",
     "output_type": "stream",
     "text": [
      "------------------------------------------------\n",
      "Num intentos: 1, URL: https://es.linkedin.com/jobs/view/sustainability-data-engineer-at-straumann-group-4123108827?refId=XzILX%2FJyntX%2BslwEYSdfAA%3D%3D&trackingId=EDgiBfBae15%2FW6YpKS9Wmw%3D%3D&position=22&pageNum=8\n"
     ]
    },
    {
     "name": "stderr",
     "output_type": "stream",
     "text": [
      " 65%|██████▍   | 631/973 [15:56<10:37,  1.87s/it]"
     ]
    },
    {
     "name": "stdout",
     "output_type": "stream",
     "text": [
      "------------------------------------------------\n",
      "Num intentos: 1, URL: https://es.linkedin.com/jobs/view/data-analyst-power-bi-at-logicalis-spain-4124660580?refId=XzILX%2FJyntX%2BslwEYSdfAA%3D%3D&trackingId=XD3GXo2UtfU8LE24dlDB0A%3D%3D&position=24&pageNum=8\n"
     ]
    },
    {
     "name": "stderr",
     "output_type": "stream",
     "text": [
      " 65%|██████▍   | 632/973 [15:58<10:26,  1.84s/it]"
     ]
    },
    {
     "name": "stdout",
     "output_type": "stream",
     "text": [
      "------------------------------------------------\n",
      "Num intentos: 1, URL: https://es.linkedin.com/jobs/view/software-engineer-junior-at-ey-wavespace-data-ai-hub-at-ey-4062016294?refId=zQtuxswf5sFpuL%2FkUwXZIw%3D%3D&trackingId=MR84RYZ01lZ5xjv%2BMogsJw%3D%3D&position=1&pageNum=9\n"
     ]
    },
    {
     "name": "stderr",
     "output_type": "stream",
     "text": [
      " 65%|██████▌   | 633/973 [16:00<10:25,  1.84s/it]"
     ]
    },
    {
     "name": "stdout",
     "output_type": "stream",
     "text": [
      "------------------------------------------------\n",
      "Num intentos: 1, URL: https://es.linkedin.com/jobs/view/data-engineer-google-cloud-platform-at-keyrus-4127852359?refId=zQtuxswf5sFpuL%2FkUwXZIw%3D%3D&trackingId=6ua6BfH%2Fzp96bBC2qXbdGw%3D%3D&position=3&pageNum=9\n"
     ]
    },
    {
     "name": "stderr",
     "output_type": "stream",
     "text": [
      " 65%|██████▌   | 634/973 [16:02<10:40,  1.89s/it]"
     ]
    },
    {
     "name": "stdout",
     "output_type": "stream",
     "text": [
      "------------------------------------------------\n",
      "Num intentos: 1, URL: https://es.linkedin.com/jobs/view/data-software-engineer-at-the-workshop-4040833914?refId=zQtuxswf5sFpuL%2FkUwXZIw%3D%3D&trackingId=FPo8ZENqClty0qKH8%2Ba23Q%3D%3D&position=18&pageNum=9\n"
     ]
    },
    {
     "name": "stderr",
     "output_type": "stream",
     "text": [
      " 65%|██████▌   | 635/973 [16:05<12:07,  2.15s/it]"
     ]
    },
    {
     "name": "stdout",
     "output_type": "stream",
     "text": [
      "------------------------------------------------\n",
      "Num intentos: 1, URL: https://es.linkedin.com/jobs/view/software-engineer-early-career-at-affirm-4124193571?refId=zQtuxswf5sFpuL%2FkUwXZIw%3D%3D&trackingId=z7TAVClNbTzicuj1ZuwyAA%3D%3D&position=25&pageNum=9\n"
     ]
    },
    {
     "name": "stderr",
     "output_type": "stream",
     "text": [
      " 65%|██████▌   | 636/973 [16:07<11:16,  2.01s/it]"
     ]
    },
    {
     "name": "stdout",
     "output_type": "stream",
     "text": [
      "------------------------------------------------\n",
      "Num intentos: 1, URL: https://es.linkedin.com/jobs/view/big-data-engineer-at-inetum-4126607760?refId=lLfUMnXEaEcpWjyocCqvfg%3D%3D&trackingId=NggNzH9NuutOXigEiwIjNA%3D%3D&position=1&pageNum=10\n"
     ]
    },
    {
     "name": "stderr",
     "output_type": "stream",
     "text": [
      " 65%|██████▌   | 637/973 [16:08<10:38,  1.90s/it]"
     ]
    },
    {
     "name": "stdout",
     "output_type": "stream",
     "text": [
      "------------------------------------------------\n",
      "Num intentos: 1, URL: https://es.linkedin.com/jobs/view/data-feed-engineer-at-inetum-4124348348?refId=lLfUMnXEaEcpWjyocCqvfg%3D%3D&trackingId=1IbYeQMNd2YlUqIJh8Yr2A%3D%3D&position=21&pageNum=10\n"
     ]
    },
    {
     "name": "stderr",
     "output_type": "stream",
     "text": [
      " 66%|██████▌   | 638/973 [16:10<10:26,  1.87s/it]"
     ]
    },
    {
     "name": "stdout",
     "output_type": "stream",
     "text": [
      "------------------------------------------------\n",
      "Num intentos: 1, URL: https://es.linkedin.com/jobs/view/data-science-movilidad-por-carretera-at-sener-4072200964?refId=jj4UbOc%2FecseE2pKr2PGiw%3D%3D&trackingId=KAF%2FVXwZrokj950kQ4TRhA%3D%3D&position=3&pageNum=11\n"
     ]
    },
    {
     "name": "stderr",
     "output_type": "stream",
     "text": [
      " 66%|██████▌   | 639/973 [16:12<10:09,  1.83s/it]"
     ]
    },
    {
     "name": "stdout",
     "output_type": "stream",
     "text": [
      "------------------------------------------------\n",
      "Num intentos: 1, URL: https://es.linkedin.com/jobs/view/mlops-data-engineer-at-dentsu-4124697772?refId=jj4UbOc%2FecseE2pKr2PGiw%3D%3D&trackingId=Cfp4KlCNvkbuyANnWHv9RQ%3D%3D&position=15&pageNum=11\n"
     ]
    },
    {
     "name": "stderr",
     "output_type": "stream",
     "text": [
      " 66%|██████▌   | 640/973 [16:13<10:01,  1.81s/it]"
     ]
    },
    {
     "name": "stdout",
     "output_type": "stream",
     "text": [
      "------------------------------------------------\n",
      "Num intentos: 1, URL: https://es.linkedin.com/jobs/view/business-data-analyst-en-customer-intelligence-at-endesa-4123832619?refId=jj4UbOc%2FecseE2pKr2PGiw%3D%3D&trackingId=5qbZyIbJxhHDOVfV3FMUhw%3D%3D&position=16&pageNum=11\n"
     ]
    },
    {
     "name": "stderr",
     "output_type": "stream",
     "text": [
      " 66%|██████▌   | 641/973 [16:15<09:42,  1.75s/it]"
     ]
    },
    {
     "name": "stdout",
     "output_type": "stream",
     "text": [
      "------------------------------------------------\n",
      "Num intentos: 1, URL: https://es.linkedin.com/jobs/view/data-engineer-snowflake-at-sopra-steria-4125969450?refId=jj4UbOc%2FecseE2pKr2PGiw%3D%3D&trackingId=lOOOdCLgHYN7boeyJhCGiA%3D%3D&position=22&pageNum=11\n"
     ]
    },
    {
     "name": "stderr",
     "output_type": "stream",
     "text": [
      " 66%|██████▌   | 642/973 [16:18<10:46,  1.95s/it]"
     ]
    },
    {
     "name": "stdout",
     "output_type": "stream",
     "text": [
      "------------------------------------------------\n",
      "Num intentos: 1, URL: https://es.linkedin.com/jobs/view/data-software-engineer-at-npaw-4124666914?refId=1gxsBjCoxyvxl5YEGDjwHQ%3D%3D&trackingId=NyG7Wip9DdQ%2F%2FswdV1R3jA%3D%3D&position=10&pageNum=12\n"
     ]
    },
    {
     "name": "stderr",
     "output_type": "stream",
     "text": [
      " 66%|██████▌   | 643/973 [16:19<10:21,  1.88s/it]"
     ]
    },
    {
     "name": "stdout",
     "output_type": "stream",
     "text": [
      "------------------------------------------------\n",
      "Num intentos: 1, URL: https://es.linkedin.com/jobs/view/software-engineer-at-gt-motive-spain-4126161867?refId=1gxsBjCoxyvxl5YEGDjwHQ%3D%3D&trackingId=EsEkwuzEuTfk2QiD0zNPMQ%3D%3D&position=11&pageNum=12\n"
     ]
    },
    {
     "name": "stderr",
     "output_type": "stream",
     "text": [
      " 66%|██████▌   | 644/973 [16:21<10:13,  1.86s/it]"
     ]
    },
    {
     "name": "stdout",
     "output_type": "stream",
     "text": [
      "------------------------------------------------\n",
      "Num intentos: 1, URL: https://es.linkedin.com/jobs/view/gcp-data-engineer-at-devoteam-4083885814?refId=1gxsBjCoxyvxl5YEGDjwHQ%3D%3D&trackingId=NbGCX7sc6iyDSYVl1WDLfg%3D%3D&position=17&pageNum=12\n"
     ]
    },
    {
     "name": "stderr",
     "output_type": "stream",
     "text": [
      " 66%|██████▋   | 645/973 [16:23<09:56,  1.82s/it]"
     ]
    },
    {
     "name": "stdout",
     "output_type": "stream",
     "text": [
      "------------------------------------------------\n",
      "Num intentos: 1, URL: https://es.linkedin.com/jobs/view/data-analyst-in-martech-relocation-to-tallinn-at-bolt-4125966986?refId=1gxsBjCoxyvxl5YEGDjwHQ%3D%3D&trackingId=jRMeSNp9Wrb4ElPxBL3F2g%3D%3D&position=21&pageNum=12\n"
     ]
    },
    {
     "name": "stderr",
     "output_type": "stream",
     "text": [
      " 66%|██████▋   | 646/973 [16:24<09:29,  1.74s/it]"
     ]
    },
    {
     "name": "stdout",
     "output_type": "stream",
     "text": [
      "------------------------------------------------\n",
      "Num intentos: 1, URL: https://es.linkedin.com/jobs/view/senior-data-engineer-at-frontiers-4125024296?refId=WE0nbdRCjRzYQ%2BMa7Jlfcw%3D%3D&trackingId=DzcTI4L08SNyzngIE6cOhw%3D%3D&position=7&pageNum=13\n"
     ]
    },
    {
     "name": "stderr",
     "output_type": "stream",
     "text": [
      " 66%|██████▋   | 647/973 [16:26<09:51,  1.82s/it]"
     ]
    },
    {
     "name": "stdout",
     "output_type": "stream",
     "text": [
      "------------------------------------------------\n",
      "Num intentos: 1, URL: https://es.linkedin.com/jobs/view/senior-software-engineer-at-samara-4125249075?refId=WE0nbdRCjRzYQ%2BMa7Jlfcw%3D%3D&trackingId=4B1xxKLUyaJCUng2TuWeiw%3D%3D&position=8&pageNum=13\n"
     ]
    },
    {
     "name": "stderr",
     "output_type": "stream",
     "text": [
      " 67%|██████▋   | 648/973 [16:28<10:05,  1.86s/it]"
     ]
    },
    {
     "name": "stdout",
     "output_type": "stream",
     "text": [
      "------------------------------------------------\n",
      "Num intentos: 1, URL: https://es.linkedin.com/jobs/view/senior-software-engineer-at-happening-4128098818?refId=RdedVh4j8Ltwj0EyXoSKYA%3D%3D&trackingId=ZHRmlHN8HRCUfHpyk91Gkg%3D%3D&position=1&pageNum=14\n"
     ]
    },
    {
     "name": "stderr",
     "output_type": "stream",
     "text": [
      " 67%|██████▋   | 649/973 [16:30<09:33,  1.77s/it]"
     ]
    },
    {
     "name": "stdout",
     "output_type": "stream",
     "text": [
      "------------------------------------------------\n",
      "Num intentos: 1, URL: https://es.linkedin.com/jobs/view/desarrollador-big-data-scala-%2B-python-2-a%C3%B1os-experiencia-teletrabajo-h%C3%ADbrido-madrid-at-sandav-4125990409?refId=RdedVh4j8Ltwj0EyXoSKYA%3D%3D&trackingId=5OlS93Kl46K0Ov2hYw9l3w%3D%3D&position=9&pageNum=14\n"
     ]
    },
    {
     "name": "stderr",
     "output_type": "stream",
     "text": [
      " 67%|██████▋   | 650/973 [16:32<09:42,  1.80s/it]"
     ]
    },
    {
     "name": "stdout",
     "output_type": "stream",
     "text": [
      "------------------------------------------------\n",
      "Num intentos: 1, URL: https://es.linkedin.com/jobs/view/devops-and-software-infrastructure-engineer-ansible-at-gmv-3964357310?refId=RdedVh4j8Ltwj0EyXoSKYA%3D%3D&trackingId=uMxDoyrrj9XptjH0t%2F0j9w%3D%3D&position=17&pageNum=14\n"
     ]
    },
    {
     "name": "stderr",
     "output_type": "stream",
     "text": [
      " 67%|██████▋   | 651/973 [16:33<09:23,  1.75s/it]"
     ]
    },
    {
     "name": "stdout",
     "output_type": "stream",
     "text": [
      "------------------------------------------------\n",
      "Num intentos: 1, URL: https://es.linkedin.com/jobs/view/advanced-analytics-engineer-caf-digital-services-at-caf-construcciones-y-auxiliar-de-ferrocarriles-4103405477?refId=RdedVh4j8Ltwj0EyXoSKYA%3D%3D&trackingId=pI2Huu%2FEVsW4%2FtNxBZUO2Q%3D%3D&position=18&pageNum=14\n"
     ]
    },
    {
     "name": "stderr",
     "output_type": "stream",
     "text": [
      " 67%|██████▋   | 652/973 [16:35<08:52,  1.66s/it]"
     ]
    },
    {
     "name": "stdout",
     "output_type": "stream",
     "text": [
      "------------------------------------------------\n"
     ]
    },
    {
     "name": "stderr",
     "output_type": "stream",
     "text": [
      " 67%|██████▋   | 653/973 [16:36<08:15,  1.55s/it]"
     ]
    },
    {
     "name": "stdout",
     "output_type": "stream",
     "text": [
      "Num intentos: 1, URL: https://es.linkedin.com/jobs/view/analista-de-datos-formato-h%C3%ADbrido-at-avalora-tecnolog%C3%ADas-de-la-informaci%C3%B3n-4122191989?refId=RdedVh4j8Ltwj0EyXoSKYA%3D%3D&trackingId=Iw0%2FyNHHZkInNYecWd8Amw%3D%3D&position=19&pageNum=14\n",
      "Error en el link: https://es.linkedin.com/jobs/view/analista-de-datos-formato-h%C3%ADbrido-at-avalora-tecnolog%C3%ADas-de-la-informaci%C3%B3n-4122191989?refId=RdedVh4j8Ltwj0EyXoSKYA%3D%3D&trackingId=Iw0%2FyNHHZkInNYecWd8Amw%3D%3D&position=19&pageNum=14\n",
      "------------------------------------------------\n",
      "Num intentos: 1, URL: https://es.linkedin.com/jobs/view/marketing-data-analyst-at-tabby-4127900609?refId=kEewYSP0sda%2BAS9qJ05byw%3D%3D&trackingId=2uJp2DhbfdnHoaN7ZvyTYw%3D%3D&position=6&pageNum=15\n"
     ]
    },
    {
     "name": "stderr",
     "output_type": "stream",
     "text": [
      " 67%|██████▋   | 654/973 [16:38<09:27,  1.78s/it]"
     ]
    },
    {
     "name": "stdout",
     "output_type": "stream",
     "text": [
      "------------------------------------------------\n",
      "Num intentos: 1, URL: https://es.linkedin.com/jobs/view/senior-data-engineer-fintech-at-ebury-4127506392?refId=kEewYSP0sda%2BAS9qJ05byw%3D%3D&trackingId=soQAPuaj7%2BdSULoe%2BfOLHw%3D%3D&position=7&pageNum=15\n"
     ]
    },
    {
     "name": "stderr",
     "output_type": "stream",
     "text": [
      " 67%|██████▋   | 655/973 [16:40<09:30,  1.79s/it]"
     ]
    },
    {
     "name": "stdout",
     "output_type": "stream",
     "text": [
      "------------------------------------------------\n",
      "Num intentos: 1, URL: https://es.linkedin.com/jobs/view/especialista-en-modelado-de-datos-at-ad4-oct%C3%B3gono-4124335069?refId=5iMqGO1%2FHzfh4hS6zDhIBw%3D%3D&trackingId=K6Wotfb9d3xD%2FWFM80K%2B8A%3D%3D&position=14&pageNum=17\n"
     ]
    },
    {
     "name": "stderr",
     "output_type": "stream",
     "text": [
      " 67%|██████▋   | 656/973 [16:42<08:38,  1.64s/it]"
     ]
    },
    {
     "name": "stdout",
     "output_type": "stream",
     "text": [
      "------------------------------------------------\n",
      "Num intentos: 1, URL: https://es.linkedin.com/jobs/view/java-software-engineer-%2B-aws-remoto-at-knowmad-mood-4123155132?refId=5iMqGO1%2FHzfh4hS6zDhIBw%3D%3D&trackingId=b4GskbmVbvRWZU%2FtWiV%2Ftw%3D%3D&position=18&pageNum=17\n"
     ]
    },
    {
     "name": "stderr",
     "output_type": "stream",
     "text": [
      " 68%|██████▊   | 657/973 [16:43<08:52,  1.69s/it]"
     ]
    },
    {
     "name": "stdout",
     "output_type": "stream",
     "text": [
      "------------------------------------------------\n",
      "Num intentos: 1, URL: https://es.linkedin.com/jobs/view/azure-platform-engineer-senior-%E2%80%93-hibrido-ingles-at-irium-4126542845?refId=5iMqGO1%2FHzfh4hS6zDhIBw%3D%3D&trackingId=JBv%2Fa8%2B9O%2BYmGvHdG87fsA%3D%3D&position=20&pageNum=17\n"
     ]
    },
    {
     "name": "stderr",
     "output_type": "stream",
     "text": [
      " 68%|██████▊   | 658/973 [16:45<08:41,  1.66s/it]"
     ]
    },
    {
     "name": "stdout",
     "output_type": "stream",
     "text": [
      "------------------------------------------------\n",
      "Num intentos: 1, URL: https://es.linkedin.com/jobs/view/senior-java-software-engineer-at-coforge-4119365926?refId=5iMqGO1%2FHzfh4hS6zDhIBw%3D%3D&trackingId=Bd30xYst%2F00s60Kr0IP05g%3D%3D&position=24&pageNum=17\n"
     ]
    },
    {
     "name": "stderr",
     "output_type": "stream",
     "text": [
      " 68%|██████▊   | 659/973 [16:47<08:51,  1.69s/it]"
     ]
    },
    {
     "name": "stdout",
     "output_type": "stream",
     "text": [
      "------------------------------------------------\n",
      "Num intentos: 1, URL: https://es.linkedin.com/jobs/view/light-transport-aircraft-mechanical-system-engineer-at-airbus-defence-and-space-4053139031?refId=5iMqGO1%2FHzfh4hS6zDhIBw%3D%3D&trackingId=aWC6DtJ9rNqDzvmZOFj%2Bxw%3D%3D&position=25&pageNum=17\n"
     ]
    },
    {
     "name": "stderr",
     "output_type": "stream",
     "text": [
      " 68%|██████▊   | 660/973 [16:49<09:02,  1.73s/it]"
     ]
    },
    {
     "name": "stdout",
     "output_type": "stream",
     "text": [
      "------------------------------------------------\n",
      "Num intentos: 1, URL: https://es.linkedin.com/jobs/view/software-engineer-python-and-k8s-at-canonical-4127922733?refId=jlTvqtUYEFUTXMPpb2kHVA%3D%3D&trackingId=3PHPkGBOzgB3TghLgyG8NQ%3D%3D&position=2&pageNum=19\n"
     ]
    },
    {
     "name": "stderr",
     "output_type": "stream",
     "text": [
      " 68%|██████▊   | 661/973 [16:50<09:06,  1.75s/it]"
     ]
    },
    {
     "name": "stdout",
     "output_type": "stream",
     "text": [
      "------------------------------------------------\n",
      "Num intentos: 1, URL: https://es.linkedin.com/jobs/view/senior-cloud-database-engineer-f-m-d-at-axpo-group-3982696390?refId=jlTvqtUYEFUTXMPpb2kHVA%3D%3D&trackingId=T9gDogyl5FtIPdCS6oAMsw%3D%3D&position=14&pageNum=19\n"
     ]
    },
    {
     "name": "stderr",
     "output_type": "stream",
     "text": [
      " 68%|██████▊   | 662/973 [16:52<08:59,  1.73s/it]"
     ]
    },
    {
     "name": "stdout",
     "output_type": "stream",
     "text": [
      "------------------------------------------------\n",
      "Num intentos: 1, URL: https://es.linkedin.com/jobs/view/system-development-engineer-intern-6-months-%2B-at-amazon-4104603931?refId=jlTvqtUYEFUTXMPpb2kHVA%3D%3D&trackingId=HAtyYY2Ww%2B%2FHk%2BIeUzPe3w%3D%3D&position=18&pageNum=19\n"
     ]
    },
    {
     "name": "stderr",
     "output_type": "stream",
     "text": [
      " 68%|██████▊   | 663/973 [16:54<09:06,  1.76s/it]"
     ]
    },
    {
     "name": "stdout",
     "output_type": "stream",
     "text": [
      "------------------------------------------------\n",
      "Num intentos: 1, URL: https://es.linkedin.com/jobs/view/software-engineer-python-and-k8s-at-canonical-4127923450?refId=jlTvqtUYEFUTXMPpb2kHVA%3D%3D&trackingId=vr4J2TjtnEMUHCcrR5K6Yw%3D%3D&position=25&pageNum=19\n"
     ]
    },
    {
     "name": "stderr",
     "output_type": "stream",
     "text": [
      " 68%|██████▊   | 664/973 [16:56<09:24,  1.83s/it]"
     ]
    },
    {
     "name": "stdout",
     "output_type": "stream",
     "text": [
      "------------------------------------------------\n",
      "Num intentos: 1, URL: https://es.linkedin.com/jobs/view/software-engineer-python-and-k8s-at-canonical-4127923450?refId=RVoI%2BWwn15hCaFEnz4TWeA%3D%3D&trackingId=StS9JoyF%2F9Z17x8sSMIjnw%3D%3D&position=11&pageNum=20\n"
     ]
    },
    {
     "name": "stderr",
     "output_type": "stream",
     "text": [
      " 68%|██████▊   | 665/973 [16:57<09:07,  1.78s/it]"
     ]
    },
    {
     "name": "stdout",
     "output_type": "stream",
     "text": [
      "------------------------------------------------\n",
      "Num intentos: 1, URL: https://es.linkedin.com/jobs/view/software-engineer-for-defence-projects-at-gmv-3954173447?refId=RVoI%2BWwn15hCaFEnz4TWeA%3D%3D&trackingId=7rJy%2F8uUui6xcsK54ZtZ5Q%3D%3D&position=12&pageNum=20\n"
     ]
    },
    {
     "name": "stderr",
     "output_type": "stream",
     "text": [
      " 68%|██████▊   | 666/973 [16:59<08:55,  1.75s/it]"
     ]
    },
    {
     "name": "stdout",
     "output_type": "stream",
     "text": [
      "------------------------------------------------\n",
      "Num intentos: 1, URL: https://es.linkedin.com/jobs/view/business-intelligence-consultant-at-datais-4128736063?refId=LtGvNDRbIiqTwa1XzDQk5w%3D%3D&trackingId=SxOwUljFjEVJP8Hejwx87A%3D%3D&position=4&pageNum=21\n"
     ]
    },
    {
     "name": "stderr",
     "output_type": "stream",
     "text": [
      " 69%|██████▊   | 667/973 [17:01<08:34,  1.68s/it]"
     ]
    },
    {
     "name": "stdout",
     "output_type": "stream",
     "text": [
      "------------------------------------------------\n",
      "Num intentos: 1, URL: https://es.linkedin.com/jobs/view/semantic-software-engineer-at-ntt-data-europe-latam-4127271675?refId=LtGvNDRbIiqTwa1XzDQk5w%3D%3D&trackingId=ixJboKTc00gpPbcPYOdMQg%3D%3D&position=7&pageNum=21\n"
     ]
    },
    {
     "name": "stderr",
     "output_type": "stream",
     "text": [
      " 69%|██████▊   | 668/973 [17:02<08:19,  1.64s/it]"
     ]
    },
    {
     "name": "stdout",
     "output_type": "stream",
     "text": [
      "------------------------------------------------\n",
      "Num intentos: 1, URL: https://es.linkedin.com/jobs/view/cient%C3%ADfico-a-de-datos-at-sanitas-4090283254?refId=LtGvNDRbIiqTwa1XzDQk5w%3D%3D&trackingId=zvEyAHIvoV48%2FJPK5%2FkPXA%3D%3D&position=24&pageNum=21\n"
     ]
    },
    {
     "name": "stderr",
     "output_type": "stream",
     "text": [
      " 69%|██████▉   | 669/973 [17:04<08:24,  1.66s/it]"
     ]
    },
    {
     "name": "stdout",
     "output_type": "stream",
     "text": [
      "------------------------------------------------\n",
      "Num intentos: 1, URL: https://es.linkedin.com/jobs/view/software-engineer-iac-at-ibm-4132743091?refId=mXSy218UvW9GMbgT3jByKg%3D%3D&trackingId=l%2Bj9HRHBEJC5cTRbG%2BToFQ%3D%3D&position=14&pageNum=22\n"
     ]
    },
    {
     "name": "stderr",
     "output_type": "stream",
     "text": [
      " 69%|██████▉   | 670/973 [17:06<08:37,  1.71s/it]"
     ]
    },
    {
     "name": "stdout",
     "output_type": "stream",
     "text": [
      "------------------------------------------------\n",
      "Num intentos: 1, URL: https://es.linkedin.com/jobs/view/software-engineer-iac-at-ibm-4132740300?refId=mXSy218UvW9GMbgT3jByKg%3D%3D&trackingId=YCZhngxCW1qQ0DWs8QDxcA%3D%3D&position=16&pageNum=22\n"
     ]
    },
    {
     "name": "stderr",
     "output_type": "stream",
     "text": [
      " 69%|██████▉   | 671/973 [17:08<09:14,  1.84s/it]"
     ]
    },
    {
     "name": "stdout",
     "output_type": "stream",
     "text": [
      "------------------------------------------------\n",
      "Num intentos: 1, URL: https://es.linkedin.com/jobs/view/software-engineer-m-f-d-at-basf-4126254480?refId=mXSy218UvW9GMbgT3jByKg%3D%3D&trackingId=GIdEFcnJ982pyqXFggDL9Q%3D%3D&position=19&pageNum=22\n"
     ]
    },
    {
     "name": "stderr",
     "output_type": "stream",
     "text": [
      " 69%|██████▉   | 672/973 [17:10<09:08,  1.82s/it]"
     ]
    },
    {
     "name": "stdout",
     "output_type": "stream",
     "text": [
      "------------------------------------------------\n",
      "Num intentos: 1, URL: https://es.linkedin.com/jobs/view/software-development-engineer-sde-madrid-euic-core-search-cx-at-amazon-4125403492?refId=mXSy218UvW9GMbgT3jByKg%3D%3D&trackingId=XsDqx0VStT6u9vy5LhgYag%3D%3D&position=24&pageNum=22\n"
     ]
    },
    {
     "name": "stderr",
     "output_type": "stream",
     "text": [
      " 69%|██████▉   | 673/973 [17:11<09:06,  1.82s/it]"
     ]
    },
    {
     "name": "stdout",
     "output_type": "stream",
     "text": [
      "------------------------------------------------\n",
      "Num intentos: 1, URL: https://es.linkedin.com/jobs/view/azure-analytics-lead-at-avvale-4124704860?refId=6iugOUKVCcIlzIMTSgbc4A%3D%3D&trackingId=stLU9issFc66ZbArbKCGpA%3D%3D&position=4&pageNum=23\n"
     ]
    },
    {
     "name": "stderr",
     "output_type": "stream",
     "text": [
      " 69%|██████▉   | 674/973 [17:13<08:58,  1.80s/it]"
     ]
    },
    {
     "name": "stdout",
     "output_type": "stream",
     "text": [
      "------------------------------------------------\n",
      "Num intentos: 1, URL: https://es.linkedin.com/jobs/view/senior-software-engineer-python-mongodb-at-canonical-4127539166?refId=6iugOUKVCcIlzIMTSgbc4A%3D%3D&trackingId=VYF%2BeMb5AAJZYp0fQSvs1A%3D%3D&position=16&pageNum=23\n"
     ]
    },
    {
     "name": "stderr",
     "output_type": "stream",
     "text": [
      " 69%|██████▉   | 675/973 [17:15<08:48,  1.77s/it]"
     ]
    },
    {
     "name": "stdout",
     "output_type": "stream",
     "text": [
      "------------------------------------------------\n",
      "Num intentos: 1, URL: https://es.linkedin.com/jobs/view/senior-software-engineer-python-mongodb-at-canonical-4127536277?refId=6iugOUKVCcIlzIMTSgbc4A%3D%3D&trackingId=F02d%2F6kfcRk1usQShvD7aw%3D%3D&position=17&pageNum=23\n"
     ]
    },
    {
     "name": "stderr",
     "output_type": "stream",
     "text": [
      " 69%|██████▉   | 676/973 [17:16<08:19,  1.68s/it]"
     ]
    },
    {
     "name": "stdout",
     "output_type": "stream",
     "text": [
      "------------------------------------------------\n",
      "Num intentos: 1, URL: https://es.linkedin.com/jobs/view/software-engineer-industrial-iot-at-canonical-4125126135?refId=6iugOUKVCcIlzIMTSgbc4A%3D%3D&trackingId=lMYompyuGn0xUay2lc5Hlg%3D%3D&position=21&pageNum=23\n"
     ]
    },
    {
     "name": "stderr",
     "output_type": "stream",
     "text": [
      " 70%|██████▉   | 677/973 [17:18<08:43,  1.77s/it]"
     ]
    },
    {
     "name": "stdout",
     "output_type": "stream",
     "text": [
      "------------------------------------------------\n",
      "Num intentos: 1, URL: https://es.linkedin.com/jobs/view/microsoft-powerplatform-engineer-at-ntt-data-europe-latam-4029002211?refId=6iugOUKVCcIlzIMTSgbc4A%3D%3D&trackingId=jkH%2Fm%2BMnFZEjzgQglhZJhA%3D%3D&position=25&pageNum=23\n"
     ]
    },
    {
     "name": "stderr",
     "output_type": "stream",
     "text": [
      " 70%|██████▉   | 678/973 [17:20<08:30,  1.73s/it]"
     ]
    },
    {
     "name": "stdout",
     "output_type": "stream",
     "text": [
      "------------------------------------------------\n",
      "Num intentos: 1, URL: https://es.linkedin.com/jobs/view/senior-software-engineer-data-science-at-datadog-2981122235?refId=6nUlb6gH8Ge0cwv7vGKOxQ%3D%3D&trackingId=PrDomU8CN1dAhA8adYR7Bg%3D%3D&position=1&pageNum=24\n"
     ]
    },
    {
     "name": "stderr",
     "output_type": "stream",
     "text": [
      " 70%|██████▉   | 679/973 [17:22<08:25,  1.72s/it]"
     ]
    },
    {
     "name": "stdout",
     "output_type": "stream",
     "text": [
      "------------------------------------------------\n",
      "Num intentos: 1, URL: https://es.linkedin.com/jobs/view/senior-salesforce-developer-at-bridgewater-resourcing-solutions-limited-4126184201?refId=xndk4q%2FZdLhddgb2PRN9DQ%3D%3D&trackingId=Dt32J2S%2Fg9kn6KGPXaKlwQ%3D%3D&position=5&pageNum=25\n"
     ]
    },
    {
     "name": "stderr",
     "output_type": "stream",
     "text": [
      " 70%|██████▉   | 680/973 [17:23<07:41,  1.58s/it]"
     ]
    },
    {
     "name": "stdout",
     "output_type": "stream",
     "text": [
      "------------------------------------------------\n",
      "Num intentos: 1, URL: https://es.linkedin.com/jobs/view/software-engineer-industrial-iot-at-canonical-4125125182?refId=xndk4q%2FZdLhddgb2PRN9DQ%3D%3D&trackingId=zAUmOn2NCGxECqEshqeh5g%3D%3D&position=13&pageNum=25\n"
     ]
    },
    {
     "name": "stderr",
     "output_type": "stream",
     "text": [
      " 70%|██████▉   | 681/973 [17:25<07:47,  1.60s/it]"
     ]
    },
    {
     "name": "stdout",
     "output_type": "stream",
     "text": [
      "------------------------------------------------\n",
      "Num intentos: 1, URL: https://es.linkedin.com/jobs/view/associate-data-centre-cloud-solution-architect-%E2%80%93-based-in-luxembourg-at-european-investment-bank-eib-4004131061?refId=xndk4q%2FZdLhddgb2PRN9DQ%3D%3D&trackingId=RUBImQ4TaXUcnyPlj93FNQ%3D%3D&position=16&pageNum=25\n"
     ]
    },
    {
     "name": "stderr",
     "output_type": "stream",
     "text": [
      " 70%|███████   | 682/973 [17:27<08:20,  1.72s/it]"
     ]
    },
    {
     "name": "stdout",
     "output_type": "stream",
     "text": [
      "------------------------------------------------\n",
      "Num intentos: 1, URL: https://es.linkedin.com/jobs/view/juju-software-engineer-go-at-canonical-4127925369?refId=xndk4q%2FZdLhddgb2PRN9DQ%3D%3D&trackingId=4aqgZ%2Bnw4JKD%2BCgnPtJnNA%3D%3D&position=22&pageNum=25\n"
     ]
    },
    {
     "name": "stderr",
     "output_type": "stream",
     "text": [
      " 70%|███████   | 683/973 [17:28<08:30,  1.76s/it]"
     ]
    },
    {
     "name": "stdout",
     "output_type": "stream",
     "text": [
      "------------------------------------------------\n",
      "Num intentos: 1, URL: https://es.linkedin.com/jobs/view/data-scientist-at-lognext-4121362560?refId=%2Fq8IkmAC8FsOi3L4LWt3mA%3D%3D&trackingId=BM3nKpZnn2E1NfpOGl072w%3D%3D&position=1&pageNum=26\n"
     ]
    },
    {
     "name": "stderr",
     "output_type": "stream",
     "text": [
      " 70%|███████   | 684/973 [17:30<08:36,  1.79s/it]"
     ]
    },
    {
     "name": "stdout",
     "output_type": "stream",
     "text": [
      "------------------------------------------------\n",
      "Num intentos: 1, URL: https://es.linkedin.com/jobs/view/linux-software-engineer-embedded-systems-at-canonical-4124707861?refId=%2Fq8IkmAC8FsOi3L4LWt3mA%3D%3D&trackingId=VgUsaVEll2OtLNfxdbepMQ%3D%3D&position=14&pageNum=26\n"
     ]
    },
    {
     "name": "stderr",
     "output_type": "stream",
     "text": [
      " 70%|███████   | 685/973 [17:32<08:29,  1.77s/it]"
     ]
    },
    {
     "name": "stdout",
     "output_type": "stream",
     "text": [
      "------------------------------------------------\n",
      "Num intentos: 1, URL: https://es.linkedin.com/jobs/view/convenio-pr%C3%A1cticas-remuneradas-data-analyst-at-sdg-group-espa%C3%B1a-3932560867?refId=%2Fq8IkmAC8FsOi3L4LWt3mA%3D%3D&trackingId=7nzKwCXSCRY4tyiRBWRBHg%3D%3D&position=17&pageNum=26\n"
     ]
    },
    {
     "name": "stderr",
     "output_type": "stream",
     "text": [
      " 71%|███████   | 686/973 [17:34<08:35,  1.79s/it]"
     ]
    },
    {
     "name": "stdout",
     "output_type": "stream",
     "text": [
      "------------------------------------------------\n",
      "Num intentos: 1, URL: https://es.linkedin.com/jobs/view/business-intelligence-analyst-at-securitas-direct-by-verisure-4126112916?refId=%2Fq8IkmAC8FsOi3L4LWt3mA%3D%3D&trackingId=N8AR19YOFstnqk8u%2FGC02w%3D%3D&position=18&pageNum=26\n"
     ]
    },
    {
     "name": "stderr",
     "output_type": "stream",
     "text": [
      " 71%|███████   | 687/973 [17:35<08:15,  1.73s/it]"
     ]
    },
    {
     "name": "stdout",
     "output_type": "stream",
     "text": [
      "------------------------------------------------\n",
      "Num intentos: 1, URL: https://es.linkedin.com/jobs/view/business-intelligence-analyst-at-securitas-direct-by-verisure-4126020254?refId=%2Fq8IkmAC8FsOi3L4LWt3mA%3D%3D&trackingId=j7Y9jZ11a89Of6vaVlWYGw%3D%3D&position=24&pageNum=26\n"
     ]
    },
    {
     "name": "stderr",
     "output_type": "stream",
     "text": [
      " 71%|███████   | 688/973 [17:37<07:47,  1.64s/it]"
     ]
    },
    {
     "name": "stdout",
     "output_type": "stream",
     "text": [
      "------------------------------------------------\n",
      "Num intentos: 1, URL: https://es.linkedin.com/jobs/view/software-engineer-senior-wavespace-data-ai-hub-at-ey-4036617417?refId=ayqrf6i0IBZ5ivdHUm4zEw%3D%3D&trackingId=qSYAtd16OGQta8ZtjYobvw%3D%3D&position=9&pageNum=27\n"
     ]
    },
    {
     "name": "stderr",
     "output_type": "stream",
     "text": [
      " 71%|███████   | 689/973 [17:39<07:46,  1.64s/it]"
     ]
    },
    {
     "name": "stdout",
     "output_type": "stream",
     "text": [
      "------------------------------------------------\n",
      "Num intentos: 1, URL: https://es.linkedin.com/jobs/view/global-media-data-analyst-at-havas-media-network-espa%C3%B1a-4124674341?refId=ayqrf6i0IBZ5ivdHUm4zEw%3D%3D&trackingId=Ec%2BbqoIn2vsenIvnbu8PsA%3D%3D&position=13&pageNum=27\n"
     ]
    },
    {
     "name": "stderr",
     "output_type": "stream",
     "text": [
      " 71%|███████   | 690/973 [17:40<07:14,  1.54s/it]"
     ]
    },
    {
     "name": "stdout",
     "output_type": "stream",
     "text": [
      "------------------------------------------------\n",
      "Num intentos: 1, URL: https://es.linkedin.com/jobs/view/software-engineer-data-infrastructure-kafka-at-canonical-4127741225?refId=ayqrf6i0IBZ5ivdHUm4zEw%3D%3D&trackingId=U5b%2BrmpRndgVhloKYPljRg%3D%3D&position=15&pageNum=27\n"
     ]
    },
    {
     "name": "stderr",
     "output_type": "stream",
     "text": [
      " 71%|███████   | 691/973 [17:41<07:12,  1.54s/it]"
     ]
    },
    {
     "name": "stdout",
     "output_type": "stream",
     "text": [
      "------------------------------------------------\n",
      "Num intentos: 1, URL: https://es.linkedin.com/jobs/view/software-engineer-data-infrastructure-kafka-at-canonical-4127737678?refId=ayqrf6i0IBZ5ivdHUm4zEw%3D%3D&trackingId=WBiMIWbVjcUvOPaOwAG0Pw%3D%3D&position=16&pageNum=27\n"
     ]
    },
    {
     "name": "stderr",
     "output_type": "stream",
     "text": [
      " 71%|███████   | 692/973 [17:43<07:57,  1.70s/it]"
     ]
    },
    {
     "name": "stdout",
     "output_type": "stream",
     "text": [
      "------------------------------------------------\n",
      "Num intentos: 1, URL: https://es.linkedin.com/jobs/view/software-engineer-java-mid-senior-at-revolut-3153632669?refId=ayqrf6i0IBZ5ivdHUm4zEw%3D%3D&trackingId=3TpVSEdiv1tGs6glXC1Fmg%3D%3D&position=20&pageNum=27\n"
     ]
    },
    {
     "name": "stderr",
     "output_type": "stream",
     "text": [
      " 71%|███████   | 693/973 [17:45<08:17,  1.78s/it]"
     ]
    },
    {
     "name": "stdout",
     "output_type": "stream",
     "text": [
      "------------------------------------------------\n",
      "Num intentos: 1, URL: https://es.linkedin.com/jobs/view/senior-software-engineer-ey-wavespace-data-ai-hub-at-ey-4062014459?refId=ayqrf6i0IBZ5ivdHUm4zEw%3D%3D&trackingId=sooq2B5XcJ02R1lh4dsLbg%3D%3D&position=22&pageNum=27\n"
     ]
    },
    {
     "name": "stderr",
     "output_type": "stream",
     "text": [
      " 71%|███████▏  | 694/973 [17:47<08:17,  1.78s/it]"
     ]
    },
    {
     "name": "stdout",
     "output_type": "stream",
     "text": [
      "------------------------------------------------\n",
      "Num intentos: 1, URL: https://es.linkedin.com/jobs/view/linux-software-engineer-embedded-systems-at-canonical-4124713239?refId=ayqrf6i0IBZ5ivdHUm4zEw%3D%3D&trackingId=IEz32B7QQn%2F%2FUCKugV2KUQ%3D%3D&position=24&pageNum=27\n"
     ]
    },
    {
     "name": "stderr",
     "output_type": "stream",
     "text": [
      " 71%|███████▏  | 695/973 [17:49<08:21,  1.81s/it]"
     ]
    },
    {
     "name": "stdout",
     "output_type": "stream",
     "text": [
      "------------------------------------------------\n",
      "Num intentos: 1, URL: https://es.linkedin.com/jobs/view/beca-data-analytics-marketing-y-publicidad-at-publicis-groupe-espa%C3%B1a-4123349690?refId=27zDqnaAzgOwPOyBAP6gyA%3D%3D&trackingId=%2BYq1SEi9WRzfSeWa2z2H9w%3D%3D&position=2&pageNum=28\n"
     ]
    },
    {
     "name": "stderr",
     "output_type": "stream",
     "text": [
      " 72%|███████▏  | 696/973 [17:51<08:11,  1.78s/it]"
     ]
    },
    {
     "name": "stdout",
     "output_type": "stream",
     "text": [
      "------------------------------------------------\n",
      "Num intentos: 1, URL: https://es.linkedin.com/jobs/view/data-scientist-at-mymoid-4123361688?refId=27zDqnaAzgOwPOyBAP6gyA%3D%3D&trackingId=NooEdfORrryOaXRXMSJoyA%3D%3D&position=16&pageNum=28\n"
     ]
    },
    {
     "name": "stderr",
     "output_type": "stream",
     "text": [
      " 72%|███████▏  | 697/973 [17:53<08:10,  1.78s/it]"
     ]
    },
    {
     "name": "stdout",
     "output_type": "stream",
     "text": [
      "------------------------------------------------\n",
      "Num intentos: 1, URL: https://es.linkedin.com/jobs/view/juju-software-engineer-go-at-canonical-4127925363?refId=27zDqnaAzgOwPOyBAP6gyA%3D%3D&trackingId=%2Buof86HrQnPNAB%2BRDkIrkQ%3D%3D&position=24&pageNum=28\n"
     ]
    },
    {
     "name": "stderr",
     "output_type": "stream",
     "text": [
      " 72%|███████▏  | 698/973 [17:55<08:55,  1.95s/it]"
     ]
    },
    {
     "name": "stdout",
     "output_type": "stream",
     "text": [
      "------------------------------------------------\n",
      "Num intentos: 1, URL: https://es.linkedin.com/jobs/view/embedded-software-engineer-at-marvell-technology-4122696722?refId=BzKsdm%2FLcWVFlzPY6XXEyg%3D%3D&trackingId=yD%2BDHH6GtH6qkN3Knrs%2FZA%3D%3D&position=3&pageNum=29\n"
     ]
    },
    {
     "name": "stderr",
     "output_type": "stream",
     "text": [
      " 72%|███████▏  | 699/973 [17:56<07:57,  1.74s/it]"
     ]
    },
    {
     "name": "stdout",
     "output_type": "stream",
     "text": [
      "------------------------------------------------\n",
      "Num intentos: 1, URL: https://es.linkedin.com/jobs/view/electrical-system-installation-engineer-m-w-d-at-sogeclair-4126509372?refId=BzKsdm%2FLcWVFlzPY6XXEyg%3D%3D&trackingId=%2B1msgJZa1tygQZJZ0fKGmw%3D%3D&position=7&pageNum=29\n"
     ]
    },
    {
     "name": "stderr",
     "output_type": "stream",
     "text": [
      " 72%|███████▏  | 700/973 [17:58<07:52,  1.73s/it]"
     ]
    },
    {
     "name": "stdout",
     "output_type": "stream",
     "text": [
      "------------------------------------------------\n",
      "Num intentos: 1, URL: https://es.linkedin.com/jobs/view/software-engineer-sales-conversion-at-prima-4122662421?refId=BzKsdm%2FLcWVFlzPY6XXEyg%3D%3D&trackingId=xjmNU%2FbVuVf%2FMvWMsfPz6Q%3D%3D&position=15&pageNum=29\n"
     ]
    },
    {
     "name": "stderr",
     "output_type": "stream",
     "text": [
      " 72%|███████▏  | 701/973 [17:59<07:36,  1.68s/it]"
     ]
    },
    {
     "name": "stdout",
     "output_type": "stream",
     "text": [
      "------------------------------------------------\n",
      "Num intentos: 1, URL: https://es.linkedin.com/jobs/view/team-lead-data-analytics-products-at-vodafone-4121060031?refId=4T3q6%2BDUDS%2Fwfb0hIc%2BkJw%3D%3D&trackingId=Ix8FtlJdnoH%2FsKbxaIVZng%3D%3D&position=13&pageNum=30\n"
     ]
    },
    {
     "name": "stderr",
     "output_type": "stream",
     "text": [
      " 72%|███████▏  | 702/973 [18:01<07:57,  1.76s/it]"
     ]
    },
    {
     "name": "stdout",
     "output_type": "stream",
     "text": [
      "------------------------------------------------\n",
      "Num intentos: 1, URL: https://es.linkedin.com/jobs/view/data-scientist-at-tomtom-3952875685?refId=4T3q6%2BDUDS%2Fwfb0hIc%2BkJw%3D%3D&trackingId=a3F2XGIdm6eHjJOflvt4lQ%3D%3D&position=23&pageNum=30\n"
     ]
    },
    {
     "name": "stderr",
     "output_type": "stream",
     "text": [
      " 72%|███████▏  | 703/973 [18:03<08:12,  1.82s/it]"
     ]
    },
    {
     "name": "stdout",
     "output_type": "stream",
     "text": [
      "------------------------------------------------\n",
      "Num intentos: 1, URL: https://es.linkedin.com/jobs/view/software-engineer-java-credit-at-revolut-3821091247?refId=pvzzDZKJw%2BBNu7o7uLGHhw%3D%3D&trackingId=PPpaGE7KpIzU%2B12ix5wjzw%3D%3D&position=10&pageNum=31\n"
     ]
    },
    {
     "name": "stderr",
     "output_type": "stream",
     "text": [
      " 72%|███████▏  | 704/973 [18:06<08:42,  1.94s/it]"
     ]
    },
    {
     "name": "stdout",
     "output_type": "stream",
     "text": [
      "------------------------------------------------\n",
      "Num intentos: 1, URL: https://es.linkedin.com/jobs/view/process-engineer-at-tecnicas-reunidas-4121359826?refId=pvzzDZKJw%2BBNu7o7uLGHhw%3D%3D&trackingId=H73yL7PxZ231G9z1Wom8pQ%3D%3D&position=12&pageNum=31\n"
     ]
    },
    {
     "name": "stderr",
     "output_type": "stream",
     "text": [
      " 72%|███████▏  | 705/973 [18:07<08:11,  1.84s/it]"
     ]
    },
    {
     "name": "stdout",
     "output_type": "stream",
     "text": [
      "------------------------------------------------\n",
      "Num intentos: 1, URL: https://es.linkedin.com/jobs/view/c%2B%2B-delphi-software-engineer-at-bme-bolsas-y-mercados-espa%C3%B1oles-4127577292?refId=iogc%2B4XiXLpYrKPr7Us7Lw%3D%3D&trackingId=RJqvH%2BNOSuTLkDo6bNUsAQ%3D%3D&position=2&pageNum=32\n"
     ]
    },
    {
     "name": "stderr",
     "output_type": "stream",
     "text": [
      " 73%|███████▎  | 706/973 [18:09<07:56,  1.78s/it]"
     ]
    },
    {
     "name": "stdout",
     "output_type": "stream",
     "text": [
      "------------------------------------------------\n",
      "Num intentos: 1, URL: https://es.linkedin.com/jobs/view/omnichannel-advanced-analytics-analyst-at-loewe-4127621014?refId=iogc%2B4XiXLpYrKPr7Us7Lw%3D%3D&trackingId=RE9aJI3dVQj1vxajlCE1VA%3D%3D&position=6&pageNum=32\n"
     ]
    },
    {
     "name": "stderr",
     "output_type": "stream",
     "text": [
      " 73%|███████▎  | 707/973 [18:11<07:58,  1.80s/it]"
     ]
    },
    {
     "name": "stdout",
     "output_type": "stream",
     "text": [
      "------------------------------------------------\n",
      "Num intentos: 1, URL: https://es.linkedin.com/jobs/view/net-senior-software-engineer-at-knowmad-mood-4125987718?refId=iogc%2B4XiXLpYrKPr7Us7Lw%3D%3D&trackingId=T2y72olD07YioyNkR%2F1yig%3D%3D&position=20&pageNum=32\n"
     ]
    },
    {
     "name": "stderr",
     "output_type": "stream",
     "text": [
      " 73%|███████▎  | 708/973 [18:12<07:43,  1.75s/it]"
     ]
    },
    {
     "name": "stdout",
     "output_type": "stream",
     "text": [
      "------------------------------------------------\n",
      "Num intentos: 1, URL: https://es.linkedin.com/jobs/view/software-engineer-runtime-configuration-at-datadog-3964920911?refId=jYUCayDj5AktnYUNOxZvEQ%3D%3D&trackingId=UPX1JOEjPsJ8RcN%2Bftbzwg%3D%3D&position=4&pageNum=34\n"
     ]
    },
    {
     "name": "stderr",
     "output_type": "stream",
     "text": [
      " 73%|███████▎  | 709/973 [18:15<08:56,  2.03s/it]"
     ]
    },
    {
     "name": "stdout",
     "output_type": "stream",
     "text": [
      "------------------------------------------------\n",
      "Num intentos: 1, URL: https://es.linkedin.com/jobs/view/staff-software-engineer-banking-capital-markets-at-chainlink-labs-4129362203?refId=jYUCayDj5AktnYUNOxZvEQ%3D%3D&trackingId=41Ptuj4lNOMMvyx9lfMIrw%3D%3D&position=13&pageNum=34\n"
     ]
    },
    {
     "name": "stderr",
     "output_type": "stream",
     "text": [
      " 73%|███████▎  | 710/973 [18:17<08:24,  1.92s/it]"
     ]
    },
    {
     "name": "stdout",
     "output_type": "stream",
     "text": [
      "------------------------------------------------\n",
      "Num intentos: 1, URL: https://es.linkedin.com/jobs/view/project-engineer-m-f-d-software-development-for-traction-control-systems-at-siemens-4128318214?refId=k9%2FkRnfSBzcobArEZmRAig%3D%3D&trackingId=gr4k5JbjsjwSaRPFdUioaQ%3D%3D&position=6&pageNum=35\n"
     ]
    },
    {
     "name": "stderr",
     "output_type": "stream",
     "text": [
      " 73%|███████▎  | 711/973 [18:18<07:31,  1.72s/it]"
     ]
    },
    {
     "name": "stdout",
     "output_type": "stream",
     "text": [
      "------------------------------------------------\n",
      "Num intentos: 1, URL: https://es.linkedin.com/jobs/view/senior-software-engineer-digital-workplace-at-canonical-4124794660?refId=k9%2FkRnfSBzcobArEZmRAig%3D%3D&trackingId=IQ2xl%2FF%2Blc7Mp0FTUa9d0w%3D%3D&position=8&pageNum=35\n"
     ]
    },
    {
     "name": "stderr",
     "output_type": "stream",
     "text": [
      " 73%|███████▎  | 712/973 [18:20<07:55,  1.82s/it]"
     ]
    },
    {
     "name": "stdout",
     "output_type": "stream",
     "text": [
      "------------------------------------------------\n",
      "Num intentos: 1, URL: https://es.linkedin.com/jobs/view/software-development-engineer-amazon-device-os-at-amazon-4035971179?refId=k9%2FkRnfSBzcobArEZmRAig%3D%3D&trackingId=TFEtoQebob84XTDaO4pdrw%3D%3D&position=12&pageNum=35\n"
     ]
    },
    {
     "name": "stderr",
     "output_type": "stream",
     "text": [
      " 73%|███████▎  | 713/973 [18:22<07:49,  1.81s/it]"
     ]
    },
    {
     "name": "stdout",
     "output_type": "stream",
     "text": [
      "------------------------------------------------\n",
      "Num intentos: 1, URL: https://es.linkedin.com/jobs/view/power-bi-senior-consultant-at-orange-business-4125911202?refId=k9%2FkRnfSBzcobArEZmRAig%3D%3D&trackingId=qo4jqIVVMt2Kzh%2BnHayIgA%3D%3D&position=17&pageNum=35\n"
     ]
    },
    {
     "name": "stderr",
     "output_type": "stream",
     "text": [
      " 73%|███████▎  | 714/973 [18:23<07:30,  1.74s/it]"
     ]
    },
    {
     "name": "stdout",
     "output_type": "stream",
     "text": [
      "------------------------------------------------\n",
      "Num intentos: 1, URL: https://es.linkedin.com/jobs/view/senior-software-engineer-digital-workplace-at-canonical-4124794662?refId=FnhfE%2BUO6DlfX1s9TYmIuw%3D%3D&trackingId=%2Fp9lfiZu8DePNL%2BstnOCnw%3D%3D&position=8&pageNum=36\n"
     ]
    },
    {
     "name": "stderr",
     "output_type": "stream",
     "text": [
      " 73%|███████▎  | 715/973 [18:25<07:18,  1.70s/it]"
     ]
    },
    {
     "name": "stdout",
     "output_type": "stream",
     "text": [
      "------------------------------------------------\n",
      "Num intentos: 1, URL: https://es.linkedin.com/jobs/view/software-technical-lead-engineer-azure-m-f-d-at-fresenius-medical-care-4127204053?refId=FnhfE%2BUO6DlfX1s9TYmIuw%3D%3D&trackingId=BmzjT%2BRRCGRF%2B1sSUM8SRQ%3D%3D&position=13&pageNum=36\n"
     ]
    },
    {
     "name": "stderr",
     "output_type": "stream",
     "text": [
      " 74%|███████▎  | 716/973 [18:27<08:07,  1.90s/it]"
     ]
    },
    {
     "name": "stdout",
     "output_type": "stream",
     "text": [
      "------------------------------------------------\n",
      "Num intentos: 1, URL: https://es.linkedin.com/jobs/view/senior-manager-data-engineering-at-accenture-espa%C3%B1a-4093669544?refId=FnhfE%2BUO6DlfX1s9TYmIuw%3D%3D&trackingId=6nIP4TZmEwvfWLFINogdqA%3D%3D&position=15&pageNum=36\n"
     ]
    },
    {
     "name": "stderr",
     "output_type": "stream",
     "text": [
      " 74%|███████▎  | 717/973 [18:29<08:02,  1.89s/it]"
     ]
    },
    {
     "name": "stdout",
     "output_type": "stream",
     "text": [
      "------------------------------------------------\n",
      "Num intentos: 1, URL: https://es.linkedin.com/jobs/view/senior-software-quality-assurance-engineer-%E2%80%93-based-in-luxembourg-at-european-investment-bank-eib-3961494944?refId=FnhfE%2BUO6DlfX1s9TYmIuw%3D%3D&trackingId=VHZK9nU3qMMae5K%2FmAMVOA%3D%3D&position=21&pageNum=36\n"
     ]
    },
    {
     "name": "stderr",
     "output_type": "stream",
     "text": [
      " 74%|███████▍  | 718/973 [18:31<08:32,  2.01s/it]"
     ]
    },
    {
     "name": "stdout",
     "output_type": "stream",
     "text": [
      "------------------------------------------------\n",
      "Num intentos: 1, URL: https://es.linkedin.com/jobs/view/critical-software-engineer-for-navigation-systems-at-gmv-4124746702?refId=M92tBlvFSrvwBHhPL3Il6Q%3D%3D&trackingId=9OA4umgJp6yifnQufe4dQg%3D%3D&position=17&pageNum=37\n"
     ]
    },
    {
     "name": "stderr",
     "output_type": "stream",
     "text": [
      " 74%|███████▍  | 719/973 [18:33<08:14,  1.94s/it]"
     ]
    },
    {
     "name": "stdout",
     "output_type": "stream",
     "text": [
      "------------------------------------------------\n",
      "Num intentos: 1, URL: https://es.linkedin.com/jobs/view/senior-software-engineer-m-f-d-at-fresenius-medical-care-4127200463?refId=M92tBlvFSrvwBHhPL3Il6Q%3D%3D&trackingId=hNFUl9sAaO2E8k4ehZ0Qpw%3D%3D&position=20&pageNum=37\n"
     ]
    },
    {
     "name": "stderr",
     "output_type": "stream",
     "text": [
      " 74%|███████▍  | 720/973 [18:35<08:02,  1.91s/it]"
     ]
    },
    {
     "name": "stdout",
     "output_type": "stream",
     "text": [
      "------------------------------------------------\n",
      "Num intentos: 1, URL: https://es.linkedin.com/jobs/view/data-scientist-mlops-at-ad4-oct%C3%B3gono-4122658606?refId=M92tBlvFSrvwBHhPL3Il6Q%3D%3D&trackingId=%2FRVZg534Y4HUKU%2BPIHHkKQ%3D%3D&position=21&pageNum=37\n"
     ]
    },
    {
     "name": "stderr",
     "output_type": "stream",
     "text": [
      " 74%|███████▍  | 721/973 [18:36<07:14,  1.72s/it]"
     ]
    },
    {
     "name": "stdout",
     "output_type": "stream",
     "text": [
      "------------------------------------------------\n",
      "Num intentos: 1, URL: https://es.linkedin.com/jobs/view/senior-software-engineer-runtime-configuration-at-datadog-3964922604?refId=4aUxUe7ReM%2FfmMEQZ%2Bz1sA%3D%3D&trackingId=rnAyAEDJIgOaNgNxDMWy4w%3D%3D&position=22&pageNum=38\n"
     ]
    },
    {
     "name": "stderr",
     "output_type": "stream",
     "text": [
      " 74%|███████▍  | 722/973 [18:38<07:30,  1.80s/it]"
     ]
    },
    {
     "name": "stdout",
     "output_type": "stream",
     "text": [
      "------------------------------------------------\n",
      "Num intentos: 1, URL: https://es.linkedin.com/jobs/view/video-streaming-software-engineer-at-npaw-4124659997?refId=xPrcwAXkZO4mu5jDn0JJDg%3D%3D&trackingId=zgrZyilTpuktnoj5lo2P2w%3D%3D&position=2&pageNum=39\n"
     ]
    },
    {
     "name": "stderr",
     "output_type": "stream",
     "text": [
      " 74%|███████▍  | 723/973 [18:40<07:09,  1.72s/it]"
     ]
    },
    {
     "name": "stdout",
     "output_type": "stream",
     "text": [
      "------------------------------------------------\n",
      "Num intentos: 1, URL: https://es.linkedin.com/jobs/view/senior-r-d-engineer-system-architecture-italy-or-netherlands-based-at-axelera-ai-4125220671?refId=xPrcwAXkZO4mu5jDn0JJDg%3D%3D&trackingId=%2FS3NHw2n%2BUWH2mzFTNSl8Q%3D%3D&position=3&pageNum=39\n"
     ]
    },
    {
     "name": "stderr",
     "output_type": "stream",
     "text": [
      " 74%|███████▍  | 724/973 [18:41<06:44,  1.62s/it]"
     ]
    },
    {
     "name": "stdout",
     "output_type": "stream",
     "text": [
      "------------------------------------------------\n",
      "Num intentos: 1, URL: https://es.linkedin.com/jobs/view/technical-lead-software-engineer-hybrid-setup-at-iptiq-by-swiss-re-4020121617?refId=xPrcwAXkZO4mu5jDn0JJDg%3D%3D&trackingId=XYsmp5RhNETKPi7y5HrYyg%3D%3D&position=17&pageNum=39\n"
     ]
    },
    {
     "name": "stderr",
     "output_type": "stream",
     "text": [
      " 75%|███████▍  | 725/973 [18:43<06:46,  1.64s/it]"
     ]
    },
    {
     "name": "stdout",
     "output_type": "stream",
     "text": [
      "------------------------------------------------\n",
      "Num intentos: 1, URL: https://es.linkedin.com/jobs/view/responsable-anal%C3%ADtica-b2b-totalenergies-at-totalenergies-4127585952?refId=xPrcwAXkZO4mu5jDn0JJDg%3D%3D&trackingId=MVHu7z7ZxO%2FWxs8CGZT3qA%3D%3D&position=20&pageNum=39\n"
     ]
    },
    {
     "name": "stderr",
     "output_type": "stream",
     "text": [
      " 75%|███████▍  | 726/973 [18:44<06:39,  1.62s/it]"
     ]
    },
    {
     "name": "stdout",
     "output_type": "stream",
     "text": [
      "------------------------------------------------\n",
      "Num intentos: 1, URL: https://es.linkedin.com/jobs/view/c%2B%2B-graphics-and-windowing-system-software-engineer-mir-at-canonical-4127922944?refId=xPrcwAXkZO4mu5jDn0JJDg%3D%3D&trackingId=%2BuiE0j1%2BpmKWmayxbsouiQ%3D%3D&position=21&pageNum=39\n"
     ]
    },
    {
     "name": "stderr",
     "output_type": "stream",
     "text": [
      " 75%|███████▍  | 727/973 [18:46<06:20,  1.55s/it]"
     ]
    },
    {
     "name": "stdout",
     "output_type": "stream",
     "text": [
      "------------------------------------------------\n",
      "Num intentos: 1, URL: https://es.linkedin.com/jobs/view/ingenieros-as-de-datos-at-%C3%A1lamoconsulting-4119559786?refId=5lUV4%2FNAtY0kytHF7H9LFw%3D%3D&trackingId=L3yDuWKhegIDkAxiqoPNvA%3D%3D&position=7&pageNum=0\n"
     ]
    },
    {
     "name": "stderr",
     "output_type": "stream",
     "text": [
      " 75%|███████▍  | 728/973 [18:48<06:34,  1.61s/it]"
     ]
    },
    {
     "name": "stdout",
     "output_type": "stream",
     "text": [
      "------------------------------------------------\n",
      "Num intentos: 1, URL: https://es.linkedin.com/jobs/view/software-engineer-at-bme-bolsas-y-mercados-espa%C3%B1oles-4122038467?refId=jj4UbOc%2FecseE2pKr2PGiw%3D%3D&trackingId=r01B6bvnQ09JrX7iVFxHHQ%3D%3D&position=23&pageNum=11\n"
     ]
    },
    {
     "name": "stderr",
     "output_type": "stream",
     "text": [
      " 75%|███████▍  | 729/973 [18:49<06:30,  1.60s/it]"
     ]
    },
    {
     "name": "stdout",
     "output_type": "stream",
     "text": [
      "------------------------------------------------\n",
      "Num intentos: 1, URL: https://es.linkedin.com/jobs/view/cient%C3%ADfico-de-datos-at-mutua-madrile%C3%B1a-4119556427?refId=1gxsBjCoxyvxl5YEGDjwHQ%3D%3D&trackingId=1VOZdkV%2FJirl2PbULyyN4g%3D%3D&position=3&pageNum=12\n"
     ]
    },
    {
     "name": "stderr",
     "output_type": "stream",
     "text": [
      " 75%|███████▌  | 730/973 [18:51<06:38,  1.64s/it]"
     ]
    },
    {
     "name": "stdout",
     "output_type": "stream",
     "text": [
      "------------------------------------------------\n",
      "Num intentos: 1, URL: https://es.linkedin.com/jobs/view/business-intelligence-power-bi-at-logista-pharma-4119548006?refId=WE0nbdRCjRzYQ%2BMa7Jlfcw%3D%3D&trackingId=LIipbUclGb3MAW%2BcR%2BKtPA%3D%3D&position=5&pageNum=13\n"
     ]
    },
    {
     "name": "stderr",
     "output_type": "stream",
     "text": [
      " 75%|███████▌  | 731/973 [18:52<06:08,  1.52s/it]"
     ]
    },
    {
     "name": "stdout",
     "output_type": "stream",
     "text": [
      "------------------------------------------------\n",
      "Num intentos: 1, URL: https://es.linkedin.com/jobs/view/azure-platform-engineer-100%25-remote-spain-at-ust-4119528560?refId=WE0nbdRCjRzYQ%2BMa7Jlfcw%3D%3D&trackingId=rwn9jgPl%2Bsm4lgxfuMHI6A%3D%3D&position=10&pageNum=13\n"
     ]
    },
    {
     "name": "stderr",
     "output_type": "stream",
     "text": [
      " 75%|███████▌  | 732/973 [18:54<06:42,  1.67s/it]"
     ]
    },
    {
     "name": "stdout",
     "output_type": "stream",
     "text": [
      "------------------------------------------------\n",
      "Num intentos: 1, URL: https://es.linkedin.com/jobs/view/senior-software-engineer-backend-ai-at-aircall-4118869015?refId=mXSy218UvW9GMbgT3jByKg%3D%3D&trackingId=fiGLrGePWL6eNvhedEJvmA%3D%3D&position=4&pageNum=22\n"
     ]
    },
    {
     "name": "stderr",
     "output_type": "stream",
     "text": [
      " 75%|███████▌  | 733/973 [18:56<07:00,  1.75s/it]"
     ]
    },
    {
     "name": "stdout",
     "output_type": "stream",
     "text": [
      "------------------------------------------------\n",
      "Num intentos: 1, URL: https://es.linkedin.com/jobs/view/system-development-engineer-in-house-controls-central-engineering-at-amazon-4122519766?refId=6iugOUKVCcIlzIMTSgbc4A%3D%3D&trackingId=2SCxSQGbNcNn8MS4C5sIcA%3D%3D&position=14&pageNum=23\n"
     ]
    },
    {
     "name": "stderr",
     "output_type": "stream",
     "text": [
      " 75%|███████▌  | 734/973 [18:58<07:10,  1.80s/it]"
     ]
    },
    {
     "name": "stdout",
     "output_type": "stream",
     "text": [
      "------------------------------------------------\n",
      "Num intentos: 1, URL: https://es.linkedin.com/jobs/view/senior-software-engineer-incident-management-at-datadog-4122399637?refId=27zDqnaAzgOwPOyBAP6gyA%3D%3D&trackingId=P9P8VgKxbe0wpp55cRZ25Q%3D%3D&position=15&pageNum=28\n"
     ]
    },
    {
     "name": "stderr",
     "output_type": "stream",
     "text": [
      " 76%|███████▌  | 735/973 [18:59<06:32,  1.65s/it]"
     ]
    },
    {
     "name": "stdout",
     "output_type": "stream",
     "text": [
      "------------------------------------------------\n",
      "Num intentos: 1, URL: https://es.linkedin.com/jobs/view/software-engineer-immutable-ubuntu-desktop-at-canonical-4122358356?refId=BzKsdm%2FLcWVFlzPY6XXEyg%3D%3D&trackingId=NVNsl4ucs0Y27NHeF18MTQ%3D%3D&position=16&pageNum=29\n"
     ]
    },
    {
     "name": "stderr",
     "output_type": "stream",
     "text": [
      " 76%|███████▌  | 736/973 [19:01<06:26,  1.63s/it]"
     ]
    },
    {
     "name": "stdout",
     "output_type": "stream",
     "text": [
      "------------------------------------------------\n",
      "Num intentos: 1, URL: https://es.linkedin.com/jobs/view/software-engineer-immutable-ubuntu-desktop-at-canonical-4122360201?refId=iogc%2B4XiXLpYrKPr7Us7Lw%3D%3D&trackingId=j8pb5YkPT29mE3sM8Ry%2Fpg%3D%3D&position=22&pageNum=32\n"
     ]
    },
    {
     "name": "stderr",
     "output_type": "stream",
     "text": [
      " 76%|███████▌  | 737/973 [19:03<06:32,  1.66s/it]"
     ]
    },
    {
     "name": "stdout",
     "output_type": "stream",
     "text": [
      "------------------------------------------------\n",
      "Num intentos: 1, URL: https://es.linkedin.com/jobs/view/senior-software-engineer-c%2B%2B-y-java-at-astek-4082197541?refId=GB%2Fwwj7Zi4x1VtaSwZK9nQ%3D%3D&trackingId=hrT92fqp3JiJTrPL6I48mQ%3D%3D&position=3&pageNum=33\n"
     ]
    },
    {
     "name": "stderr",
     "output_type": "stream",
     "text": [
      " 76%|███████▌  | 738/973 [19:04<06:28,  1.65s/it]"
     ]
    },
    {
     "name": "stdout",
     "output_type": "stream",
     "text": [
      "------------------------------------------------\n",
      "Num intentos: 1, URL: https://es.linkedin.com/jobs/view/c%2B%2B-software-development-engineer-amazon-madrid-at-amazon-4121915762?refId=M92tBlvFSrvwBHhPL3Il6Q%3D%3D&trackingId=QG6%2B3k0WHCNUTgBrsZUfuw%3D%3D&position=10&pageNum=37\n"
     ]
    },
    {
     "name": "stderr",
     "output_type": "stream",
     "text": [
      " 76%|███████▌  | 739/973 [19:06<06:12,  1.59s/it]"
     ]
    },
    {
     "name": "stdout",
     "output_type": "stream",
     "text": [
      "------------------------------------------------\n",
      "Num intentos: 1, URL: https://es.linkedin.com/jobs/view/data-science-lead-at-brambles-4119561605?refId=xPrcwAXkZO4mu5jDn0JJDg%3D%3D&trackingId=S7pUtcuPxFrHEnIMB5gecQ%3D%3D&position=4&pageNum=39\n"
     ]
    },
    {
     "name": "stderr",
     "output_type": "stream",
     "text": [
      " 76%|███████▌  | 740/973 [19:07<06:14,  1.61s/it]"
     ]
    },
    {
     "name": "stdout",
     "output_type": "stream",
     "text": [
      "------------------------------------------------\n",
      "Num intentos: 1, URL: https://es.linkedin.com/jobs/view/junior-data-engineer-at-fever-4132280944?refId=5lUV4%2FNAtY0kytHF7H9LFw%3D%3D&trackingId=egWMtwVgVM1ncapFRDcdbw%3D%3D&position=2&pageNum=0\n"
     ]
    },
    {
     "name": "stderr",
     "output_type": "stream",
     "text": [
      " 76%|███████▌  | 741/973 [19:09<06:00,  1.56s/it]"
     ]
    },
    {
     "name": "stdout",
     "output_type": "stream",
     "text": [
      "------------------------------------------------\n",
      "Num intentos: 1, URL: https://es.linkedin.com/jobs/view/senior-data-engineer-at-kpmg-espa%C3%B1a-4034160772?refId=5lUV4%2FNAtY0kytHF7H9LFw%3D%3D&trackingId=m34n3IMegvBotNbhZdlfRA%3D%3D&position=16&pageNum=0\n"
     ]
    },
    {
     "name": "stderr",
     "output_type": "stream",
     "text": [
      " 76%|███████▋  | 742/973 [19:11<06:17,  1.63s/it]"
     ]
    },
    {
     "name": "stdout",
     "output_type": "stream",
     "text": [
      "------------------------------------------------\n",
      "Num intentos: 1, URL: https://es.linkedin.com/jobs/view/data-engineer-at-winning-4118745147?refId=5lUV4%2FNAtY0kytHF7H9LFw%3D%3D&trackingId=t63%2FXtsudU3v4iE3fVMhjQ%3D%3D&position=17&pageNum=0\n"
     ]
    },
    {
     "name": "stderr",
     "output_type": "stream",
     "text": [
      " 76%|███████▋  | 743/973 [19:12<06:02,  1.58s/it]"
     ]
    },
    {
     "name": "stdout",
     "output_type": "stream",
     "text": [
      "------------------------------------------------\n",
      "Num intentos: 1, URL: https://es.linkedin.com/jobs/view/data-engineer-ii-at-cubic-telecom-4138069323?refId=5lUV4%2FNAtY0kytHF7H9LFw%3D%3D&trackingId=WwWYODxD0%2BnmWzTd7tSY3A%3D%3D&position=18&pageNum=0\n"
     ]
    },
    {
     "name": "stderr",
     "output_type": "stream",
     "text": [
      " 76%|███████▋  | 744/973 [19:14<06:01,  1.58s/it]"
     ]
    },
    {
     "name": "stdout",
     "output_type": "stream",
     "text": [
      "------------------------------------------------\n",
      "Num intentos: 1, URL: https://es.linkedin.com/jobs/view/data-engineer-at-cosentino-4066357730?refId=5lUV4%2FNAtY0kytHF7H9LFw%3D%3D&trackingId=HqEV21kK4tunbkWdgctJtg%3D%3D&position=20&pageNum=0\n"
     ]
    },
    {
     "name": "stderr",
     "output_type": "stream",
     "text": [
      " 77%|███████▋  | 745/973 [19:15<06:07,  1.61s/it]"
     ]
    },
    {
     "name": "stdout",
     "output_type": "stream",
     "text": [
      "------------------------------------------------\n",
      "Num intentos: 1, URL: https://es.linkedin.com/jobs/view/senior-data-engineer-at-the-valley-talent-4113607743?refId=gl%2Bd7kBz9WLFJeX%2Bk722Sg%3D%3D&trackingId=KK7eKMRywWib4JJKsQ%2B7Cw%3D%3D&position=18&pageNum=1\n"
     ]
    },
    {
     "name": "stderr",
     "output_type": "stream",
     "text": [
      " 77%|███████▋  | 746/973 [19:17<06:16,  1.66s/it]"
     ]
    },
    {
     "name": "stdout",
     "output_type": "stream",
     "text": [
      "------------------------------------------------\n",
      "Num intentos: 1, URL: https://es.linkedin.com/jobs/view/data-engineer-bi-100%25-remoto-at-cmv-consultores-4094500322?refId=gl%2Bd7kBz9WLFJeX%2Bk722Sg%3D%3D&trackingId=7AzuPwOatZrUe2cRzWKCDA%3D%3D&position=22&pageNum=1\n"
     ]
    },
    {
     "name": "stderr",
     "output_type": "stream",
     "text": [
      " 77%|███████▋  | 747/973 [19:19<06:22,  1.69s/it]"
     ]
    },
    {
     "name": "stdout",
     "output_type": "stream",
     "text": [
      "------------------------------------------------\n",
      "Num intentos: 1, URL: https://es.linkedin.com/jobs/view/data-engineer-at-podimo-4117175778?refId=JOY6haVz%2BavdFBx3hGjq%2BQ%3D%3D&trackingId=vf3XLxRT6%2B1lyZRj4SeuOA%3D%3D&position=2&pageNum=2\n"
     ]
    },
    {
     "name": "stderr",
     "output_type": "stream",
     "text": [
      " 77%|███████▋  | 748/973 [19:21<06:23,  1.71s/it]"
     ]
    },
    {
     "name": "stdout",
     "output_type": "stream",
     "text": [
      "------------------------------------------------\n",
      "Num intentos: 1, URL: https://es.linkedin.com/jobs/view/software-engineer-data-department-at-fever-4132287577?refId=JOY6haVz%2BavdFBx3hGjq%2BQ%3D%3D&trackingId=ncvofA7jqLWnnNtPAB93%2BQ%3D%3D&position=5&pageNum=2\n"
     ]
    },
    {
     "name": "stderr",
     "output_type": "stream",
     "text": [
      " 77%|███████▋  | 749/973 [19:22<06:13,  1.67s/it]"
     ]
    },
    {
     "name": "stdout",
     "output_type": "stream",
     "text": [
      "------------------------------------------------\n",
      "Num intentos: 1, URL: https://es.linkedin.com/jobs/view/data-engineer-at-alter-solutions-group-4110181525?refId=0lQEwrH3pQrcnHMZEPdE6Q%3D%3D&trackingId=6XAI9kBk4KbgSAn%2BNL%2FqAg%3D%3D&position=6&pageNum=3\n"
     ]
    },
    {
     "name": "stderr",
     "output_type": "stream",
     "text": [
      " 77%|███████▋  | 750/973 [19:24<06:02,  1.63s/it]"
     ]
    },
    {
     "name": "stdout",
     "output_type": "stream",
     "text": [
      "------------------------------------------------\n",
      "Num intentos: 1, URL: https://es.linkedin.com/jobs/view/data-analyst-madrid-at-slashmobility-4104386100?refId=0lQEwrH3pQrcnHMZEPdE6Q%3D%3D&trackingId=chCnB%2BnkM2q7t6Y1vTKr7w%3D%3D&position=18&pageNum=3\n"
     ]
    },
    {
     "name": "stderr",
     "output_type": "stream",
     "text": [
      " 77%|███████▋  | 751/973 [19:25<06:02,  1.63s/it]"
     ]
    },
    {
     "name": "stdout",
     "output_type": "stream",
     "text": [
      "------------------------------------------------\n",
      "Num intentos: 1, URL: https://es.linkedin.com/jobs/view/data-engineer-azure-at-osp-%E2%80%93-otto-group-solution-provider-4128830805?refId=qiJ6q4%2BjkVAGpjN7lVYm9g%3D%3D&trackingId=mUEB6NXvRBITXMTICBFZeA%3D%3D&position=5&pageNum=6\n"
     ]
    },
    {
     "name": "stderr",
     "output_type": "stream",
     "text": [
      " 77%|███████▋  | 752/973 [19:27<06:14,  1.69s/it]"
     ]
    },
    {
     "name": "stdout",
     "output_type": "stream",
     "text": [
      "------------------------------------------------\n",
      "Num intentos: 1, URL: https://es.linkedin.com/jobs/view/senior-data-engineer-at-deloitte-4034528325?refId=qiJ6q4%2BjkVAGpjN7lVYm9g%3D%3D&trackingId=wCXBPOA76GbIq0IT%2BW%2F19g%3D%3D&position=7&pageNum=6\n"
     ]
    },
    {
     "name": "stderr",
     "output_type": "stream",
     "text": [
      " 77%|███████▋  | 753/973 [19:29<06:26,  1.75s/it]"
     ]
    },
    {
     "name": "stdout",
     "output_type": "stream",
     "text": [
      "------------------------------------------------\n",
      "Num intentos: 1, URL: https://es.linkedin.com/jobs/view/associate-software-engineer-spain-at-cubic-telecom-4133365168?refId=qiJ6q4%2BjkVAGpjN7lVYm9g%3D%3D&trackingId=isJKkgVSjidlFL%2Fknudraw%3D%3D&position=10&pageNum=6\n"
     ]
    },
    {
     "name": "stderr",
     "output_type": "stream",
     "text": [
      " 77%|███████▋  | 754/973 [19:31<06:12,  1.70s/it]"
     ]
    },
    {
     "name": "stdout",
     "output_type": "stream",
     "text": [
      "------------------------------------------------\n",
      "Num intentos: 1, URL: https://es.linkedin.com/jobs/view/data-analyst-at-alter-solutions-group-4110181528?refId=qiJ6q4%2BjkVAGpjN7lVYm9g%3D%3D&trackingId=IUgRJwI7l%2FeXP0ZdryHfbQ%3D%3D&position=22&pageNum=6\n"
     ]
    },
    {
     "name": "stderr",
     "output_type": "stream",
     "text": [
      " 78%|███████▊  | 755/973 [19:32<06:14,  1.72s/it]"
     ]
    },
    {
     "name": "stdout",
     "output_type": "stream",
     "text": [
      "------------------------------------------------\n",
      "Num intentos: 1, URL: https://es.linkedin.com/jobs/view/data-analyst-at-galeneo-health-4118675961?refId=qiJ6q4%2BjkVAGpjN7lVYm9g%3D%3D&trackingId=jw71hN0pWhTcJmJRbxdbQA%3D%3D&position=24&pageNum=6\n"
     ]
    },
    {
     "name": "stderr",
     "output_type": "stream",
     "text": [
      " 78%|███████▊  | 756/973 [19:34<06:28,  1.79s/it]"
     ]
    },
    {
     "name": "stdout",
     "output_type": "stream",
     "text": [
      "------------------------------------------------\n",
      "Num intentos: 1, URL: https://es.linkedin.com/jobs/view/dataops-engineer-at-nubika-digital-inetum-group-4121153236?refId=7mJssYg8XhxL6SCi8sFlZQ%3D%3D&trackingId=Aa03rOVjEvMOebG12wg64A%3D%3D&position=5&pageNum=7\n"
     ]
    },
    {
     "name": "stderr",
     "output_type": "stream",
     "text": [
      " 78%|███████▊  | 757/973 [19:36<06:09,  1.71s/it]"
     ]
    },
    {
     "name": "stdout",
     "output_type": "stream",
     "text": [
      "Error en el link: https://es.linkedin.com/jobs/view/dataops-engineer-at-nubika-digital-inetum-group-4121153236?refId=7mJssYg8XhxL6SCi8sFlZQ%3D%3D&trackingId=Aa03rOVjEvMOebG12wg64A%3D%3D&position=5&pageNum=7\n",
      "------------------------------------------------\n",
      "Num intentos: 1, URL: https://es.linkedin.com/jobs/view/desarrollador-a-big-data-%E2%80%93-spark-y-scala-at-it-partner-4095564406?refId=7mJssYg8XhxL6SCi8sFlZQ%3D%3D&trackingId=lePwskjJUIfpAVZFPvartQ%3D%3D&position=12&pageNum=7\n"
     ]
    },
    {
     "name": "stderr",
     "output_type": "stream",
     "text": [
      " 78%|███████▊  | 758/973 [19:38<06:37,  1.85s/it]"
     ]
    },
    {
     "name": "stdout",
     "output_type": "stream",
     "text": [
      "------------------------------------------------\n",
      "Num intentos: 1, URL: https://es.linkedin.com/jobs/view/data-analyst-at-wood-mackenzie-4105598011?refId=7mJssYg8XhxL6SCi8sFlZQ%3D%3D&trackingId=3Y%2BRBvnDWqCUyWqeuLtlBg%3D%3D&position=19&pageNum=7\n"
     ]
    },
    {
     "name": "stderr",
     "output_type": "stream",
     "text": [
      " 78%|███████▊  | 759/973 [19:40<06:57,  1.95s/it]"
     ]
    },
    {
     "name": "stdout",
     "output_type": "stream",
     "text": [
      "------------------------------------------------\n",
      "Num intentos: 1, URL: https://es.linkedin.com/jobs/view/senior-data-platform-engineer-mlops-at-idoven-4110138070?refId=XzILX%2FJyntX%2BslwEYSdfAA%3D%3D&trackingId=OAfcmrkqN9eb3sx6KOf6TA%3D%3D&position=3&pageNum=8\n"
     ]
    },
    {
     "name": "stderr",
     "output_type": "stream",
     "text": [
      " 78%|███████▊  | 760/973 [19:42<06:47,  1.91s/it]"
     ]
    },
    {
     "name": "stdout",
     "output_type": "stream",
     "text": [
      "------------------------------------------------\n",
      "Num intentos: 1, URL: https://es.linkedin.com/jobs/view/data-engineer-bigquery-at-apiux-tech-4104389436?refId=XzILX%2FJyntX%2BslwEYSdfAA%3D%3D&trackingId=QrPULaFh532%2FkLs8zJZZMw%3D%3D&position=11&pageNum=8\n"
     ]
    },
    {
     "name": "stderr",
     "output_type": "stream",
     "text": [
      " 78%|███████▊  | 761/973 [19:44<06:35,  1.87s/it]"
     ]
    },
    {
     "name": "stdout",
     "output_type": "stream",
     "text": [
      "------------------------------------------------\n",
      "Num intentos: 1, URL: https://es.linkedin.com/jobs/view/analista-de-datos-cliente-final-at-randstad-espa%C3%B1a-4094474799?refId=XzILX%2FJyntX%2BslwEYSdfAA%3D%3D&trackingId=M46ISlRkF%2FNSukpXHE2%2FLg%3D%3D&position=19&pageNum=8\n"
     ]
    },
    {
     "name": "stderr",
     "output_type": "stream",
     "text": [
      " 78%|███████▊  | 762/973 [19:46<06:28,  1.84s/it]"
     ]
    },
    {
     "name": "stdout",
     "output_type": "stream",
     "text": [
      "------------------------------------------------\n",
      "Num intentos: 1, URL: https://es.linkedin.com/jobs/view/data-engineer-at-edelman-4102607075?refId=XzILX%2FJyntX%2BslwEYSdfAA%3D%3D&trackingId=7c5FNTewSdD8hSJGIn9QgA%3D%3D&position=23&pageNum=8\n"
     ]
    },
    {
     "name": "stderr",
     "output_type": "stream",
     "text": [
      " 78%|███████▊  | 763/973 [19:48<06:42,  1.92s/it]"
     ]
    },
    {
     "name": "stdout",
     "output_type": "stream",
     "text": [
      "------------------------------------------------\n",
      "Num intentos: 1, URL: https://es.linkedin.com/jobs/view/software-engineer-at-novicap-4140688746?refId=zQtuxswf5sFpuL%2FkUwXZIw%3D%3D&trackingId=rDguOz6kZXosvPzE9asTtQ%3D%3D&position=7&pageNum=9\n"
     ]
    },
    {
     "name": "stderr",
     "output_type": "stream",
     "text": [
      " 79%|███████▊  | 764/973 [19:50<06:41,  1.92s/it]"
     ]
    },
    {
     "name": "stdout",
     "output_type": "stream",
     "text": [
      "------------------------------------------------\n",
      "Num intentos: 1, URL: https://es.linkedin.com/jobs/view/data-platform-engineer-f-m-d-at-axpo-group-4118541746?refId=lLfUMnXEaEcpWjyocCqvfg%3D%3D&trackingId=%2FFg3wdtwNj%2BmJP55d68g7Q%3D%3D&position=7&pageNum=10\n"
     ]
    },
    {
     "name": "stderr",
     "output_type": "stream",
     "text": [
      " 79%|███████▊  | 765/973 [19:52<06:40,  1.93s/it]"
     ]
    },
    {
     "name": "stdout",
     "output_type": "stream",
     "text": [
      "------------------------------------------------\n",
      "Num intentos: 1, URL: https://es.linkedin.com/jobs/view/dataops-engineer-at-inetum-4121161669?refId=lLfUMnXEaEcpWjyocCqvfg%3D%3D&trackingId=xvkmo69uW0%2BzQMA6WgM7dw%3D%3D&position=12&pageNum=10\n"
     ]
    },
    {
     "name": "stderr",
     "output_type": "stream",
     "text": [
      " 79%|███████▊  | 766/973 [19:53<06:25,  1.86s/it]"
     ]
    },
    {
     "name": "stdout",
     "output_type": "stream",
     "text": [
      "------------------------------------------------\n",
      "Num intentos: 1, URL: https://es.linkedin.com/jobs/view/software-engineer-at-novicap-4140688746?refId=lLfUMnXEaEcpWjyocCqvfg%3D%3D&trackingId=KJEWE9GimYaF5p6hOAeGJA%3D%3D&position=17&pageNum=10\n"
     ]
    },
    {
     "name": "stderr",
     "output_type": "stream",
     "text": [
      " 79%|███████▉  | 767/973 [19:56<06:45,  1.97s/it]"
     ]
    },
    {
     "name": "stdout",
     "output_type": "stream",
     "text": [
      "------------------------------------------------\n",
      "Num intentos: 1, URL: https://es.linkedin.com/jobs/view/data-analyst-at-universidad-internacional-de-la-rioja-unir-4125960219?refId=lLfUMnXEaEcpWjyocCqvfg%3D%3D&trackingId=YukuflSxinz00QI4UoEJbA%3D%3D&position=20&pageNum=10\n"
     ]
    },
    {
     "name": "stderr",
     "output_type": "stream",
     "text": [
      " 79%|███████▉  | 768/973 [19:57<06:30,  1.90s/it]"
     ]
    },
    {
     "name": "stdout",
     "output_type": "stream",
     "text": [
      "------------------------------------------------\n",
      "Num intentos: 1, URL: https://es.linkedin.com/jobs/view/senior-software-engineer-age-of-empires-remote-at-forgotten-empires-4120049334?refId=lLfUMnXEaEcpWjyocCqvfg%3D%3D&trackingId=oZfiSg%2FtuygZMnGtH2BGJw%3D%3D&position=22&pageNum=10\n"
     ]
    },
    {
     "name": "stderr",
     "output_type": "stream",
     "text": [
      " 79%|███████▉  | 769/973 [19:59<06:28,  1.91s/it]"
     ]
    },
    {
     "name": "stdout",
     "output_type": "stream",
     "text": [
      "------------------------------------------------\n",
      "Num intentos: 1, URL: https://es.linkedin.com/jobs/view/data-security-engineer-at-roche-4083457140?refId=lLfUMnXEaEcpWjyocCqvfg%3D%3D&trackingId=0fs%2BXd9QsQPCslDORr8ZOw%3D%3D&position=23&pageNum=10\n"
     ]
    },
    {
     "name": "stderr",
     "output_type": "stream",
     "text": [
      " 79%|███████▉  | 770/973 [20:01<06:30,  1.92s/it]"
     ]
    },
    {
     "name": "stdout",
     "output_type": "stream",
     "text": [
      "------------------------------------------------\n",
      "Num intentos: 1, URL: https://es.linkedin.com/jobs/view/senior-software-engineer-c%2B%2B-c-python-at-seliuk-ltd-4103108807?refId=1gxsBjCoxyvxl5YEGDjwHQ%3D%3D&trackingId=3752d%2B9jQSB%2BsIlPTwUQhw%3D%3D&position=8&pageNum=12\n"
     ]
    },
    {
     "name": "stderr",
     "output_type": "stream",
     "text": [
      " 79%|███████▉  | 771/973 [20:03<06:22,  1.89s/it]"
     ]
    },
    {
     "name": "stdout",
     "output_type": "stream",
     "text": [
      "------------------------------------------------\n",
      "Num intentos: 1, URL: https://es.linkedin.com/jobs/view/arquitecto-de-datos-at-expleo-group-4080033888?refId=WE0nbdRCjRzYQ%2BMa7Jlfcw%3D%3D&trackingId=5sBOs0FZkHXkNdNi4W5ilw%3D%3D&position=2&pageNum=13\n"
     ]
    },
    {
     "name": "stderr",
     "output_type": "stream",
     "text": [
      " 79%|███████▉  | 772/973 [20:05<06:12,  1.85s/it]"
     ]
    },
    {
     "name": "stdout",
     "output_type": "stream",
     "text": [
      "------------------------------------------------\n",
      "Num intentos: 1, URL: https://es.linkedin.com/jobs/view/python-software-engineer-commercial-systems-at-canonical-4118545844?refId=WE0nbdRCjRzYQ%2BMa7Jlfcw%3D%3D&trackingId=37oGyjcMAb5m4xy5Xk1EzA%3D%3D&position=11&pageNum=13\n"
     ]
    },
    {
     "name": "stderr",
     "output_type": "stream",
     "text": [
      " 79%|███████▉  | 773/973 [20:07<06:24,  1.92s/it]"
     ]
    },
    {
     "name": "stdout",
     "output_type": "stream",
     "text": [
      "------------------------------------------------\n",
      "Num intentos: 1, URL: https://es.linkedin.com/jobs/view/python-software-engineer-commercial-systems-at-canonical-4118551143?refId=RdedVh4j8Ltwj0EyXoSKYA%3D%3D&trackingId=uzuh5pGRO2hVK0qoup%2FfrA%3D%3D&position=15&pageNum=14\n"
     ]
    },
    {
     "name": "stderr",
     "output_type": "stream",
     "text": [
      " 80%|███████▉  | 774/973 [20:09<06:29,  1.96s/it]"
     ]
    },
    {
     "name": "stdout",
     "output_type": "stream",
     "text": [
      "------------------------------------------------\n",
      "Num intentos: 1, URL: https://es.linkedin.com/jobs/view/analista-de-datos-sector-financiero-at-may-business-consulting-spain-4117987887?refId=kEewYSP0sda%2BAS9qJ05byw%3D%3D&trackingId=%2Fzy839aJpcED4PwL43eUuA%3D%3D&position=1&pageNum=15\n"
     ]
    },
    {
     "name": "stderr",
     "output_type": "stream",
     "text": [
      " 80%|███████▉  | 775/973 [20:10<06:04,  1.84s/it]"
     ]
    },
    {
     "name": "stdout",
     "output_type": "stream",
     "text": [
      "------------------------------------------------\n",
      "Num intentos: 1, URL: https://es.linkedin.com/jobs/view/graduate-associate-software-engineer-build-release-infrastructure-at-canonical-4121139004?refId=kEewYSP0sda%2BAS9qJ05byw%3D%3D&trackingId=IM4gM3WAcStFjCbaIPFZMA%3D%3D&position=24&pageNum=15\n"
     ]
    },
    {
     "name": "stderr",
     "output_type": "stream",
     "text": [
      " 80%|███████▉  | 776/973 [20:12<05:37,  1.71s/it]"
     ]
    },
    {
     "name": "stdout",
     "output_type": "stream",
     "text": [
      "------------------------------------------------\n"
     ]
    },
    {
     "name": "stderr",
     "output_type": "stream",
     "text": [
      " 80%|███████▉  | 777/973 [20:13<05:29,  1.68s/it]"
     ]
    },
    {
     "name": "stdout",
     "output_type": "stream",
     "text": [
      "Num intentos: 1, URL: https://es.linkedin.com/jobs/view/esg-data-analyst-intern-dcycle-at-nova-talent-4103713641?refId=xAOfEyQvsTybZp6n8A%2B4ZA%3D%3D&trackingId=ryIdVfrVJGKLGXewfIG40w%3D%3D&position=3&pageNum=16\n",
      "Error en el link: https://es.linkedin.com/jobs/view/esg-data-analyst-intern-dcycle-at-nova-talent-4103713641?refId=xAOfEyQvsTybZp6n8A%2B4ZA%3D%3D&trackingId=ryIdVfrVJGKLGXewfIG40w%3D%3D&position=3&pageNum=16\n",
      "------------------------------------------------\n",
      "Num intentos: 1, URL: https://es.linkedin.com/jobs/view/senior-data-machine-learning-engineer-at-erni-4141105859?refId=xAOfEyQvsTybZp6n8A%2B4ZA%3D%3D&trackingId=thZipeM1B%2F4EFvnNdNMU9A%3D%3D&position=10&pageNum=16\n"
     ]
    },
    {
     "name": "stderr",
     "output_type": "stream",
     "text": [
      " 80%|███████▉  | 778/973 [20:15<05:41,  1.75s/it]"
     ]
    },
    {
     "name": "stdout",
     "output_type": "stream",
     "text": [
      "------------------------------------------------\n",
      "Num intentos: 1, URL: https://es.linkedin.com/jobs/view/data-scientist-m-f-x-autonomous-driving-at-mitsui-chemicals-group-4096138631?refId=xAOfEyQvsTybZp6n8A%2B4ZA%3D%3D&trackingId=J4HtWWah157ZdboaN0A7JQ%3D%3D&position=18&pageNum=16\n"
     ]
    },
    {
     "name": "stderr",
     "output_type": "stream",
     "text": [
      " 80%|████████  | 779/973 [20:17<05:38,  1.74s/it]"
     ]
    },
    {
     "name": "stdout",
     "output_type": "stream",
     "text": [
      "------------------------------------------------\n",
      "Num intentos: 1, URL: https://es.linkedin.com/jobs/view/software-engineer-python-container-images-at-canonical-4117657514?refId=5iMqGO1%2FHzfh4hS6zDhIBw%3D%3D&trackingId=s1e4JCGK4sOvme%2Bq4WA1lQ%3D%3D&position=8&pageNum=17\n"
     ]
    },
    {
     "name": "stderr",
     "output_type": "stream",
     "text": [
      " 80%|████████  | 780/973 [20:19<06:03,  1.88s/it]"
     ]
    },
    {
     "name": "stdout",
     "output_type": "stream",
     "text": [
      "------------------------------------------------\n",
      "Num intentos: 1, URL: https://es.linkedin.com/jobs/view/graduate-associate-software-engineer-build-release-infrastructure-at-canonical-4121138274?refId=5iMqGO1%2FHzfh4hS6zDhIBw%3D%3D&trackingId=Pi7l6DuiB4Px%2Bs5LUziOvQ%3D%3D&position=15&pageNum=17\n"
     ]
    },
    {
     "name": "stderr",
     "output_type": "stream",
     "text": [
      " 80%|████████  | 781/973 [20:21<05:35,  1.75s/it]"
     ]
    },
    {
     "name": "stdout",
     "output_type": "stream",
     "text": [
      "------------------------------------------------\n",
      "Num intentos: 1, URL: https://es.linkedin.com/jobs/view/backend-engineer-at-embat-4103395960?refId=5iMqGO1%2FHzfh4hS6zDhIBw%3D%3D&trackingId=UiVsssrh07WUxdsWs0hVfA%3D%3D&position=16&pageNum=17\n"
     ]
    },
    {
     "name": "stderr",
     "output_type": "stream",
     "text": [
      " 80%|████████  | 782/973 [20:23<05:38,  1.77s/it]"
     ]
    },
    {
     "name": "stdout",
     "output_type": "stream",
     "text": [
      "------------------------------------------------\n",
      "Num intentos: 1, URL: https://es.linkedin.com/jobs/view/pr%C3%A1cticas-universitarias-software-engineer-at-babel-4100020801?refId=5iMqGO1%2FHzfh4hS6zDhIBw%3D%3D&trackingId=9m8qojyV26zqUBQTprz08g%3D%3D&position=19&pageNum=17\n"
     ]
    },
    {
     "name": "stderr",
     "output_type": "stream",
     "text": [
      " 80%|████████  | 783/973 [20:24<05:24,  1.71s/it]"
     ]
    },
    {
     "name": "stdout",
     "output_type": "stream",
     "text": [
      "------------------------------------------------\n",
      "Num intentos: 1, URL: https://es.linkedin.com/jobs/view/software-engineer-python-container-images-at-canonical-4117658456?refId=5iMqGO1%2FHzfh4hS6zDhIBw%3D%3D&trackingId=%2BqOG9jz%2FfWhTLB3b3MIBoQ%3D%3D&position=23&pageNum=17\n"
     ]
    },
    {
     "name": "stderr",
     "output_type": "stream",
     "text": [
      " 81%|████████  | 784/973 [20:26<05:19,  1.69s/it]"
     ]
    },
    {
     "name": "stdout",
     "output_type": "stream",
     "text": [
      "------------------------------------------------\n",
      "Num intentos: 1, URL: https://es.linkedin.com/jobs/view/senior-software-engineer-at-ultralytics-4107869716?refId=FdMdL4No5nsuHtAaKxXehg%3D%3D&trackingId=nx0R0kpe3xoc26z%2Bec564w%3D%3D&position=1&pageNum=18\n"
     ]
    },
    {
     "name": "stderr",
     "output_type": "stream",
     "text": [
      " 81%|████████  | 785/973 [20:28<05:31,  1.76s/it]"
     ]
    },
    {
     "name": "stdout",
     "output_type": "stream",
     "text": [
      "------------------------------------------------\n",
      "Num intentos: 1, URL: https://es.linkedin.com/jobs/view/distributed-systems-software-engineer-python-go-at-canonical-4121224648?refId=FdMdL4No5nsuHtAaKxXehg%3D%3D&trackingId=JrnaGnEg3XRITwNaim3skA%3D%3D&position=16&pageNum=18\n"
     ]
    },
    {
     "name": "stderr",
     "output_type": "stream",
     "text": [
      " 81%|████████  | 786/973 [20:30<05:58,  1.92s/it]"
     ]
    },
    {
     "name": "stdout",
     "output_type": "stream",
     "text": [
      "------------------------------------------------\n",
      "Num intentos: 1, URL: https://es.linkedin.com/jobs/view/distributed-systems-software-engineer-python-go-at-canonical-4121230070?refId=FdMdL4No5nsuHtAaKxXehg%3D%3D&trackingId=buWogpQghGsaXCSFsla%2F1g%3D%3D&position=20&pageNum=18\n"
     ]
    },
    {
     "name": "stderr",
     "output_type": "stream",
     "text": [
      " 81%|████████  | 787/973 [20:32<05:44,  1.85s/it]"
     ]
    },
    {
     "name": "stdout",
     "output_type": "stream",
     "text": [
      "------------------------------------------------\n",
      "Num intentos: 1, URL: https://es.linkedin.com/jobs/view/real-time-software-engineer-at-airbus-defence-and-space-4079955736?refId=jlTvqtUYEFUTXMPpb2kHVA%3D%3D&trackingId=Dxn%2F1LabicmataEyi7qMyg%3D%3D&position=4&pageNum=19\n"
     ]
    },
    {
     "name": "stderr",
     "output_type": "stream",
     "text": [
      " 81%|████████  | 788/973 [20:34<05:54,  1.91s/it]"
     ]
    },
    {
     "name": "stdout",
     "output_type": "stream",
     "text": [
      "------------------------------------------------\n",
      "Num intentos: 1, URL: https://es.linkedin.com/jobs/view/lead-data-software-engineer-databricks-at-epam-systems-4121155983?refId=jlTvqtUYEFUTXMPpb2kHVA%3D%3D&trackingId=111qUYMPtjYo77eCqBUZyQ%3D%3D&position=12&pageNum=19\n"
     ]
    },
    {
     "name": "stderr",
     "output_type": "stream",
     "text": [
      " 81%|████████  | 789/973 [20:36<05:43,  1.87s/it]"
     ]
    },
    {
     "name": "stdout",
     "output_type": "stream",
     "text": [
      "------------------------------------------------\n",
      "Num intentos: 1, URL: https://es.linkedin.com/jobs/view/quantitative-analyst-junior-at-quant-ai-lab-4034765489?refId=LtGvNDRbIiqTwa1XzDQk5w%3D%3D&trackingId=ey68ZMRNvD8Z%2BcC9SDqH3g%3D%3D&position=2&pageNum=21\n"
     ]
    },
    {
     "name": "stderr",
     "output_type": "stream",
     "text": [
      " 81%|████████  | 790/973 [20:37<05:26,  1.79s/it]"
     ]
    },
    {
     "name": "stdout",
     "output_type": "stream",
     "text": [
      "------------------------------------------------\n",
      "Num intentos: 1, URL: https://es.linkedin.com/jobs/view/software-engineer-cloud-images-at-canonical-4101213391?refId=LtGvNDRbIiqTwa1XzDQk5w%3D%3D&trackingId=6rnH4xvTJkaVX15yAVCtmg%3D%3D&position=11&pageNum=21\n"
     ]
    },
    {
     "name": "stderr",
     "output_type": "stream",
     "text": [
      " 81%|████████▏ | 791/973 [20:39<05:40,  1.87s/it]"
     ]
    },
    {
     "name": "stdout",
     "output_type": "stream",
     "text": [
      "------------------------------------------------\n",
      "Num intentos: 1, URL: https://es.linkedin.com/jobs/view/software-engineer-cloud-images-at-canonical-4101208908?refId=LtGvNDRbIiqTwa1XzDQk5w%3D%3D&trackingId=7dBoxont%2FQvgi8YW%2FJQ2DA%3D%3D&position=14&pageNum=21\n"
     ]
    },
    {
     "name": "stderr",
     "output_type": "stream",
     "text": [
      " 81%|████████▏ | 792/973 [20:41<05:37,  1.86s/it]"
     ]
    },
    {
     "name": "stdout",
     "output_type": "stream",
     "text": [
      "------------------------------------------------\n",
      "Num intentos: 1, URL: https://es.linkedin.com/jobs/view/ingeniero-a-en-anal%C3%ADtica-digital-at-alter-solutions-group-4110181530?refId=mXSy218UvW9GMbgT3jByKg%3D%3D&trackingId=2aMu%2BkMS2shAsbRoL0MAAw%3D%3D&position=7&pageNum=22\n"
     ]
    },
    {
     "name": "stderr",
     "output_type": "stream",
     "text": [
      " 82%|████████▏ | 793/973 [20:43<05:16,  1.76s/it]"
     ]
    },
    {
     "name": "stdout",
     "output_type": "stream",
     "text": [
      "------------------------------------------------\n",
      "Num intentos: 1, URL: https://es.linkedin.com/jobs/view/embedded-software-engineer-at-airbus-defence-and-space-4079960134?refId=mXSy218UvW9GMbgT3jByKg%3D%3D&trackingId=rvLE%2FMgOuSe940DrwJC1HA%3D%3D&position=9&pageNum=22\n"
     ]
    },
    {
     "name": "stderr",
     "output_type": "stream",
     "text": [
      " 82%|████████▏ | 794/973 [20:45<05:38,  1.89s/it]"
     ]
    },
    {
     "name": "stdout",
     "output_type": "stream",
     "text": [
      "------------------------------------------------\n",
      "Num intentos: 1, URL: https://es.linkedin.com/jobs/view/machine-learning-engineer-amazon-tablets-at-amazon-4041453546?refId=mXSy218UvW9GMbgT3jByKg%3D%3D&trackingId=24DNcUBKglxPfYsyaI1g9Q%3D%3D&position=10&pageNum=22\n"
     ]
    },
    {
     "name": "stderr",
     "output_type": "stream",
     "text": [
      " 82%|████████▏ | 795/973 [20:47<05:32,  1.87s/it]"
     ]
    },
    {
     "name": "stdout",
     "output_type": "stream",
     "text": [
      "------------------------------------------------\n",
      "Num intentos: 1, URL: https://es.linkedin.com/jobs/view/full-stack-engineer-madrid-at-fujitsu-technology-solutions-ag-4117409427?refId=mXSy218UvW9GMbgT3jByKg%3D%3D&trackingId=hQ%2BfRtfLhQQhUetwsVhpcg%3D%3D&position=12&pageNum=22\n"
     ]
    },
    {
     "name": "stderr",
     "output_type": "stream",
     "text": [
      " 82%|████████▏ | 796/973 [20:48<05:22,  1.82s/it]"
     ]
    },
    {
     "name": "stdout",
     "output_type": "stream",
     "text": [
      "------------------------------------------------\n",
      "Num intentos: 1, URL: https://es.linkedin.com/jobs/view/senior-software-engineer-full-stack-at-datadog-3831513331?refId=mXSy218UvW9GMbgT3jByKg%3D%3D&trackingId=yHoOv8cpEuBiD1rrqO3kxg%3D%3D&position=21&pageNum=22\n"
     ]
    },
    {
     "name": "stderr",
     "output_type": "stream",
     "text": [
      " 82%|████████▏ | 797/973 [20:50<05:34,  1.90s/it]"
     ]
    },
    {
     "name": "stdout",
     "output_type": "stream",
     "text": [
      "------------------------------------------------\n",
      "Num intentos: 1, URL: https://es.linkedin.com/jobs/view/software-engineer-iii-at-tomtom-4084221207?refId=6iugOUKVCcIlzIMTSgbc4A%3D%3D&trackingId=Aq0QO%2FsYQq6WPPDdYCpECA%3D%3D&position=9&pageNum=23\n"
     ]
    },
    {
     "name": "stderr",
     "output_type": "stream",
     "text": [
      " 82%|████████▏ | 798/973 [20:52<05:37,  1.93s/it]"
     ]
    },
    {
     "name": "stdout",
     "output_type": "stream",
     "text": [
      "------------------------------------------------\n",
      "Num intentos: 1, URL: https://es.linkedin.com/jobs/view/customer-experience-data-analyst-at-arval-bnp-paribas-group-4109695991?refId=6iugOUKVCcIlzIMTSgbc4A%3D%3D&trackingId=1njTzpFyUZpIsFtEY2wjvw%3D%3D&position=20&pageNum=23\n"
     ]
    },
    {
     "name": "stderr",
     "output_type": "stream",
     "text": [
      " 82%|████████▏ | 799/973 [20:54<05:37,  1.94s/it]"
     ]
    },
    {
     "name": "stdout",
     "output_type": "stream",
     "text": [
      "------------------------------------------------\n",
      "Num intentos: 1, URL: https://es.linkedin.com/jobs/view/software-development-engineer-amazon-business-at-amazon-4109200387?refId=6nUlb6gH8Ge0cwv7vGKOxQ%3D%3D&trackingId=KI3gqg0DBoQ9qjTurB7x%2Bw%3D%3D&position=15&pageNum=24\n"
     ]
    },
    {
     "name": "stderr",
     "output_type": "stream",
     "text": [
      " 82%|████████▏ | 800/973 [20:56<05:31,  1.92s/it]"
     ]
    },
    {
     "name": "stdout",
     "output_type": "stream",
     "text": [
      "------------------------------------------------\n",
      "Num intentos: 1, URL: https://es.linkedin.com/jobs/view/senior-software-engineer-at-sulzer-4006098759?refId=6nUlb6gH8Ge0cwv7vGKOxQ%3D%3D&trackingId=8NcaMeWdkTGsyGNTyXMRkA%3D%3D&position=16&pageNum=24\n"
     ]
    },
    {
     "name": "stderr",
     "output_type": "stream",
     "text": [
      " 82%|████████▏ | 801/973 [20:58<05:30,  1.92s/it]"
     ]
    },
    {
     "name": "stdout",
     "output_type": "stream",
     "text": [
      "------------------------------------------------\n",
      "Num intentos: 1, URL: https://es.linkedin.com/jobs/view/senior-software-engineer-backend-ai-at-aircall-4079151472?refId=6nUlb6gH8Ge0cwv7vGKOxQ%3D%3D&trackingId=fRGfK%2F%2FmEtaj0Ns2LEtnQw%3D%3D&position=24&pageNum=24\n"
     ]
    },
    {
     "name": "stderr",
     "output_type": "stream",
     "text": [
      " 82%|████████▏ | 802/973 [21:00<05:19,  1.87s/it]"
     ]
    },
    {
     "name": "stdout",
     "output_type": "stream",
     "text": [
      "------------------------------------------------\n",
      "Num intentos: 1, URL: https://es.linkedin.com/jobs/view/salesforce-developer-full-stack-spain-at-copado-4096082364?refId=%2Fq8IkmAC8FsOi3L4LWt3mA%3D%3D&trackingId=rNJga45NUXjX7dtbXPQbLQ%3D%3D&position=5&pageNum=26\n"
     ]
    },
    {
     "name": "stderr",
     "output_type": "stream",
     "text": [
      " 83%|████████▎ | 803/973 [21:02<05:26,  1.92s/it]"
     ]
    },
    {
     "name": "stdout",
     "output_type": "stream",
     "text": [
      "------------------------------------------------\n",
      "Num intentos: 1, URL: https://es.linkedin.com/jobs/view/flammability-reduction-system-engineer-m-f-at-airbus-4099255292?refId=%2Fq8IkmAC8FsOi3L4LWt3mA%3D%3D&trackingId=57WROMjP8sxG6T4qvN6AXA%3D%3D&position=10&pageNum=26\n"
     ]
    },
    {
     "name": "stderr",
     "output_type": "stream",
     "text": [
      " 83%|████████▎ | 804/973 [21:04<05:22,  1.91s/it]"
     ]
    },
    {
     "name": "stdout",
     "output_type": "stream",
     "text": [
      "------------------------------------------------\n",
      "Num intentos: 1, URL: https://es.linkedin.com/jobs/view/software-engineer-android-at-revolut-4103330291?refId=27zDqnaAzgOwPOyBAP6gyA%3D%3D&trackingId=gUTNpNSkXKuaZrLj2wj8PQ%3D%3D&position=1&pageNum=28\n"
     ]
    },
    {
     "name": "stderr",
     "output_type": "stream",
     "text": [
      " 83%|████████▎ | 805/973 [21:06<05:15,  1.88s/it]"
     ]
    },
    {
     "name": "stdout",
     "output_type": "stream",
     "text": [
      "------------------------------------------------\n",
      "Num intentos: 1, URL: https://es.linkedin.com/jobs/view/senior-backend-engineer-node-js-spain-remote-f-m-d-at-factor-eleven-4142688259?refId=27zDqnaAzgOwPOyBAP6gyA%3D%3D&trackingId=p4JWBImkm9%2B5z1daw04kdA%3D%3D&position=3&pageNum=28\n"
     ]
    },
    {
     "name": "stderr",
     "output_type": "stream",
     "text": [
      " 83%|████████▎ | 806/973 [21:07<05:10,  1.86s/it]"
     ]
    },
    {
     "name": "stdout",
     "output_type": "stream",
     "text": [
      "------------------------------------------------\n",
      "Num intentos: 1, URL: https://es.linkedin.com/jobs/view/responsable-an%C3%A1lisis-digitalizaci%C3%B3n-y-proyectos-at-arval-bnp-paribas-group-4107304624?refId=27zDqnaAzgOwPOyBAP6gyA%3D%3D&trackingId=QnaFpeJgtbjK%2F7JwV3s9Jw%3D%3D&position=5&pageNum=28\n"
     ]
    },
    {
     "name": "stderr",
     "output_type": "stream",
     "text": [
      " 83%|████████▎ | 807/973 [21:09<05:17,  1.91s/it]"
     ]
    },
    {
     "name": "stdout",
     "output_type": "stream",
     "text": [
      "------------------------------------------------\n",
      "Num intentos: 1, URL: https://es.linkedin.com/jobs/view/security-software-engineer-at-canonical-4119756572?refId=27zDqnaAzgOwPOyBAP6gyA%3D%3D&trackingId=PftOai8Tl8Ttss%2B26aAZcg%3D%3D&position=17&pageNum=28\n"
     ]
    },
    {
     "name": "stderr",
     "output_type": "stream",
     "text": [
      " 83%|████████▎ | 808/973 [21:11<05:12,  1.89s/it]"
     ]
    },
    {
     "name": "stdout",
     "output_type": "stream",
     "text": [
      "------------------------------------------------\n",
      "Num intentos: 1, URL: https://es.linkedin.com/jobs/view/security-software-engineer-at-canonical-4119758172?refId=27zDqnaAzgOwPOyBAP6gyA%3D%3D&trackingId=ZLraOIFQR9jF6QQ%2FGR3xbQ%3D%3D&position=19&pageNum=28\n"
     ]
    },
    {
     "name": "stderr",
     "output_type": "stream",
     "text": [
      " 83%|████████▎ | 809/973 [21:13<05:00,  1.83s/it]"
     ]
    },
    {
     "name": "stdout",
     "output_type": "stream",
     "text": [
      "------------------------------------------------\n",
      "Num intentos: 1, URL: https://es.linkedin.com/jobs/view/firmware-engineer-avionics-and-flight-system-at-sener-4117991130?refId=BzKsdm%2FLcWVFlzPY6XXEyg%3D%3D&trackingId=X3X0PEzjUPCNTjfYi5TLMw%3D%3D&position=12&pageNum=29\n"
     ]
    },
    {
     "name": "stderr",
     "output_type": "stream",
     "text": [
      " 83%|████████▎ | 810/973 [21:15<04:58,  1.83s/it]"
     ]
    },
    {
     "name": "stdout",
     "output_type": "stream",
     "text": [
      "------------------------------------------------\n",
      "Num intentos: 1, URL: https://es.linkedin.com/jobs/view/senior-analytics-mlops-platform-engineer-at-m-kopa-4096918824?refId=BzKsdm%2FLcWVFlzPY6XXEyg%3D%3D&trackingId=50VDOdEgfSnZITOn0t9hGg%3D%3D&position=18&pageNum=29\n"
     ]
    },
    {
     "name": "stderr",
     "output_type": "stream",
     "text": [
      " 83%|████████▎ | 811/973 [21:16<04:42,  1.74s/it]"
     ]
    },
    {
     "name": "stdout",
     "output_type": "stream",
     "text": [
      "------------------------------------------------\n",
      "Num intentos: 1, URL: https://es.linkedin.com/jobs/view/software-engineer-distributed-systems-at-datadog-3705375903?refId=4T3q6%2BDUDS%2Fwfb0hIc%2BkJw%3D%3D&trackingId=5bGtNATrieqN7vyMj8Ebbg%3D%3D&position=1&pageNum=30\n"
     ]
    },
    {
     "name": "stderr",
     "output_type": "stream",
     "text": [
      " 83%|████████▎ | 812/973 [21:18<04:39,  1.74s/it]"
     ]
    },
    {
     "name": "stdout",
     "output_type": "stream",
     "text": [
      "------------------------------------------------\n",
      "Num intentos: 1, URL: https://es.linkedin.com/jobs/view/software-engineer-go-container-images-at-canonical-4117649405?refId=4T3q6%2BDUDS%2Fwfb0hIc%2BkJw%3D%3D&trackingId=eNxXcE2rRqVjMVbLLrk3ng%3D%3D&position=6&pageNum=30\n"
     ]
    },
    {
     "name": "stderr",
     "output_type": "stream",
     "text": [
      " 84%|████████▎ | 813/973 [21:20<04:50,  1.82s/it]"
     ]
    },
    {
     "name": "stdout",
     "output_type": "stream",
     "text": [
      "------------------------------------------------\n",
      "Num intentos: 1, URL: https://es.linkedin.com/jobs/view/software-engineer-go-container-images-at-canonical-4117647815?refId=4T3q6%2BDUDS%2Fwfb0hIc%2BkJw%3D%3D&trackingId=LXDH%2FywTonsW0QJuF8MYhA%3D%3D&position=7&pageNum=30\n"
     ]
    },
    {
     "name": "stderr",
     "output_type": "stream",
     "text": [
      " 84%|████████▎ | 814/973 [21:22<04:53,  1.84s/it]"
     ]
    },
    {
     "name": "stdout",
     "output_type": "stream",
     "text": [
      "------------------------------------------------\n",
      "Num intentos: 1, URL: https://es.linkedin.com/jobs/view/senior-software-engineer-site-reliability-at-datadog-4079328960?refId=4T3q6%2BDUDS%2Fwfb0hIc%2BkJw%3D%3D&trackingId=b%2BVXiA0%2F7iR%2F%2FQmDnpje%2FA%3D%3D&position=12&pageNum=30\n"
     ]
    },
    {
     "name": "stderr",
     "output_type": "stream",
     "text": [
      " 84%|████████▍ | 815/973 [21:24<04:45,  1.81s/it]"
     ]
    },
    {
     "name": "stdout",
     "output_type": "stream",
     "text": [
      "------------------------------------------------\n",
      "Num intentos: 1, URL: https://es.linkedin.com/jobs/view/onboard-software-engineer-at-gmv-4105593047?refId=pvzzDZKJw%2BBNu7o7uLGHhw%3D%3D&trackingId=bfVVQHYZG2GfBuXKhTZZFg%3D%3D&position=2&pageNum=31\n"
     ]
    },
    {
     "name": "stderr",
     "output_type": "stream",
     "text": [
      " 84%|████████▍ | 816/973 [21:26<04:45,  1.82s/it]"
     ]
    },
    {
     "name": "stdout",
     "output_type": "stream",
     "text": [
      "------------------------------------------------\n",
      "Num intentos: 1, URL: https://es.linkedin.com/jobs/view/software-engineer-ii-testing-infrastructure-at-datadog-4081242369?refId=pvzzDZKJw%2BBNu7o7uLGHhw%3D%3D&trackingId=1tcZXmSKKOIMx1VXsWkVnw%3D%3D&position=7&pageNum=31\n"
     ]
    },
    {
     "name": "stderr",
     "output_type": "stream",
     "text": [
      " 84%|████████▍ | 817/973 [21:28<04:55,  1.89s/it]"
     ]
    },
    {
     "name": "stdout",
     "output_type": "stream",
     "text": [
      "------------------------------------------------\n",
      "Num intentos: 1, URL: https://es.linkedin.com/jobs/view/software-engineer-core-observability-at-datadog-4090272418?refId=pvzzDZKJw%2BBNu7o7uLGHhw%3D%3D&trackingId=pBEEQVTgQ1KCvYz5yWP3Eg%3D%3D&position=15&pageNum=31\n"
     ]
    },
    {
     "name": "stderr",
     "output_type": "stream",
     "text": [
      " 84%|████████▍ | 818/973 [21:30<05:07,  1.98s/it]"
     ]
    },
    {
     "name": "stdout",
     "output_type": "stream",
     "text": [
      "------------------------------------------------\n",
      "Num intentos: 1, URL: https://es.linkedin.com/jobs/view/ingeniero-en-ia-especialista-en-genai-2024-at-kair%C3%B3s-digital-solutions-s-l-4102759369?refId=pvzzDZKJw%2BBNu7o7uLGHhw%3D%3D&trackingId=JUQMSNrVF85BPTBtXLrf8w%3D%3D&position=20&pageNum=31\n",
      "Error en el link: https://es.linkedin.com/jobs/view/ingeniero-en-ia-especialista-en-genai-2024-at-kair%C3%B3s-digital-solutions-s-l-4102759369?refId=pvzzDZKJw%2BBNu7o7uLGHhw%3D%3D&trackingId=JUQMSNrVF85BPTBtXLrf8w%3D%3D&position=20&pageNum=31\n"
     ]
    },
    {
     "name": "stderr",
     "output_type": "stream",
     "text": [
      " 84%|████████▍ | 819/973 [21:31<04:48,  1.87s/it]"
     ]
    },
    {
     "name": "stdout",
     "output_type": "stream",
     "text": [
      "------------------------------------------------\n",
      "Num intentos: 1, URL: https://es.linkedin.com/jobs/view/senior-engineer-%E2%80%93-computing-architecture-software-tooling-italy-or-netherlands-based-at-axelera-ai-4103490234?refId=pvzzDZKJw%2BBNu7o7uLGHhw%3D%3D&trackingId=q6ZweObuVjZ9Utpr45uerA%3D%3D&position=23&pageNum=31\n"
     ]
    },
    {
     "name": "stderr",
     "output_type": "stream",
     "text": [
      " 84%|████████▍ | 820/973 [21:33<04:43,  1.86s/it]"
     ]
    },
    {
     "name": "stdout",
     "output_type": "stream",
     "text": [
      "------------------------------------------------\n",
      "Num intentos: 1, URL: https://es.linkedin.com/jobs/view/senior-software-engineer-frontend-security-platform-at-datadog-3694166251?refId=iogc%2B4XiXLpYrKPr7Us7Lw%3D%3D&trackingId=3BBVB06TcOCEwCrr%2BdwWaA%3D%3D&position=5&pageNum=32\n"
     ]
    },
    {
     "name": "stderr",
     "output_type": "stream",
     "text": [
      " 84%|████████▍ | 821/973 [21:35<04:53,  1.93s/it]"
     ]
    },
    {
     "name": "stdout",
     "output_type": "stream",
     "text": [
      "------------------------------------------------\n",
      "Num intentos: 1, URL: https://es.linkedin.com/jobs/view/vnf-software-engineer-go-c%2B%2B-w-m-d-at-arsys-4110193901?refId=iogc%2B4XiXLpYrKPr7Us7Lw%3D%3D&trackingId=M%2F0Jwd%2Bfzdup4DjD1sMcgg%3D%3D&position=14&pageNum=32\n"
     ]
    },
    {
     "name": "stderr",
     "output_type": "stream",
     "text": [
      " 84%|████████▍ | 822/973 [21:37<04:42,  1.87s/it]"
     ]
    },
    {
     "name": "stdout",
     "output_type": "stream",
     "text": [
      "------------------------------------------------\n",
      "Num intentos: 1, URL: https://es.linkedin.com/jobs/view/senior-data-architect-at-keyrus-4072103733?refId=GB%2Fwwj7Zi4x1VtaSwZK9nQ%3D%3D&trackingId=XSSAzg1kBJc38vO7WhnKMA%3D%3D&position=18&pageNum=33\n"
     ]
    },
    {
     "name": "stderr",
     "output_type": "stream",
     "text": [
      " 85%|████████▍ | 823/973 [21:39<04:41,  1.88s/it]"
     ]
    },
    {
     "name": "stdout",
     "output_type": "stream",
     "text": [
      "------------------------------------------------\n",
      "Num intentos: 1, URL: https://es.linkedin.com/jobs/view/principal-power-system-engineer-at-mott-macdonald-4121146614?refId=GB%2Fwwj7Zi4x1VtaSwZK9nQ%3D%3D&trackingId=9hcMcGleCF83N6Sk5EFJPg%3D%3D&position=23&pageNum=33\n"
     ]
    },
    {
     "name": "stderr",
     "output_type": "stream",
     "text": [
      " 85%|████████▍ | 824/973 [21:40<04:14,  1.71s/it]"
     ]
    },
    {
     "name": "stdout",
     "output_type": "stream",
     "text": [
      "------------------------------------------------\n",
      "Num intentos: 1, URL: https://es.linkedin.com/jobs/view/flammability-reduction-system-engineer-m-f-at-airbus-protect-4099644589?refId=jYUCayDj5AktnYUNOxZvEQ%3D%3D&trackingId=z9MIFpenDGxPrIhJRkxE3g%3D%3D&position=8&pageNum=34\n"
     ]
    },
    {
     "name": "stderr",
     "output_type": "stream",
     "text": [
      " 85%|████████▍ | 825/973 [21:42<03:56,  1.60s/it]"
     ]
    },
    {
     "name": "stdout",
     "output_type": "stream",
     "text": [
      "------------------------------------------------\n",
      "Num intentos: 1, URL: https://es.linkedin.com/jobs/view/senior-software-engineer-avionics-and-flight-system-at-sener-aerospace-defence-4120053831?refId=k9%2FkRnfSBzcobArEZmRAig%3D%3D&trackingId=9M1yzckXEHHpx1ZaY23R3A%3D%3D&position=9&pageNum=35\n"
     ]
    },
    {
     "name": "stderr",
     "output_type": "stream",
     "text": [
      " 85%|████████▍ | 826/973 [21:43<03:49,  1.56s/it]"
     ]
    },
    {
     "name": "stdout",
     "output_type": "stream",
     "text": [
      "------------------------------------------------\n",
      "Num intentos: 1, URL: https://es.linkedin.com/jobs/view/senior-software-engineer-language-tools-at-datadog-4027508689?refId=k9%2FkRnfSBzcobArEZmRAig%3D%3D&trackingId=Bu9MV4lMWO8fmHd1Fa%2FmWg%3D%3D&position=11&pageNum=35\n"
     ]
    },
    {
     "name": "stderr",
     "output_type": "stream",
     "text": [
      " 85%|████████▍ | 827/973 [21:45<04:17,  1.77s/it]"
     ]
    },
    {
     "name": "stdout",
     "output_type": "stream",
     "text": [
      "------------------------------------------------\n",
      "Num intentos: 1, URL: https://es.linkedin.com/jobs/view/linux-system-engineer-qa-tooling-automation-at-canonical-4117652054?refId=k9%2FkRnfSBzcobArEZmRAig%3D%3D&trackingId=AsrRiUuer99Fv6f1W9NFJw%3D%3D&position=18&pageNum=35\n"
     ]
    },
    {
     "name": "stderr",
     "output_type": "stream",
     "text": [
      " 85%|████████▌ | 828/973 [21:47<04:15,  1.76s/it]"
     ]
    },
    {
     "name": "stdout",
     "output_type": "stream",
     "text": [
      "------------------------------------------------\n",
      "Num intentos: 1, URL: https://es.linkedin.com/jobs/view/senior-software-engineer-api-frameworks-at-datadog-4082645317?refId=k9%2FkRnfSBzcobArEZmRAig%3D%3D&trackingId=feOvxRjSvpSJyyw16YUhuw%3D%3D&position=19&pageNum=35\n"
     ]
    },
    {
     "name": "stderr",
     "output_type": "stream",
     "text": [
      " 85%|████████▌ | 829/973 [21:49<04:17,  1.79s/it]"
     ]
    },
    {
     "name": "stdout",
     "output_type": "stream",
     "text": [
      "------------------------------------------------\n",
      "Num intentos: 1, URL: https://es.linkedin.com/jobs/view/avanade-campus-pr%C3%A1cticas-en-analytics-con-tecnolog%C3%ADas-microsoft-marzo-2025-at-avanade-4110065059?refId=k9%2FkRnfSBzcobArEZmRAig%3D%3D&trackingId=OQM%2BOpJZVgxL8%2BZsvKZaYA%3D%3D&position=22&pageNum=35\n"
     ]
    },
    {
     "name": "stderr",
     "output_type": "stream",
     "text": [
      " 85%|████████▌ | 830/973 [21:51<04:07,  1.73s/it]"
     ]
    },
    {
     "name": "stdout",
     "output_type": "stream",
     "text": [
      "------------------------------------------------\n",
      "Num intentos: 1, URL: https://es.linkedin.com/jobs/view/senior-software-engineer-sdk-at-tomtom-4115177017?refId=FnhfE%2BUO6DlfX1s9TYmIuw%3D%3D&trackingId=0XFfUuo%2BRyID%2F2cJ1xgI4A%3D%3D&position=6&pageNum=36\n"
     ]
    },
    {
     "name": "stderr",
     "output_type": "stream",
     "text": [
      " 85%|████████▌ | 831/973 [21:53<04:17,  1.81s/it]"
     ]
    },
    {
     "name": "stdout",
     "output_type": "stream",
     "text": [
      "------------------------------------------------\n",
      "Num intentos: 1, URL: https://es.linkedin.com/jobs/view/linux-system-engineer-qa-tooling-automation-at-canonical-4117652055?refId=FnhfE%2BUO6DlfX1s9TYmIuw%3D%3D&trackingId=%2BO%2FNXqi5uAWvbsCPFXxauA%3D%3D&position=16&pageNum=36\n"
     ]
    },
    {
     "name": "stderr",
     "output_type": "stream",
     "text": [
      " 86%|████████▌ | 832/973 [21:54<04:00,  1.71s/it]"
     ]
    },
    {
     "name": "stdout",
     "output_type": "stream",
     "text": [
      "------------------------------------------------\n",
      "Num intentos: 1, URL: https://es.linkedin.com/jobs/view/principal-software-engineer-at-thoughtworks-4102515154?refId=M92tBlvFSrvwBHhPL3Il6Q%3D%3D&trackingId=eqM7fnFu0ePszGs0Qu85XQ%3D%3D&position=16&pageNum=37\n"
     ]
    },
    {
     "name": "stderr",
     "output_type": "stream",
     "text": [
      " 86%|████████▌ | 833/973 [21:56<04:10,  1.79s/it]"
     ]
    },
    {
     "name": "stdout",
     "output_type": "stream",
     "text": [
      "------------------------------------------------\n",
      "Num intentos: 1, URL: https://es.linkedin.com/jobs/view/aircraft-communication-systems-test-engineer-at-airbus-defence-and-space-4089510057?refId=4aUxUe7ReM%2FfmMEQZ%2Bz1sA%3D%3D&trackingId=YssiWc0GKbslN9KPfCVZqQ%3D%3D&position=1&pageNum=38\n"
     ]
    },
    {
     "name": "stderr",
     "output_type": "stream",
     "text": [
      " 86%|████████▌ | 834/973 [21:57<03:56,  1.70s/it]"
     ]
    },
    {
     "name": "stdout",
     "output_type": "stream",
     "text": [
      "------------------------------------------------\n",
      "Num intentos: 1, URL: https://es.linkedin.com/jobs/view/consultor-tableau-at-devoteam-4103905046?refId=4aUxUe7ReM%2FfmMEQZ%2Bz1sA%3D%3D&trackingId=fqs91GO8zd%2FG6Re%2BETmeOA%3D%3D&position=9&pageNum=38\n"
     ]
    },
    {
     "name": "stderr",
     "output_type": "stream",
     "text": [
      " 86%|████████▌ | 835/973 [21:59<03:50,  1.67s/it]"
     ]
    },
    {
     "name": "stdout",
     "output_type": "stream",
     "text": [
      "------------------------------------------------\n",
      "Num intentos: 1, URL: https://es.linkedin.com/jobs/view/java-software-engineer-for-a-space-project-at-gmv-4059099526?refId=4aUxUe7ReM%2FfmMEQZ%2Bz1sA%3D%3D&trackingId=g%2Fbe4dcmUSl6E7W0gElxEQ%3D%3D&position=12&pageNum=38\n"
     ]
    },
    {
     "name": "stderr",
     "output_type": "stream",
     "text": [
      " 86%|████████▌ | 836/973 [22:01<03:47,  1.66s/it]"
     ]
    },
    {
     "name": "stdout",
     "output_type": "stream",
     "text": [
      "------------------------------------------------\n",
      "Num intentos: 1, URL: https://es.linkedin.com/jobs/view/senior-software-engineer-front-end-at-pearson-4093036311?refId=4aUxUe7ReM%2FfmMEQZ%2Bz1sA%3D%3D&trackingId=1dJh7lsMzVtqVDwsqlYzPw%3D%3D&position=14&pageNum=38\n"
     ]
    },
    {
     "name": "stderr",
     "output_type": "stream",
     "text": [
      " 86%|████████▌ | 837/973 [22:02<03:48,  1.68s/it]"
     ]
    },
    {
     "name": "stdout",
     "output_type": "stream",
     "text": [
      "------------------------------------------------\n",
      "Num intentos: 1, URL: https://es.linkedin.com/jobs/view/capabilities-insights-analyst-%E2%80%93-banking-at-mckinsey-company-4008655561?refId=4aUxUe7ReM%2FfmMEQZ%2Bz1sA%3D%3D&trackingId=swhIaxurCntoWUrL0Kr%2BwQ%3D%3D&position=24&pageNum=38\n"
     ]
    },
    {
     "name": "stderr",
     "output_type": "stream",
     "text": [
      " 86%|████████▌ | 838/973 [22:04<03:43,  1.65s/it]"
     ]
    },
    {
     "name": "stdout",
     "output_type": "stream",
     "text": [
      "------------------------------------------------\n",
      "Num intentos: 1, URL: https://es.linkedin.com/jobs/view/data-scientist-unidad-editorial-at-alter-solutions-group-4110179582?refId=xPrcwAXkZO4mu5jDn0JJDg%3D%3D&trackingId=M3Cx60h9AVoPVWLbBFMeOA%3D%3D&position=8&pageNum=39\n"
     ]
    },
    {
     "name": "stderr",
     "output_type": "stream",
     "text": [
      " 86%|████████▌ | 839/973 [22:06<03:38,  1.63s/it]"
     ]
    },
    {
     "name": "stdout",
     "output_type": "stream",
     "text": [
      "------------------------------------------------\n",
      "Num intentos: 1, URL: https://es.linkedin.com/jobs/view/senior-software-development-engineer-in-test-f-m-d-at-axpo-group-4081219951?refId=xPrcwAXkZO4mu5jDn0JJDg%3D%3D&trackingId=kk64b0llutxABtvtficWvw%3D%3D&position=25&pageNum=39\n"
     ]
    },
    {
     "name": "stderr",
     "output_type": "stream",
     "text": [
      " 86%|████████▋ | 840/973 [22:08<03:57,  1.78s/it]"
     ]
    },
    {
     "name": "stdout",
     "output_type": "stream",
     "text": [
      "------------------------------------------------\n",
      "Num intentos: 1, URL: https://es.linkedin.com/jobs/view/ingeniero-de-datos-junior-modalidad-h%C3%ADbrida-21-000-%E2%80%93-24-000k-at-touron-4081439989?refId=5lUV4%2FNAtY0kytHF7H9LFw%3D%3D&trackingId=jobokXxmBi5mmRHqqmuzwg%3D%3D&position=6&pageNum=0\n"
     ]
    },
    {
     "name": "stderr",
     "output_type": "stream",
     "text": [
      " 86%|████████▋ | 841/973 [22:09<03:50,  1.75s/it]"
     ]
    },
    {
     "name": "stdout",
     "output_type": "stream",
     "text": [
      "------------------------------------------------\n",
      "Num intentos: 1, URL: https://es.linkedin.com/jobs/view/database-engineer-mysql-at-gaming-innovation-group-4083459973?refId=gl%2Bd7kBz9WLFJeX%2Bk722Sg%3D%3D&trackingId=o%2BB72egcD0E9gOaYNfM4Jg%3D%3D&position=8&pageNum=1\n"
     ]
    },
    {
     "name": "stderr",
     "output_type": "stream",
     "text": [
      " 87%|████████▋ | 842/973 [22:11<03:43,  1.71s/it]"
     ]
    },
    {
     "name": "stdout",
     "output_type": "stream",
     "text": [
      "------------------------------------------------\n",
      "Num intentos: 1, URL: https://es.linkedin.com/jobs/view/data-engineer-at-tuy%C3%BA-technology-4083382985?refId=JOY6haVz%2BavdFBx3hGjq%2BQ%3D%3D&trackingId=DZKa5bmTqI5cfQa7BlL6Ww%3D%3D&position=25&pageNum=2\n"
     ]
    },
    {
     "name": "stderr",
     "output_type": "stream",
     "text": [
      " 87%|████████▋ | 843/973 [22:13<03:44,  1.72s/it]"
     ]
    },
    {
     "name": "stdout",
     "output_type": "stream",
     "text": [
      "------------------------------------------------\n",
      "Num intentos: 1, URL: https://es.linkedin.com/jobs/view/bi-engineer-at-sgs-4092116879?refId=NfI1oXKEWAziniZHawNbcA%3D%3D&trackingId=S7kmqmXjcD8w0SZakfXF6A%3D%3D&position=3&pageNum=5\n"
     ]
    },
    {
     "name": "stderr",
     "output_type": "stream",
     "text": [
      " 87%|████████▋ | 844/973 [22:14<03:35,  1.67s/it]"
     ]
    },
    {
     "name": "stdout",
     "output_type": "stream",
     "text": [
      "------------------------------------------------\n",
      "Num intentos: 1, URL: https://es.linkedin.com/jobs/view/senior-data-platform-engineer-at-atradius-4062478403?refId=lLfUMnXEaEcpWjyocCqvfg%3D%3D&trackingId=srcx5t2hjJ8MRIizJ5wygA%3D%3D&position=15&pageNum=10\n"
     ]
    },
    {
     "name": "stderr",
     "output_type": "stream",
     "text": [
      " 87%|████████▋ | 845/973 [22:16<03:30,  1.64s/it]"
     ]
    },
    {
     "name": "stdout",
     "output_type": "stream",
     "text": [
      "------------------------------------------------\n",
      "Num intentos: 1, URL: https://es.linkedin.com/jobs/view/senior-software-engineer-spain-at-cubic-telecom-4099395092?refId=lLfUMnXEaEcpWjyocCqvfg%3D%3D&trackingId=grEck8OOt%2FSdcSc4ocb3og%3D%3D&position=24&pageNum=10\n"
     ]
    },
    {
     "name": "stderr",
     "output_type": "stream",
     "text": [
      " 87%|████████▋ | 846/973 [22:17<03:21,  1.59s/it]"
     ]
    },
    {
     "name": "stdout",
     "output_type": "stream",
     "text": [
      "------------------------------------------------\n",
      "Num intentos: 1, URL: https://es.linkedin.com/jobs/view/senior-software-engineer-c%2B%2B-c-python-at-seliuk-ltd-4083436734?refId=jj4UbOc%2FecseE2pKr2PGiw%3D%3D&trackingId=9KsPUT4M5Vik16wbPa7DhA%3D%3D&position=18&pageNum=11\n"
     ]
    },
    {
     "name": "stderr",
     "output_type": "stream",
     "text": [
      " 87%|████████▋ | 847/973 [22:19<03:23,  1.62s/it]"
     ]
    },
    {
     "name": "stdout",
     "output_type": "stream",
     "text": [
      "------------------------------------------------\n",
      "Num intentos: 1, URL: https://es.linkedin.com/jobs/view/programador-a-ia-generativa-madrid-at-slashmobility-4087120287?refId=1gxsBjCoxyvxl5YEGDjwHQ%3D%3D&trackingId=uLuSWBsPgO3%2BPdKbLA%2BQfQ%3D%3D&position=23&pageNum=12\n"
     ]
    },
    {
     "name": "stderr",
     "output_type": "stream",
     "text": [
      " 87%|████████▋ | 848/973 [22:21<03:25,  1.64s/it]"
     ]
    },
    {
     "name": "stdout",
     "output_type": "stream",
     "text": [
      "------------------------------------------------\n",
      "Num intentos: 1, URL: https://es.linkedin.com/jobs/view/marketing-data-analyst-at-cabify-4074761437?refId=1gxsBjCoxyvxl5YEGDjwHQ%3D%3D&trackingId=5%2BPnoWVY83UiscBoTRgKBA%3D%3D&position=25&pageNum=12\n"
     ]
    },
    {
     "name": "stderr",
     "output_type": "stream",
     "text": [
      " 87%|████████▋ | 849/973 [22:22<03:22,  1.63s/it]"
     ]
    },
    {
     "name": "stdout",
     "output_type": "stream",
     "text": [
      "------------------------------------------------\n",
      "Num intentos: 1, URL: https://es.linkedin.com/jobs/view/senior-data-engineer-at-amaris-consulting-4088117258?refId=WE0nbdRCjRzYQ%2BMa7Jlfcw%3D%3D&trackingId=gQsf1sGx4jCGAknJq%2FPTmQ%3D%3D&position=15&pageNum=13\n"
     ]
    },
    {
     "name": "stderr",
     "output_type": "stream",
     "text": [
      " 87%|████████▋ | 850/973 [22:24<03:37,  1.77s/it]"
     ]
    },
    {
     "name": "stdout",
     "output_type": "stream",
     "text": [
      "------------------------------------------------\n",
      "Num intentos: 1, URL: https://es.linkedin.com/jobs/view/python-and-kubernetes-software-engineer-data-ai-ml-analytics-at-canonical-4094700948?refId=WE0nbdRCjRzYQ%2BMa7Jlfcw%3D%3D&trackingId=%2B67YLF4A%2FoONK6Xs6WhHkQ%3D%3D&position=21&pageNum=13\n"
     ]
    },
    {
     "name": "stderr",
     "output_type": "stream",
     "text": [
      " 87%|████████▋ | 851/973 [22:26<03:42,  1.83s/it]"
     ]
    },
    {
     "name": "stdout",
     "output_type": "stream",
     "text": [
      "------------------------------------------------\n",
      "Num intentos: 1, URL: https://es.linkedin.com/jobs/view/python-and-kubernetes-software-engineer-data-ai-ml-analytics-at-canonical-4094704454?refId=RdedVh4j8Ltwj0EyXoSKYA%3D%3D&trackingId=PJTbFQfVuhMvBblDNcx%2BsQ%3D%3D&position=14&pageNum=14\n"
     ]
    },
    {
     "name": "stderr",
     "output_type": "stream",
     "text": [
      " 88%|████████▊ | 852/973 [22:28<03:42,  1.84s/it]"
     ]
    },
    {
     "name": "stdout",
     "output_type": "stream",
     "text": [
      "------------------------------------------------\n",
      "Num intentos: 1, URL: https://es.linkedin.com/jobs/view/software-engineer-python-container-images-at-canonical-4089855192?refId=xAOfEyQvsTybZp6n8A%2B4ZA%3D%3D&trackingId=7rxLGd0K4ccmjiER%2BakMIQ%3D%3D&position=5&pageNum=16\n"
     ]
    },
    {
     "name": "stderr",
     "output_type": "stream",
     "text": [
      " 88%|████████▊ | 853/973 [22:30<03:49,  1.91s/it]"
     ]
    },
    {
     "name": "stdout",
     "output_type": "stream",
     "text": [
      "------------------------------------------------\n",
      "Num intentos: 1, URL: https://es.linkedin.com/jobs/view/software-engineer-python-container-images-at-canonical-4089854421?refId=xAOfEyQvsTybZp6n8A%2B4ZA%3D%3D&trackingId=sCFsp5ljHN5IDsofSJmrQw%3D%3D&position=6&pageNum=16\n"
     ]
    },
    {
     "name": "stderr",
     "output_type": "stream",
     "text": [
      " 88%|████████▊ | 854/973 [22:32<03:46,  1.91s/it]"
     ]
    },
    {
     "name": "stdout",
     "output_type": "stream",
     "text": [
      "------------------------------------------------\n",
      "Num intentos: 1, URL: https://es.linkedin.com/jobs/view/software-engineer-python-container-images-at-canonical-4089851761?refId=xAOfEyQvsTybZp6n8A%2B4ZA%3D%3D&trackingId=JTcrIM0z4S2CzoIApcw%2BUA%3D%3D&position=11&pageNum=16\n"
     ]
    },
    {
     "name": "stderr",
     "output_type": "stream",
     "text": [
      " 88%|████████▊ | 855/973 [22:34<03:36,  1.84s/it]"
     ]
    },
    {
     "name": "stdout",
     "output_type": "stream",
     "text": [
      "------------------------------------------------\n",
      "Num intentos: 1, URL: https://es.linkedin.com/jobs/view/sre-cloud-engineer-at-ford-motor-company-4094712330?refId=xAOfEyQvsTybZp6n8A%2B4ZA%3D%3D&trackingId=ICj7JeMYFNTV7ErmqGktaA%3D%3D&position=14&pageNum=16\n"
     ]
    },
    {
     "name": "stderr",
     "output_type": "stream",
     "text": [
      " 88%|████████▊ | 856/973 [22:36<03:33,  1.83s/it]"
     ]
    },
    {
     "name": "stdout",
     "output_type": "stream",
     "text": [
      "------------------------------------------------\n",
      "Num intentos: 1, URL: https://es.linkedin.com/jobs/view/software-engineer-python-container-images-at-canonical-4089853693?refId=5iMqGO1%2FHzfh4hS6zDhIBw%3D%3D&trackingId=CVSkqoOrFbAv62ViTzZI3A%3D%3D&position=21&pageNum=17\n"
     ]
    },
    {
     "name": "stderr",
     "output_type": "stream",
     "text": [
      " 88%|████████▊ | 857/973 [22:38<03:29,  1.81s/it]"
     ]
    },
    {
     "name": "stdout",
     "output_type": "stream",
     "text": [
      "------------------------------------------------\n",
      "Num intentos: 1, URL: https://es.linkedin.com/jobs/view/principal-software-engineer-at-teya-4066005899?refId=FdMdL4No5nsuHtAaKxXehg%3D%3D&trackingId=lVplDE58wOho48jmm2qAaw%3D%3D&position=9&pageNum=18\n"
     ]
    },
    {
     "name": "stderr",
     "output_type": "stream",
     "text": [
      " 88%|████████▊ | 858/973 [22:39<03:21,  1.75s/it]"
     ]
    },
    {
     "name": "stdout",
     "output_type": "stream",
     "text": [
      "------------------------------------------------\n",
      "Num intentos: 1, URL: https://es.linkedin.com/jobs/view/data-engineer-denodo-at-sopra-steria-4073008142?refId=FdMdL4No5nsuHtAaKxXehg%3D%3D&trackingId=wB6Pn522ONUDHlAvoM9C0g%3D%3D&position=13&pageNum=18\n"
     ]
    },
    {
     "name": "stderr",
     "output_type": "stream",
     "text": [
      " 88%|████████▊ | 859/973 [22:41<03:14,  1.71s/it]"
     ]
    },
    {
     "name": "stdout",
     "output_type": "stream",
     "text": [
      "------------------------------------------------\n",
      "Num intentos: 1, URL: https://es.linkedin.com/jobs/view/software-engineer-data-infrastructure-at-canonical-4080047679?refId=FdMdL4No5nsuHtAaKxXehg%3D%3D&trackingId=4TQuy6ZOiDJUBycF%2B8%2FMZQ%3D%3D&position=15&pageNum=18\n"
     ]
    },
    {
     "name": "stderr",
     "output_type": "stream",
     "text": [
      " 88%|████████▊ | 860/973 [22:43<03:16,  1.74s/it]"
     ]
    },
    {
     "name": "stdout",
     "output_type": "stream",
     "text": [
      "------------------------------------------------\n",
      "Num intentos: 1, URL: https://es.linkedin.com/jobs/view/embedded-software-engineer-at-lambda-executive-4093485465?refId=FdMdL4No5nsuHtAaKxXehg%3D%3D&trackingId=yNyIOldzeNyGfZMBwzuLrA%3D%3D&position=25&pageNum=18\n"
     ]
    },
    {
     "name": "stderr",
     "output_type": "stream",
     "text": [
      " 88%|████████▊ | 861/973 [22:44<03:18,  1.77s/it]"
     ]
    },
    {
     "name": "stdout",
     "output_type": "stream",
     "text": [
      "------------------------------------------------\n",
      "Num intentos: 1, URL: https://es.linkedin.com/jobs/view/1-devops-engineer-madrid-spain-at-axon-networks-4084803392?refId=jlTvqtUYEFUTXMPpb2kHVA%3D%3D&trackingId=MAFq4HaoMlMNClVgfI8TTQ%3D%3D&position=9&pageNum=19\n"
     ]
    },
    {
     "name": "stderr",
     "output_type": "stream",
     "text": [
      " 89%|████████▊ | 862/973 [22:46<03:08,  1.70s/it]"
     ]
    },
    {
     "name": "stdout",
     "output_type": "stream",
     "text": [
      "------------------------------------------------\n",
      "Num intentos: 1, URL: https://es.linkedin.com/jobs/view/google-principal-data-engineer-lead-at-accenture-espa%C3%B1a-4089008542?refId=jlTvqtUYEFUTXMPpb2kHVA%3D%3D&trackingId=iiA8kr7UrJsjV7fvCq7%2BSg%3D%3D&position=15&pageNum=19\n"
     ]
    },
    {
     "name": "stderr",
     "output_type": "stream",
     "text": [
      " 89%|████████▊ | 863/973 [22:48<03:07,  1.70s/it]"
     ]
    },
    {
     "name": "stdout",
     "output_type": "stream",
     "text": [
      "------------------------------------------------\n",
      "Num intentos: 1, URL: https://es.linkedin.com/jobs/view/software-engineer-data-infrastructure-at-canonical-4080045693?refId=jlTvqtUYEFUTXMPpb2kHVA%3D%3D&trackingId=E2YHPcBeYFH4vJeu2mnLJA%3D%3D&position=19&pageNum=19\n"
     ]
    },
    {
     "name": "stderr",
     "output_type": "stream",
     "text": [
      " 89%|████████▉ | 864/973 [22:49<03:04,  1.70s/it]"
     ]
    },
    {
     "name": "stdout",
     "output_type": "stream",
     "text": [
      "------------------------------------------------\n",
      "Num intentos: 1, URL: https://es.linkedin.com/jobs/view/google-principal-data-engineer-lead-at-accenture-espa%C3%B1a-4089008542?refId=RVoI%2BWwn15hCaFEnz4TWeA%3D%3D&trackingId=NwYoG%2F%2BpctBQ8fUeFEldCg%3D%3D&position=1&pageNum=20\n"
     ]
    },
    {
     "name": "stderr",
     "output_type": "stream",
     "text": [
      " 89%|████████▉ | 865/973 [22:51<02:55,  1.63s/it]"
     ]
    },
    {
     "name": "stdout",
     "output_type": "stream",
     "text": [
      "------------------------------------------------\n",
      "Num intentos: 1, URL: https://es.linkedin.com/jobs/view/software-engineer-data-infrastructure-at-canonical-4080045693?refId=RVoI%2BWwn15hCaFEnz4TWeA%3D%3D&trackingId=84X9pf0X%2BZA10h%2FVwle2QQ%3D%3D&position=5&pageNum=20\n"
     ]
    },
    {
     "name": "stderr",
     "output_type": "stream",
     "text": [
      " 89%|████████▉ | 866/973 [22:53<02:57,  1.66s/it]"
     ]
    },
    {
     "name": "stdout",
     "output_type": "stream",
     "text": [
      "------------------------------------------------\n",
      "Num intentos: 1, URL: https://es.linkedin.com/jobs/view/c%23-net-software-engineer-at-taxscouts-4083467124?refId=mXSy218UvW9GMbgT3jByKg%3D%3D&trackingId=sEJc5GfUSvNsyj%2Fu4HYz7Q%3D%3D&position=8&pageNum=22\n"
     ]
    },
    {
     "name": "stderr",
     "output_type": "stream",
     "text": [
      " 89%|████████▉ | 867/973 [22:54<02:56,  1.66s/it]"
     ]
    },
    {
     "name": "stdout",
     "output_type": "stream",
     "text": [
      "------------------------------------------------\n",
      "Num intentos: 1, URL: https://es.linkedin.com/jobs/view/airborne-networking-connectivity-system-engineer-%232-at-airbus-defence-and-space-4089504668?refId=xndk4q%2FZdLhddgb2PRN9DQ%3D%3D&trackingId=uHkLh2Hqar4aR1UDZxZwTA%3D%3D&position=1&pageNum=25\n"
     ]
    },
    {
     "name": "stderr",
     "output_type": "stream",
     "text": [
      " 89%|████████▉ | 868/973 [22:56<02:53,  1.65s/it]"
     ]
    },
    {
     "name": "stdout",
     "output_type": "stream",
     "text": [
      "------------------------------------------------\n",
      "Num intentos: 1, URL: https://es.linkedin.com/jobs/view/senior-software-engineer-net-c%23-remote-at-tarlogic-4089960821?refId=xndk4q%2FZdLhddgb2PRN9DQ%3D%3D&trackingId=eE5wfZSzcAc7MfzVrpiryw%3D%3D&position=3&pageNum=25\n"
     ]
    },
    {
     "name": "stderr",
     "output_type": "stream",
     "text": [
      " 89%|████████▉ | 869/973 [22:57<02:40,  1.54s/it]"
     ]
    },
    {
     "name": "stdout",
     "output_type": "stream",
     "text": [
      "------------------------------------------------\n",
      "Num intentos: 1, URL: https://es.linkedin.com/jobs/view/senior-software-engineer-data-reliability-at-datadog-3965446522?refId=xndk4q%2FZdLhddgb2PRN9DQ%3D%3D&trackingId=a3u2HLB9jzoYIszyc7kOxg%3D%3D&position=8&pageNum=25\n"
     ]
    },
    {
     "name": "stderr",
     "output_type": "stream",
     "text": [
      " 89%|████████▉ | 870/973 [23:01<03:40,  2.14s/it]"
     ]
    },
    {
     "name": "stdout",
     "output_type": "stream",
     "text": [
      "------------------------------------------------\n",
      "Num intentos: 1, URL: https://es.linkedin.com/jobs/view/data-scientist-ingles-hibrido-at-irium-4088163091?refId=xndk4q%2FZdLhddgb2PRN9DQ%3D%3D&trackingId=ICgqrte%2F1AmdN630bjjwZw%3D%3D&position=24&pageNum=25\n"
     ]
    },
    {
     "name": "stderr",
     "output_type": "stream",
     "text": [
      " 90%|████████▉ | 871/973 [23:02<03:17,  1.93s/it]"
     ]
    },
    {
     "name": "stdout",
     "output_type": "stream",
     "text": [
      "------------------------------------------------\n",
      "Num intentos: 1, URL: https://es.linkedin.com/jobs/view/software-engineer-c%2B%2B-at-tether-io-4093656360?refId=%2Fq8IkmAC8FsOi3L4LWt3mA%3D%3D&trackingId=Tx7U1cHjp0wDRHGusn92JQ%3D%3D&position=7&pageNum=26\n"
     ]
    },
    {
     "name": "stderr",
     "output_type": "stream",
     "text": [
      " 90%|████████▉ | 872/973 [23:04<03:07,  1.85s/it]"
     ]
    },
    {
     "name": "stdout",
     "output_type": "stream",
     "text": [
      "------------------------------------------------\n",
      "Num intentos: 1, URL: https://es.linkedin.com/jobs/view/juju-software-engineer-go-at-canonical-4081172384?refId=%2Fq8IkmAC8FsOi3L4LWt3mA%3D%3D&trackingId=lbQeeZT9zTrjqnITyzIPIg%3D%3D&position=19&pageNum=26\n"
     ]
    },
    {
     "name": "stderr",
     "output_type": "stream",
     "text": [
      " 90%|████████▉ | 873/973 [23:05<03:00,  1.81s/it]"
     ]
    },
    {
     "name": "stdout",
     "output_type": "stream",
     "text": [
      "------------------------------------------------\n",
      "Num intentos: 1, URL: https://es.linkedin.com/jobs/view/vmware-infrastructure-system-engineer-m-f-d-at-basf-4086129542?refId=%2Fq8IkmAC8FsOi3L4LWt3mA%3D%3D&trackingId=pmYe178fepuTaPO10flkCQ%3D%3D&position=22&pageNum=26\n"
     ]
    },
    {
     "name": "stderr",
     "output_type": "stream",
     "text": [
      " 90%|████████▉ | 874/973 [23:07<02:57,  1.79s/it]"
     ]
    },
    {
     "name": "stdout",
     "output_type": "stream",
     "text": [
      "------------------------------------------------\n",
      "Num intentos: 1, URL: https://es.linkedin.com/jobs/view/juju-software-engineer-go-at-canonical-4081169721?refId=ayqrf6i0IBZ5ivdHUm4zEw%3D%3D&trackingId=%2BKZwNCYkzjcZGqIsi9rLfw%3D%3D&position=18&pageNum=27\n"
     ]
    },
    {
     "name": "stderr",
     "output_type": "stream",
     "text": [
      " 90%|████████▉ | 875/973 [23:09<02:52,  1.76s/it]"
     ]
    },
    {
     "name": "stdout",
     "output_type": "stream",
     "text": [
      "------------------------------------------------\n"
     ]
    },
    {
     "name": "stderr",
     "output_type": "stream",
     "text": [
      " 90%|█████████ | 876/973 [23:10<02:41,  1.66s/it]"
     ]
    },
    {
     "name": "stdout",
     "output_type": "stream",
     "text": [
      "Num intentos: 1, URL: https://es.linkedin.com/jobs/view/data-scientist-madrid-at-ayuda-en-acci%C3%B3n-4087118588?refId=27zDqnaAzgOwPOyBAP6gyA%3D%3D&trackingId=N%2BqMUKeHjswhB5n4eqOAOw%3D%3D&position=7&pageNum=28\n",
      "Error en el link: https://es.linkedin.com/jobs/view/data-scientist-madrid-at-ayuda-en-acci%C3%B3n-4087118588?refId=27zDqnaAzgOwPOyBAP6gyA%3D%3D&trackingId=N%2BqMUKeHjswhB5n4eqOAOw%3D%3D&position=7&pageNum=28\n",
      "------------------------------------------------\n",
      "Num intentos: 1, URL: https://es.linkedin.com/jobs/view/especialista-en-analisis-de-procesos-at-prim-4083033282?refId=27zDqnaAzgOwPOyBAP6gyA%3D%3D&trackingId=pdBxnYAW2qwv7GuAzTclWQ%3D%3D&position=14&pageNum=28\n"
     ]
    },
    {
     "name": "stderr",
     "output_type": "stream",
     "text": [
      " 90%|█████████ | 877/973 [23:12<02:29,  1.55s/it]"
     ]
    },
    {
     "name": "stdout",
     "output_type": "stream",
     "text": [
      "Error en el link: https://es.linkedin.com/jobs/view/especialista-en-analisis-de-procesos-at-prim-4083033282?refId=27zDqnaAzgOwPOyBAP6gyA%3D%3D&trackingId=pdBxnYAW2qwv7GuAzTclWQ%3D%3D&position=14&pageNum=28\n",
      "------------------------------------------------\n",
      "Num intentos: 1, URL: https://es.linkedin.com/jobs/view/senior-consultant-azure-developer-at-turner-townsend-4073092501?refId=BzKsdm%2FLcWVFlzPY6XXEyg%3D%3D&trackingId=dTUAvXId%2FGGHbhBfIL2btQ%3D%3D&position=6&pageNum=29\n"
     ]
    },
    {
     "name": "stderr",
     "output_type": "stream",
     "text": [
      " 90%|█████████ | 878/973 [23:13<02:25,  1.53s/it]"
     ]
    },
    {
     "name": "stdout",
     "output_type": "stream",
     "text": [
      "------------------------------------------------\n",
      "Num intentos: 1, URL: https://es.linkedin.com/jobs/view/software-engineer-data-infrastructure-opensearch-elasticsearch-at-canonical-4080047669?refId=BzKsdm%2FLcWVFlzPY6XXEyg%3D%3D&trackingId=EIqmT86JuUFBoIwz5hdfWw%3D%3D&position=14&pageNum=29\n"
     ]
    },
    {
     "name": "stderr",
     "output_type": "stream",
     "text": [
      " 90%|█████████ | 879/973 [23:15<02:41,  1.72s/it]"
     ]
    },
    {
     "name": "stdout",
     "output_type": "stream",
     "text": [
      "------------------------------------------------\n",
      "Num intentos: 1, URL: https://es.linkedin.com/jobs/view/software-engineer-go-container-images-at-canonical-4089855065?refId=4T3q6%2BDUDS%2Fwfb0hIc%2BkJw%3D%3D&trackingId=ukGeL%2B%2FvtEGhONDAgtyecA%3D%3D&position=16&pageNum=30\n"
     ]
    },
    {
     "name": "stderr",
     "output_type": "stream",
     "text": [
      " 90%|█████████ | 880/973 [23:17<02:42,  1.75s/it]"
     ]
    },
    {
     "name": "stdout",
     "output_type": "stream",
     "text": [
      "------------------------------------------------\n",
      "Num intentos: 1, URL: https://es.linkedin.com/jobs/view/software-engineer-go-container-images-at-canonical-4089853570?refId=4T3q6%2BDUDS%2Fwfb0hIc%2BkJw%3D%3D&trackingId=FLvJJVxG7G09e7MhMCE7xA%3D%3D&position=17&pageNum=30\n"
     ]
    },
    {
     "name": "stderr",
     "output_type": "stream",
     "text": [
      " 91%|█████████ | 881/973 [23:19<02:40,  1.75s/it]"
     ]
    },
    {
     "name": "stdout",
     "output_type": "stream",
     "text": [
      "------------------------------------------------\n",
      "Num intentos: 1, URL: https://es.linkedin.com/jobs/view/senior-software-engineer-orgstore-at-datadog-3708916639?refId=pvzzDZKJw%2BBNu7o7uLGHhw%3D%3D&trackingId=o%2F49dn3rk8O9hIpd8OL6JQ%3D%3D&position=18&pageNum=31\n"
     ]
    },
    {
     "name": "stderr",
     "output_type": "stream",
     "text": [
      " 91%|█████████ | 882/973 [23:21<02:49,  1.86s/it]"
     ]
    },
    {
     "name": "stdout",
     "output_type": "stream",
     "text": [
      "------------------------------------------------\n",
      "Num intentos: 1, URL: https://es.linkedin.com/jobs/view/software-engineer-data-infrastructure-opensearch-elasticsearch-at-canonical-4080048569?refId=iogc%2B4XiXLpYrKPr7Us7Lw%3D%3D&trackingId=Sc%2BhiaJnPG7A5hAz9ItqIw%3D%3D&position=12&pageNum=32\n"
     ]
    },
    {
     "name": "stderr",
     "output_type": "stream",
     "text": [
      " 91%|█████████ | 883/973 [23:22<02:38,  1.76s/it]"
     ]
    },
    {
     "name": "stdout",
     "output_type": "stream",
     "text": [
      "------------------------------------------------\n",
      "Num intentos: 1, URL: https://es.linkedin.com/jobs/view/navigation-software-engineer-at-gmv-4077452047?refId=iogc%2B4XiXLpYrKPr7Us7Lw%3D%3D&trackingId=%2B4NsmbZ84BbVkWYTFDE2IQ%3D%3D&position=17&pageNum=32\n"
     ]
    },
    {
     "name": "stderr",
     "output_type": "stream",
     "text": [
      " 91%|█████████ | 884/973 [23:24<02:36,  1.75s/it]"
     ]
    },
    {
     "name": "stdout",
     "output_type": "stream",
     "text": [
      "------------------------------------------------\n",
      "Num intentos: 1, URL: https://es.linkedin.com/jobs/view/embedded-software-engineer-ngws-fcas-at-gmv-4075554485?refId=GB%2Fwwj7Zi4x1VtaSwZK9nQ%3D%3D&trackingId=DC4Xzlu2olFm1zgOB5ieuQ%3D%3D&position=12&pageNum=33\n"
     ]
    },
    {
     "name": "stderr",
     "output_type": "stream",
     "text": [
      " 91%|█████████ | 885/973 [23:26<02:34,  1.76s/it]"
     ]
    },
    {
     "name": "stdout",
     "output_type": "stream",
     "text": [
      "------------------------------------------------\n",
      "Num intentos: 1, URL: https://es.linkedin.com/jobs/view/senior-fullstack-software-engineer-java-madrid-at-the-lab-ventures-4077421994?refId=k9%2FkRnfSBzcobArEZmRAig%3D%3D&trackingId=zvDsHqQ9TqdtxFbn8ATvIw%3D%3D&position=10&pageNum=35\n"
     ]
    },
    {
     "name": "stderr",
     "output_type": "stream",
     "text": [
      " 91%|█████████ | 886/973 [23:28<02:37,  1.81s/it]"
     ]
    },
    {
     "name": "stdout",
     "output_type": "stream",
     "text": [
      "------------------------------------------------\n",
      "Num intentos: 1, URL: https://es.linkedin.com/jobs/view/software-engineer-for-space-projects-at-gmv-4090299014?refId=k9%2FkRnfSBzcobArEZmRAig%3D%3D&trackingId=AvFiimlho4nMyTbay7QRrw%3D%3D&position=21&pageNum=35\n"
     ]
    },
    {
     "name": "stderr",
     "output_type": "stream",
     "text": [
      " 91%|█████████ | 887/973 [23:30<02:33,  1.78s/it]"
     ]
    },
    {
     "name": "stdout",
     "output_type": "stream",
     "text": [
      "------------------------------------------------\n",
      "Num intentos: 1, URL: https://es.linkedin.com/jobs/view/data-scientist-at-equifax-4090174992?refId=FnhfE%2BUO6DlfX1s9TYmIuw%3D%3D&trackingId=1NC4RiPlx4m9xEfurn6aFQ%3D%3D&position=5&pageNum=36\n"
     ]
    },
    {
     "name": "stderr",
     "output_type": "stream",
     "text": [
      " 91%|█████████▏| 888/973 [23:32<02:35,  1.83s/it]"
     ]
    },
    {
     "name": "stdout",
     "output_type": "stream",
     "text": [
      "------------------------------------------------\n",
      "Num intentos: 1, URL: https://es.linkedin.com/jobs/view/software-engineer-for-real-time-critical-applications-at-gmv-4079350928?refId=FnhfE%2BUO6DlfX1s9TYmIuw%3D%3D&trackingId=x5tmkdvw3q7FDYG4BUA6sQ%3D%3D&position=17&pageNum=36\n"
     ]
    },
    {
     "name": "stderr",
     "output_type": "stream",
     "text": [
      " 91%|█████████▏| 889/973 [23:33<02:26,  1.74s/it]"
     ]
    },
    {
     "name": "stdout",
     "output_type": "stream",
     "text": [
      "------------------------------------------------\n",
      "Num intentos: 1, URL: https://es.linkedin.com/jobs/view/data-science-at-krimda-4080625448?refId=FnhfE%2BUO6DlfX1s9TYmIuw%3D%3D&trackingId=LTGbQXJhpPM5tQau48bRzA%3D%3D&position=19&pageNum=36\n"
     ]
    },
    {
     "name": "stderr",
     "output_type": "stream",
     "text": [
      " 91%|█████████▏| 890/973 [23:35<02:16,  1.65s/it]"
     ]
    },
    {
     "name": "stdout",
     "output_type": "stream",
     "text": [
      "------------------------------------------------\n",
      "Num intentos: 1, URL: https://es.linkedin.com/jobs/view/senior-data-scientist-at-fever-4094412705?refId=FnhfE%2BUO6DlfX1s9TYmIuw%3D%3D&trackingId=qpnf9eqQKl6SziRVDrVv0Q%3D%3D&position=25&pageNum=36\n"
     ]
    },
    {
     "name": "stderr",
     "output_type": "stream",
     "text": [
      " 92%|█████████▏| 891/973 [23:36<02:09,  1.58s/it]"
     ]
    },
    {
     "name": "stdout",
     "output_type": "stream",
     "text": [
      "------------------------------------------------\n",
      "Num intentos: 1, URL: https://es.linkedin.com/jobs/view/senior-juju-software-engineer-go-at-canonical-4081171579?refId=M92tBlvFSrvwBHhPL3Il6Q%3D%3D&trackingId=vxgm8BIG%2FUeuyWlcFZfV4w%3D%3D&position=22&pageNum=37\n"
     ]
    },
    {
     "name": "stderr",
     "output_type": "stream",
     "text": [
      " 92%|█████████▏| 892/973 [23:38<02:13,  1.65s/it]"
     ]
    },
    {
     "name": "stdout",
     "output_type": "stream",
     "text": [
      "------------------------------------------------\n",
      "Num intentos: 1, URL: https://es.linkedin.com/jobs/view/senior-juju-software-engineer-go-at-canonical-4081166773?refId=M92tBlvFSrvwBHhPL3Il6Q%3D%3D&trackingId=xXNYMP9YwqvRp0tQFdB7jg%3D%3D&position=23&pageNum=37\n"
     ]
    },
    {
     "name": "stderr",
     "output_type": "stream",
     "text": [
      " 92%|█████████▏| 893/973 [23:40<02:14,  1.68s/it]"
     ]
    },
    {
     "name": "stdout",
     "output_type": "stream",
     "text": [
      "------------------------------------------------\n",
      "Num intentos: 1, URL: https://es.linkedin.com/jobs/view/senior-software-engineer-xpq-at-datadog-3708919216?refId=4aUxUe7ReM%2FfmMEQZ%2Bz1sA%3D%3D&trackingId=AftKs7axd7BE1KbfMfYSfQ%3D%3D&position=5&pageNum=38\n"
     ]
    },
    {
     "name": "stderr",
     "output_type": "stream",
     "text": [
      " 92%|█████████▏| 894/973 [23:41<02:10,  1.65s/it]"
     ]
    },
    {
     "name": "stdout",
     "output_type": "stream",
     "text": [
      "------------------------------------------------\n",
      "Num intentos: 1, URL: https://es.linkedin.com/jobs/view/forward-deployed-software-engineer-at-palantir-technologies-4059651081?refId=4aUxUe7ReM%2FfmMEQZ%2Bz1sA%3D%3D&trackingId=7QLGy5P%2FIEu48J2%2FB1rgbw%3D%3D&position=21&pageNum=38\n"
     ]
    },
    {
     "name": "stderr",
     "output_type": "stream",
     "text": [
      " 92%|█████████▏| 895/973 [23:43<02:10,  1.68s/it]"
     ]
    },
    {
     "name": "stdout",
     "output_type": "stream",
     "text": [
      "------------------------------------------------\n",
      "Num intentos: 1, URL: https://es.linkedin.com/jobs/view/data-analyst-at-cabify-4068284070?refId=0lQEwrH3pQrcnHMZEPdE6Q%3D%3D&trackingId=m9sQsr05Gq3yMcaPYsJoBg%3D%3D&position=21&pageNum=3\n"
     ]
    },
    {
     "name": "stderr",
     "output_type": "stream",
     "text": [
      " 92%|█████████▏| 896/973 [23:44<02:08,  1.67s/it]"
     ]
    },
    {
     "name": "stdout",
     "output_type": "stream",
     "text": [
      "------------------------------------------------\n",
      "Num intentos: 1, URL: https://es.linkedin.com/jobs/view/ingeniero-a-de-datos-at-tuy%C3%BA-technology-4087165716?refId=syd0D2KoXmexQAiehNkiZA%3D%3D&trackingId=WklKkI9jwcvIJF5UZjDlGg%3D%3D&position=23&pageNum=4\n"
     ]
    },
    {
     "name": "stderr",
     "output_type": "stream",
     "text": [
      " 92%|█████████▏| 897/973 [23:46<02:04,  1.63s/it]"
     ]
    },
    {
     "name": "stdout",
     "output_type": "stream",
     "text": [
      "------------------------------------------------\n",
      "Num intentos: 1, URL: https://es.linkedin.com/jobs/view/sr-data-engineer-at-quales-group-4055826069?refId=qiJ6q4%2BjkVAGpjN7lVYm9g%3D%3D&trackingId=ywglZ%2BpS4L2j0FPO8sTVeQ%3D%3D&position=12&pageNum=6\n"
     ]
    },
    {
     "name": "stderr",
     "output_type": "stream",
     "text": [
      " 92%|█████████▏| 898/973 [23:48<02:10,  1.74s/it]"
     ]
    },
    {
     "name": "stdout",
     "output_type": "stream",
     "text": [
      "------------------------------------------------\n",
      "Num intentos: 1, URL: https://es.linkedin.com/jobs/view/data-engineer-microsoft-azure-at-tuy%C3%BA-technology-4050818649?refId=7mJssYg8XhxL6SCi8sFlZQ%3D%3D&trackingId=SGnbJ87xh1M%2BaNUasw4qFw%3D%3D&position=20&pageNum=7\n"
     ]
    },
    {
     "name": "stderr",
     "output_type": "stream",
     "text": [
      " 92%|█████████▏| 899/973 [23:50<02:04,  1.69s/it]"
     ]
    },
    {
     "name": "stdout",
     "output_type": "stream",
     "text": [
      "------------------------------------------------\n",
      "Num intentos: 1, URL: https://es.linkedin.com/jobs/view/data-engineer-aws-elasticsearch-python-at-lynx-tech-4068400931?refId=zQtuxswf5sFpuL%2FkUwXZIw%3D%3D&trackingId=juNBcJr2u9hwHMBg6GkEVQ%3D%3D&position=21&pageNum=9\n"
     ]
    },
    {
     "name": "stderr",
     "output_type": "stream",
     "text": [
      " 92%|█████████▏| 900/973 [23:51<02:07,  1.74s/it]"
     ]
    },
    {
     "name": "stdout",
     "output_type": "stream",
     "text": [
      "------------------------------------------------\n",
      "Num intentos: 1, URL: https://es.linkedin.com/jobs/view/product-data-analyst-at-datacamp-4068265201?refId=lLfUMnXEaEcpWjyocCqvfg%3D%3D&trackingId=36azZlAnIArDfUoUodWR7A%3D%3D&position=4&pageNum=10\n"
     ]
    },
    {
     "name": "stderr",
     "output_type": "stream",
     "text": [
      " 93%|█████████▎| 901/973 [23:53<02:05,  1.74s/it]"
     ]
    },
    {
     "name": "stdout",
     "output_type": "stream",
     "text": [
      "------------------------------------------------\n",
      "Num intentos: 1, URL: https://es.linkedin.com/jobs/view/senior-data-analyst-at-cabify-4068282141?refId=lLfUMnXEaEcpWjyocCqvfg%3D%3D&trackingId=6s25%2BWnLbe6LsikqQlx4qg%3D%3D&position=10&pageNum=10\n"
     ]
    },
    {
     "name": "stderr",
     "output_type": "stream",
     "text": [
      " 93%|█████████▎| 902/973 [23:55<02:07,  1.80s/it]"
     ]
    },
    {
     "name": "stdout",
     "output_type": "stream",
     "text": [
      "------------------------------------------------\n",
      "Num intentos: 1, URL: https://es.linkedin.com/jobs/view/data-engineer-cloud-at-cmv-consultores-4082282403?refId=lLfUMnXEaEcpWjyocCqvfg%3D%3D&trackingId=hX1cCxXvhPmc%2FAlmGCAPvA%3D%3D&position=19&pageNum=10\n"
     ]
    },
    {
     "name": "stderr",
     "output_type": "stream",
     "text": [
      " 93%|█████████▎| 903/973 [23:57<02:03,  1.77s/it]"
     ]
    },
    {
     "name": "stdout",
     "output_type": "stream",
     "text": [
      "------------------------------------------------\n",
      "Num intentos: 1, URL: https://es.linkedin.com/jobs/view/software-engineer-business-automation-at-cabify-4068138327?refId=1gxsBjCoxyvxl5YEGDjwHQ%3D%3D&trackingId=hx%2B7ttFzPKWO7tQ3LnpIiA%3D%3D&position=2&pageNum=12\n"
     ]
    },
    {
     "name": "stderr",
     "output_type": "stream",
     "text": [
      " 93%|█████████▎| 904/973 [23:58<01:57,  1.71s/it]"
     ]
    },
    {
     "name": "stdout",
     "output_type": "stream",
     "text": [
      "------------------------------------------------\n",
      "Num intentos: 1, URL: https://es.linkedin.com/jobs/view/senior-backend-engineer-at-modash-4058385091?refId=WE0nbdRCjRzYQ%2BMa7Jlfcw%3D%3D&trackingId=gBShdT9yx52p00Hl8L8hJg%3D%3D&position=19&pageNum=13\n"
     ]
    },
    {
     "name": "stderr",
     "output_type": "stream",
     "text": [
      " 93%|█████████▎| 905/973 [24:00<02:00,  1.78s/it]"
     ]
    },
    {
     "name": "stdout",
     "output_type": "stream",
     "text": [
      "------------------------------------------------\n",
      "Num intentos: 1, URL: https://es.linkedin.com/jobs/view/software-engineer-python-container-images-at-canonical-4068940111?refId=kEewYSP0sda%2BAS9qJ05byw%3D%3D&trackingId=GaWa1u0G9UMIyl1GlK2sqw%3D%3D&position=2&pageNum=15\n"
     ]
    },
    {
     "name": "stderr",
     "output_type": "stream",
     "text": [
      " 93%|█████████▎| 906/973 [24:02<02:00,  1.80s/it]"
     ]
    },
    {
     "name": "stdout",
     "output_type": "stream",
     "text": [
      "------------------------------------------------\n",
      "Num intentos: 1, URL: https://es.linkedin.com/jobs/view/senior-backend-software-engineer-at-cabify-4068138140?refId=kEewYSP0sda%2BAS9qJ05byw%3D%3D&trackingId=Qy%2FVZkQGwT35dlbFoL8I5A%3D%3D&position=3&pageNum=15\n"
     ]
    },
    {
     "name": "stderr",
     "output_type": "stream",
     "text": [
      " 93%|█████████▎| 907/973 [24:04<01:56,  1.76s/it]"
     ]
    },
    {
     "name": "stdout",
     "output_type": "stream",
     "text": [
      "------------------------------------------------\n",
      "Num intentos: 1, URL: https://es.linkedin.com/jobs/view/ingeniero-big-data-snowflake-at-accenture-espa%C3%B1a-4058527934?refId=kEewYSP0sda%2BAS9qJ05byw%3D%3D&trackingId=EFnKpQpGDuTCDI%2BbWpcOTQ%3D%3D&position=21&pageNum=15\n"
     ]
    },
    {
     "name": "stderr",
     "output_type": "stream",
     "text": [
      " 93%|█████████▎| 908/973 [24:06<01:55,  1.77s/it]"
     ]
    },
    {
     "name": "stdout",
     "output_type": "stream",
     "text": [
      "------------------------------------------------\n",
      "Num intentos: 1, URL: https://es.linkedin.com/jobs/view/software-engineer-python-container-images-at-canonical-4068936573?refId=xAOfEyQvsTybZp6n8A%2B4ZA%3D%3D&trackingId=gGrMCQndf%2BFDj1PbgfJ%2Flw%3D%3D&position=7&pageNum=16\n"
     ]
    },
    {
     "name": "stderr",
     "output_type": "stream",
     "text": [
      " 93%|█████████▎| 909/973 [24:08<01:55,  1.80s/it]"
     ]
    },
    {
     "name": "stdout",
     "output_type": "stream",
     "text": [
      "------------------------------------------------\n",
      "Num intentos: 1, URL: https://es.linkedin.com/jobs/view/software-engineer-python-container-images-at-canonical-4068187065?refId=xAOfEyQvsTybZp6n8A%2B4ZA%3D%3D&trackingId=JzLjJiG7qPpf6cPz1XVL6A%3D%3D&position=8&pageNum=16\n"
     ]
    },
    {
     "name": "stderr",
     "output_type": "stream",
     "text": [
      " 94%|█████████▎| 910/973 [24:09<01:53,  1.81s/it]"
     ]
    },
    {
     "name": "stdout",
     "output_type": "stream",
     "text": [
      "------------------------------------------------\n",
      "Num intentos: 1, URL: https://es.linkedin.com/jobs/view/software-engineer-python-container-images-at-canonical-4068183289?refId=xAOfEyQvsTybZp6n8A%2B4ZA%3D%3D&trackingId=aDke%2FFZ9Etepi2rQ1PmlFw%3D%3D&position=9&pageNum=16\n"
     ]
    },
    {
     "name": "stderr",
     "output_type": "stream",
     "text": [
      " 94%|█████████▎| 911/973 [24:11<01:55,  1.86s/it]"
     ]
    },
    {
     "name": "stdout",
     "output_type": "stream",
     "text": [
      "------------------------------------------------\n",
      "Num intentos: 1, URL: https://es.linkedin.com/jobs/view/software-engineer-python-linux-packaging-at-canonical-4069961858?refId=FdMdL4No5nsuHtAaKxXehg%3D%3D&trackingId=8rfP%2B8wf4Zp%2BSbznWZNmUA%3D%3D&position=5&pageNum=18\n"
     ]
    },
    {
     "name": "stderr",
     "output_type": "stream",
     "text": [
      " 94%|█████████▎| 912/973 [24:13<01:49,  1.79s/it]"
     ]
    },
    {
     "name": "stdout",
     "output_type": "stream",
     "text": [
      "------------------------------------------------\n",
      "Num intentos: 1, URL: https://es.linkedin.com/jobs/view/software-engineer-python-linux-packaging-at-canonical-4069962850?refId=FdMdL4No5nsuHtAaKxXehg%3D%3D&trackingId=rXsKZud0g2uEwfAiV%2BhNsg%3D%3D&position=6&pageNum=18\n"
     ]
    },
    {
     "name": "stderr",
     "output_type": "stream",
     "text": [
      " 94%|█████████▍| 913/973 [24:16<02:02,  2.04s/it]"
     ]
    },
    {
     "name": "stdout",
     "output_type": "stream",
     "text": [
      "------------------------------------------------\n",
      "Num intentos: 1, URL: https://es.linkedin.com/jobs/view/software-engineer-api-restful-at-lynx-tech-4051006394?refId=FdMdL4No5nsuHtAaKxXehg%3D%3D&trackingId=nYxK5LuwsTO0lwGcVZinhQ%3D%3D&position=17&pageNum=18\n"
     ]
    },
    {
     "name": "stderr",
     "output_type": "stream",
     "text": [
      " 94%|█████████▍| 914/973 [24:18<02:00,  2.05s/it]"
     ]
    },
    {
     "name": "stdout",
     "output_type": "stream",
     "text": [
      "------------------------------------------------\n",
      "Num intentos: 1, URL: https://es.linkedin.com/jobs/view/software-integration-engineer-at-msg-insur-it-iberia-4058437903?refId=RVoI%2BWwn15hCaFEnz4TWeA%3D%3D&trackingId=oMa17mlZJXCzeFkgs67zKQ%3D%3D&position=14&pageNum=20\n"
     ]
    },
    {
     "name": "stderr",
     "output_type": "stream",
     "text": [
      " 94%|█████████▍| 915/973 [24:19<01:51,  1.93s/it]"
     ]
    },
    {
     "name": "stdout",
     "output_type": "stream",
     "text": [
      "------------------------------------------------\n",
      "Num intentos: 1, URL: https://es.linkedin.com/jobs/view/power-bi-consultant-at-ad4-oct%C3%B3gono-4049589019?refId=RVoI%2BWwn15hCaFEnz4TWeA%3D%3D&trackingId=fumbzA7c7gDA6pwXFJcg7Q%3D%3D&position=18&pageNum=20\n"
     ]
    },
    {
     "name": "stderr",
     "output_type": "stream",
     "text": [
      " 94%|█████████▍| 916/973 [24:21<01:43,  1.81s/it]"
     ]
    },
    {
     "name": "stdout",
     "output_type": "stream",
     "text": [
      "------------------------------------------------\n",
      "Num intentos: 1, URL: https://es.linkedin.com/jobs/view/linux-infrastructure-system-engineer-m-f-d-at-basf-4048064575?refId=6iugOUKVCcIlzIMTSgbc4A%3D%3D&trackingId=7J5le6%2BaqdBgjY1Ikts92A%3D%3D&position=2&pageNum=23\n"
     ]
    },
    {
     "name": "stderr",
     "output_type": "stream",
     "text": [
      " 94%|█████████▍| 917/973 [24:22<01:37,  1.74s/it]"
     ]
    },
    {
     "name": "stdout",
     "output_type": "stream",
     "text": [
      "------------------------------------------------\n",
      "Num intentos: 1, URL: https://es.linkedin.com/jobs/view/software-engineer-java-at-slashmobility-4051831035?refId=6iugOUKVCcIlzIMTSgbc4A%3D%3D&trackingId=mNjvX%2BjPfZS1Wq8KViTJFg%3D%3D&position=3&pageNum=23\n"
     ]
    },
    {
     "name": "stderr",
     "output_type": "stream",
     "text": [
      " 94%|█████████▍| 918/973 [24:24<01:40,  1.82s/it]"
     ]
    },
    {
     "name": "stdout",
     "output_type": "stream",
     "text": [
      "------------------------------------------------\n",
      "Num intentos: 1, URL: https://es.linkedin.com/jobs/view/data-engineer-franc%C3%A9s-alto-at-sopra-steria-4053644660?refId=6nUlb6gH8Ge0cwv7vGKOxQ%3D%3D&trackingId=kB1W6Hqeu45Vi8XvqvFOlA%3D%3D&position=2&pageNum=24\n"
     ]
    },
    {
     "name": "stderr",
     "output_type": "stream",
     "text": [
      " 94%|█████████▍| 919/973 [24:26<01:38,  1.83s/it]"
     ]
    },
    {
     "name": "stdout",
     "output_type": "stream",
     "text": [
      "------------------------------------------------\n",
      "Num intentos: 1, URL: https://es.linkedin.com/jobs/view/python-software-engineer-ubuntu-hardware-certification-team-at-canonical-4071183745?refId=6nUlb6gH8Ge0cwv7vGKOxQ%3D%3D&trackingId=2V9aUYZROt4691Y31QmoKw%3D%3D&position=3&pageNum=24\n"
     ]
    },
    {
     "name": "stderr",
     "output_type": "stream",
     "text": [
      " 95%|█████████▍| 920/973 [24:28<01:38,  1.86s/it]"
     ]
    },
    {
     "name": "stdout",
     "output_type": "stream",
     "text": [
      "------------------------------------------------\n",
      "Num intentos: 1, URL: https://es.linkedin.com/jobs/view/python-software-engineer-ubuntu-hardware-certification-team-at-canonical-4071190120?refId=6nUlb6gH8Ge0cwv7vGKOxQ%3D%3D&trackingId=iKlZpvmdzT6%2FeGvRH273Rg%3D%3D&position=14&pageNum=24\n"
     ]
    },
    {
     "name": "stderr",
     "output_type": "stream",
     "text": [
      " 95%|█████████▍| 921/973 [24:30<01:35,  1.84s/it]"
     ]
    },
    {
     "name": "stdout",
     "output_type": "stream",
     "text": [
      "------------------------------------------------\n",
      "Num intentos: 1, URL: https://es.linkedin.com/jobs/view/marketing-data-analyst-at-canonical-4068143024?refId=6nUlb6gH8Ge0cwv7vGKOxQ%3D%3D&trackingId=n1pYs1JxUkxIssa34kB6wA%3D%3D&position=21&pageNum=24\n"
     ]
    },
    {
     "name": "stderr",
     "output_type": "stream",
     "text": [
      " 95%|█████████▍| 922/973 [24:32<01:31,  1.80s/it]"
     ]
    },
    {
     "name": "stdout",
     "output_type": "stream",
     "text": [
      "------------------------------------------------\n",
      "Num intentos: 1, URL: https://es.linkedin.com/jobs/view/marketing-data-analyst-at-canonical-4068137870?refId=xndk4q%2FZdLhddgb2PRN9DQ%3D%3D&trackingId=fxM6hjzNwwzLToPjMqnggw%3D%3D&position=10&pageNum=25\n"
     ]
    },
    {
     "name": "stderr",
     "output_type": "stream",
     "text": [
      " 95%|█████████▍| 923/973 [24:33<01:27,  1.74s/it]"
     ]
    },
    {
     "name": "stdout",
     "output_type": "stream",
     "text": [
      "------------------------------------------------\n",
      "Num intentos: 1, URL: https://es.linkedin.com/jobs/view/business-intelligence-data-analyst-sds-at-santander-digital-services-4063856096?refId=xndk4q%2FZdLhddgb2PRN9DQ%3D%3D&trackingId=yXgulVLYc0uSLK253OPj5w%3D%3D&position=12&pageNum=25\n"
     ]
    },
    {
     "name": "stderr",
     "output_type": "stream",
     "text": [
      " 95%|█████████▍| 924/973 [24:36<01:33,  1.91s/it]"
     ]
    },
    {
     "name": "stdout",
     "output_type": "stream",
     "text": [
      "------------------------------------------------\n",
      "Num intentos: 1, URL: https://es.linkedin.com/jobs/view/software-engineer-at-gmv-4048415785?refId=xndk4q%2FZdLhddgb2PRN9DQ%3D%3D&trackingId=w%2FNprjgyy0JA5NSqEOA2Lg%3D%3D&position=17&pageNum=25\n"
     ]
    },
    {
     "name": "stderr",
     "output_type": "stream",
     "text": [
      " 95%|█████████▌| 925/973 [24:37<01:28,  1.84s/it]"
     ]
    },
    {
     "name": "stdout",
     "output_type": "stream",
     "text": [
      "------------------------------------------------\n",
      "Num intentos: 1, URL: https://es.linkedin.com/jobs/view/senior-bootloader-system-engineer-ubuntu-linux-at-canonical-4068131369?refId=%2Fq8IkmAC8FsOi3L4LWt3mA%3D%3D&trackingId=zBSnH%2FzA4WtfuAY4YfnOlg%3D%3D&position=15&pageNum=26\n"
     ]
    },
    {
     "name": "stderr",
     "output_type": "stream",
     "text": [
      " 95%|█████████▌| 926/973 [24:39<01:23,  1.79s/it]"
     ]
    },
    {
     "name": "stdout",
     "output_type": "stream",
     "text": [
      "------------------------------------------------\n",
      "Num intentos: 1, URL: https://es.linkedin.com/jobs/view/enterprise-search-senior-data-ai-analyst-m-f-d-at-basf-4043359694?refId=ayqrf6i0IBZ5ivdHUm4zEw%3D%3D&trackingId=bLStqCwXNotUs2DY7wbIBw%3D%3D&position=1&pageNum=27\n"
     ]
    },
    {
     "name": "stderr",
     "output_type": "stream",
     "text": [
      " 95%|█████████▌| 927/973 [24:41<01:22,  1.79s/it]"
     ]
    },
    {
     "name": "stdout",
     "output_type": "stream",
     "text": [
      "------------------------------------------------\n",
      "Num intentos: 1, URL: https://es.linkedin.com/jobs/view/data-scientist-%E2%80%93-bilbao-madrid-at-teknei-4068510327?refId=27zDqnaAzgOwPOyBAP6gyA%3D%3D&trackingId=sIXllkrkUxbrGyOsSXT9zA%3D%3D&position=12&pageNum=28\n"
     ]
    },
    {
     "name": "stderr",
     "output_type": "stream",
     "text": [
      " 95%|█████████▌| 928/973 [24:42<01:17,  1.72s/it]"
     ]
    },
    {
     "name": "stdout",
     "output_type": "stream",
     "text": [
      "------------------------------------------------\n",
      "Num intentos: 1, URL: https://es.linkedin.com/jobs/view/software-engineer-go-container-images-at-canonical-4068936427?refId=4T3q6%2BDUDS%2Fwfb0hIc%2BkJw%3D%3D&trackingId=iUGb0scX5xLMmi5d0wpSiw%3D%3D&position=18&pageNum=30\n"
     ]
    },
    {
     "name": "stderr",
     "output_type": "stream",
     "text": [
      " 95%|█████████▌| 929/973 [24:44<01:17,  1.77s/it]"
     ]
    },
    {
     "name": "stdout",
     "output_type": "stream",
     "text": [
      "------------------------------------------------\n",
      "Num intentos: 1, URL: https://es.linkedin.com/jobs/view/software-engineer-go-container-images-at-canonical-4068932964?refId=4T3q6%2BDUDS%2Fwfb0hIc%2BkJw%3D%3D&trackingId=oMkeOQFSz5ncZrVvMm6mUQ%3D%3D&position=19&pageNum=30\n"
     ]
    },
    {
     "name": "stderr",
     "output_type": "stream",
     "text": [
      " 96%|█████████▌| 930/973 [24:46<01:17,  1.81s/it]"
     ]
    },
    {
     "name": "stdout",
     "output_type": "stream",
     "text": [
      "------------------------------------------------\n",
      "Num intentos: 1, URL: https://es.linkedin.com/jobs/view/software-engineer-go-container-images-at-canonical-4068276115?refId=4T3q6%2BDUDS%2Fwfb0hIc%2BkJw%3D%3D&trackingId=LLmpnKtFG4syaJyaflErJQ%3D%3D&position=20&pageNum=30\n"
     ]
    },
    {
     "name": "stderr",
     "output_type": "stream",
     "text": [
      " 96%|█████████▌| 931/973 [24:48<01:14,  1.77s/it]"
     ]
    },
    {
     "name": "stdout",
     "output_type": "stream",
     "text": [
      "------------------------------------------------\n",
      "Num intentos: 1, URL: https://es.linkedin.com/jobs/view/software-engineer-go-container-images-at-canonical-4067130503?refId=4T3q6%2BDUDS%2Fwfb0hIc%2BkJw%3D%3D&trackingId=Tkz5ahFUMSJN4IteC%2FXTiA%3D%3D&position=21&pageNum=30\n"
     ]
    },
    {
     "name": "stderr",
     "output_type": "stream",
     "text": [
      " 96%|█████████▌| 932/973 [24:49<01:09,  1.70s/it]"
     ]
    },
    {
     "name": "stdout",
     "output_type": "stream",
     "text": [
      "------------------------------------------------\n",
      "Num intentos: 1, URL: https://es.linkedin.com/jobs/view/data-scientist-at-cabify-4068278433?refId=pvzzDZKJw%2BBNu7o7uLGHhw%3D%3D&trackingId=4fTzxYC8FV%2BTBWRFaF65wA%3D%3D&position=21&pageNum=31\n"
     ]
    },
    {
     "name": "stderr",
     "output_type": "stream",
     "text": [
      " 96%|█████████▌| 933/973 [24:51<01:04,  1.62s/it]"
     ]
    },
    {
     "name": "stdout",
     "output_type": "stream",
     "text": [
      "------------------------------------------------\n",
      "Num intentos: 1, URL: https://es.linkedin.com/jobs/view/senior-bootloader-system-engineer-ubuntu-linux-at-canonical-4068132354?refId=GB%2Fwwj7Zi4x1VtaSwZK9nQ%3D%3D&trackingId=3BZwCZAOvnLjYZXYEBNoeg%3D%3D&position=16&pageNum=33\n"
     ]
    },
    {
     "name": "stderr",
     "output_type": "stream",
     "text": [
      " 96%|█████████▌| 934/973 [24:53<01:08,  1.75s/it]"
     ]
    },
    {
     "name": "stdout",
     "output_type": "stream",
     "text": [
      "------------------------------------------------\n",
      "Num intentos: 1, URL: https://es.linkedin.com/jobs/view/software-engineer-react-at-babel-4067366495?refId=jYUCayDj5AktnYUNOxZvEQ%3D%3D&trackingId=gapHFYyRlzMaXG71CHzCbQ%3D%3D&position=17&pageNum=34\n"
     ]
    },
    {
     "name": "stderr",
     "output_type": "stream",
     "text": [
      " 96%|█████████▌| 935/973 [24:55<01:07,  1.78s/it]"
     ]
    },
    {
     "name": "stdout",
     "output_type": "stream",
     "text": [
      "------------------------------------------------\n",
      "Num intentos: 1, URL: https://es.linkedin.com/jobs/view/senior-java-software-engineer-at-diverger-4056131404?refId=jYUCayDj5AktnYUNOxZvEQ%3D%3D&trackingId=yubNFH3Sk6rDLKIJBSPK2w%3D%3D&position=24&pageNum=34\n"
     ]
    },
    {
     "name": "stderr",
     "output_type": "stream",
     "text": [
      " 96%|█████████▌| 936/973 [24:56<01:04,  1.73s/it]"
     ]
    },
    {
     "name": "stdout",
     "output_type": "stream",
     "text": [
      "------------------------------------------------\n",
      "Num intentos: 1, URL: https://es.linkedin.com/jobs/view/software-defined-networking-engineer-at-canonical-4068133555?refId=k9%2FkRnfSBzcobArEZmRAig%3D%3D&trackingId=TkjW%2B9aF8JxWE4qomTAQOA%3D%3D&position=16&pageNum=35\n"
     ]
    },
    {
     "name": "stderr",
     "output_type": "stream",
     "text": [
      " 96%|█████████▋| 937/973 [24:59<01:10,  1.95s/it]"
     ]
    },
    {
     "name": "stdout",
     "output_type": "stream",
     "text": [
      "------------------------------------------------\n",
      "Num intentos: 1, URL: https://es.linkedin.com/jobs/view/software-engineer-node-at-babel-4059355527?refId=k9%2FkRnfSBzcobArEZmRAig%3D%3D&trackingId=vrS1GrLHflLo%2F6xqmWFLWg%3D%3D&position=23&pageNum=35\n"
     ]
    },
    {
     "name": "stderr",
     "output_type": "stream",
     "text": [
      " 96%|█████████▋| 938/973 [25:01<01:09,  1.99s/it]"
     ]
    },
    {
     "name": "stdout",
     "output_type": "stream",
     "text": [
      "------------------------------------------------\n",
      "Num intentos: 1, URL: https://es.linkedin.com/jobs/view/software-defined-networking-engineer-at-canonical-4068278149?refId=4aUxUe7ReM%2FfmMEQZ%2Bz1sA%3D%3D&trackingId=QgwzTSmqUkpFxuhuuM8m9g%3D%3D&position=3&pageNum=38\n"
     ]
    },
    {
     "name": "stderr",
     "output_type": "stream",
     "text": [
      " 97%|█████████▋| 939/973 [25:03<01:04,  1.90s/it]"
     ]
    },
    {
     "name": "stdout",
     "output_type": "stream",
     "text": [
      "------------------------------------------------\n",
      "Num intentos: 1, URL: https://es.linkedin.com/jobs/view/embedded-linux-senior-software-engineer-optimisation-at-canonical-4068122316?refId=xPrcwAXkZO4mu5jDn0JJDg%3D%3D&trackingId=eoc5L8IbZcmS1emObeQgJg%3D%3D&position=12&pageNum=39\n"
     ]
    },
    {
     "name": "stderr",
     "output_type": "stream",
     "text": [
      " 97%|█████████▋| 940/973 [25:04<01:01,  1.87s/it]"
     ]
    },
    {
     "name": "stdout",
     "output_type": "stream",
     "text": [
      "------------------------------------------------\n",
      "Num intentos: 1, URL: https://es.linkedin.com/jobs/view/embedded-linux-senior-software-engineer-optimisation-at-canonical-4068118647?refId=xPrcwAXkZO4mu5jDn0JJDg%3D%3D&trackingId=XmQTmwIwjJR79e%2F9D25ymQ%3D%3D&position=14&pageNum=39\n"
     ]
    },
    {
     "name": "stderr",
     "output_type": "stream",
     "text": [
      " 97%|█████████▋| 941/973 [25:06<01:00,  1.88s/it]"
     ]
    },
    {
     "name": "stdout",
     "output_type": "stream",
     "text": [
      "------------------------------------------------\n",
      "Num intentos: 1, URL: https://es.linkedin.com/jobs/view/data-engineer-spark-scala-espa%C3%B1a-madrid-at-irium-4028586084?refId=gl%2Bd7kBz9WLFJeX%2Bk722Sg%3D%3D&trackingId=LU1yNRUtuO9prKuTBP60xA%3D%3D&position=10&pageNum=1\n"
     ]
    },
    {
     "name": "stderr",
     "output_type": "stream",
     "text": [
      " 97%|█████████▋| 942/973 [25:08<00:54,  1.77s/it]"
     ]
    },
    {
     "name": "stdout",
     "output_type": "stream",
     "text": [
      "------------------------------------------------\n",
      "Num intentos: 1, URL: https://es.linkedin.com/jobs/view/engineer-databricks-azure-analyses-services-and-powerbi-at-kapres-technology-4043514430?refId=zQtuxswf5sFpuL%2FkUwXZIw%3D%3D&trackingId=2zLtrVZFkMfqWjkW8BhtfA%3D%3D&position=11&pageNum=9\n"
     ]
    },
    {
     "name": "stderr",
     "output_type": "stream",
     "text": [
      " 97%|█████████▋| 943/973 [25:09<00:52,  1.73s/it]"
     ]
    },
    {
     "name": "stdout",
     "output_type": "stream",
     "text": [
      "------------------------------------------------\n",
      "Num intentos: 1, URL: https://es.linkedin.com/jobs/view/database-administrator-dba-jr-teletrabajo-at-second-window-4036638216?refId=lLfUMnXEaEcpWjyocCqvfg%3D%3D&trackingId=%2Fxo%2FAFN6guElSBm5Wk0org%3D%3D&position=13&pageNum=10\n"
     ]
    },
    {
     "name": "stderr",
     "output_type": "stream",
     "text": [
      " 97%|█████████▋| 944/973 [25:11<00:52,  1.79s/it]"
     ]
    },
    {
     "name": "stdout",
     "output_type": "stream",
     "text": [
      "------------------------------------------------\n",
      "Num intentos: 1, URL: https://es.linkedin.com/jobs/view/senior-data-engineer-at-selectra-4032642987?refId=WE0nbdRCjRzYQ%2BMa7Jlfcw%3D%3D&trackingId=sXgwTN1iXfqnOurf9NZBRQ%3D%3D&position=6&pageNum=13\n"
     ]
    },
    {
     "name": "stderr",
     "output_type": "stream",
     "text": [
      " 97%|█████████▋| 945/973 [25:13<00:53,  1.91s/it]"
     ]
    },
    {
     "name": "stdout",
     "output_type": "stream",
     "text": [
      "------------------------------------------------\n",
      "Num intentos: 1, URL: https://es.linkedin.com/jobs/view/data-tranparency-devops-engineer-m-f-d-at-basf-4035248803?refId=kEewYSP0sda%2BAS9qJ05byw%3D%3D&trackingId=IXNpjkl%2Fxk3PAkf7aHsIQg%3D%3D&position=16&pageNum=15\n"
     ]
    },
    {
     "name": "stderr",
     "output_type": "stream",
     "text": [
      " 97%|█████████▋| 946/973 [25:15<00:50,  1.87s/it]"
     ]
    },
    {
     "name": "stdout",
     "output_type": "stream",
     "text": [
      "------------------------------------------------\n",
      "Num intentos: 1, URL: https://es.linkedin.com/jobs/view/beca-data-science-at-tendam-4044014370?refId=xAOfEyQvsTybZp6n8A%2B4ZA%3D%3D&trackingId=Q3G7h45vU%2BDynSR4x7aWfQ%3D%3D&position=17&pageNum=16\n"
     ]
    },
    {
     "name": "stderr",
     "output_type": "stream",
     "text": [
      " 97%|█████████▋| 947/973 [25:17<00:47,  1.82s/it]"
     ]
    },
    {
     "name": "stdout",
     "output_type": "stream",
     "text": [
      "------------------------------------------------\n",
      "Num intentos: 1, URL: https://es.linkedin.com/jobs/view/software-engineer-talent-pool-at-agentero-4038974759?refId=5iMqGO1%2FHzfh4hS6zDhIBw%3D%3D&trackingId=tpjwzgixwGNQkQzd%2F%2FBfqA%3D%3D&position=6&pageNum=17\n"
     ]
    },
    {
     "name": "stderr",
     "output_type": "stream",
     "text": [
      " 97%|█████████▋| 948/973 [25:19<00:46,  1.84s/it]"
     ]
    },
    {
     "name": "stdout",
     "output_type": "stream",
     "text": [
      "------------------------------------------------\n",
      "Num intentos: 2, URL: https://es.linkedin.com/jobs/view/senior-cloud-system-engineer-m-f-d-at-basf-4035249708?refId=LtGvNDRbIiqTwa1XzDQk5w%3D%3D&trackingId=x8H8vPg4WOibp64M8C6HkQ%3D%3D&position=21&pageNum=21\n"
     ]
    },
    {
     "name": "stderr",
     "output_type": "stream",
     "text": [
      " 98%|█████████▊| 949/973 [25:24<01:05,  2.71s/it]"
     ]
    },
    {
     "name": "stdout",
     "output_type": "stream",
     "text": [
      "------------------------------------------------\n",
      "Num intentos: 1, URL: https://es.linkedin.com/jobs/view/data-governance-experiencia-en-inform%C3%A1tica-cloud-at-m-%E2%80%8Bgt-consulting-4034523091?refId=6nUlb6gH8Ge0cwv7vGKOxQ%3D%3D&trackingId=73VIOnZpWJm1KjyJjeAhdw%3D%3D&position=12&pageNum=24\n"
     ]
    },
    {
     "name": "stderr",
     "output_type": "stream",
     "text": [
      " 98%|█████████▊| 950/973 [25:26<00:56,  2.47s/it]"
     ]
    },
    {
     "name": "stdout",
     "output_type": "stream",
     "text": [
      "------------------------------------------------\n",
      "Num intentos: 1, URL: https://es.linkedin.com/jobs/view/global-martech-data-analyst-m-f-d-at-continental-4035930538?refId=6nUlb6gH8Ge0cwv7vGKOxQ%3D%3D&trackingId=k1l8jsf5IeqxeI3awcJusQ%3D%3D&position=18&pageNum=24\n"
     ]
    },
    {
     "name": "stderr",
     "output_type": "stream",
     "text": [
      " 98%|█████████▊| 951/973 [25:27<00:47,  2.17s/it]"
     ]
    },
    {
     "name": "stdout",
     "output_type": "stream",
     "text": [
      "------------------------------------------------\n",
      "Num intentos: 1, URL: https://es.linkedin.com/jobs/view/knowledge-graph-engineer-for-data-semantics-m-f-d-at-basf-4035249721?refId=BzKsdm%2FLcWVFlzPY6XXEyg%3D%3D&trackingId=Mij%2Bp5VWZDX6teFFeyakpQ%3D%3D&position=2&pageNum=29\n"
     ]
    },
    {
     "name": "stderr",
     "output_type": "stream",
     "text": [
      " 98%|█████████▊| 952/973 [25:29<00:43,  2.09s/it]"
     ]
    },
    {
     "name": "stdout",
     "output_type": "stream",
     "text": [
      "------------------------------------------------\n",
      "Num intentos: 1, URL: https://es.linkedin.com/jobs/view/software-engineer-for-gnss-projects-at-gmv-4040037474?refId=4T3q6%2BDUDS%2Fwfb0hIc%2BkJw%3D%3D&trackingId=3pzdiC5GSa7CB6sTTjSvcA%3D%3D&position=2&pageNum=30\n"
     ]
    },
    {
     "name": "stderr",
     "output_type": "stream",
     "text": [
      " 98%|█████████▊| 953/973 [25:31<00:40,  2.05s/it]"
     ]
    },
    {
     "name": "stdout",
     "output_type": "stream",
     "text": [
      "------------------------------------------------\n",
      "Num intentos: 1, URL: https://es.linkedin.com/jobs/view/fullstack-engineer-for-ai-solutions-in-order-management-m-f-d-at-basf-4035254238?refId=pvzzDZKJw%2BBNu7o7uLGHhw%3D%3D&trackingId=hLZlOD12pD0qnNr1urxwWg%3D%3D&position=6&pageNum=31\n"
     ]
    },
    {
     "name": "stderr",
     "output_type": "stream",
     "text": [
      " 98%|█████████▊| 954/973 [25:33<00:38,  2.01s/it]"
     ]
    },
    {
     "name": "stdout",
     "output_type": "stream",
     "text": [
      "------------------------------------------------\n",
      "Num intentos: 1, URL: https://es.linkedin.com/jobs/view/senior-software-engineer-at-selectra-4032647550?refId=4aUxUe7ReM%2FfmMEQZ%2Bz1sA%3D%3D&trackingId=Jo44VzvSuWHyns7ohz2cwQ%3D%3D&position=11&pageNum=38\n"
     ]
    },
    {
     "name": "stderr",
     "output_type": "stream",
     "text": [
      " 98%|█████████▊| 955/973 [25:34<00:34,  1.90s/it]"
     ]
    },
    {
     "name": "stdout",
     "output_type": "stream",
     "text": [
      "------------------------------------------------\n",
      "Num intentos: 1, URL: https://es.linkedin.com/jobs/view/oliver-wyman-data-and-analytics-associate-team-leader-team-leader-madrid-at-oliver-wyman-4030834952?refId=xPrcwAXkZO4mu5jDn0JJDg%3D%3D&trackingId=fQ1FM%2BI0sgszHyVR6MBKgA%3D%3D&position=10&pageNum=39\n"
     ]
    },
    {
     "name": "stderr",
     "output_type": "stream",
     "text": [
      " 98%|█████████▊| 956/973 [25:36<00:32,  1.89s/it]"
     ]
    },
    {
     "name": "stdout",
     "output_type": "stream",
     "text": [
      "------------------------------------------------\n",
      "Num intentos: 1, URL: https://es.linkedin.com/jobs/view/experto-en-bi-y-datamining-at-azertium-it-4005691985?refId=jlTvqtUYEFUTXMPpb2kHVA%3D%3D&trackingId=90zb2pF82O%2FI0K6OmzBaYg%3D%3D&position=1&pageNum=19\n"
     ]
    },
    {
     "name": "stderr",
     "output_type": "stream",
     "text": [
      " 98%|█████████▊| 957/973 [25:38<00:27,  1.70s/it]"
     ]
    },
    {
     "name": "stdout",
     "output_type": "stream",
     "text": [
      "------------------------------------------------\n",
      "Num intentos: 1, URL: https://es.linkedin.com/jobs/view/data-scientist-at-zeta-global-3997595315?refId=FnhfE%2BUO6DlfX1s9TYmIuw%3D%3D&trackingId=N%2FR7g0fyMjcpX1y%2BXQC%2B8g%3D%3D&position=10&pageNum=36\n"
     ]
    },
    {
     "name": "stderr",
     "output_type": "stream",
     "text": [
      " 98%|█████████▊| 958/973 [25:39<00:26,  1.76s/it]"
     ]
    },
    {
     "name": "stdout",
     "output_type": "stream",
     "text": [
      "------------------------------------------------\n",
      "Num intentos: 1, URL: https://es.linkedin.com/jobs/view/cloud-systems-developer-devops-at-opennebula-systems-3984821068?refId=WE0nbdRCjRzYQ%2BMa7Jlfcw%3D%3D&trackingId=IRFD%2BwwokBz%2BnCqC3BK9fw%3D%3D&position=9&pageNum=13\n"
     ]
    },
    {
     "name": "stderr",
     "output_type": "stream",
     "text": [
      " 99%|█████████▊| 959/973 [25:41<00:24,  1.75s/it]"
     ]
    },
    {
     "name": "stdout",
     "output_type": "stream",
     "text": [
      "------------------------------------------------\n",
      "Num intentos: 1, URL: https://es.linkedin.com/jobs/view/business-intelligence-powerbi-at-winning-3991352544?refId=xAOfEyQvsTybZp6n8A%2B4ZA%3D%3D&trackingId=iCKPYrL7n2xBvslZp%2F0n5Q%3D%3D&position=1&pageNum=16\n"
     ]
    },
    {
     "name": "stderr",
     "output_type": "stream",
     "text": [
      " 99%|█████████▊| 960/973 [25:43<00:22,  1.71s/it]"
     ]
    },
    {
     "name": "stdout",
     "output_type": "stream",
     "text": [
      "------------------------------------------------\n",
      "Num intentos: 1, URL: https://es.linkedin.com/jobs/view/marketing-data-scientist-at-keysight-technologies-3977650199?refId=xPrcwAXkZO4mu5jDn0JJDg%3D%3D&trackingId=vFPPGepjUY%2BRDQyMjb3Qeg%3D%3D&position=19&pageNum=39\n"
     ]
    },
    {
     "name": "stderr",
     "output_type": "stream",
     "text": [
      " 99%|█████████▉| 961/973 [25:44<00:19,  1.59s/it]"
     ]
    },
    {
     "name": "stdout",
     "output_type": "stream",
     "text": [
      "------------------------------------------------\n",
      "Num intentos: 1, URL: https://es.linkedin.com/jobs/view/data-engineer-spark-scala-at-tuy%C3%BA-technology-3961094415?refId=syd0D2KoXmexQAiehNkiZA%3D%3D&trackingId=93xFIyqioPrUEYjv3zmN7A%3D%3D&position=5&pageNum=4\n"
     ]
    },
    {
     "name": "stderr",
     "output_type": "stream",
     "text": [
      " 99%|█████████▉| 962/973 [25:46<00:17,  1.62s/it]"
     ]
    },
    {
     "name": "stdout",
     "output_type": "stream",
     "text": [
      "------------------------------------------------\n",
      "Num intentos: 1, URL: https://es.linkedin.com/jobs/view/big-data-engineer-%E2%80%93-data-lake-ods-at-santander-3954894589?refId=XzILX%2FJyntX%2BslwEYSdfAA%3D%3D&trackingId=9MnMiN%2BCZE%2FY4dmSEM2ocA%3D%3D&position=1&pageNum=8\n"
     ]
    },
    {
     "name": "stderr",
     "output_type": "stream",
     "text": [
      " 99%|█████████▉| 963/973 [25:47<00:16,  1.61s/it]"
     ]
    },
    {
     "name": "stdout",
     "output_type": "stream",
     "text": [
      "------------------------------------------------\n",
      "Num intentos: 1, URL: https://es.linkedin.com/jobs/view/software-engineer-at-liferay-3959557397?refId=xndk4q%2FZdLhddgb2PRN9DQ%3D%3D&trackingId=sdMzNC0vBQ4OsliSW7K17g%3D%3D&position=18&pageNum=25\n"
     ]
    },
    {
     "name": "stderr",
     "output_type": "stream",
     "text": [
      " 99%|█████████▉| 964/973 [25:49<00:15,  1.67s/it]"
     ]
    },
    {
     "name": "stdout",
     "output_type": "stream",
     "text": [
      "------------------------------------------------\n",
      "Num intentos: 1, URL: https://es.linkedin.com/jobs/view/multilingual-data-analyst-intern-at-morningstar-3936359077?refId=4T3q6%2BDUDS%2Fwfb0hIc%2BkJw%3D%3D&trackingId=Rg7%2FOJjW273p61uN2%2B%2FtpA%3D%3D&position=8&pageNum=30\n"
     ]
    },
    {
     "name": "stderr",
     "output_type": "stream",
     "text": [
      " 99%|█████████▉| 965/973 [25:51<00:13,  1.74s/it]"
     ]
    },
    {
     "name": "stdout",
     "output_type": "stream",
     "text": [
      "------------------------------------------------\n",
      "Num intentos: 1, URL: https://es.linkedin.com/jobs/view/data-engineer-%E2%80%93-bilbao-madrid-at-teknei-3927387075?refId=gl%2Bd7kBz9WLFJeX%2Bk722Sg%3D%3D&trackingId=BRtgY7C69kFpssi8pSQteg%3D%3D&position=3&pageNum=1\n"
     ]
    },
    {
     "name": "stderr",
     "output_type": "stream",
     "text": [
      " 99%|█████████▉| 966/973 [25:53<00:12,  1.72s/it]"
     ]
    },
    {
     "name": "stdout",
     "output_type": "stream",
     "text": [
      "------------------------------------------------\n",
      "Num intentos: 1, URL: https://es.linkedin.com/jobs/view/senior-data-analyst-at-oga-ai-3928021725?refId=kEewYSP0sda%2BAS9qJ05byw%3D%3D&trackingId=2nNroORAixr5rsS0hDpgyA%3D%3D&position=20&pageNum=15\n"
     ]
    },
    {
     "name": "stderr",
     "output_type": "stream",
     "text": [
      " 99%|█████████▉| 967/973 [25:55<00:10,  1.82s/it]"
     ]
    },
    {
     "name": "stdout",
     "output_type": "stream",
     "text": [
      "------------------------------------------------\n",
      "Num intentos: 1, URL: https://es.linkedin.com/jobs/view/desarrollador-big-data-teletrabajo-at-second-window-3909585482?refId=0lQEwrH3pQrcnHMZEPdE6Q%3D%3D&trackingId=1R0YFITRFh0TLBdsjWI6kw%3D%3D&position=19&pageNum=3\n"
     ]
    },
    {
     "name": "stderr",
     "output_type": "stream",
     "text": [
      " 99%|█████████▉| 968/973 [25:56<00:08,  1.76s/it]"
     ]
    },
    {
     "name": "stdout",
     "output_type": "stream",
     "text": [
      "------------------------------------------------\n",
      "Num intentos: 1, URL: https://es.linkedin.com/jobs/view/business-intelligence-trainee-at-radisson-hotel-group-3919378154?refId=RdedVh4j8Ltwj0EyXoSKYA%3D%3D&trackingId=nTswOqjXzW9XiKuovfEXgQ%3D%3D&position=8&pageNum=14\n"
     ]
    },
    {
     "name": "stderr",
     "output_type": "stream",
     "text": [
      "100%|█████████▉| 969/973 [25:58<00:06,  1.73s/it]"
     ]
    },
    {
     "name": "stdout",
     "output_type": "stream",
     "text": [
      "------------------------------------------------\n",
      "Num intentos: 1, URL: https://es.linkedin.com/jobs/view/analista-de-datos-at-tuy%C3%BA-technology-3896999966?refId=7mJssYg8XhxL6SCi8sFlZQ%3D%3D&trackingId=f2vc8hwsHYdE6Gqc%2BrgdFQ%3D%3D&position=18&pageNum=7\n"
     ]
    },
    {
     "name": "stderr",
     "output_type": "stream",
     "text": [
      "100%|█████████▉| 970/973 [26:00<00:05,  1.79s/it]"
     ]
    },
    {
     "name": "stdout",
     "output_type": "stream",
     "text": [
      "------------------------------------------------\n",
      "Num intentos: 1, URL: https://es.linkedin.com/jobs/view/cx360-principal-data-scientist-at-neurons-lab-3860725066?refId=M92tBlvFSrvwBHhPL3Il6Q%3D%3D&trackingId=oSj6%2Fnxxztg732fsAW4dbw%3D%3D&position=9&pageNum=37\n"
     ]
    },
    {
     "name": "stderr",
     "output_type": "stream",
     "text": [
      "100%|█████████▉| 971/973 [26:01<00:03,  1.68s/it]"
     ]
    },
    {
     "name": "stdout",
     "output_type": "stream",
     "text": [
      "------------------------------------------------\n",
      "Num intentos: 1, URL: https://es.linkedin.com/jobs/view/consultor-bi-teletrabajo-at-second-window-3880702666?refId=RdedVh4j8Ltwj0EyXoSKYA%3D%3D&trackingId=v5bk79K%2FV5BhCIhnjUxbmQ%3D%3D&position=6&pageNum=14\n"
     ]
    },
    {
     "name": "stderr",
     "output_type": "stream",
     "text": [
      "100%|█████████▉| 972/973 [26:03<00:01,  1.70s/it]"
     ]
    },
    {
     "name": "stdout",
     "output_type": "stream",
     "text": [
      "------------------------------------------------\n",
      "Num intentos: 1, URL: https://es.linkedin.com/jobs/view/analysis-engineer-m-f-x-for-platform-software-in-the-area-of-driver-assistance-systems-and-autonomous-driving-at-mitsui-chemicals-group-3825873996?refId=xAOfEyQvsTybZp6n8A%2B4ZA%3D%3D&trackingId=H%2FK8DMuTYcBELER%2BrqYRCw%3D%3D&position=15&pageNum=16\n"
     ]
    },
    {
     "name": "stderr",
     "output_type": "stream",
     "text": [
      "100%|██████████| 973/973 [26:05<00:00,  1.61s/it]"
     ]
    },
    {
     "name": "stdout",
     "output_type": "stream",
     "text": [
      "No se pudo acceder a 0 ofertas puesto que se excedieron los intentos.\n"
     ]
    },
    {
     "name": "stderr",
     "output_type": "stream",
     "text": [
      "\n"
     ]
    }
   ],
   "source": [
    "f_linkedin.get_full_linkedin_data()"
   ]
  },
  {
   "cell_type": "code",
   "execution_count": null,
   "metadata": {},
   "outputs": [],
   "source": []
  }
 ],
 "metadata": {
  "kernelspec": {
   "display_name": "proyecto_final",
   "language": "python",
   "name": "python3"
  },
  "language_info": {
   "codemirror_mode": {
    "name": "ipython",
    "version": 3
   },
   "file_extension": ".py",
   "mimetype": "text/x-python",
   "name": "python",
   "nbconvert_exporter": "python",
   "pygments_lexer": "ipython3",
   "version": "3.11.11"
  }
 },
 "nbformat": 4,
 "nbformat_minor": 2
}
